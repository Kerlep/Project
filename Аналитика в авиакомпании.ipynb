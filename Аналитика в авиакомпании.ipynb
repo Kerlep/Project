{
 "cells": [
  {
   "cell_type": "markdown",
   "metadata": {},
   "source": [
    "# Аналитика в авиакомпании:\n",
    "«F9» — это российская авиакомпания, выполняющая внутренние пассажирские авиаперевозки. Сотни перелётов каждый день. Важно понять предпочтения пользователей, покупающих билеты на те или иные направления.\n",
    "Необходимо изучить базу данных и сделать текущие выводы.\n",
    "- /datasets/query_1.csv — результат первого запроса. В нём содержится информация о:\n",
    "  model — модели самолета\n",
    "  flights_amount — количество рейсов для каждой модели самолетов model в сентябре 2018 года\n",
    "\n",
    "- /datasets/query_3.csv — результат третьего запроса. В нём содержится информация о:\n",
    "  city — городах\n",
    "  average_flights — среднем количестве рейсов, прибывающих в город city за день в августе 2018 года\n",
    "\n",
    "# Задачи исследования:\n",
    "1. [Изучение общей информации](#start)\n",
    "2. [Предобработка данных](#preprocessing)\n",
    "3. [Исследовательский анализ данных](#e)\n",
    "    - [Выбрать топ-10 городов по количеству рейсов](#e)\n",
    "    - [Построить графики: модели самолетов и количество рейсов, города и количество рейсов, топ-10 городов и количество рейсов](#b)\n",
    "    - [Сделать выводы по каждому из графиков, пояснить результат](#c)\n",
    "4. [Вывод](#g)    "
   ]
  },
  {
   "cell_type": "markdown",
   "metadata": {},
   "source": [
    "# Шаг 1. Изучение общей информации:\n",
    "<a id=\"start\"></a>"
   ]
  },
  {
   "cell_type": "markdown",
   "metadata": {},
   "source": [
    "Подключение библиотек и импорт данных с информацией о модели самолета и количестве рейсов для каждой модели самолетов в сентябре 2018 года"
   ]
  },
  {
   "cell_type": "code",
   "execution_count": 34,
   "metadata": {},
   "outputs": [
    {
     "data": {
      "text/html": [
       "<div>\n",
       "<style scoped>\n",
       "    .dataframe tbody tr th:only-of-type {\n",
       "        vertical-align: middle;\n",
       "    }\n",
       "\n",
       "    .dataframe tbody tr th {\n",
       "        vertical-align: top;\n",
       "    }\n",
       "\n",
       "    .dataframe thead th {\n",
       "        text-align: right;\n",
       "    }\n",
       "</style>\n",
       "<table border=\"1\" class=\"dataframe\">\n",
       "  <thead>\n",
       "    <tr style=\"text-align: right;\">\n",
       "      <th></th>\n",
       "      <th>model</th>\n",
       "      <th>flights_amount</th>\n",
       "    </tr>\n",
       "  </thead>\n",
       "  <tbody>\n",
       "    <tr>\n",
       "      <td>0</td>\n",
       "      <td>Airbus A319-100</td>\n",
       "      <td>607</td>\n",
       "    </tr>\n",
       "    <tr>\n",
       "      <td>1</td>\n",
       "      <td>Airbus A321-200</td>\n",
       "      <td>960</td>\n",
       "    </tr>\n",
       "    <tr>\n",
       "      <td>2</td>\n",
       "      <td>Boeing 737-300</td>\n",
       "      <td>630</td>\n",
       "    </tr>\n",
       "    <tr>\n",
       "      <td>3</td>\n",
       "      <td>Boeing 767-300</td>\n",
       "      <td>600</td>\n",
       "    </tr>\n",
       "    <tr>\n",
       "      <td>4</td>\n",
       "      <td>Boeing 777-300</td>\n",
       "      <td>300</td>\n",
       "    </tr>\n",
       "    <tr>\n",
       "      <td>5</td>\n",
       "      <td>Bombardier CRJ-200</td>\n",
       "      <td>4446</td>\n",
       "    </tr>\n",
       "    <tr>\n",
       "      <td>6</td>\n",
       "      <td>Cessna 208 Caravan</td>\n",
       "      <td>4557</td>\n",
       "    </tr>\n",
       "    <tr>\n",
       "      <td>7</td>\n",
       "      <td>Sukhoi SuperJet-100</td>\n",
       "      <td>4185</td>\n",
       "    </tr>\n",
       "  </tbody>\n",
       "</table>\n",
       "</div>"
      ],
      "text/plain": [
       "                 model  flights_amount\n",
       "0      Airbus A319-100             607\n",
       "1      Airbus A321-200             960\n",
       "2       Boeing 737-300             630\n",
       "3       Boeing 767-300             600\n",
       "4       Boeing 777-300             300\n",
       "5   Bombardier CRJ-200            4446\n",
       "6   Cessna 208 Caravan            4557\n",
       "7  Sukhoi SuperJet-100            4185"
      ]
     },
     "metadata": {},
     "output_type": "display_data"
    }
   ],
   "source": [
    "#Подключение библиотек\n",
    "import pandas as pd\n",
    "import matplotlib.pyplot as plt\n",
    "#Импорт данных \n",
    "data = pd.read_csv('/datasets/query_1.csv')\n",
    "display(data)"
   ]
  },
  {
   "cell_type": "markdown",
   "metadata": {},
   "source": [
    "Импорт данных с информацией о городах и среднем количестве рейсов, прибывающих в город за день в августе 2018 года"
   ]
  },
  {
   "cell_type": "code",
   "execution_count": 35,
   "metadata": {},
   "outputs": [
    {
     "data": {
      "text/html": [
       "<div>\n",
       "<style scoped>\n",
       "    .dataframe tbody tr th:only-of-type {\n",
       "        vertical-align: middle;\n",
       "    }\n",
       "\n",
       "    .dataframe tbody tr th {\n",
       "        vertical-align: top;\n",
       "    }\n",
       "\n",
       "    .dataframe thead th {\n",
       "        text-align: right;\n",
       "    }\n",
       "</style>\n",
       "<table border=\"1\" class=\"dataframe\">\n",
       "  <thead>\n",
       "    <tr style=\"text-align: right;\">\n",
       "      <th></th>\n",
       "      <th>city</th>\n",
       "      <th>average_flights</th>\n",
       "    </tr>\n",
       "  </thead>\n",
       "  <tbody>\n",
       "    <tr>\n",
       "      <td>0</td>\n",
       "      <td>Абакан</td>\n",
       "      <td>3.870968</td>\n",
       "    </tr>\n",
       "    <tr>\n",
       "      <td>1</td>\n",
       "      <td>Анадырь</td>\n",
       "      <td>1.000000</td>\n",
       "    </tr>\n",
       "    <tr>\n",
       "      <td>2</td>\n",
       "      <td>Анапа</td>\n",
       "      <td>2.161290</td>\n",
       "    </tr>\n",
       "    <tr>\n",
       "      <td>3</td>\n",
       "      <td>Архангельск</td>\n",
       "      <td>5.354839</td>\n",
       "    </tr>\n",
       "    <tr>\n",
       "      <td>4</td>\n",
       "      <td>Астрахань</td>\n",
       "      <td>2.451613</td>\n",
       "    </tr>\n",
       "    <tr>\n",
       "      <td>5</td>\n",
       "      <td>Барнаул</td>\n",
       "      <td>2.612903</td>\n",
       "    </tr>\n",
       "    <tr>\n",
       "      <td>6</td>\n",
       "      <td>Белгород</td>\n",
       "      <td>6.000000</td>\n",
       "    </tr>\n",
       "    <tr>\n",
       "      <td>7</td>\n",
       "      <td>Белоярский</td>\n",
       "      <td>2.000000</td>\n",
       "    </tr>\n",
       "    <tr>\n",
       "      <td>8</td>\n",
       "      <td>Благовещенск</td>\n",
       "      <td>1.000000</td>\n",
       "    </tr>\n",
       "    <tr>\n",
       "      <td>9</td>\n",
       "      <td>Братск</td>\n",
       "      <td>1.000000</td>\n",
       "    </tr>\n",
       "  </tbody>\n",
       "</table>\n",
       "</div>"
      ],
      "text/plain": [
       "           city  average_flights\n",
       "0        Абакан         3.870968\n",
       "1       Анадырь         1.000000\n",
       "2         Анапа         2.161290\n",
       "3   Архангельск         5.354839\n",
       "4     Астрахань         2.451613\n",
       "5       Барнаул         2.612903\n",
       "6      Белгород         6.000000\n",
       "7    Белоярский         2.000000\n",
       "8  Благовещенск         1.000000\n",
       "9        Братск         1.000000"
      ]
     },
     "metadata": {},
     "output_type": "display_data"
    },
    {
     "data": {
      "text/html": [
       "<div>\n",
       "<style scoped>\n",
       "    .dataframe tbody tr th:only-of-type {\n",
       "        vertical-align: middle;\n",
       "    }\n",
       "\n",
       "    .dataframe tbody tr th {\n",
       "        vertical-align: top;\n",
       "    }\n",
       "\n",
       "    .dataframe thead th {\n",
       "        text-align: right;\n",
       "    }\n",
       "</style>\n",
       "<table border=\"1\" class=\"dataframe\">\n",
       "  <thead>\n",
       "    <tr style=\"text-align: right;\">\n",
       "      <th></th>\n",
       "      <th>city</th>\n",
       "      <th>average_flights</th>\n",
       "    </tr>\n",
       "  </thead>\n",
       "  <tbody>\n",
       "    <tr>\n",
       "      <td>91</td>\n",
       "      <td>Хабаровск</td>\n",
       "      <td>6.548387</td>\n",
       "    </tr>\n",
       "    <tr>\n",
       "      <td>92</td>\n",
       "      <td>Ханты-Мансийск</td>\n",
       "      <td>8.419355</td>\n",
       "    </tr>\n",
       "    <tr>\n",
       "      <td>93</td>\n",
       "      <td>Чебоксары</td>\n",
       "      <td>5.000000</td>\n",
       "    </tr>\n",
       "    <tr>\n",
       "      <td>94</td>\n",
       "      <td>Челябинск</td>\n",
       "      <td>6.709677</td>\n",
       "    </tr>\n",
       "    <tr>\n",
       "      <td>95</td>\n",
       "      <td>Череповец</td>\n",
       "      <td>2.161290</td>\n",
       "    </tr>\n",
       "    <tr>\n",
       "      <td>96</td>\n",
       "      <td>Чита</td>\n",
       "      <td>1.580645</td>\n",
       "    </tr>\n",
       "    <tr>\n",
       "      <td>97</td>\n",
       "      <td>Элиста</td>\n",
       "      <td>4.870968</td>\n",
       "    </tr>\n",
       "    <tr>\n",
       "      <td>98</td>\n",
       "      <td>Южно-Сахалинск</td>\n",
       "      <td>4.290323</td>\n",
       "    </tr>\n",
       "    <tr>\n",
       "      <td>99</td>\n",
       "      <td>Якутск</td>\n",
       "      <td>2.741935</td>\n",
       "    </tr>\n",
       "    <tr>\n",
       "      <td>100</td>\n",
       "      <td>Ярославль</td>\n",
       "      <td>1.322581</td>\n",
       "    </tr>\n",
       "  </tbody>\n",
       "</table>\n",
       "</div>"
      ],
      "text/plain": [
       "               city  average_flights\n",
       "91        Хабаровск         6.548387\n",
       "92   Ханты-Мансийск         8.419355\n",
       "93        Чебоксары         5.000000\n",
       "94        Челябинск         6.709677\n",
       "95        Череповец         2.161290\n",
       "96             Чита         1.580645\n",
       "97           Элиста         4.870968\n",
       "98   Южно-Сахалинск         4.290323\n",
       "99           Якутск         2.741935\n",
       "100       Ярославль         1.322581"
      ]
     },
     "metadata": {},
     "output_type": "display_data"
    }
   ],
   "source": [
    "data_2 = pd.read_csv('/datasets/query_3.csv')\n",
    "display(data_2.head(10))\n",
    "display(data_2.tail(10))"
   ]
  },
  {
   "cell_type": "markdown",
   "metadata": {},
   "source": [
    "На первый взгляд все данные чистые"
   ]
  },
  {
   "cell_type": "code",
   "execution_count": 36,
   "metadata": {},
   "outputs": [
    {
     "data": {
      "text/html": [
       "<div>\n",
       "<style scoped>\n",
       "    .dataframe tbody tr th:only-of-type {\n",
       "        vertical-align: middle;\n",
       "    }\n",
       "\n",
       "    .dataframe tbody tr th {\n",
       "        vertical-align: top;\n",
       "    }\n",
       "\n",
       "    .dataframe thead th {\n",
       "        text-align: right;\n",
       "    }\n",
       "</style>\n",
       "<table border=\"1\" class=\"dataframe\">\n",
       "  <thead>\n",
       "    <tr style=\"text-align: right;\">\n",
       "      <th></th>\n",
       "      <th>flights_amount</th>\n",
       "    </tr>\n",
       "  </thead>\n",
       "  <tbody>\n",
       "    <tr>\n",
       "      <td>count</td>\n",
       "      <td>8.000000</td>\n",
       "    </tr>\n",
       "    <tr>\n",
       "      <td>mean</td>\n",
       "      <td>2035.625000</td>\n",
       "    </tr>\n",
       "    <tr>\n",
       "      <td>std</td>\n",
       "      <td>1965.203947</td>\n",
       "    </tr>\n",
       "    <tr>\n",
       "      <td>min</td>\n",
       "      <td>300.000000</td>\n",
       "    </tr>\n",
       "    <tr>\n",
       "      <td>25%</td>\n",
       "      <td>605.250000</td>\n",
       "    </tr>\n",
       "    <tr>\n",
       "      <td>50%</td>\n",
       "      <td>795.000000</td>\n",
       "    </tr>\n",
       "    <tr>\n",
       "      <td>75%</td>\n",
       "      <td>4250.250000</td>\n",
       "    </tr>\n",
       "    <tr>\n",
       "      <td>max</td>\n",
       "      <td>4557.000000</td>\n",
       "    </tr>\n",
       "  </tbody>\n",
       "</table>\n",
       "</div>"
      ],
      "text/plain": [
       "       flights_amount\n",
       "count        8.000000\n",
       "mean      2035.625000\n",
       "std       1965.203947\n",
       "min        300.000000\n",
       "25%        605.250000\n",
       "50%        795.000000\n",
       "75%       4250.250000\n",
       "max       4557.000000"
      ]
     },
     "metadata": {},
     "output_type": "display_data"
    },
    {
     "data": {
      "text/html": [
       "<div>\n",
       "<style scoped>\n",
       "    .dataframe tbody tr th:only-of-type {\n",
       "        vertical-align: middle;\n",
       "    }\n",
       "\n",
       "    .dataframe tbody tr th {\n",
       "        vertical-align: top;\n",
       "    }\n",
       "\n",
       "    .dataframe thead th {\n",
       "        text-align: right;\n",
       "    }\n",
       "</style>\n",
       "<table border=\"1\" class=\"dataframe\">\n",
       "  <thead>\n",
       "    <tr style=\"text-align: right;\">\n",
       "      <th></th>\n",
       "      <th>average_flights</th>\n",
       "    </tr>\n",
       "  </thead>\n",
       "  <tbody>\n",
       "    <tr>\n",
       "      <td>count</td>\n",
       "      <td>101.000000</td>\n",
       "    </tr>\n",
       "    <tr>\n",
       "      <td>mean</td>\n",
       "      <td>5.494189</td>\n",
       "    </tr>\n",
       "    <tr>\n",
       "      <td>std</td>\n",
       "      <td>13.119790</td>\n",
       "    </tr>\n",
       "    <tr>\n",
       "      <td>min</td>\n",
       "      <td>1.000000</td>\n",
       "    </tr>\n",
       "    <tr>\n",
       "      <td>25%</td>\n",
       "      <td>2.000000</td>\n",
       "    </tr>\n",
       "    <tr>\n",
       "      <td>50%</td>\n",
       "      <td>3.000000</td>\n",
       "    </tr>\n",
       "    <tr>\n",
       "      <td>75%</td>\n",
       "      <td>5.870968</td>\n",
       "    </tr>\n",
       "    <tr>\n",
       "      <td>max</td>\n",
       "      <td>129.774194</td>\n",
       "    </tr>\n",
       "  </tbody>\n",
       "</table>\n",
       "</div>"
      ],
      "text/plain": [
       "       average_flights\n",
       "count       101.000000\n",
       "mean          5.494189\n",
       "std          13.119790\n",
       "min           1.000000\n",
       "25%           2.000000\n",
       "50%           3.000000\n",
       "75%           5.870968\n",
       "max         129.774194"
      ]
     },
     "metadata": {},
     "output_type": "display_data"
    }
   ],
   "source": [
    "display(data.describe())\n",
    "display(data_2.describe())"
   ]
  },
  {
   "cell_type": "code",
   "execution_count": 37,
   "metadata": {},
   "outputs": [
    {
     "name": "stdout",
     "output_type": "stream",
     "text": [
      "<class 'pandas.core.frame.DataFrame'>\n",
      "RangeIndex: 8 entries, 0 to 7\n",
      "Data columns (total 2 columns):\n",
      "model             8 non-null object\n",
      "flights_amount    8 non-null int64\n",
      "dtypes: int64(1), object(1)\n",
      "memory usage: 256.0+ bytes\n",
      "<class 'pandas.core.frame.DataFrame'>\n",
      "RangeIndex: 101 entries, 0 to 100\n",
      "Data columns (total 2 columns):\n",
      "city               101 non-null object\n",
      "average_flights    101 non-null float64\n",
      "dtypes: float64(1), object(1)\n",
      "memory usage: 1.7+ KB\n"
     ]
    }
   ],
   "source": [
    "data.info()\n",
    "data_2.info()"
   ]
  },
  {
   "cell_type": "markdown",
   "metadata": {},
   "source": [
    "Импортировав файлы и изучив данные можно сделать первые выводы. Данные выгледят читаемо, без пропусков и дубликатов. Типы данных корректны."
   ]
  },
  {
   "cell_type": "markdown",
   "metadata": {},
   "source": [
    "# Шаг 2. Предобработка данных:\n",
    "<a id=\"preprocessing\"></a>"
   ]
  },
  {
   "cell_type": "code",
   "execution_count": 38,
   "metadata": {},
   "outputs": [
    {
     "data": {
      "text/plain": [
       "model             0\n",
       "flights_amount    0\n",
       "dtype: int64"
      ]
     },
     "metadata": {},
     "output_type": "display_data"
    },
    {
     "data": {
      "text/plain": [
       "city               0\n",
       "average_flights    0\n",
       "dtype: int64"
      ]
     },
     "metadata": {},
     "output_type": "display_data"
    }
   ],
   "source": [
    "#Проверка на пропуски\n",
    "display(data.isna().sum())\n",
    "display(data_2.isna().sum())"
   ]
  },
  {
   "cell_type": "code",
   "execution_count": 39,
   "metadata": {},
   "outputs": [
    {
     "data": {
      "text/plain": [
       "0"
      ]
     },
     "metadata": {},
     "output_type": "display_data"
    },
    {
     "data": {
      "text/plain": [
       "0"
      ]
     },
     "metadata": {},
     "output_type": "display_data"
    }
   ],
   "source": [
    "#Проверка на дубликаты\n",
    "display(data.duplicated().sum())\n",
    "display(data_2.duplicated().sum())"
   ]
  },
  {
   "cell_type": "markdown",
   "metadata": {},
   "source": [
    "Вывод: пропусков и дубликатов нет"
   ]
  },
  {
   "cell_type": "markdown",
   "metadata": {},
   "source": [
    "# Шаг 3. Исследовательский анализ данных:\n",
    "<a id=\"e\"></a>"
   ]
  },
  {
   "cell_type": "markdown",
   "metadata": {},
   "source": [
    "### Выбор топ-10 городов по количеству рейсов:\n",
    "<a id=\"e\"></a>"
   ]
  },
  {
   "cell_type": "code",
   "execution_count": 40,
   "metadata": {},
   "outputs": [
    {
     "data": {
      "text/html": [
       "<div>\n",
       "<style scoped>\n",
       "    .dataframe tbody tr th:only-of-type {\n",
       "        vertical-align: middle;\n",
       "    }\n",
       "\n",
       "    .dataframe tbody tr th {\n",
       "        vertical-align: top;\n",
       "    }\n",
       "\n",
       "    .dataframe thead th {\n",
       "        text-align: right;\n",
       "    }\n",
       "</style>\n",
       "<table border=\"1\" class=\"dataframe\">\n",
       "  <thead>\n",
       "    <tr style=\"text-align: right;\">\n",
       "      <th></th>\n",
       "      <th>city</th>\n",
       "      <th>average_flights</th>\n",
       "    </tr>\n",
       "  </thead>\n",
       "  <tbody>\n",
       "    <tr>\n",
       "      <td>43</td>\n",
       "      <td>Москва</td>\n",
       "      <td>129.774194</td>\n",
       "    </tr>\n",
       "    <tr>\n",
       "      <td>70</td>\n",
       "      <td>Санкт-Петербург</td>\n",
       "      <td>31.161290</td>\n",
       "    </tr>\n",
       "    <tr>\n",
       "      <td>54</td>\n",
       "      <td>Новосибирск</td>\n",
       "      <td>17.322581</td>\n",
       "    </tr>\n",
       "    <tr>\n",
       "      <td>33</td>\n",
       "      <td>Красноярск</td>\n",
       "      <td>11.580645</td>\n",
       "    </tr>\n",
       "    <tr>\n",
       "      <td>20</td>\n",
       "      <td>Екатеринбург</td>\n",
       "      <td>11.322581</td>\n",
       "    </tr>\n",
       "    <tr>\n",
       "      <td>67</td>\n",
       "      <td>Ростов-на-Дону</td>\n",
       "      <td>10.193548</td>\n",
       "    </tr>\n",
       "    <tr>\n",
       "      <td>63</td>\n",
       "      <td>Пермь</td>\n",
       "      <td>10.129032</td>\n",
       "    </tr>\n",
       "    <tr>\n",
       "      <td>10</td>\n",
       "      <td>Брянск</td>\n",
       "      <td>10.000000</td>\n",
       "    </tr>\n",
       "    <tr>\n",
       "      <td>74</td>\n",
       "      <td>Сочи</td>\n",
       "      <td>9.612903</td>\n",
       "    </tr>\n",
       "    <tr>\n",
       "      <td>84</td>\n",
       "      <td>Ульяновск</td>\n",
       "      <td>9.580645</td>\n",
       "    </tr>\n",
       "  </tbody>\n",
       "</table>\n",
       "</div>"
      ],
      "text/plain": [
       "               city  average_flights\n",
       "43           Москва       129.774194\n",
       "70  Санкт-Петербург        31.161290\n",
       "54      Новосибирск        17.322581\n",
       "33       Красноярск        11.580645\n",
       "20     Екатеринбург        11.322581\n",
       "67   Ростов-на-Дону        10.193548\n",
       "63            Пермь        10.129032\n",
       "10           Брянск        10.000000\n",
       "74             Сочи         9.612903\n",
       "84        Ульяновск         9.580645"
      ]
     },
     "metadata": {},
     "output_type": "display_data"
    }
   ],
   "source": [
    "data_2_new = data_2.sort_values(by = 'average_flights', ascending = False).head(10)\n",
    "display(data_2_new)"
   ]
  },
  {
   "cell_type": "markdown",
   "metadata": {},
   "source": [
    "### Построение графиков\n",
    "- модели самолетов и количество рейсов\n",
    "- города и количество рейсов\n",
    "- топ-10 городов и количество рейсов\n",
    "<a id=\"b\"></a>"
   ]
  },
  {
   "cell_type": "code",
   "execution_count": 41,
   "metadata": {},
   "outputs": [
    {
     "data": {
      "image/png": "[encoded data removed]",
      "text/plain": [
       "<Figure size 360x360 with 1 Axes>"
      ]
     },
     "metadata": {
      "needs_background": "light"
     },
     "output_type": "display_data"
    }
   ],
   "source": [
    "import matplotlib.pyplot as plt\n",
    "data.sort_values(by = 'flights_amount', ascending = False).plot(x='model', y='flights_amount', kind='bar', grid=True, figsize=(5, 5), title='Модели самолетов и количество рейсов', color='g')\n",
    "plt.xticks(rotation=45, ha='right')\n",
    "plt.show()"
   ]
  },
  {
   "cell_type": "markdown",
   "metadata": {},
   "source": [
    "Вывод: лидируют с большим отрывом 3 модели: Cessna 208 Caravan, Bombardier CRJ-200  и Sukhoi SuperJet-100. Эти модели значительно обгоняют Airbus и Boeing. И это не удивительно. Airbus и Boeing конкурируют между собой уже очень давно, на рынке они занимают почти одинаковые позиции. Данные самолеты большой длинны, могут перевозить много людей. В век развивающихся технологий это становится неактуально, самолеты летают очень часто и на такой большой самолет сложно набрать нужное количество людей. Поэтому данные компании вытесняют сегоднешние лидеры. Они меньше, имеют варианты с увеличенной дальностью полета. "
   ]
  },
  {
   "cell_type": "code",
   "execution_count": 42,
   "metadata": {},
   "outputs": [
    {
     "data": {
      "image/png": "[encoded data removed]",
      "text/plain": [
       "<Figure size 864x720 with 1 Axes>"
      ]
     },
     "metadata": {
      "needs_background": "light"
     },
     "output_type": "display_data"
    },
    {
     "data": {
      "image/png": "[encoded data removed]",
      "text/plain": [
       "<Figure size 864x720 with 1 Axes>"
      ]
     },
     "metadata": {
      "needs_background": "light"
     },
     "output_type": "display_data"
    }
   ],
   "source": [
    "data_2.sort_values(by =  'average_flights', ascending = False).head(50).plot(x = 'city', y = 'average_flights', kind = 'bar', grid = True, figsize = (12, 10), color = 'g',  title = 'График зависимости городов от среднего количества рейсов')\n",
    "plt.xticks(rotation=45, ha='right');\n",
    "data_2.sort_values(by =  'average_flights', ascending = False).tail(50).plot(x = 'city', y = 'average_flights', kind = 'bar', grid = True, figsize = (12, 10), color = 'g',  title = 'График зависимости городов от среднего количества рейсов')\n",
    "plt.xticks(rotation=45, ha='right');"
   ]
  },
  {
   "cell_type": "code",
   "execution_count": 43,
   "metadata": {},
   "outputs": [
    {
     "data": {
      "text/plain": [
       "(array([0, 1, 2, 3, 4, 5, 6, 7, 8, 9]), <a list of 10 Text xticklabel objects>)"
      ]
     },
     "execution_count": 43,
     "metadata": {},
     "output_type": "execute_result"
    },
    {
     "data": {
      "image/png": "[encoded data removed]",
      "text/plain": [
       "<Figure size 360x360 with 1 Axes>"
      ]
     },
     "metadata": {
      "needs_background": "light"
     },
     "output_type": "display_data"
    }
   ],
   "source": [
    "data_2_new.plot(x = 'city', y = 'average_flights', kind = 'bar', grid = True, figsize = (5,5), color = 'g', title = 'График зависимости топ-10 городов от среднего количества рейсов')\n",
    "plt.xticks(rotation=45, ha='right')"
   ]
  },
  {
   "cell_type": "markdown",
   "metadata": {},
   "source": [
    "Достаточно большая разница по городам и топ-10 городам по среднему кол-ву самолетов прибывающих за день. Преобладает столица - Москва, после идет Санкт-Петербург и Новосибирск. Остальные города в среднем сравнимо имеют одинаковое кол-во рейсов. Города лидеры - это города, в которые чаще всего ездят с командировками, возможно студенты на учебу или посмотреть красивые достопримечательности. Другие представленные города не так часто посещают, они не так популярны в достопримечательностях и нет таких возможностей работы. Удивительно, что город Сочи занимает предпоследнюю строчку, но скорее всего это обусловленно тем, что в агусте становится прохладнее и люди перестают ездить отдыхать."
   ]
  },
  {
   "cell_type": "markdown",
   "metadata": {},
   "source": [
    "# Вывод:\n",
    "<a id=\"g\"></a>\n",
    "- были изучили данные по количеству перелетов за сентябрь 2018г. по каждой модели самолета, выяснено, что самыми используемыми моделями самолета (в сентябре 2018г.) являются Cessna 208 Caravan, Bombardier CRJ-200 и Sukhoi SuperJet-100.\n",
    "- В основном самолеты летают в город Москва, Санкт-Петербург, Новосибирск. Остальные города в среднем сравнимо имеют одинаковое кол-во рейсов.\n"
   ]
  }
 ],
 "metadata": {
  "ExecuteTimeLog": [
   {
    "duration": 632,
    "start_time": "2021-09-15T07:13:31.500Z"
   },
   {
    "duration": 17,
    "start_time": "2021-09-15T07:14:10.168Z"
   },
   {
    "duration": 24,
    "start_time": "2021-09-15T07:14:28.854Z"
   },
   {
    "duration": 7,
    "start_time": "2021-09-15T07:15:54.934Z"
   },
   {
    "duration": 6,
    "start_time": "2021-09-15T07:16:21.444Z"
   },
   {
    "duration": 7,
    "start_time": "2021-09-15T07:18:01.290Z"
   },
   {
    "duration": 5,
    "start_time": "2021-09-15T07:19:29.337Z"
   },
   {
    "duration": 6,
    "start_time": "2021-09-15T07:19:39.223Z"
   },
   {
    "duration": 9,
    "start_time": "2021-09-15T07:20:27.845Z"
   },
   {
    "duration": 10,
    "start_time": "2021-09-15T07:23:21.949Z"
   },
   {
    "duration": 313,
    "start_time": "2021-09-15T07:24:05.925Z"
   },
   {
    "duration": 15,
    "start_time": "2021-09-15T07:24:22.476Z"
   },
   {
    "duration": 9,
    "start_time": "2021-09-15T07:26:41.991Z"
   },
   {
    "duration": 77,
    "start_time": "2021-09-15T07:26:45.389Z"
   },
   {
    "duration": 8,
    "start_time": "2021-09-15T07:26:52.439Z"
   },
   {
    "duration": 10,
    "start_time": "2021-09-15T07:28:14.663Z"
   },
   {
    "duration": 11,
    "start_time": "2021-09-15T07:30:16.599Z"
   },
   {
    "duration": 15,
    "start_time": "2021-09-15T07:30:25.168Z"
   },
   {
    "duration": 14,
    "start_time": "2021-09-15T07:31:02.654Z"
   },
   {
    "duration": 640,
    "start_time": "2021-09-15T07:31:20.562Z"
   },
   {
    "duration": 23,
    "start_time": "2021-09-15T07:31:22.692Z"
   },
   {
    "duration": 7,
    "start_time": "2021-09-15T07:31:25.028Z"
   },
   {
    "duration": 6,
    "start_time": "2021-09-15T07:31:26.444Z"
   },
   {
    "duration": 7,
    "start_time": "2021-09-15T07:31:28.767Z"
   },
   {
    "duration": 15,
    "start_time": "2021-09-15T07:31:30.895Z"
   },
   {
    "duration": 19,
    "start_time": "2021-09-15T07:31:39.942Z"
   },
   {
    "duration": 24,
    "start_time": "2021-09-15T07:31:43.055Z"
   },
   {
    "duration": 22,
    "start_time": "2021-09-15T07:32:16.777Z"
   },
   {
    "duration": 23,
    "start_time": "2021-09-15T07:32:17.560Z"
   },
   {
    "duration": 6,
    "start_time": "2021-09-15T07:32:18.429Z"
   },
   {
    "duration": 6,
    "start_time": "2021-09-15T07:32:19.283Z"
   },
   {
    "duration": 7,
    "start_time": "2021-09-15T07:32:20.168Z"
   },
   {
    "duration": 7,
    "start_time": "2021-09-15T07:32:21.168Z"
   },
   {
    "duration": 8,
    "start_time": "2021-09-15T07:33:02.375Z"
   },
   {
    "duration": 7,
    "start_time": "2021-09-15T07:33:19.250Z"
   },
   {
    "duration": 7,
    "start_time": "2021-09-15T07:34:12.403Z"
   },
   {
    "duration": 8,
    "start_time": "2021-09-15T07:34:48.951Z"
   },
   {
    "duration": 9,
    "start_time": "2021-09-15T07:34:56.333Z"
   },
   {
    "duration": 6,
    "start_time": "2021-09-15T07:38:26.043Z"
   },
   {
    "duration": 321,
    "start_time": "2021-09-15T07:39:55.293Z"
   },
   {
    "duration": 10,
    "start_time": "2021-09-15T07:40:51.474Z"
   },
   {
    "duration": 10,
    "start_time": "2021-09-15T07:41:20.843Z"
   },
   {
    "duration": 9,
    "start_time": "2021-09-15T07:41:43.993Z"
   },
   {
    "duration": 230,
    "start_time": "2021-09-15T07:54:41.708Z"
   },
   {
    "duration": 6260,
    "start_time": "2021-09-15T08:04:38.129Z"
   },
   {
    "duration": 7300,
    "start_time": "2021-09-15T08:05:18.919Z"
   },
   {
    "duration": 6665,
    "start_time": "2021-09-15T08:05:54.897Z"
   },
   {
    "duration": 1145,
    "start_time": "2021-09-15T08:06:15.137Z"
   },
   {
    "duration": 424,
    "start_time": "2021-09-15T08:06:23.381Z"
   },
   {
    "duration": 252,
    "start_time": "2021-09-15T08:07:27.549Z"
   },
   {
    "duration": 20,
    "start_time": "2021-09-15T08:07:46.077Z"
   },
   {
    "duration": 23,
    "start_time": "2021-09-15T08:07:48.694Z"
   },
   {
    "duration": 6,
    "start_time": "2021-09-15T08:07:51.486Z"
   },
   {
    "duration": 7,
    "start_time": "2021-09-15T08:07:52.274Z"
   },
   {
    "duration": 8,
    "start_time": "2021-09-15T08:07:53.100Z"
   },
   {
    "duration": 7,
    "start_time": "2021-09-15T08:07:53.912Z"
   },
   {
    "duration": 8,
    "start_time": "2021-09-15T08:07:54.880Z"
   },
   {
    "duration": 400,
    "start_time": "2021-09-15T08:07:57.927Z"
   },
   {
    "duration": 6990,
    "start_time": "2021-09-15T08:08:15.241Z"
   },
   {
    "duration": 6294,
    "start_time": "2021-09-15T08:08:46.220Z"
   },
   {
    "duration": 6003,
    "start_time": "2021-09-15T08:09:33.978Z"
   },
   {
    "duration": 219,
    "start_time": "2021-09-15T08:09:48.128Z"
   },
   {
    "duration": 6400,
    "start_time": "2021-09-15T08:10:05.819Z"
   },
   {
    "duration": 7236,
    "start_time": "2021-09-15T08:11:28.585Z"
   },
   {
    "duration": 179,
    "start_time": "2021-09-15T08:14:53.265Z"
   },
   {
    "duration": 413,
    "start_time": "2021-09-15T08:15:10.644Z"
   },
   {
    "duration": 181,
    "start_time": "2021-09-15T08:16:48.051Z"
   },
   {
    "duration": 168,
    "start_time": "2021-09-15T08:17:06.730Z"
   },
   {
    "duration": 87,
    "start_time": "2021-09-15T08:18:45.252Z"
   },
   {
    "duration": 180,
    "start_time": "2021-09-15T08:19:00.905Z"
   },
   {
    "duration": 173,
    "start_time": "2021-09-15T08:21:17.211Z"
   },
   {
    "duration": 417,
    "start_time": "2021-09-15T08:21:25.859Z"
   },
   {
    "duration": 396,
    "start_time": "2021-09-15T08:21:33.889Z"
   },
   {
    "duration": 175,
    "start_time": "2021-09-15T08:21:42.732Z"
   },
   {
    "duration": 177,
    "start_time": "2021-09-15T08:21:56.927Z"
   },
   {
    "duration": 380,
    "start_time": "2021-09-15T08:24:08.833Z"
   },
   {
    "duration": 258,
    "start_time": "2021-09-15T08:24:53.013Z"
   },
   {
    "duration": 393,
    "start_time": "2021-09-15T08:25:11.916Z"
   },
   {
    "duration": 227,
    "start_time": "2021-09-15T08:25:18.788Z"
   },
   {
    "duration": 190,
    "start_time": "2021-09-15T08:26:22.996Z"
   },
   {
    "duration": 181,
    "start_time": "2021-09-15T08:26:34.309Z"
   },
   {
    "duration": 9,
    "start_time": "2021-09-15T08:27:40.222Z"
   },
   {
    "duration": 185,
    "start_time": "2021-09-15T08:27:45.627Z"
   },
   {
    "duration": 1337,
    "start_time": "2021-09-15T08:43:28.983Z"
   },
   {
    "duration": 1687,
    "start_time": "2021-09-15T08:44:08.228Z"
   },
   {
    "duration": 626,
    "start_time": "2021-09-15T08:44:21.322Z"
   },
   {
    "duration": 1087,
    "start_time": "2021-09-15T08:44:52.104Z"
   },
   {
    "duration": 1310,
    "start_time": "2021-09-15T19:41:54.380Z"
   },
   {
    "duration": 644,
    "start_time": "2021-09-15T19:41:59.468Z"
   },
   {
    "duration": 23,
    "start_time": "2021-09-15T19:42:00.780Z"
   },
   {
    "duration": 6,
    "start_time": "2021-09-15T19:42:01.709Z"
   },
   {
    "duration": 6,
    "start_time": "2021-09-15T19:42:02.502Z"
   },
   {
    "duration": 7,
    "start_time": "2021-09-15T19:42:03.172Z"
   },
   {
    "duration": 8,
    "start_time": "2021-09-15T19:42:03.972Z"
   },
   {
    "duration": 10,
    "start_time": "2021-09-15T19:42:04.879Z"
   },
   {
    "duration": 179,
    "start_time": "2021-09-15T19:42:06.056Z"
   },
   {
    "duration": 1057,
    "start_time": "2021-09-15T19:42:07.064Z"
   },
   {
    "duration": 1144,
    "start_time": "2021-09-15T19:42:18.481Z"
   },
   {
    "duration": 1049,
    "start_time": "2021-09-15T19:42:31.233Z"
   },
   {
    "duration": 1126,
    "start_time": "2021-09-15T19:42:45.867Z"
   },
   {
    "duration": 1227,
    "start_time": "2021-09-15T19:42:55.727Z"
   },
   {
    "duration": 1287,
    "start_time": "2021-09-15T20:06:51.867Z"
   },
   {
    "duration": 240,
    "start_time": "2021-09-15T20:32:58.330Z"
   },
   {
    "duration": 243,
    "start_time": "2021-09-15T20:34:05.529Z"
   },
   {
    "duration": 220,
    "start_time": "2021-09-15T20:34:15.934Z"
   },
   {
    "duration": 200,
    "start_time": "2021-09-15T20:34:28.768Z"
   },
   {
    "duration": 1320,
    "start_time": "2021-09-15T20:35:11.833Z"
   },
   {
    "duration": 1255,
    "start_time": "2021-09-15T20:35:43.414Z"
   },
   {
    "duration": 191,
    "start_time": "2021-09-15T20:36:33.554Z"
   },
   {
    "duration": 203,
    "start_time": "2021-09-15T20:41:31.141Z"
   },
   {
    "duration": 1214,
    "start_time": "2021-09-15T20:42:29.150Z"
   },
   {
    "duration": 202,
    "start_time": "2021-09-15T20:42:47.145Z"
   },
   {
    "duration": 19,
    "start_time": "2021-09-15T21:12:58.236Z"
   },
   {
    "duration": 23,
    "start_time": "2021-09-15T21:12:59.838Z"
   },
   {
    "duration": 9,
    "start_time": "2021-09-15T21:13:08.088Z"
   },
   {
    "duration": 8,
    "start_time": "2021-09-15T21:13:33.187Z"
   },
   {
    "duration": 20,
    "start_time": "2021-09-15T21:22:45.254Z"
   },
   {
    "duration": 27,
    "start_time": "2021-09-15T21:22:46.864Z"
   },
   {
    "duration": 17,
    "start_time": "2021-09-15T21:22:47.887Z"
   },
   {
    "duration": 8,
    "start_time": "2021-09-15T21:22:51.750Z"
   },
   {
    "duration": 6,
    "start_time": "2021-09-15T21:22:55.084Z"
   },
   {
    "duration": 7,
    "start_time": "2021-09-15T21:25:25.958Z"
   },
   {
    "duration": 7,
    "start_time": "2021-09-15T21:25:26.807Z"
   },
   {
    "duration": 106,
    "start_time": "2021-09-15T21:29:04.032Z"
   },
   {
    "duration": 8,
    "start_time": "2021-09-15T21:30:15.548Z"
   },
   {
    "duration": 389,
    "start_time": "2021-09-15T21:39:59.915Z"
   },
   {
    "duration": 198,
    "start_time": "2021-09-15T21:40:17.917Z"
   },
   {
    "duration": 20,
    "start_time": "2021-09-15T21:51:32.221Z"
   },
   {
    "duration": 24,
    "start_time": "2021-09-15T21:51:33.171Z"
   },
   {
    "duration": 18,
    "start_time": "2021-09-15T21:51:34.080Z"
   },
   {
    "duration": 7,
    "start_time": "2021-09-15T21:51:34.987Z"
   },
   {
    "duration": 8,
    "start_time": "2021-09-15T21:51:38.226Z"
   },
   {
    "duration": 7,
    "start_time": "2021-09-15T21:51:39.378Z"
   },
   {
    "duration": 7,
    "start_time": "2021-09-15T21:51:42.533Z"
   },
   {
    "duration": 182,
    "start_time": "2021-09-15T21:51:44.978Z"
   },
   {
    "duration": 1294,
    "start_time": "2021-09-15T21:51:46.976Z"
   },
   {
    "duration": 194,
    "start_time": "2021-09-15T21:51:49.886Z"
   },
   {
    "duration": 671,
    "start_time": "2021-09-16T02:56:07.416Z"
   },
   {
    "duration": 24,
    "start_time": "2021-09-16T02:56:08.089Z"
   },
   {
    "duration": 19,
    "start_time": "2021-09-16T02:56:08.115Z"
   },
   {
    "duration": 7,
    "start_time": "2021-09-16T02:56:08.136Z"
   },
   {
    "duration": 9,
    "start_time": "2021-09-16T02:56:08.145Z"
   },
   {
    "duration": 6,
    "start_time": "2021-09-16T02:56:08.156Z"
   },
   {
    "duration": 40,
    "start_time": "2021-09-16T02:56:08.163Z"
   },
   {
    "duration": 216,
    "start_time": "2021-09-16T02:56:08.205Z"
   },
   {
    "duration": 1374,
    "start_time": "2021-09-16T02:56:08.422Z"
   },
   {
    "duration": 281,
    "start_time": "2021-09-16T02:56:09.800Z"
   },
   {
    "duration": 877,
    "start_time": "2021-09-16T17:05:41.517Z"
   },
   {
    "duration": 29,
    "start_time": "2021-09-16T17:05:42.586Z"
   },
   {
    "duration": 29,
    "start_time": "2021-09-16T17:05:44.462Z"
   },
   {
    "duration": 12,
    "start_time": "2021-09-16T17:05:45.182Z"
   },
   {
    "duration": 11,
    "start_time": "2021-09-16T17:05:48.886Z"
   },
   {
    "duration": 10,
    "start_time": "2021-09-16T17:05:49.472Z"
   },
   {
    "duration": 12,
    "start_time": "2021-09-16T17:05:53.400Z"
   },
   {
    "duration": 100,
    "start_time": "2021-09-16T17:05:55.092Z"
   },
   {
    "duration": 452,
    "start_time": "2021-09-16T17:06:05.869Z"
   },
   {
    "duration": 327,
    "start_time": "2021-09-16T17:06:34.076Z"
   },
   {
    "duration": 2599,
    "start_time": "2021-09-16T17:31:32.207Z"
   },
   {
    "duration": 2696,
    "start_time": "2021-09-16T17:31:48.271Z"
   },
   {
    "duration": 2515,
    "start_time": "2021-09-16T17:32:08.868Z"
   },
   {
    "duration": 2915,
    "start_time": "2021-09-16T17:32:32.236Z"
   },
   {
    "duration": 2962,
    "start_time": "2021-09-16T17:32:47.920Z"
   },
   {
    "duration": 2939,
    "start_time": "2021-09-16T17:33:01.892Z"
   },
   {
    "duration": 720,
    "start_time": "2021-09-16T19:56:10.298Z"
   },
   {
    "duration": 582,
    "start_time": "2021-09-16T19:56:48.676Z"
   },
   {
    "duration": 320,
    "start_time": "2021-09-16T19:56:59.935Z"
   },
   {
    "duration": 243,
    "start_time": "2021-09-16T19:57:18.661Z"
   },
   {
    "duration": 2736,
    "start_time": "2021-09-16T19:57:24.448Z"
   },
   {
    "duration": 3006,
    "start_time": "2021-09-16T20:26:53.124Z"
   },
   {
    "duration": 3124,
    "start_time": "2021-09-16T20:28:10.034Z"
   },
   {
    "duration": 2491,
    "start_time": "2021-09-16T20:28:36.547Z"
   },
   {
    "duration": 2669,
    "start_time": "2021-09-16T20:28:59.284Z"
   },
   {
    "duration": 2399,
    "start_time": "2021-09-16T20:29:13.854Z"
   },
   {
    "duration": 253,
    "start_time": "2021-09-16T20:30:39.029Z"
   },
   {
    "duration": 2543,
    "start_time": "2021-09-16T20:31:17.996Z"
   },
   {
    "duration": 2388,
    "start_time": "2021-09-16T20:31:37.299Z"
   },
   {
    "duration": 2560,
    "start_time": "2021-09-16T20:32:20.762Z"
   },
   {
    "duration": 2386,
    "start_time": "2021-09-16T21:26:07.985Z"
   },
   {
    "duration": 2347,
    "start_time": "2021-09-16T21:26:15.382Z"
   },
   {
    "duration": 2414,
    "start_time": "2021-09-16T21:26:37.969Z"
   },
   {
    "duration": 22,
    "start_time": "2021-09-16T21:41:38.769Z"
   },
   {
    "duration": 29,
    "start_time": "2021-09-16T21:41:40.804Z"
   },
   {
    "duration": 31,
    "start_time": "2021-09-16T21:41:42.580Z"
   },
   {
    "duration": 12,
    "start_time": "2021-09-16T21:41:43.496Z"
   },
   {
    "duration": 11,
    "start_time": "2021-09-16T21:41:46.417Z"
   },
   {
    "duration": 11,
    "start_time": "2021-09-16T21:41:47.130Z"
   },
   {
    "duration": 13,
    "start_time": "2021-09-16T21:41:49.976Z"
   },
   {
    "duration": 522,
    "start_time": "2021-09-16T21:41:51.337Z"
   },
   {
    "duration": 2429,
    "start_time": "2021-09-16T21:41:54.513Z"
   },
   {
    "duration": 378,
    "start_time": "2021-09-16T21:41:56.974Z"
   }
  ],
  "kernelspec": {
   "display_name": "Python 3",
   "language": "python",
   "name": "python3"
  },
  "language_info": {
   "codemirror_mode": {
    "name": "ipython",
    "version": 3
   },
   "file_extension": ".py",
   "mimetype": "text/x-python",
   "name": "python",
   "nbconvert_exporter": "python",
   "pygments_lexer": "ipython3",
   "version": "3.7.8"
  },
  "toc": {
   "base_numbering": 1,
   "nav_menu": {},
   "number_sections": true,
   "sideBar": true,
   "skip_h1_title": true,
   "title_cell": "Table of Contents",
   "title_sidebar": "Contents",
   "toc_cell": false,
   "toc_position": {},
   "toc_section_display": true,
   "toc_window_display": false
  }
 },
 "nbformat": 4,
 "nbformat_minor": 2
}
