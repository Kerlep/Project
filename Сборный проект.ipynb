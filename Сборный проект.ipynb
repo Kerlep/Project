{
 "cells": [
  {
   "cell_type": "markdown",
   "metadata": {},
   "source": [
    "# Сборный проект"
   ]
  },
  {
   "cell_type": "markdown",
   "metadata": {},
   "source": [
    "Описание проекта:\n",
    "\n",
    "Вы работаете в интернет-магазине «Стримчик», который продаёт по всему миру компьютерные игры. Из открытых источников доступны исторические данные о продажах игр, оценки пользователей и экспертов, жанры и платформы (например, Xbox или PlayStation). Вам нужно выявить определяющие успешность игры закономерности. Это позволит сделать ставку на потенциально популярный продукт и спланировать рекламные кампании.\n",
    "Перед вами данные до 2016 года. Представим, что сейчас декабрь 2016 г., и вы планируете кампанию на 2017-й. Нужно отработать принцип работы с данными. Неважно, прогнозируете ли вы продажи на 2017 год по данным 2016-го или же 2027-й — по данным 2026 года.\n",
    "В наборе данных попадается аббревиатура ESRB (Entertainment Software Rating Board) — это ассоциация, определяющая возрастной рейтинг компьютерных игр. ESRB оценивает игровой контент и присваивает ему подходящую возрастную категорию, например, «Для взрослых», «Для детей младшего возраста» или «Для подростков».\n",
    "\n",
    "Описание данных: \n",
    "- Name — название игры\n",
    "- Platform — платформа\n",
    "- Year_of_Release — год выпуска\n",
    "- Genre — жанр игры\n",
    "- NA_sales — продажи в Северной Америке (миллионы проданных копий)\n",
    "- EU_sales — продажи в Европе (миллионы проданных копий)\n",
    "- JP_sales — продажи в Японии (миллионы проданных копий)\n",
    "- Other_sales — продажи в других странах (миллионы проданных копий)\n",
    "- Critic_Score — оценка критиков (максимум 100)\n",
    "- User_Score — оценка пользователей (максимум 10)\n",
    "- Rating — рейтинг от организации ESRB (англ. Entertainment Software Rating Board). Эта ассоциация определяет рейтинг компьютерных игр и присваивает им подходящую возрастную категорию.\n",
    "\n",
    "# Задачи исследования\n",
    "1. [Изучение общей информации](#start)\n",
    "2. [Предобработка данных](#preprocessing)\n",
    "3. [Исследовательский анализ данных](#e)    \n",
    "    - [Посмотрите, сколько игр выпускалось в разные годы. Важны ли данные за все периоды?](#q)\n",
    "    - [Посмотрите, как менялись продажи по платформам. Выберите платформы с наибольшими суммарными продажами и постройте распределение по годам. За какой характерный срок появляются новые и исчезают старые платформы?](#w)\n",
    "    - [Возьмите данные за соответствующий актуальный период. Актуальный период определите самостоятельно в результате исследования предыдущих вопросов. Основной фактор — эти данные помогут построить прогноз на 2017 год.](#r)\n",
    "    - [Какие платформы лидируют по продажам, растут или падают? Выберите несколько потенциально прибыльных платформ.](#t)\n",
    "    - [Постройте график «ящик с усами» по глобальным продажам игр в разбивке по платформам. Опишите результат.](#y)\n",
    "    - [Посмотрите, как влияют на продажи внутри одной популярной платформы отзывы пользователей и критиков. Постройте диаграмму рассеяния и посчитайте корреляцию между отзывами и продажами. Сформулируйте выводы.](#u)\n",
    "    - [Соотнесите выводы с продажами игр на других платформах.](#i)\n",
    "    - [Посмотрите на общее распределение игр по жанрам. Что можно сказать о самых прибыльных жанрах? Выделяются ли жанры с высокими и низкими продажами?](#o)\n",
    "    \n",
    "4. [Cоставление портрета пользователя каждого региона:](#f)\n",
    "   \n",
    "5. [Проверка гипотезы:](#a)\n",
    "    - [Средние пользовательские рейтинги платформ Xbox One и PC одинаковые](#a)\n",
    "    - [Средние пользовательские рейтинги жанров Action (англ. «действие», экшен-игры) и Sports (англ. «спортивные соревнования») разные.](#b)\n",
    "   \n",
    "6. [Вывод](#g)"
   ]
  },
  {
   "cell_type": "markdown",
   "metadata": {},
   "source": [
    "# Шаг 1. Изучение общей информации:\n",
    "<a id=\"start\"></a>"
   ]
  },
  {
   "cell_type": "code",
   "execution_count": 24,
   "metadata": {},
   "outputs": [],
   "source": [
    "#подключение библиотек и получение данных\n",
    "import pandas as pd\n",
    "import numpy as np\n",
    "import matplotlib.pyplot as plt\n",
    "data = pd.read_csv('/datasets/games.csv')"
   ]
  },
  {
   "cell_type": "code",
   "execution_count": 25,
   "metadata": {},
   "outputs": [
    {
     "data": {
      "text/html": [
       "<div>\n",
       "<style scoped>\n",
       "    .dataframe tbody tr th:only-of-type {\n",
       "        vertical-align: middle;\n",
       "    }\n",
       "\n",
       "    .dataframe tbody tr th {\n",
       "        vertical-align: top;\n",
       "    }\n",
       "\n",
       "    .dataframe thead th {\n",
       "        text-align: right;\n",
       "    }\n",
       "</style>\n",
       "<table border=\"1\" class=\"dataframe\">\n",
       "  <thead>\n",
       "    <tr style=\"text-align: right;\">\n",
       "      <th></th>\n",
       "      <th>Name</th>\n",
       "      <th>Platform</th>\n",
       "      <th>Year_of_Release</th>\n",
       "      <th>Genre</th>\n",
       "      <th>NA_sales</th>\n",
       "      <th>EU_sales</th>\n",
       "      <th>JP_sales</th>\n",
       "      <th>Other_sales</th>\n",
       "      <th>Critic_Score</th>\n",
       "      <th>User_Score</th>\n",
       "      <th>Rating</th>\n",
       "    </tr>\n",
       "  </thead>\n",
       "  <tbody>\n",
       "    <tr>\n",
       "      <td>0</td>\n",
       "      <td>Wii Sports</td>\n",
       "      <td>Wii</td>\n",
       "      <td>2006.0</td>\n",
       "      <td>Sports</td>\n",
       "      <td>41.36</td>\n",
       "      <td>28.96</td>\n",
       "      <td>3.77</td>\n",
       "      <td>8.45</td>\n",
       "      <td>76.0</td>\n",
       "      <td>8</td>\n",
       "      <td>E</td>\n",
       "    </tr>\n",
       "    <tr>\n",
       "      <td>1</td>\n",
       "      <td>Super Mario Bros.</td>\n",
       "      <td>NES</td>\n",
       "      <td>1985.0</td>\n",
       "      <td>Platform</td>\n",
       "      <td>29.08</td>\n",
       "      <td>3.58</td>\n",
       "      <td>6.81</td>\n",
       "      <td>0.77</td>\n",
       "      <td>NaN</td>\n",
       "      <td>NaN</td>\n",
       "      <td>NaN</td>\n",
       "    </tr>\n",
       "    <tr>\n",
       "      <td>2</td>\n",
       "      <td>Mario Kart Wii</td>\n",
       "      <td>Wii</td>\n",
       "      <td>2008.0</td>\n",
       "      <td>Racing</td>\n",
       "      <td>15.68</td>\n",
       "      <td>12.76</td>\n",
       "      <td>3.79</td>\n",
       "      <td>3.29</td>\n",
       "      <td>82.0</td>\n",
       "      <td>8.3</td>\n",
       "      <td>E</td>\n",
       "    </tr>\n",
       "    <tr>\n",
       "      <td>3</td>\n",
       "      <td>Wii Sports Resort</td>\n",
       "      <td>Wii</td>\n",
       "      <td>2009.0</td>\n",
       "      <td>Sports</td>\n",
       "      <td>15.61</td>\n",
       "      <td>10.93</td>\n",
       "      <td>3.28</td>\n",
       "      <td>2.95</td>\n",
       "      <td>80.0</td>\n",
       "      <td>8</td>\n",
       "      <td>E</td>\n",
       "    </tr>\n",
       "    <tr>\n",
       "      <td>4</td>\n",
       "      <td>Pokemon Red/Pokemon Blue</td>\n",
       "      <td>GB</td>\n",
       "      <td>1996.0</td>\n",
       "      <td>Role-Playing</td>\n",
       "      <td>11.27</td>\n",
       "      <td>8.89</td>\n",
       "      <td>10.22</td>\n",
       "      <td>1.00</td>\n",
       "      <td>NaN</td>\n",
       "      <td>NaN</td>\n",
       "      <td>NaN</td>\n",
       "    </tr>\n",
       "    <tr>\n",
       "      <td>...</td>\n",
       "      <td>...</td>\n",
       "      <td>...</td>\n",
       "      <td>...</td>\n",
       "      <td>...</td>\n",
       "      <td>...</td>\n",
       "      <td>...</td>\n",
       "      <td>...</td>\n",
       "      <td>...</td>\n",
       "      <td>...</td>\n",
       "      <td>...</td>\n",
       "      <td>...</td>\n",
       "    </tr>\n",
       "    <tr>\n",
       "      <td>16710</td>\n",
       "      <td>Samurai Warriors: Sanada Maru</td>\n",
       "      <td>PS3</td>\n",
       "      <td>2016.0</td>\n",
       "      <td>Action</td>\n",
       "      <td>0.00</td>\n",
       "      <td>0.00</td>\n",
       "      <td>0.01</td>\n",
       "      <td>0.00</td>\n",
       "      <td>NaN</td>\n",
       "      <td>NaN</td>\n",
       "      <td>NaN</td>\n",
       "    </tr>\n",
       "    <tr>\n",
       "      <td>16711</td>\n",
       "      <td>LMA Manager 2007</td>\n",
       "      <td>X360</td>\n",
       "      <td>2006.0</td>\n",
       "      <td>Sports</td>\n",
       "      <td>0.00</td>\n",
       "      <td>0.01</td>\n",
       "      <td>0.00</td>\n",
       "      <td>0.00</td>\n",
       "      <td>NaN</td>\n",
       "      <td>NaN</td>\n",
       "      <td>NaN</td>\n",
       "    </tr>\n",
       "    <tr>\n",
       "      <td>16712</td>\n",
       "      <td>Haitaka no Psychedelica</td>\n",
       "      <td>PSV</td>\n",
       "      <td>2016.0</td>\n",
       "      <td>Adventure</td>\n",
       "      <td>0.00</td>\n",
       "      <td>0.00</td>\n",
       "      <td>0.01</td>\n",
       "      <td>0.00</td>\n",
       "      <td>NaN</td>\n",
       "      <td>NaN</td>\n",
       "      <td>NaN</td>\n",
       "    </tr>\n",
       "    <tr>\n",
       "      <td>16713</td>\n",
       "      <td>Spirits &amp; Spells</td>\n",
       "      <td>GBA</td>\n",
       "      <td>2003.0</td>\n",
       "      <td>Platform</td>\n",
       "      <td>0.01</td>\n",
       "      <td>0.00</td>\n",
       "      <td>0.00</td>\n",
       "      <td>0.00</td>\n",
       "      <td>NaN</td>\n",
       "      <td>NaN</td>\n",
       "      <td>NaN</td>\n",
       "    </tr>\n",
       "    <tr>\n",
       "      <td>16714</td>\n",
       "      <td>Winning Post 8 2016</td>\n",
       "      <td>PSV</td>\n",
       "      <td>2016.0</td>\n",
       "      <td>Simulation</td>\n",
       "      <td>0.00</td>\n",
       "      <td>0.00</td>\n",
       "      <td>0.01</td>\n",
       "      <td>0.00</td>\n",
       "      <td>NaN</td>\n",
       "      <td>NaN</td>\n",
       "      <td>NaN</td>\n",
       "    </tr>\n",
       "  </tbody>\n",
       "</table>\n",
       "<p>16715 rows × 11 columns</p>\n",
       "</div>"
      ],
      "text/plain": [
       "                                Name Platform  Year_of_Release         Genre  \\\n",
       "0                         Wii Sports      Wii           2006.0        Sports   \n",
       "1                  Super Mario Bros.      NES           1985.0      Platform   \n",
       "2                     Mario Kart Wii      Wii           2008.0        Racing   \n",
       "3                  Wii Sports Resort      Wii           2009.0        Sports   \n",
       "4           Pokemon Red/Pokemon Blue       GB           1996.0  Role-Playing   \n",
       "...                              ...      ...              ...           ...   \n",
       "16710  Samurai Warriors: Sanada Maru      PS3           2016.0        Action   \n",
       "16711               LMA Manager 2007     X360           2006.0        Sports   \n",
       "16712        Haitaka no Psychedelica      PSV           2016.0     Adventure   \n",
       "16713               Spirits & Spells      GBA           2003.0      Platform   \n",
       "16714            Winning Post 8 2016      PSV           2016.0    Simulation   \n",
       "\n",
       "       NA_sales  EU_sales  JP_sales  Other_sales  Critic_Score User_Score  \\\n",
       "0         41.36     28.96      3.77         8.45          76.0          8   \n",
       "1         29.08      3.58      6.81         0.77           NaN        NaN   \n",
       "2         15.68     12.76      3.79         3.29          82.0        8.3   \n",
       "3         15.61     10.93      3.28         2.95          80.0          8   \n",
       "4         11.27      8.89     10.22         1.00           NaN        NaN   \n",
       "...         ...       ...       ...          ...           ...        ...   \n",
       "16710      0.00      0.00      0.01         0.00           NaN        NaN   \n",
       "16711      0.00      0.01      0.00         0.00           NaN        NaN   \n",
       "16712      0.00      0.00      0.01         0.00           NaN        NaN   \n",
       "16713      0.01      0.00      0.00         0.00           NaN        NaN   \n",
       "16714      0.00      0.00      0.01         0.00           NaN        NaN   \n",
       "\n",
       "      Rating  \n",
       "0          E  \n",
       "1        NaN  \n",
       "2          E  \n",
       "3          E  \n",
       "4        NaN  \n",
       "...      ...  \n",
       "16710    NaN  \n",
       "16711    NaN  \n",
       "16712    NaN  \n",
       "16713    NaN  \n",
       "16714    NaN  \n",
       "\n",
       "[16715 rows x 11 columns]"
      ]
     },
     "metadata": {},
     "output_type": "display_data"
    }
   ],
   "source": [
    "display(data)"
   ]
  },
  {
   "cell_type": "code",
   "execution_count": 26,
   "metadata": {},
   "outputs": [
    {
     "data": {
      "text/html": [
       "<div>\n",
       "<style scoped>\n",
       "    .dataframe tbody tr th:only-of-type {\n",
       "        vertical-align: middle;\n",
       "    }\n",
       "\n",
       "    .dataframe tbody tr th {\n",
       "        vertical-align: top;\n",
       "    }\n",
       "\n",
       "    .dataframe thead th {\n",
       "        text-align: right;\n",
       "    }\n",
       "</style>\n",
       "<table border=\"1\" class=\"dataframe\">\n",
       "  <thead>\n",
       "    <tr style=\"text-align: right;\">\n",
       "      <th></th>\n",
       "      <th>Name</th>\n",
       "      <th>Platform</th>\n",
       "      <th>Year_of_Release</th>\n",
       "      <th>Genre</th>\n",
       "      <th>NA_sales</th>\n",
       "      <th>EU_sales</th>\n",
       "      <th>JP_sales</th>\n",
       "      <th>Other_sales</th>\n",
       "      <th>Critic_Score</th>\n",
       "      <th>User_Score</th>\n",
       "      <th>Rating</th>\n",
       "    </tr>\n",
       "  </thead>\n",
       "  <tbody>\n",
       "    <tr>\n",
       "      <td>0</td>\n",
       "      <td>Wii Sports</td>\n",
       "      <td>Wii</td>\n",
       "      <td>2006.0</td>\n",
       "      <td>Sports</td>\n",
       "      <td>41.36</td>\n",
       "      <td>28.96</td>\n",
       "      <td>3.77</td>\n",
       "      <td>8.45</td>\n",
       "      <td>76.0</td>\n",
       "      <td>8</td>\n",
       "      <td>E</td>\n",
       "    </tr>\n",
       "    <tr>\n",
       "      <td>1</td>\n",
       "      <td>Super Mario Bros.</td>\n",
       "      <td>NES</td>\n",
       "      <td>1985.0</td>\n",
       "      <td>Platform</td>\n",
       "      <td>29.08</td>\n",
       "      <td>3.58</td>\n",
       "      <td>6.81</td>\n",
       "      <td>0.77</td>\n",
       "      <td>NaN</td>\n",
       "      <td>NaN</td>\n",
       "      <td>NaN</td>\n",
       "    </tr>\n",
       "    <tr>\n",
       "      <td>2</td>\n",
       "      <td>Mario Kart Wii</td>\n",
       "      <td>Wii</td>\n",
       "      <td>2008.0</td>\n",
       "      <td>Racing</td>\n",
       "      <td>15.68</td>\n",
       "      <td>12.76</td>\n",
       "      <td>3.79</td>\n",
       "      <td>3.29</td>\n",
       "      <td>82.0</td>\n",
       "      <td>8.3</td>\n",
       "      <td>E</td>\n",
       "    </tr>\n",
       "    <tr>\n",
       "      <td>3</td>\n",
       "      <td>Wii Sports Resort</td>\n",
       "      <td>Wii</td>\n",
       "      <td>2009.0</td>\n",
       "      <td>Sports</td>\n",
       "      <td>15.61</td>\n",
       "      <td>10.93</td>\n",
       "      <td>3.28</td>\n",
       "      <td>2.95</td>\n",
       "      <td>80.0</td>\n",
       "      <td>8</td>\n",
       "      <td>E</td>\n",
       "    </tr>\n",
       "    <tr>\n",
       "      <td>4</td>\n",
       "      <td>Pokemon Red/Pokemon Blue</td>\n",
       "      <td>GB</td>\n",
       "      <td>1996.0</td>\n",
       "      <td>Role-Playing</td>\n",
       "      <td>11.27</td>\n",
       "      <td>8.89</td>\n",
       "      <td>10.22</td>\n",
       "      <td>1.00</td>\n",
       "      <td>NaN</td>\n",
       "      <td>NaN</td>\n",
       "      <td>NaN</td>\n",
       "    </tr>\n",
       "    <tr>\n",
       "      <td>5</td>\n",
       "      <td>Tetris</td>\n",
       "      <td>GB</td>\n",
       "      <td>1989.0</td>\n",
       "      <td>Puzzle</td>\n",
       "      <td>23.20</td>\n",
       "      <td>2.26</td>\n",
       "      <td>4.22</td>\n",
       "      <td>0.58</td>\n",
       "      <td>NaN</td>\n",
       "      <td>NaN</td>\n",
       "      <td>NaN</td>\n",
       "    </tr>\n",
       "    <tr>\n",
       "      <td>6</td>\n",
       "      <td>New Super Mario Bros.</td>\n",
       "      <td>DS</td>\n",
       "      <td>2006.0</td>\n",
       "      <td>Platform</td>\n",
       "      <td>11.28</td>\n",
       "      <td>9.14</td>\n",
       "      <td>6.50</td>\n",
       "      <td>2.88</td>\n",
       "      <td>89.0</td>\n",
       "      <td>8.5</td>\n",
       "      <td>E</td>\n",
       "    </tr>\n",
       "    <tr>\n",
       "      <td>7</td>\n",
       "      <td>Wii Play</td>\n",
       "      <td>Wii</td>\n",
       "      <td>2006.0</td>\n",
       "      <td>Misc</td>\n",
       "      <td>13.96</td>\n",
       "      <td>9.18</td>\n",
       "      <td>2.93</td>\n",
       "      <td>2.84</td>\n",
       "      <td>58.0</td>\n",
       "      <td>6.6</td>\n",
       "      <td>E</td>\n",
       "    </tr>\n",
       "    <tr>\n",
       "      <td>8</td>\n",
       "      <td>New Super Mario Bros. Wii</td>\n",
       "      <td>Wii</td>\n",
       "      <td>2009.0</td>\n",
       "      <td>Platform</td>\n",
       "      <td>14.44</td>\n",
       "      <td>6.94</td>\n",
       "      <td>4.70</td>\n",
       "      <td>2.24</td>\n",
       "      <td>87.0</td>\n",
       "      <td>8.4</td>\n",
       "      <td>E</td>\n",
       "    </tr>\n",
       "    <tr>\n",
       "      <td>9</td>\n",
       "      <td>Duck Hunt</td>\n",
       "      <td>NES</td>\n",
       "      <td>1984.0</td>\n",
       "      <td>Shooter</td>\n",
       "      <td>26.93</td>\n",
       "      <td>0.63</td>\n",
       "      <td>0.28</td>\n",
       "      <td>0.47</td>\n",
       "      <td>NaN</td>\n",
       "      <td>NaN</td>\n",
       "      <td>NaN</td>\n",
       "    </tr>\n",
       "    <tr>\n",
       "      <td>10</td>\n",
       "      <td>Nintendogs</td>\n",
       "      <td>DS</td>\n",
       "      <td>2005.0</td>\n",
       "      <td>Simulation</td>\n",
       "      <td>9.05</td>\n",
       "      <td>10.95</td>\n",
       "      <td>1.93</td>\n",
       "      <td>2.74</td>\n",
       "      <td>NaN</td>\n",
       "      <td>NaN</td>\n",
       "      <td>NaN</td>\n",
       "    </tr>\n",
       "    <tr>\n",
       "      <td>11</td>\n",
       "      <td>Mario Kart DS</td>\n",
       "      <td>DS</td>\n",
       "      <td>2005.0</td>\n",
       "      <td>Racing</td>\n",
       "      <td>9.71</td>\n",
       "      <td>7.47</td>\n",
       "      <td>4.13</td>\n",
       "      <td>1.90</td>\n",
       "      <td>91.0</td>\n",
       "      <td>8.6</td>\n",
       "      <td>E</td>\n",
       "    </tr>\n",
       "    <tr>\n",
       "      <td>12</td>\n",
       "      <td>Pokemon Gold/Pokemon Silver</td>\n",
       "      <td>GB</td>\n",
       "      <td>1999.0</td>\n",
       "      <td>Role-Playing</td>\n",
       "      <td>9.00</td>\n",
       "      <td>6.18</td>\n",
       "      <td>7.20</td>\n",
       "      <td>0.71</td>\n",
       "      <td>NaN</td>\n",
       "      <td>NaN</td>\n",
       "      <td>NaN</td>\n",
       "    </tr>\n",
       "    <tr>\n",
       "      <td>13</td>\n",
       "      <td>Wii Fit</td>\n",
       "      <td>Wii</td>\n",
       "      <td>2007.0</td>\n",
       "      <td>Sports</td>\n",
       "      <td>8.92</td>\n",
       "      <td>8.03</td>\n",
       "      <td>3.60</td>\n",
       "      <td>2.15</td>\n",
       "      <td>80.0</td>\n",
       "      <td>7.7</td>\n",
       "      <td>E</td>\n",
       "    </tr>\n",
       "    <tr>\n",
       "      <td>14</td>\n",
       "      <td>Kinect Adventures!</td>\n",
       "      <td>X360</td>\n",
       "      <td>2010.0</td>\n",
       "      <td>Misc</td>\n",
       "      <td>15.00</td>\n",
       "      <td>4.89</td>\n",
       "      <td>0.24</td>\n",
       "      <td>1.69</td>\n",
       "      <td>61.0</td>\n",
       "      <td>6.3</td>\n",
       "      <td>E</td>\n",
       "    </tr>\n",
       "    <tr>\n",
       "      <td>15</td>\n",
       "      <td>Wii Fit Plus</td>\n",
       "      <td>Wii</td>\n",
       "      <td>2009.0</td>\n",
       "      <td>Sports</td>\n",
       "      <td>9.01</td>\n",
       "      <td>8.49</td>\n",
       "      <td>2.53</td>\n",
       "      <td>1.77</td>\n",
       "      <td>80.0</td>\n",
       "      <td>7.4</td>\n",
       "      <td>E</td>\n",
       "    </tr>\n",
       "    <tr>\n",
       "      <td>16</td>\n",
       "      <td>Grand Theft Auto V</td>\n",
       "      <td>PS3</td>\n",
       "      <td>2013.0</td>\n",
       "      <td>Action</td>\n",
       "      <td>7.02</td>\n",
       "      <td>9.09</td>\n",
       "      <td>0.98</td>\n",
       "      <td>3.96</td>\n",
       "      <td>97.0</td>\n",
       "      <td>8.2</td>\n",
       "      <td>M</td>\n",
       "    </tr>\n",
       "    <tr>\n",
       "      <td>17</td>\n",
       "      <td>Grand Theft Auto: San Andreas</td>\n",
       "      <td>PS2</td>\n",
       "      <td>2004.0</td>\n",
       "      <td>Action</td>\n",
       "      <td>9.43</td>\n",
       "      <td>0.40</td>\n",
       "      <td>0.41</td>\n",
       "      <td>10.57</td>\n",
       "      <td>95.0</td>\n",
       "      <td>9</td>\n",
       "      <td>M</td>\n",
       "    </tr>\n",
       "    <tr>\n",
       "      <td>18</td>\n",
       "      <td>Super Mario World</td>\n",
       "      <td>SNES</td>\n",
       "      <td>1990.0</td>\n",
       "      <td>Platform</td>\n",
       "      <td>12.78</td>\n",
       "      <td>3.75</td>\n",
       "      <td>3.54</td>\n",
       "      <td>0.55</td>\n",
       "      <td>NaN</td>\n",
       "      <td>NaN</td>\n",
       "      <td>NaN</td>\n",
       "    </tr>\n",
       "    <tr>\n",
       "      <td>19</td>\n",
       "      <td>Brain Age: Train Your Brain in Minutes a Day</td>\n",
       "      <td>DS</td>\n",
       "      <td>2005.0</td>\n",
       "      <td>Misc</td>\n",
       "      <td>4.74</td>\n",
       "      <td>9.20</td>\n",
       "      <td>4.16</td>\n",
       "      <td>2.04</td>\n",
       "      <td>77.0</td>\n",
       "      <td>7.9</td>\n",
       "      <td>E</td>\n",
       "    </tr>\n",
       "  </tbody>\n",
       "</table>\n",
       "</div>"
      ],
      "text/plain": [
       "                                            Name Platform  Year_of_Release  \\\n",
       "0                                     Wii Sports      Wii           2006.0   \n",
       "1                              Super Mario Bros.      NES           1985.0   \n",
       "2                                 Mario Kart Wii      Wii           2008.0   \n",
       "3                              Wii Sports Resort      Wii           2009.0   \n",
       "4                       Pokemon Red/Pokemon Blue       GB           1996.0   \n",
       "5                                         Tetris       GB           1989.0   \n",
       "6                          New Super Mario Bros.       DS           2006.0   \n",
       "7                                       Wii Play      Wii           2006.0   \n",
       "8                      New Super Mario Bros. Wii      Wii           2009.0   \n",
       "9                                      Duck Hunt      NES           1984.0   \n",
       "10                                    Nintendogs       DS           2005.0   \n",
       "11                                 Mario Kart DS       DS           2005.0   \n",
       "12                   Pokemon Gold/Pokemon Silver       GB           1999.0   \n",
       "13                                       Wii Fit      Wii           2007.0   \n",
       "14                            Kinect Adventures!     X360           2010.0   \n",
       "15                                  Wii Fit Plus      Wii           2009.0   \n",
       "16                            Grand Theft Auto V      PS3           2013.0   \n",
       "17                 Grand Theft Auto: San Andreas      PS2           2004.0   \n",
       "18                             Super Mario World     SNES           1990.0   \n",
       "19  Brain Age: Train Your Brain in Minutes a Day       DS           2005.0   \n",
       "\n",
       "           Genre  NA_sales  EU_sales  JP_sales  Other_sales  Critic_Score  \\\n",
       "0         Sports     41.36     28.96      3.77         8.45          76.0   \n",
       "1       Platform     29.08      3.58      6.81         0.77           NaN   \n",
       "2         Racing     15.68     12.76      3.79         3.29          82.0   \n",
       "3         Sports     15.61     10.93      3.28         2.95          80.0   \n",
       "4   Role-Playing     11.27      8.89     10.22         1.00           NaN   \n",
       "5         Puzzle     23.20      2.26      4.22         0.58           NaN   \n",
       "6       Platform     11.28      9.14      6.50         2.88          89.0   \n",
       "7           Misc     13.96      9.18      2.93         2.84          58.0   \n",
       "8       Platform     14.44      6.94      4.70         2.24          87.0   \n",
       "9        Shooter     26.93      0.63      0.28         0.47           NaN   \n",
       "10    Simulation      9.05     10.95      1.93         2.74           NaN   \n",
       "11        Racing      9.71      7.47      4.13         1.90          91.0   \n",
       "12  Role-Playing      9.00      6.18      7.20         0.71           NaN   \n",
       "13        Sports      8.92      8.03      3.60         2.15          80.0   \n",
       "14          Misc     15.00      4.89      0.24         1.69          61.0   \n",
       "15        Sports      9.01      8.49      2.53         1.77          80.0   \n",
       "16        Action      7.02      9.09      0.98         3.96          97.0   \n",
       "17        Action      9.43      0.40      0.41        10.57          95.0   \n",
       "18      Platform     12.78      3.75      3.54         0.55           NaN   \n",
       "19          Misc      4.74      9.20      4.16         2.04          77.0   \n",
       "\n",
       "   User_Score Rating  \n",
       "0           8      E  \n",
       "1         NaN    NaN  \n",
       "2         8.3      E  \n",
       "3           8      E  \n",
       "4         NaN    NaN  \n",
       "5         NaN    NaN  \n",
       "6         8.5      E  \n",
       "7         6.6      E  \n",
       "8         8.4      E  \n",
       "9         NaN    NaN  \n",
       "10        NaN    NaN  \n",
       "11        8.6      E  \n",
       "12        NaN    NaN  \n",
       "13        7.7      E  \n",
       "14        6.3      E  \n",
       "15        7.4      E  \n",
       "16        8.2      M  \n",
       "17          9      M  \n",
       "18        NaN    NaN  \n",
       "19        7.9      E  "
      ]
     },
     "execution_count": 26,
     "metadata": {},
     "output_type": "execute_result"
    }
   ],
   "source": [
    "data.head(20)"
   ]
  },
  {
   "cell_type": "code",
   "execution_count": 27,
   "metadata": {},
   "outputs": [
    {
     "data": {
      "text/html": [
       "<div>\n",
       "<style scoped>\n",
       "    .dataframe tbody tr th:only-of-type {\n",
       "        vertical-align: middle;\n",
       "    }\n",
       "\n",
       "    .dataframe tbody tr th {\n",
       "        vertical-align: top;\n",
       "    }\n",
       "\n",
       "    .dataframe thead th {\n",
       "        text-align: right;\n",
       "    }\n",
       "</style>\n",
       "<table border=\"1\" class=\"dataframe\">\n",
       "  <thead>\n",
       "    <tr style=\"text-align: right;\">\n",
       "      <th></th>\n",
       "      <th>Name</th>\n",
       "      <th>Platform</th>\n",
       "      <th>Year_of_Release</th>\n",
       "      <th>Genre</th>\n",
       "      <th>NA_sales</th>\n",
       "      <th>EU_sales</th>\n",
       "      <th>JP_sales</th>\n",
       "      <th>Other_sales</th>\n",
       "      <th>Critic_Score</th>\n",
       "      <th>User_Score</th>\n",
       "      <th>Rating</th>\n",
       "    </tr>\n",
       "  </thead>\n",
       "  <tbody>\n",
       "    <tr>\n",
       "      <td>16695</td>\n",
       "      <td>Planet Monsters</td>\n",
       "      <td>GBA</td>\n",
       "      <td>2001.0</td>\n",
       "      <td>Action</td>\n",
       "      <td>0.01</td>\n",
       "      <td>0.00</td>\n",
       "      <td>0.00</td>\n",
       "      <td>0.0</td>\n",
       "      <td>67.0</td>\n",
       "      <td>tbd</td>\n",
       "      <td>E</td>\n",
       "    </tr>\n",
       "    <tr>\n",
       "      <td>16696</td>\n",
       "      <td>Breach</td>\n",
       "      <td>PC</td>\n",
       "      <td>2011.0</td>\n",
       "      <td>Shooter</td>\n",
       "      <td>0.01</td>\n",
       "      <td>0.00</td>\n",
       "      <td>0.00</td>\n",
       "      <td>0.0</td>\n",
       "      <td>61.0</td>\n",
       "      <td>5.8</td>\n",
       "      <td>T</td>\n",
       "    </tr>\n",
       "    <tr>\n",
       "      <td>16697</td>\n",
       "      <td>Bust-A-Move 3000</td>\n",
       "      <td>GC</td>\n",
       "      <td>2003.0</td>\n",
       "      <td>Puzzle</td>\n",
       "      <td>0.01</td>\n",
       "      <td>0.00</td>\n",
       "      <td>0.00</td>\n",
       "      <td>0.0</td>\n",
       "      <td>53.0</td>\n",
       "      <td>tbd</td>\n",
       "      <td>E</td>\n",
       "    </tr>\n",
       "    <tr>\n",
       "      <td>16698</td>\n",
       "      <td>Mega Brain Boost</td>\n",
       "      <td>DS</td>\n",
       "      <td>2008.0</td>\n",
       "      <td>Puzzle</td>\n",
       "      <td>0.01</td>\n",
       "      <td>0.00</td>\n",
       "      <td>0.00</td>\n",
       "      <td>0.0</td>\n",
       "      <td>48.0</td>\n",
       "      <td>tbd</td>\n",
       "      <td>E</td>\n",
       "    </tr>\n",
       "    <tr>\n",
       "      <td>16699</td>\n",
       "      <td>The Longest 5 Minutes</td>\n",
       "      <td>PSV</td>\n",
       "      <td>2016.0</td>\n",
       "      <td>Action</td>\n",
       "      <td>0.00</td>\n",
       "      <td>0.00</td>\n",
       "      <td>0.01</td>\n",
       "      <td>0.0</td>\n",
       "      <td>NaN</td>\n",
       "      <td>NaN</td>\n",
       "      <td>NaN</td>\n",
       "    </tr>\n",
       "    <tr>\n",
       "      <td>16700</td>\n",
       "      <td>Mezase!! Tsuri Master DS</td>\n",
       "      <td>DS</td>\n",
       "      <td>2009.0</td>\n",
       "      <td>Sports</td>\n",
       "      <td>0.00</td>\n",
       "      <td>0.00</td>\n",
       "      <td>0.01</td>\n",
       "      <td>0.0</td>\n",
       "      <td>NaN</td>\n",
       "      <td>NaN</td>\n",
       "      <td>NaN</td>\n",
       "    </tr>\n",
       "    <tr>\n",
       "      <td>16701</td>\n",
       "      <td>Eiyuu Densetsu: Sora no Kiseki Material Collec...</td>\n",
       "      <td>PSP</td>\n",
       "      <td>2007.0</td>\n",
       "      <td>Role-Playing</td>\n",
       "      <td>0.00</td>\n",
       "      <td>0.00</td>\n",
       "      <td>0.01</td>\n",
       "      <td>0.0</td>\n",
       "      <td>NaN</td>\n",
       "      <td>NaN</td>\n",
       "      <td>NaN</td>\n",
       "    </tr>\n",
       "    <tr>\n",
       "      <td>16702</td>\n",
       "      <td>STORM: Frontline Nation</td>\n",
       "      <td>PC</td>\n",
       "      <td>2011.0</td>\n",
       "      <td>Strategy</td>\n",
       "      <td>0.00</td>\n",
       "      <td>0.01</td>\n",
       "      <td>0.00</td>\n",
       "      <td>0.0</td>\n",
       "      <td>60.0</td>\n",
       "      <td>7.2</td>\n",
       "      <td>E10+</td>\n",
       "    </tr>\n",
       "    <tr>\n",
       "      <td>16703</td>\n",
       "      <td>Strawberry Nauts</td>\n",
       "      <td>PSV</td>\n",
       "      <td>2016.0</td>\n",
       "      <td>Adventure</td>\n",
       "      <td>0.00</td>\n",
       "      <td>0.00</td>\n",
       "      <td>0.01</td>\n",
       "      <td>0.0</td>\n",
       "      <td>NaN</td>\n",
       "      <td>NaN</td>\n",
       "      <td>NaN</td>\n",
       "    </tr>\n",
       "    <tr>\n",
       "      <td>16704</td>\n",
       "      <td>Plushees</td>\n",
       "      <td>DS</td>\n",
       "      <td>2008.0</td>\n",
       "      <td>Simulation</td>\n",
       "      <td>0.01</td>\n",
       "      <td>0.00</td>\n",
       "      <td>0.00</td>\n",
       "      <td>0.0</td>\n",
       "      <td>NaN</td>\n",
       "      <td>tbd</td>\n",
       "      <td>E</td>\n",
       "    </tr>\n",
       "    <tr>\n",
       "      <td>16705</td>\n",
       "      <td>15 Days</td>\n",
       "      <td>PC</td>\n",
       "      <td>2009.0</td>\n",
       "      <td>Adventure</td>\n",
       "      <td>0.00</td>\n",
       "      <td>0.01</td>\n",
       "      <td>0.00</td>\n",
       "      <td>0.0</td>\n",
       "      <td>63.0</td>\n",
       "      <td>5.8</td>\n",
       "      <td>NaN</td>\n",
       "    </tr>\n",
       "    <tr>\n",
       "      <td>16706</td>\n",
       "      <td>Men in Black II: Alien Escape</td>\n",
       "      <td>GC</td>\n",
       "      <td>2003.0</td>\n",
       "      <td>Shooter</td>\n",
       "      <td>0.01</td>\n",
       "      <td>0.00</td>\n",
       "      <td>0.00</td>\n",
       "      <td>0.0</td>\n",
       "      <td>NaN</td>\n",
       "      <td>tbd</td>\n",
       "      <td>T</td>\n",
       "    </tr>\n",
       "    <tr>\n",
       "      <td>16707</td>\n",
       "      <td>Aiyoku no Eustia</td>\n",
       "      <td>PSV</td>\n",
       "      <td>2014.0</td>\n",
       "      <td>Misc</td>\n",
       "      <td>0.00</td>\n",
       "      <td>0.00</td>\n",
       "      <td>0.01</td>\n",
       "      <td>0.0</td>\n",
       "      <td>NaN</td>\n",
       "      <td>NaN</td>\n",
       "      <td>NaN</td>\n",
       "    </tr>\n",
       "    <tr>\n",
       "      <td>16708</td>\n",
       "      <td>Woody Woodpecker in Crazy Castle 5</td>\n",
       "      <td>GBA</td>\n",
       "      <td>2002.0</td>\n",
       "      <td>Platform</td>\n",
       "      <td>0.01</td>\n",
       "      <td>0.00</td>\n",
       "      <td>0.00</td>\n",
       "      <td>0.0</td>\n",
       "      <td>NaN</td>\n",
       "      <td>NaN</td>\n",
       "      <td>NaN</td>\n",
       "    </tr>\n",
       "    <tr>\n",
       "      <td>16709</td>\n",
       "      <td>SCORE International Baja 1000: The Official Game</td>\n",
       "      <td>PS2</td>\n",
       "      <td>2008.0</td>\n",
       "      <td>Racing</td>\n",
       "      <td>0.00</td>\n",
       "      <td>0.00</td>\n",
       "      <td>0.00</td>\n",
       "      <td>0.0</td>\n",
       "      <td>NaN</td>\n",
       "      <td>NaN</td>\n",
       "      <td>NaN</td>\n",
       "    </tr>\n",
       "    <tr>\n",
       "      <td>16710</td>\n",
       "      <td>Samurai Warriors: Sanada Maru</td>\n",
       "      <td>PS3</td>\n",
       "      <td>2016.0</td>\n",
       "      <td>Action</td>\n",
       "      <td>0.00</td>\n",
       "      <td>0.00</td>\n",
       "      <td>0.01</td>\n",
       "      <td>0.0</td>\n",
       "      <td>NaN</td>\n",
       "      <td>NaN</td>\n",
       "      <td>NaN</td>\n",
       "    </tr>\n",
       "    <tr>\n",
       "      <td>16711</td>\n",
       "      <td>LMA Manager 2007</td>\n",
       "      <td>X360</td>\n",
       "      <td>2006.0</td>\n",
       "      <td>Sports</td>\n",
       "      <td>0.00</td>\n",
       "      <td>0.01</td>\n",
       "      <td>0.00</td>\n",
       "      <td>0.0</td>\n",
       "      <td>NaN</td>\n",
       "      <td>NaN</td>\n",
       "      <td>NaN</td>\n",
       "    </tr>\n",
       "    <tr>\n",
       "      <td>16712</td>\n",
       "      <td>Haitaka no Psychedelica</td>\n",
       "      <td>PSV</td>\n",
       "      <td>2016.0</td>\n",
       "      <td>Adventure</td>\n",
       "      <td>0.00</td>\n",
       "      <td>0.00</td>\n",
       "      <td>0.01</td>\n",
       "      <td>0.0</td>\n",
       "      <td>NaN</td>\n",
       "      <td>NaN</td>\n",
       "      <td>NaN</td>\n",
       "    </tr>\n",
       "    <tr>\n",
       "      <td>16713</td>\n",
       "      <td>Spirits &amp; Spells</td>\n",
       "      <td>GBA</td>\n",
       "      <td>2003.0</td>\n",
       "      <td>Platform</td>\n",
       "      <td>0.01</td>\n",
       "      <td>0.00</td>\n",
       "      <td>0.00</td>\n",
       "      <td>0.0</td>\n",
       "      <td>NaN</td>\n",
       "      <td>NaN</td>\n",
       "      <td>NaN</td>\n",
       "    </tr>\n",
       "    <tr>\n",
       "      <td>16714</td>\n",
       "      <td>Winning Post 8 2016</td>\n",
       "      <td>PSV</td>\n",
       "      <td>2016.0</td>\n",
       "      <td>Simulation</td>\n",
       "      <td>0.00</td>\n",
       "      <td>0.00</td>\n",
       "      <td>0.01</td>\n",
       "      <td>0.0</td>\n",
       "      <td>NaN</td>\n",
       "      <td>NaN</td>\n",
       "      <td>NaN</td>\n",
       "    </tr>\n",
       "  </tbody>\n",
       "</table>\n",
       "</div>"
      ],
      "text/plain": [
       "                                                    Name Platform  \\\n",
       "16695                                    Planet Monsters      GBA   \n",
       "16696                                             Breach       PC   \n",
       "16697                                   Bust-A-Move 3000       GC   \n",
       "16698                                   Mega Brain Boost       DS   \n",
       "16699                              The Longest 5 Minutes      PSV   \n",
       "16700                           Mezase!! Tsuri Master DS       DS   \n",
       "16701  Eiyuu Densetsu: Sora no Kiseki Material Collec...      PSP   \n",
       "16702                            STORM: Frontline Nation       PC   \n",
       "16703                                   Strawberry Nauts      PSV   \n",
       "16704                                           Plushees       DS   \n",
       "16705                                            15 Days       PC   \n",
       "16706                      Men in Black II: Alien Escape       GC   \n",
       "16707                                   Aiyoku no Eustia      PSV   \n",
       "16708                 Woody Woodpecker in Crazy Castle 5      GBA   \n",
       "16709   SCORE International Baja 1000: The Official Game      PS2   \n",
       "16710                      Samurai Warriors: Sanada Maru      PS3   \n",
       "16711                                   LMA Manager 2007     X360   \n",
       "16712                            Haitaka no Psychedelica      PSV   \n",
       "16713                                   Spirits & Spells      GBA   \n",
       "16714                                Winning Post 8 2016      PSV   \n",
       "\n",
       "       Year_of_Release         Genre  NA_sales  EU_sales  JP_sales  \\\n",
       "16695           2001.0        Action      0.01      0.00      0.00   \n",
       "16696           2011.0       Shooter      0.01      0.00      0.00   \n",
       "16697           2003.0        Puzzle      0.01      0.00      0.00   \n",
       "16698           2008.0        Puzzle      0.01      0.00      0.00   \n",
       "16699           2016.0        Action      0.00      0.00      0.01   \n",
       "16700           2009.0        Sports      0.00      0.00      0.01   \n",
       "16701           2007.0  Role-Playing      0.00      0.00      0.01   \n",
       "16702           2011.0      Strategy      0.00      0.01      0.00   \n",
       "16703           2016.0     Adventure      0.00      0.00      0.01   \n",
       "16704           2008.0    Simulation      0.01      0.00      0.00   \n",
       "16705           2009.0     Adventure      0.00      0.01      0.00   \n",
       "16706           2003.0       Shooter      0.01      0.00      0.00   \n",
       "16707           2014.0          Misc      0.00      0.00      0.01   \n",
       "16708           2002.0      Platform      0.01      0.00      0.00   \n",
       "16709           2008.0        Racing      0.00      0.00      0.00   \n",
       "16710           2016.0        Action      0.00      0.00      0.01   \n",
       "16711           2006.0        Sports      0.00      0.01      0.00   \n",
       "16712           2016.0     Adventure      0.00      0.00      0.01   \n",
       "16713           2003.0      Platform      0.01      0.00      0.00   \n",
       "16714           2016.0    Simulation      0.00      0.00      0.01   \n",
       "\n",
       "       Other_sales  Critic_Score User_Score Rating  \n",
       "16695          0.0          67.0        tbd      E  \n",
       "16696          0.0          61.0        5.8      T  \n",
       "16697          0.0          53.0        tbd      E  \n",
       "16698          0.0          48.0        tbd      E  \n",
       "16699          0.0           NaN        NaN    NaN  \n",
       "16700          0.0           NaN        NaN    NaN  \n",
       "16701          0.0           NaN        NaN    NaN  \n",
       "16702          0.0          60.0        7.2   E10+  \n",
       "16703          0.0           NaN        NaN    NaN  \n",
       "16704          0.0           NaN        tbd      E  \n",
       "16705          0.0          63.0        5.8    NaN  \n",
       "16706          0.0           NaN        tbd      T  \n",
       "16707          0.0           NaN        NaN    NaN  \n",
       "16708          0.0           NaN        NaN    NaN  \n",
       "16709          0.0           NaN        NaN    NaN  \n",
       "16710          0.0           NaN        NaN    NaN  \n",
       "16711          0.0           NaN        NaN    NaN  \n",
       "16712          0.0           NaN        NaN    NaN  \n",
       "16713          0.0           NaN        NaN    NaN  \n",
       "16714          0.0           NaN        NaN    NaN  "
      ]
     },
     "execution_count": 27,
     "metadata": {},
     "output_type": "execute_result"
    }
   ],
   "source": [
    "data.tail(20)"
   ]
  },
  {
   "cell_type": "code",
   "execution_count": 28,
   "metadata": {
    "scrolled": true
   },
   "outputs": [
    {
     "name": "stdout",
     "output_type": "stream",
     "text": [
      "<class 'pandas.core.frame.DataFrame'>\n",
      "RangeIndex: 16715 entries, 0 to 16714\n",
      "Data columns (total 11 columns):\n",
      "Name               16713 non-null object\n",
      "Platform           16715 non-null object\n",
      "Year_of_Release    16446 non-null float64\n",
      "Genre              16713 non-null object\n",
      "NA_sales           16715 non-null float64\n",
      "EU_sales           16715 non-null float64\n",
      "JP_sales           16715 non-null float64\n",
      "Other_sales        16715 non-null float64\n",
      "Critic_Score       8137 non-null float64\n",
      "User_Score         10014 non-null object\n",
      "Rating             9949 non-null object\n",
      "dtypes: float64(6), object(5)\n",
      "memory usage: 1.4+ MB\n"
     ]
    }
   ],
   "source": [
    "data.info()"
   ]
  },
  {
   "cell_type": "markdown",
   "metadata": {},
   "source": [
    "# Шаг 2. Предобработка данных:\n",
    "<a id=\"preprocessing\"></a>"
   ]
  },
  {
   "cell_type": "code",
   "execution_count": 29,
   "metadata": {},
   "outputs": [],
   "source": [
    "#Заменим названия столбцов (приведем к нижнему регистру)\n",
    "data.columns = data.columns.str.lower()"
   ]
  },
  {
   "cell_type": "code",
   "execution_count": 30,
   "metadata": {},
   "outputs": [
    {
     "data": {
      "text/plain": [
       "name                  2\n",
       "platform              0\n",
       "year_of_release     269\n",
       "genre                 2\n",
       "na_sales              0\n",
       "eu_sales              0\n",
       "jp_sales              0\n",
       "other_sales           0\n",
       "critic_score       8578\n",
       "user_score         6701\n",
       "rating             6766\n",
       "dtype: int64"
      ]
     },
     "metadata": {},
     "output_type": "display_data"
    }
   ],
   "source": [
    "#Посмотрим количество пропусков\n",
    "display(data.isna().sum())\n",
    "\n",
    "#Обработаем пропуски\n",
    "#Столбец ['name'] и ['genre']\n",
    "data = data.dropna(subset=['name', 'genre'])\n",
    "data = data.reset_index(drop=True)\n",
    "\n",
    "#Столбец ['year_of_release']\n",
    "mean = data.groupby('platform').agg({'year_of_release' : 'mean'})\n",
    "for element in data['platform'].unique():\n",
    "    data.loc[data['platform'] == element, 'year_of_release'] = data.loc[data['platform'] == element, 'year_of_release'].fillna(mean.loc[element, 'year_of_release'])\n",
    "\n",
    "#Столбец ['user_score']\n",
    "#Столбец ['user_score'] заменим tbd на NaN\n",
    "data.loc[data['user_score'] == 'tbd','user_score'] = np.nan   \n",
    "data['user_score'] = pd.to_numeric(data['user_score'], errors='coerce')\n",
    "data['user_score'] = data['user_score'].fillna(-1)\n",
    "\n",
    "#Столбец ['critic_score']\n",
    "data['critic_score'] = data['critic_score'].fillna(-1)\n",
    "\n",
    "#Столбец ['rating']\n",
    "data['rating'] = data['rating'].fillna('out_of_rating') "
   ]
  },
  {
   "cell_type": "code",
   "execution_count": 31,
   "metadata": {},
   "outputs": [],
   "source": [
    "#Суммарные продажи во всех регионах\n",
    "data['sum_sales'] = data['na_sales'] + data['eu_sales'] + data['jp_sales'] + data['other_sales']"
   ]
  },
  {
   "cell_type": "code",
   "execution_count": 33,
   "metadata": {},
   "outputs": [],
   "source": [
    "#Для удобства работы, сделаем у столбца тип int\n",
    "data['year_of_release'] = data['year_of_release'].astype('int')\n",
    "\n",
    "#Приведем к нижнему регистру значения всех столбцов\n",
    "data['name'] = data['name'].str.lower()\n",
    "data['platform'] = data['platform'].str.lower()\n",
    "data['genre'] = data['genre'].str.lower()\n",
    "data['rating'] = data['rating'].str.lower()    "
   ]
  },
  {
   "cell_type": "code",
   "execution_count": 34,
   "metadata": {},
   "outputs": [
    {
     "data": {
      "text/plain": [
       "name               0\n",
       "platform           0\n",
       "year_of_release    0\n",
       "genre              0\n",
       "na_sales           0\n",
       "eu_sales           0\n",
       "jp_sales           0\n",
       "other_sales        0\n",
       "critic_score       0\n",
       "user_score         0\n",
       "rating             0\n",
       "sum_sales          0\n",
       "dtype: int64"
      ]
     },
     "metadata": {},
     "output_type": "display_data"
    }
   ],
   "source": [
    "#Посмотри количество пропусков, теперь все верно  \n",
    "display(data.isna().sum())\n",
    "#Проверка на наличие дубликатов\n",
    "#display(data.duplicated().sum())"
   ]
  },
  {
   "cell_type": "markdown",
   "metadata": {},
   "source": [
    "Итоговые исследования и объяснения обработки значений:\n",
    "\n",
    "- Была замечена зависимость столбца [year_of_release] (год выпуска) от столбца [platform] (платформа) так как платформа примерно в один период времени (например: в одно пятилетие) работает и выпускает игры. Поэтому было решено посчитать среднее для каждой платформы подставить эти значения вместо NaN. \n",
    "- В столбце [user_score] присутствует аббревиатура tbd - от английского To Be Determined (будет определено) или To Be Decided (будет решено). Используется, если какая-то информация еще не определена или решение по вопросу не принято. Акроним служит для отметки неясностей или пропусков, которые надо заполнить, в информации требований. Т.е по сути дела это такое же NaN. Заменим tbd на NaN.\n",
    "- Значения NaN имеют столбцы [critic_score] — оценка критиков, [user_score] — оценка пользователей (максимум 10). Было бы неправильно заполнить рейтинг игры средним или медианой, так как оценки не всегда зависят от платформы производителя игры или от названия. Они бы могли бы зависить от пользователей от оценки, при возможности таковую поставить и т.д. Но с этими данными еще предстоит работа, поэтому чтобы иметь возможность их обрабатывать, поставим этим играм \"нереальные\" данные для возможности работы с этими строками по другим параметрам, рейтинг -1. \n",
    "- В столбце [name] и [genre] все по два пропуска, удалим их, чтобы не портили общей картины.\n",
    "- [rating] - рейтинг от организации ESRB (англ. Entertainment Software Rating Board). Здесь тоже самое, как с оценкой пользователей и критиков. Невозможно дать рейтинг игре, посчитав его как среднее рейтингов игр того же жанра. Поставим рейтинг \"out_of_rating\".\n",
    "- Для удобства работы с данными были переведены в другой тип столбцы [year_of_release] и [user_score].\n",
    "- Были приведены к нижнему регистру все данные столбцов.\n",
    "- Дубликатов нет."
   ]
  },
  {
   "cell_type": "code",
   "execution_count": 35,
   "metadata": {},
   "outputs": [
    {
     "name": "stdout",
     "output_type": "stream",
     "text": [
      "<class 'pandas.core.frame.DataFrame'>\n",
      "RangeIndex: 16713 entries, 0 to 16712\n",
      "Data columns (total 12 columns):\n",
      "name               16713 non-null object\n",
      "platform           16713 non-null object\n",
      "year_of_release    16713 non-null int64\n",
      "genre              16713 non-null object\n",
      "na_sales           16713 non-null float64\n",
      "eu_sales           16713 non-null float64\n",
      "jp_sales           16713 non-null float64\n",
      "other_sales        16713 non-null float64\n",
      "critic_score       16713 non-null float64\n",
      "user_score         16713 non-null float64\n",
      "rating             16713 non-null object\n",
      "sum_sales          16713 non-null float64\n",
      "dtypes: float64(7), int64(1), object(4)\n",
      "memory usage: 1.5+ MB\n"
     ]
    }
   ],
   "source": [
    "data.info()"
   ]
  },
  {
   "cell_type": "code",
   "execution_count": 36,
   "metadata": {},
   "outputs": [
    {
     "data": {
      "text/html": [
       "<div>\n",
       "<style scoped>\n",
       "    .dataframe tbody tr th:only-of-type {\n",
       "        vertical-align: middle;\n",
       "    }\n",
       "\n",
       "    .dataframe tbody tr th {\n",
       "        vertical-align: top;\n",
       "    }\n",
       "\n",
       "    .dataframe thead th {\n",
       "        text-align: right;\n",
       "    }\n",
       "</style>\n",
       "<table border=\"1\" class=\"dataframe\">\n",
       "  <thead>\n",
       "    <tr style=\"text-align: right;\">\n",
       "      <th></th>\n",
       "      <th>year_of_release</th>\n",
       "      <th>na_sales</th>\n",
       "      <th>eu_sales</th>\n",
       "      <th>jp_sales</th>\n",
       "      <th>other_sales</th>\n",
       "      <th>critic_score</th>\n",
       "      <th>user_score</th>\n",
       "      <th>sum_sales</th>\n",
       "    </tr>\n",
       "  </thead>\n",
       "  <tbody>\n",
       "    <tr>\n",
       "      <td>count</td>\n",
       "      <td>16713.000000</td>\n",
       "      <td>16713.000000</td>\n",
       "      <td>16713.000000</td>\n",
       "      <td>16713.000000</td>\n",
       "      <td>16713.000000</td>\n",
       "      <td>16713.000000</td>\n",
       "      <td>16713.000000</td>\n",
       "      <td>16713.000000</td>\n",
       "    </tr>\n",
       "    <tr>\n",
       "      <td>mean</td>\n",
       "      <td>2006.463053</td>\n",
       "      <td>0.263302</td>\n",
       "      <td>0.145045</td>\n",
       "      <td>0.077625</td>\n",
       "      <td>0.047343</td>\n",
       "      <td>33.064920</td>\n",
       "      <td>2.689888</td>\n",
       "      <td>0.533315</td>\n",
       "    </tr>\n",
       "    <tr>\n",
       "      <td>std</td>\n",
       "      <td>5.894007</td>\n",
       "      <td>0.813565</td>\n",
       "      <td>0.503359</td>\n",
       "      <td>0.308871</td>\n",
       "      <td>0.186742</td>\n",
       "      <td>36.299815</td>\n",
       "      <td>4.169887</td>\n",
       "      <td>1.548282</td>\n",
       "    </tr>\n",
       "    <tr>\n",
       "      <td>min</td>\n",
       "      <td>1980.000000</td>\n",
       "      <td>0.000000</td>\n",
       "      <td>0.000000</td>\n",
       "      <td>0.000000</td>\n",
       "      <td>0.000000</td>\n",
       "      <td>-1.000000</td>\n",
       "      <td>-1.000000</td>\n",
       "      <td>0.000000</td>\n",
       "    </tr>\n",
       "    <tr>\n",
       "      <td>25%</td>\n",
       "      <td>2003.000000</td>\n",
       "      <td>0.000000</td>\n",
       "      <td>0.000000</td>\n",
       "      <td>0.000000</td>\n",
       "      <td>0.000000</td>\n",
       "      <td>-1.000000</td>\n",
       "      <td>-1.000000</td>\n",
       "      <td>0.060000</td>\n",
       "    </tr>\n",
       "    <tr>\n",
       "      <td>50%</td>\n",
       "      <td>2007.000000</td>\n",
       "      <td>0.080000</td>\n",
       "      <td>0.020000</td>\n",
       "      <td>0.000000</td>\n",
       "      <td>0.010000</td>\n",
       "      <td>-1.000000</td>\n",
       "      <td>-1.000000</td>\n",
       "      <td>0.170000</td>\n",
       "    </tr>\n",
       "    <tr>\n",
       "      <td>75%</td>\n",
       "      <td>2010.000000</td>\n",
       "      <td>0.240000</td>\n",
       "      <td>0.110000</td>\n",
       "      <td>0.040000</td>\n",
       "      <td>0.030000</td>\n",
       "      <td>70.000000</td>\n",
       "      <td>7.300000</td>\n",
       "      <td>0.470000</td>\n",
       "    </tr>\n",
       "    <tr>\n",
       "      <td>max</td>\n",
       "      <td>2016.000000</td>\n",
       "      <td>41.360000</td>\n",
       "      <td>28.960000</td>\n",
       "      <td>10.220000</td>\n",
       "      <td>10.570000</td>\n",
       "      <td>98.000000</td>\n",
       "      <td>9.700000</td>\n",
       "      <td>82.540000</td>\n",
       "    </tr>\n",
       "  </tbody>\n",
       "</table>\n",
       "</div>"
      ],
      "text/plain": [
       "       year_of_release      na_sales      eu_sales      jp_sales  \\\n",
       "count     16713.000000  16713.000000  16713.000000  16713.000000   \n",
       "mean       2006.463053      0.263302      0.145045      0.077625   \n",
       "std           5.894007      0.813565      0.503359      0.308871   \n",
       "min        1980.000000      0.000000      0.000000      0.000000   \n",
       "25%        2003.000000      0.000000      0.000000      0.000000   \n",
       "50%        2007.000000      0.080000      0.020000      0.000000   \n",
       "75%        2010.000000      0.240000      0.110000      0.040000   \n",
       "max        2016.000000     41.360000     28.960000     10.220000   \n",
       "\n",
       "        other_sales  critic_score    user_score     sum_sales  \n",
       "count  16713.000000  16713.000000  16713.000000  16713.000000  \n",
       "mean       0.047343     33.064920      2.689888      0.533315  \n",
       "std        0.186742     36.299815      4.169887      1.548282  \n",
       "min        0.000000     -1.000000     -1.000000      0.000000  \n",
       "25%        0.000000     -1.000000     -1.000000      0.060000  \n",
       "50%        0.010000     -1.000000     -1.000000      0.170000  \n",
       "75%        0.030000     70.000000      7.300000      0.470000  \n",
       "max       10.570000     98.000000      9.700000     82.540000  "
      ]
     },
     "metadata": {},
     "output_type": "display_data"
    },
    {
     "data": {
      "text/plain": [
       "array(['e', 'out_of_rating', 'm', 't', 'e10+', 'k-a', 'ao', 'ec', 'rp'],\n",
       "      dtype=object)"
      ]
     },
     "metadata": {},
     "output_type": "display_data"
    }
   ],
   "source": [
    "display(data.describe())\n",
    "display(data['rating'].unique())"
   ]
  },
  {
   "cell_type": "markdown",
   "metadata": {},
   "source": [
    "# Шаг 3. Исследовательский анализ данных:\n",
    "<a id=\"e\"></a>"
   ]
  },
  {
   "cell_type": "markdown",
   "metadata": {},
   "source": [
    "#### Сколько игр выпускалось в разные годы. Важны ли данные за все периоды?\n",
    "<a id=\"q\"></a>"
   ]
  },
  {
   "cell_type": "code",
   "execution_count": 37,
   "metadata": {},
   "outputs": [
    {
     "data": {
      "text/plain": [
       "year_of_release\n",
       "1980       9\n",
       "1981      46\n",
       "1982      53\n",
       "1983      17\n",
       "1984      14\n",
       "1985      14\n",
       "1986      21\n",
       "1987      16\n",
       "1988      15\n",
       "1989      17\n",
       "1990      16\n",
       "1991      41\n",
       "1992      43\n",
       "1993      60\n",
       "1994     121\n",
       "1995     220\n",
       "1996     263\n",
       "1997     289\n",
       "1998     389\n",
       "1999     338\n",
       "2000     350\n",
       "2001     482\n",
       "2002     829\n",
       "2003     821\n",
       "2004     796\n",
       "2005     939\n",
       "2006    1006\n",
       "2007    1197\n",
       "2008    1524\n",
       "2009    1456\n",
       "2010    1280\n",
       "2011    1136\n",
       "2012     653\n",
       "2013     552\n",
       "2014     582\n",
       "2015     606\n",
       "2016     502\n",
       "Name: name, dtype: int64"
      ]
     },
     "metadata": {},
     "output_type": "display_data"
    },
    {
     "data": {
      "text/plain": [
       "Text(0.5, 1.0, 'Динамика игр в разные годы')"
      ]
     },
     "execution_count": 37,
     "metadata": {},
     "output_type": "execute_result"
    },
    {
     "data": {
      "image/png": "[encoded data removed]",
      "text/plain": [
       "<Figure size 504x288 with 1 Axes>"
      ]
     },
     "metadata": {
      "needs_background": "light"
     },
     "output_type": "display_data"
    }
   ],
   "source": [
    "#Сгруппируем данные\n",
    "#Сколько игр выпускалось в разные годы?\n",
    "games_in_different_years = data.groupby('year_of_release')['name'].count()\n",
    "display(games_in_different_years)\n",
    "games_in_different_years.plot(kind = 'bar', grid =  True, color = 'm', figsize = (7, 4))\n",
    "plt.title('Динамика игр в разные годы')"
   ]
  },
  {
   "cell_type": "markdown",
   "metadata": {},
   "source": [
    "Из полученных данных можно сделать вывод, что больше всего игр выпускалось в 2008 и 2009 году. До 1994 игр было мало, это первые игры, разработчики только начинали свое дело. Также в 2012 году виден резкий спад, это можно объяснить появлением мобильных платформ, которые пришли на замену компьютерным играм. Для прогнозов на будущий год нужны важны актуальные данные, поэтому необходимости в данных за все периоды нет, скорее всего лучше взять данные за последние 5 - 10 лет."
   ]
  },
  {
   "cell_type": "markdown",
   "metadata": {},
   "source": [
    "#### Как менялись продажи по платформам. Выбрать платформы с наибольшими суммарными продажами и построить распределение по годам. За какой характерный срок появляются новые и исчезают старые платформы?\n",
    "<a id=\"w\"></a>"
   ]
  },
  {
   "cell_type": "code",
   "execution_count": 38,
   "metadata": {},
   "outputs": [
    {
     "data": {
      "text/plain": [
       "Text(0.5, 1.0, 'Динамика продаж по годам по каждой платформе топ-5')"
      ]
     },
     "execution_count": 38,
     "metadata": {},
     "output_type": "execute_result"
    },
    {
     "data": {
      "image/png": "[encoded data removed]",
      "text/plain": [
       "<Figure size 432x288 with 1 Axes>"
      ]
     },
     "metadata": {
      "needs_background": "light"
     },
     "output_type": "display_data"
    },
    {
     "data": {
      "image/png": "[encoded data removed]",
      "text/plain": [
       "<Figure size 1008x504 with 1 Axes>"
      ]
     },
     "metadata": {
      "needs_background": "light"
     },
     "output_type": "display_data"
    }
   ],
   "source": [
    "#Как менялись продажи по платформам\n",
    "sales_by_platform = data.groupby('platform')['sum_sales'].sum().sort_values(ascending = False)\n",
    "sales_by_platform.plot(kind = 'bar', grid =  True, color = 'm', figsize = (6, 4))\n",
    "plt.title('Динамика продаж игр по платформам')\n",
    "#топ 5-платформ и распределение по годам\n",
    "platforms_by_year = data.query('(platform == \"ps2\" or platform == \"ds\" or platform == \"ps3\" or platform ==\"wii\" or platform == \"x360\") and year_of_release >= 2000')\n",
    "platforms_by_year.pivot_table(index= 'year_of_release', columns = 'platform', values = 'sum_sales', aggfunc = 'sum').plot(kind = 'bar', grid =  True ,figsize = (14,7))\n",
    "plt.title('Динамика продаж по годам по каждой платформе топ-5')"
   ]
  },
  {
   "cell_type": "markdown",
   "metadata": {},
   "source": [
    "Из полученных данных можно сделать вывод, что лидерами продаж являются платформы: PS2, DS, далее идут PS3, Wii, X360 и т.д. Было выделенно топ 5-платформ и построенно распределение по годам, начиная с 2000 года, потому что именно с этого момента появились они. У каждой платформы видно, что за 4-5 лет продажи могут возрасти и упасть. В основном платформы существуют 10 лет. в среднем каждые 4- 5 лет появляются новые и ичезают старые платформы."
   ]
  },
  {
   "cell_type": "markdown",
   "metadata": {},
   "source": [
    "#### Взять данные за соответствующий актуальный период. Актуальный период определить  в результате исследования предыдущих вопросов. Основной фактор — эти данные помогут построить прогноз на 2017 год.\n",
    "<a id=\"r\"></a>"
   ]
  },
  {
   "cell_type": "code",
   "execution_count": 40,
   "metadata": {},
   "outputs": [
    {
     "data": {
      "text/plain": [
       "Text(0.5, 1.0, 'Динамика продаж игр в актуальный период')"
      ]
     },
     "execution_count": 40,
     "metadata": {},
     "output_type": "execute_result"
    },
    {
     "data": {
      "image/png": "[encoded data removed]",
      "text/plain": [
       "<Figure size 1656x720 with 1 Axes>"
      ]
     },
     "metadata": {
      "needs_background": "light"
     },
     "output_type": "display_data"
    }
   ],
   "source": [
    "data_new = data.query('year_of_release > 2006')\n",
    "platforms_by_year_new_1 = data_new.pivot_table(index= 'year_of_release', columns = 'platform', values = 'sum_sales', aggfunc = 'sum')\n",
    "platforms_by_year_new_1.plot(kind = 'bar', grid =  True ,figsize = (23,10))\n",
    "plt.title('Динамика продаж игр в актуальный период')"
   ]
  },
  {
   "cell_type": "markdown",
   "metadata": {},
   "source": [
    "Актуальным периодом является период с 2005 по 2016 год, так как в эти года было выпущенно самое большое количество игр, и в года выпускали игры популярые платформ. Остальные года отброшены."
   ]
  },
  {
   "cell_type": "markdown",
   "metadata": {},
   "source": [
    "#### Какие платформы лидируют по продажам, растут или падают? Выберите несколько потенциально прибыльных платформ\n",
    "<a id=\"t\"></a>"
   ]
  },
  {
   "cell_type": "markdown",
   "metadata": {},
   "source": [
    "Лидируют по продажам следующие платформы:\n",
    "- wii\n",
    "- x360\n",
    "- ps3\n",
    "\n",
    "На конец 2016 года лидируют:\n",
    "- psv\n",
    "- xone\n",
    "- ps4\n",
    "\n",
    "Видно, что количество продаж игр, выпущенных на каждую из этих платформ, снижается. Таким образом, можно сказать, что весь рынок игр падает."
   ]
  },
  {
   "cell_type": "markdown",
   "metadata": {},
   "source": [
    "#### Построить график «ящик с усами» по глобальным продажам игр в разбивке по платформам. Описать результат.\n",
    "<a id=\"y\"></a>"
   ]
  },
  {
   "cell_type": "code",
   "execution_count": 41,
   "metadata": {},
   "outputs": [
    {
     "data": {
      "text/plain": [
       "Text(0.5, 1.0, 'График по глобальным продажа в разбивке по платформам (топ-3)')"
      ]
     },
     "execution_count": 41,
     "metadata": {},
     "output_type": "execute_result"
    },
    {
     "data": {
      "image/png": "[encoded data removed]",
      "text/plain": [
       "<Figure size 432x288 with 1 Axes>"
      ]
     },
     "metadata": {
      "needs_background": "light"
     },
     "output_type": "display_data"
    }
   ],
   "source": [
    "data_new  = data_new.query('platform == \"wii\" or platform == \"x360\" or platform == \"ps3\"')\n",
    "platforms_by_year_new_1 = data_new.pivot_table(index= 'year_of_release', columns = 'platform', values = 'sum_sales')\n",
    "platforms_by_year_new_1.boxplot()\n",
    "plt.title('График по глобальным продажа в разбивке по платформам (топ-3)')"
   ]
  },
  {
   "cell_type": "markdown",
   "metadata": {},
   "source": [
    "По полученным данным можно сделать вывод: медиана по топовым платформам варьируется от 0,6 до 0,7 млн долларов прибыли за игру.\n",
    "Верхняя граница предела, за которыми уже определяются аномалии, у X360 - на уровне 1,2 млн долларов, wii - 0,8, ps3 - 0,9"
   ]
  },
  {
   "cell_type": "markdown",
   "metadata": {},
   "source": [
    "#### Посмотрите, как влияют на продажи внутри одной популярной платформы отзывы пользователей и критиков. Постройте диаграмму рассеяния и посчитайте корреляцию между отзывами и продажами. Сформулируйте выводы.\n",
    "<a id=\"u\"></a>"
   ]
  },
  {
   "cell_type": "code",
   "execution_count": 42,
   "metadata": {},
   "outputs": [
    {
     "data": {
      "text/plain": [
       "<matplotlib.axes._subplots.AxesSubplot at 0x7f107b5108d0>"
      ]
     },
     "execution_count": 42,
     "metadata": {},
     "output_type": "execute_result"
    },
    {
     "data": {
      "image/png": "[encoded data removed]",
      "text/plain": [
       "<Figure size 432x288 with 1 Axes>"
      ]
     },
     "metadata": {
      "needs_background": "light"
     },
     "output_type": "display_data"
    },
    {
     "data": {
      "image/png": "[encoded data removed]",
      "text/plain": [
       "<Figure size 432x288 with 1 Axes>"
      ]
     },
     "metadata": {
      "needs_background": "light"
     },
     "output_type": "display_data"
    }
   ],
   "source": [
    "new = data.query('platform == \"wii\" and user_score > 0 and critic_score > 0 and year_of_release > 2006')\n",
    "new_1  = new.pivot_table(index = 'critic_score', columns = 'platform', values = 'sum_sales', aggfunc = 'sum')\n",
    "new_2 = new.pivot_table(index = 'user_score', columns = 'platform', values = 'sum_sales', aggfunc = 'sum')\n",
    "new_1.plot()\n",
    "new_2.plot()"
   ]
  },
  {
   "cell_type": "code",
   "execution_count": 43,
   "metadata": {},
   "outputs": [
    {
     "data": {
      "text/html": [
       "<div>\n",
       "<style scoped>\n",
       "    .dataframe tbody tr th:only-of-type {\n",
       "        vertical-align: middle;\n",
       "    }\n",
       "\n",
       "    .dataframe tbody tr th {\n",
       "        vertical-align: top;\n",
       "    }\n",
       "\n",
       "    .dataframe thead th {\n",
       "        text-align: right;\n",
       "    }\n",
       "</style>\n",
       "<table border=\"1\" class=\"dataframe\">\n",
       "  <thead>\n",
       "    <tr style=\"text-align: right;\">\n",
       "      <th></th>\n",
       "      <th>year_of_release</th>\n",
       "      <th>na_sales</th>\n",
       "      <th>eu_sales</th>\n",
       "      <th>jp_sales</th>\n",
       "      <th>other_sales</th>\n",
       "      <th>critic_score</th>\n",
       "      <th>user_score</th>\n",
       "      <th>sum_sales</th>\n",
       "    </tr>\n",
       "  </thead>\n",
       "  <tbody>\n",
       "    <tr>\n",
       "      <td>year_of_release</td>\n",
       "      <td>1.000000</td>\n",
       "      <td>0.012433</td>\n",
       "      <td>0.023281</td>\n",
       "      <td>0.020440</td>\n",
       "      <td>0.009407</td>\n",
       "      <td>0.213112</td>\n",
       "      <td>0.078220</td>\n",
       "      <td>0.017218</td>\n",
       "    </tr>\n",
       "    <tr>\n",
       "      <td>na_sales</td>\n",
       "      <td>0.012433</td>\n",
       "      <td>1.000000</td>\n",
       "      <td>0.946024</td>\n",
       "      <td>0.847438</td>\n",
       "      <td>0.977937</td>\n",
       "      <td>0.238655</td>\n",
       "      <td>0.139065</td>\n",
       "      <td>0.986813</td>\n",
       "    </tr>\n",
       "    <tr>\n",
       "      <td>eu_sales</td>\n",
       "      <td>0.023281</td>\n",
       "      <td>0.946024</td>\n",
       "      <td>1.000000</td>\n",
       "      <td>0.850570</td>\n",
       "      <td>0.986749</td>\n",
       "      <td>0.208709</td>\n",
       "      <td>0.128141</td>\n",
       "      <td>0.980710</td>\n",
       "    </tr>\n",
       "    <tr>\n",
       "      <td>jp_sales</td>\n",
       "      <td>0.020440</td>\n",
       "      <td>0.847438</td>\n",
       "      <td>0.850570</td>\n",
       "      <td>1.000000</td>\n",
       "      <td>0.866468</td>\n",
       "      <td>0.201498</td>\n",
       "      <td>0.131270</td>\n",
       "      <td>0.894091</td>\n",
       "    </tr>\n",
       "    <tr>\n",
       "      <td>other_sales</td>\n",
       "      <td>0.009407</td>\n",
       "      <td>0.977937</td>\n",
       "      <td>0.986749</td>\n",
       "      <td>0.866468</td>\n",
       "      <td>1.000000</td>\n",
       "      <td>0.220084</td>\n",
       "      <td>0.131910</td>\n",
       "      <td>0.994587</td>\n",
       "    </tr>\n",
       "    <tr>\n",
       "      <td>critic_score</td>\n",
       "      <td>0.213112</td>\n",
       "      <td>0.238655</td>\n",
       "      <td>0.208709</td>\n",
       "      <td>0.201498</td>\n",
       "      <td>0.220084</td>\n",
       "      <td>1.000000</td>\n",
       "      <td>0.678551</td>\n",
       "      <td>0.228529</td>\n",
       "    </tr>\n",
       "    <tr>\n",
       "      <td>user_score</td>\n",
       "      <td>0.078220</td>\n",
       "      <td>0.139065</td>\n",
       "      <td>0.128141</td>\n",
       "      <td>0.131270</td>\n",
       "      <td>0.131910</td>\n",
       "      <td>0.678551</td>\n",
       "      <td>1.000000</td>\n",
       "      <td>0.137545</td>\n",
       "    </tr>\n",
       "    <tr>\n",
       "      <td>sum_sales</td>\n",
       "      <td>0.017218</td>\n",
       "      <td>0.986813</td>\n",
       "      <td>0.980710</td>\n",
       "      <td>0.894091</td>\n",
       "      <td>0.994587</td>\n",
       "      <td>0.228529</td>\n",
       "      <td>0.137545</td>\n",
       "      <td>1.000000</td>\n",
       "    </tr>\n",
       "  </tbody>\n",
       "</table>\n",
       "</div>"
      ],
      "text/plain": [
       "                 year_of_release  na_sales  eu_sales  jp_sales  other_sales  \\\n",
       "year_of_release         1.000000  0.012433  0.023281  0.020440     0.009407   \n",
       "na_sales                0.012433  1.000000  0.946024  0.847438     0.977937   \n",
       "eu_sales                0.023281  0.946024  1.000000  0.850570     0.986749   \n",
       "jp_sales                0.020440  0.847438  0.850570  1.000000     0.866468   \n",
       "other_sales             0.009407  0.977937  0.986749  0.866468     1.000000   \n",
       "critic_score            0.213112  0.238655  0.208709  0.201498     0.220084   \n",
       "user_score              0.078220  0.139065  0.128141  0.131270     0.131910   \n",
       "sum_sales               0.017218  0.986813  0.980710  0.894091     0.994587   \n",
       "\n",
       "                 critic_score  user_score  sum_sales  \n",
       "year_of_release      0.213112    0.078220   0.017218  \n",
       "na_sales             0.238655    0.139065   0.986813  \n",
       "eu_sales             0.208709    0.128141   0.980710  \n",
       "jp_sales             0.201498    0.131270   0.894091  \n",
       "other_sales          0.220084    0.131910   0.994587  \n",
       "critic_score         1.000000    0.678551   0.228529  \n",
       "user_score           0.678551    1.000000   0.137545  \n",
       "sum_sales            0.228529    0.137545   1.000000  "
      ]
     },
     "metadata": {},
     "output_type": "display_data"
    },
    {
     "data": {
      "text/html": [
       "<div>\n",
       "<style scoped>\n",
       "    .dataframe tbody tr th:only-of-type {\n",
       "        vertical-align: middle;\n",
       "    }\n",
       "\n",
       "    .dataframe tbody tr th {\n",
       "        vertical-align: top;\n",
       "    }\n",
       "\n",
       "    .dataframe thead th {\n",
       "        text-align: right;\n",
       "    }\n",
       "</style>\n",
       "<table border=\"1\" class=\"dataframe\">\n",
       "  <thead>\n",
       "    <tr style=\"text-align: right;\">\n",
       "      <th></th>\n",
       "      <th>year_of_release</th>\n",
       "      <th>na_sales</th>\n",
       "      <th>eu_sales</th>\n",
       "      <th>jp_sales</th>\n",
       "      <th>other_sales</th>\n",
       "      <th>critic_score</th>\n",
       "      <th>user_score</th>\n",
       "      <th>sum_sales</th>\n",
       "    </tr>\n",
       "  </thead>\n",
       "  <tbody>\n",
       "    <tr>\n",
       "      <td>year_of_release</td>\n",
       "      <td>1.000000</td>\n",
       "      <td>0.012433</td>\n",
       "      <td>0.023281</td>\n",
       "      <td>0.020440</td>\n",
       "      <td>0.009407</td>\n",
       "      <td>0.213112</td>\n",
       "      <td>0.078220</td>\n",
       "      <td>0.017218</td>\n",
       "    </tr>\n",
       "    <tr>\n",
       "      <td>na_sales</td>\n",
       "      <td>0.012433</td>\n",
       "      <td>1.000000</td>\n",
       "      <td>0.946024</td>\n",
       "      <td>0.847438</td>\n",
       "      <td>0.977937</td>\n",
       "      <td>0.238655</td>\n",
       "      <td>0.139065</td>\n",
       "      <td>0.986813</td>\n",
       "    </tr>\n",
       "    <tr>\n",
       "      <td>eu_sales</td>\n",
       "      <td>0.023281</td>\n",
       "      <td>0.946024</td>\n",
       "      <td>1.000000</td>\n",
       "      <td>0.850570</td>\n",
       "      <td>0.986749</td>\n",
       "      <td>0.208709</td>\n",
       "      <td>0.128141</td>\n",
       "      <td>0.980710</td>\n",
       "    </tr>\n",
       "    <tr>\n",
       "      <td>jp_sales</td>\n",
       "      <td>0.020440</td>\n",
       "      <td>0.847438</td>\n",
       "      <td>0.850570</td>\n",
       "      <td>1.000000</td>\n",
       "      <td>0.866468</td>\n",
       "      <td>0.201498</td>\n",
       "      <td>0.131270</td>\n",
       "      <td>0.894091</td>\n",
       "    </tr>\n",
       "    <tr>\n",
       "      <td>other_sales</td>\n",
       "      <td>0.009407</td>\n",
       "      <td>0.977937</td>\n",
       "      <td>0.986749</td>\n",
       "      <td>0.866468</td>\n",
       "      <td>1.000000</td>\n",
       "      <td>0.220084</td>\n",
       "      <td>0.131910</td>\n",
       "      <td>0.994587</td>\n",
       "    </tr>\n",
       "    <tr>\n",
       "      <td>critic_score</td>\n",
       "      <td>0.213112</td>\n",
       "      <td>0.238655</td>\n",
       "      <td>0.208709</td>\n",
       "      <td>0.201498</td>\n",
       "      <td>0.220084</td>\n",
       "      <td>1.000000</td>\n",
       "      <td>0.678551</td>\n",
       "      <td>0.228529</td>\n",
       "    </tr>\n",
       "    <tr>\n",
       "      <td>user_score</td>\n",
       "      <td>0.078220</td>\n",
       "      <td>0.139065</td>\n",
       "      <td>0.128141</td>\n",
       "      <td>0.131270</td>\n",
       "      <td>0.131910</td>\n",
       "      <td>0.678551</td>\n",
       "      <td>1.000000</td>\n",
       "      <td>0.137545</td>\n",
       "    </tr>\n",
       "    <tr>\n",
       "      <td>sum_sales</td>\n",
       "      <td>0.017218</td>\n",
       "      <td>0.986813</td>\n",
       "      <td>0.980710</td>\n",
       "      <td>0.894091</td>\n",
       "      <td>0.994587</td>\n",
       "      <td>0.228529</td>\n",
       "      <td>0.137545</td>\n",
       "      <td>1.000000</td>\n",
       "    </tr>\n",
       "  </tbody>\n",
       "</table>\n",
       "</div>"
      ],
      "text/plain": [
       "                 year_of_release  na_sales  eu_sales  jp_sales  other_sales  \\\n",
       "year_of_release         1.000000  0.012433  0.023281  0.020440     0.009407   \n",
       "na_sales                0.012433  1.000000  0.946024  0.847438     0.977937   \n",
       "eu_sales                0.023281  0.946024  1.000000  0.850570     0.986749   \n",
       "jp_sales                0.020440  0.847438  0.850570  1.000000     0.866468   \n",
       "other_sales             0.009407  0.977937  0.986749  0.866468     1.000000   \n",
       "critic_score            0.213112  0.238655  0.208709  0.201498     0.220084   \n",
       "user_score              0.078220  0.139065  0.128141  0.131270     0.131910   \n",
       "sum_sales               0.017218  0.986813  0.980710  0.894091     0.994587   \n",
       "\n",
       "                 critic_score  user_score  sum_sales  \n",
       "year_of_release      0.213112    0.078220   0.017218  \n",
       "na_sales             0.238655    0.139065   0.986813  \n",
       "eu_sales             0.208709    0.128141   0.980710  \n",
       "jp_sales             0.201498    0.131270   0.894091  \n",
       "other_sales          0.220084    0.131910   0.994587  \n",
       "critic_score         1.000000    0.678551   0.228529  \n",
       "user_score           0.678551    1.000000   0.137545  \n",
       "sum_sales            0.228529    0.137545   1.000000  "
      ]
     },
     "metadata": {},
     "output_type": "display_data"
    },
    {
     "data": {
      "image/png": "[encoded data removed]",
      "text/plain": [
       "<Figure size 720x432 with 1 Axes>"
      ]
     },
     "metadata": {
      "needs_background": "light"
     },
     "output_type": "display_data"
    },
    {
     "data": {
      "image/png": "[encoded data removed]",
      "text/plain": [
       "<Figure size 720x432 with 1 Axes>"
      ]
     },
     "metadata": {
      "needs_background": "light"
     },
     "output_type": "display_data"
    }
   ],
   "source": [
    "for_diagram = new[(new['platform'] == 'wii') & (new['critic_score'] > 0)].copy()\n",
    "for_diagram.plot(kind='scatter', y='sum_sales', x='critic_score',  ec='black', figsize=(10,6))\n",
    "display(for_diagram.corr())\n",
    "for_diagram = new[(new['platform'] == 'wii') & (new['user_score'] > 0)].copy()\n",
    "for_diagram.plot(kind='scatter', x='user_score', y='sum_sales', ec='black', figsize=(10,6))\n",
    "display(for_diagram.corr())"
   ]
  },
  {
   "cell_type": "markdown",
   "metadata": {},
   "source": [
    "Из графиков видно, что игры имеющие высокую оценку критиков, примерно такие как 80, и пользователей, 7.9 - 9, продаются чаще.  И оценка пользователей, и критиков влияют на стоимость. Чем больше людям нравится игра, тем больше денег она приносит разработчику. "
   ]
  },
  {
   "cell_type": "markdown",
   "metadata": {},
   "source": [
    "#### Соотнесите выводы с продажами игр на других платформах.\n",
    "<a id=\"i\"></a>"
   ]
  },
  {
   "cell_type": "code",
   "execution_count": 44,
   "metadata": {},
   "outputs": [
    {
     "data": {
      "text/plain": [
       "<matplotlib.axes._subplots.AxesSubplot at 0x7f107b3dac90>"
      ]
     },
     "execution_count": 44,
     "metadata": {},
     "output_type": "execute_result"
    },
    {
     "data": {
      "image/png": "[encoded data removed]",
      "text/plain": [
       "<Figure size 1080x504 with 1 Axes>"
      ]
     },
     "metadata": {
      "needs_background": "light"
     },
     "output_type": "display_data"
    },
    {
     "data": {
      "image/png": "[encoded data removed]",
      "text/plain": [
       "<Figure size 1080x504 with 1 Axes>"
      ]
     },
     "metadata": {
      "needs_background": "light"
     },
     "output_type": "display_data"
    }
   ],
   "source": [
    "c = data.query('year_of_release > 2006 and user_score > 0 and critic_score > 0')\n",
    "a = c.pivot_table(index = 'critic_score', columns = 'platform', values = 'sum_sales', aggfunc = 'sum')\n",
    "b = c.pivot_table(index = 'user_score', columns = 'platform', values = 'sum_sales', aggfunc = 'sum')\n",
    "a.plot(figsize = (15,7))\n",
    "b.plot(figsize = (15,7))\n"
   ]
  },
  {
   "cell_type": "markdown",
   "metadata": {},
   "source": [
    "На других платформах все точно также"
   ]
  },
  {
   "cell_type": "markdown",
   "metadata": {},
   "source": [
    "#### Посмотрите на общее распределение игр по жанрам. Что можно сказать о самых прибыльных жанрах? Выделяются ли жанры с высокими и низкими продажами?\n",
    "<a id=\"o\"></a>"
   ]
  },
  {
   "cell_type": "code",
   "execution_count": 45,
   "metadata": {},
   "outputs": [
    {
     "data": {
      "text/html": [
       "<div>\n",
       "<style scoped>\n",
       "    .dataframe tbody tr th:only-of-type {\n",
       "        vertical-align: middle;\n",
       "    }\n",
       "\n",
       "    .dataframe tbody tr th {\n",
       "        vertical-align: top;\n",
       "    }\n",
       "\n",
       "    .dataframe thead th {\n",
       "        text-align: right;\n",
       "    }\n",
       "</style>\n",
       "<table border=\"1\" class=\"dataframe\">\n",
       "  <thead>\n",
       "    <tr style=\"text-align: right;\">\n",
       "      <th></th>\n",
       "      <th>count</th>\n",
       "      <th>sum</th>\n",
       "      <th>min</th>\n",
       "      <th>max</th>\n",
       "    </tr>\n",
       "    <tr>\n",
       "      <th>genre</th>\n",
       "      <th></th>\n",
       "      <th></th>\n",
       "      <th></th>\n",
       "      <th></th>\n",
       "    </tr>\n",
       "  </thead>\n",
       "  <tbody>\n",
       "    <tr>\n",
       "      <td>action</td>\n",
       "      <td>2236</td>\n",
       "      <td>1069.56</td>\n",
       "      <td>0.01</td>\n",
       "      <td>21.05</td>\n",
       "    </tr>\n",
       "    <tr>\n",
       "      <td>misc</td>\n",
       "      <td>1168</td>\n",
       "      <td>496.45</td>\n",
       "      <td>0.01</td>\n",
       "      <td>21.82</td>\n",
       "    </tr>\n",
       "    <tr>\n",
       "      <td>sports</td>\n",
       "      <td>1145</td>\n",
       "      <td>664.33</td>\n",
       "      <td>0.00</td>\n",
       "      <td>32.77</td>\n",
       "    </tr>\n",
       "    <tr>\n",
       "      <td>adventure</td>\n",
       "      <td>958</td>\n",
       "      <td>130.35</td>\n",
       "      <td>0.01</td>\n",
       "      <td>5.55</td>\n",
       "    </tr>\n",
       "    <tr>\n",
       "      <td>role-playing</td>\n",
       "      <td>896</td>\n",
       "      <td>466.12</td>\n",
       "      <td>0.01</td>\n",
       "      <td>15.13</td>\n",
       "    </tr>\n",
       "    <tr>\n",
       "      <td>shooter</td>\n",
       "      <td>683</td>\n",
       "      <td>684.68</td>\n",
       "      <td>0.01</td>\n",
       "      <td>14.73</td>\n",
       "    </tr>\n",
       "    <tr>\n",
       "      <td>simulation</td>\n",
       "      <td>564</td>\n",
       "      <td>200.75</td>\n",
       "      <td>0.01</td>\n",
       "      <td>9.17</td>\n",
       "    </tr>\n",
       "    <tr>\n",
       "      <td>racing</td>\n",
       "      <td>499</td>\n",
       "      <td>267.26</td>\n",
       "      <td>0.00</td>\n",
       "      <td>35.52</td>\n",
       "    </tr>\n",
       "    <tr>\n",
       "      <td>fighting</td>\n",
       "      <td>361</td>\n",
       "      <td>166.26</td>\n",
       "      <td>0.01</td>\n",
       "      <td>12.84</td>\n",
       "    </tr>\n",
       "    <tr>\n",
       "      <td>strategy</td>\n",
       "      <td>360</td>\n",
       "      <td>70.54</td>\n",
       "      <td>0.01</td>\n",
       "      <td>4.83</td>\n",
       "    </tr>\n",
       "    <tr>\n",
       "      <td>puzzle</td>\n",
       "      <td>328</td>\n",
       "      <td>79.89</td>\n",
       "      <td>0.01</td>\n",
       "      <td>5.19</td>\n",
       "    </tr>\n",
       "    <tr>\n",
       "      <td>platform</td>\n",
       "      <td>290</td>\n",
       "      <td>231.01</td>\n",
       "      <td>0.01</td>\n",
       "      <td>28.32</td>\n",
       "    </tr>\n",
       "  </tbody>\n",
       "</table>\n",
       "</div>"
      ],
      "text/plain": [
       "              count      sum   min    max\n",
       "genre                                    \n",
       "action         2236  1069.56  0.01  21.05\n",
       "misc           1168   496.45  0.01  21.82\n",
       "sports         1145   664.33  0.00  32.77\n",
       "adventure       958   130.35  0.01   5.55\n",
       "role-playing    896   466.12  0.01  15.13\n",
       "shooter         683   684.68  0.01  14.73\n",
       "simulation      564   200.75  0.01   9.17\n",
       "racing          499   267.26  0.00  35.52\n",
       "fighting        361   166.26  0.01  12.84\n",
       "strategy        360    70.54  0.01   4.83\n",
       "puzzle          328    79.89  0.01   5.19\n",
       "platform        290   231.01  0.01  28.32"
      ]
     },
     "metadata": {},
     "output_type": "display_data"
    },
    {
     "data": {
      "text/html": [
       "<div>\n",
       "<style scoped>\n",
       "    .dataframe tbody tr th:only-of-type {\n",
       "        vertical-align: middle;\n",
       "    }\n",
       "\n",
       "    .dataframe tbody tr th {\n",
       "        vertical-align: top;\n",
       "    }\n",
       "\n",
       "    .dataframe thead th {\n",
       "        text-align: right;\n",
       "    }\n",
       "</style>\n",
       "<table border=\"1\" class=\"dataframe\">\n",
       "  <thead>\n",
       "    <tr style=\"text-align: right;\">\n",
       "      <th></th>\n",
       "      <th>count</th>\n",
       "      <th>sum</th>\n",
       "      <th>min</th>\n",
       "      <th>max</th>\n",
       "    </tr>\n",
       "    <tr>\n",
       "      <th>genre</th>\n",
       "      <th></th>\n",
       "      <th></th>\n",
       "      <th></th>\n",
       "      <th></th>\n",
       "    </tr>\n",
       "  </thead>\n",
       "  <tbody>\n",
       "    <tr>\n",
       "      <td>action</td>\n",
       "      <td>2236</td>\n",
       "      <td>1069.56</td>\n",
       "      <td>0.01</td>\n",
       "      <td>21.05</td>\n",
       "    </tr>\n",
       "    <tr>\n",
       "      <td>shooter</td>\n",
       "      <td>683</td>\n",
       "      <td>684.68</td>\n",
       "      <td>0.01</td>\n",
       "      <td>14.73</td>\n",
       "    </tr>\n",
       "    <tr>\n",
       "      <td>sports</td>\n",
       "      <td>1145</td>\n",
       "      <td>664.33</td>\n",
       "      <td>0.00</td>\n",
       "      <td>32.77</td>\n",
       "    </tr>\n",
       "    <tr>\n",
       "      <td>misc</td>\n",
       "      <td>1168</td>\n",
       "      <td>496.45</td>\n",
       "      <td>0.01</td>\n",
       "      <td>21.82</td>\n",
       "    </tr>\n",
       "    <tr>\n",
       "      <td>role-playing</td>\n",
       "      <td>896</td>\n",
       "      <td>466.12</td>\n",
       "      <td>0.01</td>\n",
       "      <td>15.13</td>\n",
       "    </tr>\n",
       "    <tr>\n",
       "      <td>racing</td>\n",
       "      <td>499</td>\n",
       "      <td>267.26</td>\n",
       "      <td>0.00</td>\n",
       "      <td>35.52</td>\n",
       "    </tr>\n",
       "    <tr>\n",
       "      <td>platform</td>\n",
       "      <td>290</td>\n",
       "      <td>231.01</td>\n",
       "      <td>0.01</td>\n",
       "      <td>28.32</td>\n",
       "    </tr>\n",
       "    <tr>\n",
       "      <td>simulation</td>\n",
       "      <td>564</td>\n",
       "      <td>200.75</td>\n",
       "      <td>0.01</td>\n",
       "      <td>9.17</td>\n",
       "    </tr>\n",
       "    <tr>\n",
       "      <td>fighting</td>\n",
       "      <td>361</td>\n",
       "      <td>166.26</td>\n",
       "      <td>0.01</td>\n",
       "      <td>12.84</td>\n",
       "    </tr>\n",
       "    <tr>\n",
       "      <td>adventure</td>\n",
       "      <td>958</td>\n",
       "      <td>130.35</td>\n",
       "      <td>0.01</td>\n",
       "      <td>5.55</td>\n",
       "    </tr>\n",
       "    <tr>\n",
       "      <td>puzzle</td>\n",
       "      <td>328</td>\n",
       "      <td>79.89</td>\n",
       "      <td>0.01</td>\n",
       "      <td>5.19</td>\n",
       "    </tr>\n",
       "    <tr>\n",
       "      <td>strategy</td>\n",
       "      <td>360</td>\n",
       "      <td>70.54</td>\n",
       "      <td>0.01</td>\n",
       "      <td>4.83</td>\n",
       "    </tr>\n",
       "  </tbody>\n",
       "</table>\n",
       "</div>"
      ],
      "text/plain": [
       "              count      sum   min    max\n",
       "genre                                    \n",
       "action         2236  1069.56  0.01  21.05\n",
       "shooter         683   684.68  0.01  14.73\n",
       "sports         1145   664.33  0.00  32.77\n",
       "misc           1168   496.45  0.01  21.82\n",
       "role-playing    896   466.12  0.01  15.13\n",
       "racing          499   267.26  0.00  35.52\n",
       "platform        290   231.01  0.01  28.32\n",
       "simulation      564   200.75  0.01   9.17\n",
       "fighting        361   166.26  0.01  12.84\n",
       "adventure       958   130.35  0.01   5.55\n",
       "puzzle          328    79.89  0.01   5.19\n",
       "strategy        360    70.54  0.01   4.83"
      ]
     },
     "metadata": {},
     "output_type": "display_data"
    }
   ],
   "source": [
    "data_new = data.query('year_of_release > 2006')\n",
    "distribution_by_genre = data_new.groupby('genre').agg({'sum_sales':['count', 'sum', 'min', 'max']})\n",
    "distribution_by_genre.columns = ['count', 'sum', 'min', 'max']\n",
    "display(distribution_by_genre.sort_values('count', ascending = False))\n",
    "display(distribution_by_genre.sort_values('sum', ascending = False))"
   ]
  },
  {
   "cell_type": "markdown",
   "metadata": {},
   "source": [
    "По данной таблице можно сделать выводы:\n",
    "- самыми прибыльными жанрами являются: action, sports, shooter (тройка лучших)\n",
    "- самые высокие продажи у жанров: action, sports, misc\n",
    "- самые низкие продажи у жанров strategy, puzzle, platform\t\n",
    "\n",
    "(но это все лучше рассчитывать отталкиваясь еще от данных, которые показывают сколько еще сам разработчик затратил на данные игры)\n",
    "\n"
   ]
  },
  {
   "cell_type": "markdown",
   "metadata": {},
   "source": [
    "# Шаг 4 Cоставление портрета пользователя каждого региона:\n",
    "<a id=\"f\"></a>"
   ]
  },
  {
   "cell_type": "markdown",
   "metadata": {},
   "source": [
    "Определите для пользователя каждого региона (NA, EU, JP):\n",
    "- Самые популярные платформы (топ-5). Опишите различия в долях продаж.\n",
    "- Самые популярные жанры (топ-5). Поясните разницу.\n",
    "- Влияет ли рейтинг ESRB на продажи в отдельном регионе?"
   ]
  },
  {
   "cell_type": "code",
   "execution_count": 46,
   "metadata": {},
   "outputs": [
    {
     "data": {
      "image/png": "[encoded data removed]",
      "text/plain": [
       "<Figure size 1800x432 with 3 Axes>"
      ]
     },
     "metadata": {
      "needs_background": "light"
     },
     "output_type": "display_data"
    }
   ],
   "source": [
    "data_new = data.query('year_of_release > 2006')\n",
    "def top_5(groupby, region_sales, ax):\n",
    "    pivot = data_new.groupby(groupby).agg({region_sales: 'sum'}).sort_values(by=region_sales, ascending=False)[:5]\n",
    "    title_dict = {'na_sales': 'North America Sales', 'eu_sales': 'Europe Sales', 'jp_sales': 'Japan Sales'}\n",
    "    plot = pivot.plot(kind='bar', ec='black', title=title_dict[region_sales], ax=axes[ax], fontsize=18, color = 'm')\n",
    "    \n",
    "fig, axes = plt.subplots(1, 3, figsize=(25,6))\n",
    "top_5('platform', 'na_sales', 0)\n",
    "top_5('platform', 'eu_sales', 1)\n",
    "top_5('platform', 'jp_sales', 2)\n"
   ]
  },
  {
   "cell_type": "markdown",
   "metadata": {},
   "source": [
    "По графикам можно сделать следующие выводы:\n",
    "\n",
    "В Северной Америке имеют большую популярность приставки  X360 и Wii. Немного отстает PS3. Топ-4 и топ-5 - DS B PS4 соответственно.\n",
    "В Европе имеют большую популярность приставки PS3. За ними X360, Wii и PS4 и DS.\n",
    "В Японии всё наоборот. Лидер - DS. За ними американские 3DS,PS3, PSP, Wii."
   ]
  },
  {
   "cell_type": "code",
   "execution_count": 47,
   "metadata": {},
   "outputs": [
    {
     "data": {
      "image/png": "[encoded data removed]",
      "text/plain": [
       "<Figure size 1800x432 with 3 Axes>"
      ]
     },
     "metadata": {
      "needs_background": "light"
     },
     "output_type": "display_data"
    }
   ],
   "source": [
    "fig, axes = plt.subplots(1, 3, figsize=(25,6))\n",
    "top_5('genre', 'na_sales', 0)\n",
    "top_5('genre', 'eu_sales', 1)\n",
    "top_5('genre', 'jp_sales', 2)"
   ]
  },
  {
   "cell_type": "markdown",
   "metadata": {},
   "source": [
    "По графикам можно сделать следующие выводы:\n",
    "\n",
    "Вкусы людей из Северной Америке и Европы схожи: и там, и там живут фанаты таких направлений как: action, shooter, sports, misc. Различие лишь в том, что в Северной Америке больше играют в role-playing, в Европе же чаще выбирают racing.\n",
    "В Японии все иначе - на первом месте role-playing, причем с большим отрывом. Далее action, misc, sports, adventure .\n",
    "\n"
   ]
  },
  {
   "cell_type": "markdown",
   "metadata": {},
   "source": [
    "Небольшая теория:\n",
    "\n",
    "- «EC» («Early childhood») — «Для детей младшего возраста»: Игра подходит для детей от 3 лет и не содержит материалов, которые родители могли бы счесть неподходящими. Продукты, получившие данный рейтинг, изначально разрабатываются для детей и обычно представляют собой развивающие игры. Некоторые усложнённые развивающие игры могут иметь рейтинг «Everyone».\n",
    "- «E» («Everyone») — «Для всех»: Содержание вполне подходит для возрастной категории от 6 лет. Такие игры могут понравиться и взрослым. Игры с этим рейтингом могут содержать минимальное насилие, в основном «мультяшного» характера. Первой игрой, которая получила данный рейтинг, стала The Simpsons Cartoon Studio, выпущенная в 1996 году. Первоначально \"K-A\" (\"Kids to Adults\")\n",
    "- «E10+» («Everyone 10 and older») — «Для всех от 10 лет и старше»: Проекты с данным рейтингом могут содержать или немного больше мультипликационного или мягкого насилия, или несколько откровенные сцены, или минимальное количество крови. Рейтинг был принят ESRB 2 марта 2005 года. Первой игрой, которая получила данный рейтинг, стала Donkey Kong: Jungle Beat.\n",
    "- «T» («Teen») — «Подросткам»: Игра подходит для лиц от 13 лет. Проекты из данной категории могут содержать насилие, непристойные сцены, грубый юмор, в меру откровенное сексуальное содержимое, кровь или нечастое использование ненормативной лексики.\n",
    "- «M» («Mature») — «Для взрослых»: Материалы игры не подходят для подростков младше 17 лет. Проекты с данным рейтингом могут содержать достаточно жестокое насилие, большое количество крови с расчленением, непристойные сексуальные сцены или грубую ненормативную лексику, нежелательную для младшей аудитории.\n",
    "- «AO» («Adults Only 18+») — «Только для взрослых»: Содержание игры только для взрослых старше 18 лет. Продукты из данной категории могут содержать длительные сцены жестокого насилия и/или очень откровенное сексуальное содержимое, а также сцены с обнажением. Большинство таких игр предназначено для персональных компьютеров под управлением Microsoft Windows и Apple Macintosh. Рейтинг «Только для взрослых» является предметом многочисленных дискуссий, так как накладывает серьёзные ограничения на продажи игры.\n",
    "- «RP» («Rating Pending») — «Рейтинг ожидается»: Продукт был отправлен в ESRB и ожидает присвоения рейтинга. Данный логотип используется только на рекламных презентациях и в демо-версиях игр до официальной даты выпуска в продажу.\n"
   ]
  },
  {
   "cell_type": "code",
   "execution_count": 48,
   "metadata": {},
   "outputs": [
    {
     "name": "stderr",
     "output_type": "stream",
     "text": [
      "/opt/conda/lib/python3.7/site-packages/ipykernel_launcher.py:6: SettingWithCopyWarning: \n",
      "A value is trying to be set on a copy of a slice from a DataFrame.\n",
      "Try using .loc[row_indexer,col_indexer] = value instead\n",
      "\n",
      "See the caveats in the documentation: http://pandas.pydata.org/pandas-docs/stable/user_guide/indexing.html#returning-a-view-versus-a-copy\n",
      "  \n"
     ]
    },
    {
     "data": {
      "image/png": "[encoded data removed]",
      "text/plain": [
       "<Figure size 2160x720 with 3 Axes>"
      ]
     },
     "metadata": {
      "needs_background": "light"
     },
     "output_type": "display_data"
    }
   ],
   "source": [
    "def esrb(groupby, region_sales, ax):\n",
    "    pivot = data_new.groupby(groupby).agg({region_sales: 'sum'})\n",
    "    title_dict = {'na_sales': 'North America Sales', 'eu_sales': 'Europe Sales', 'jp_sales': 'Japan Sales'}\n",
    "    plot = pivot.plot(kind='bar', ec='black', title=title_dict[region_sales], ax=axes[ax], fontsize=18, color = 'm')\n",
    "ESRB_dict = { 'e': 'Для всех', 'rp' : 'Рейтинг ожидается',  'm': '> 17 лет', 't': '13-19 лет', 'e10+': '>10 лет', 'ec' : ' от 3 лет', 'ao' : '> 18 лет'}\n",
    "data_new['ESRB_description'] = data_new['rating'].map(ESRB_dict)\n",
    "\n",
    "fig, axes = plt.subplots(1, 3, figsize=(30,10))\n",
    "\n",
    "esrb('ESRB_description', 'na_sales', 0)\n",
    "esrb('ESRB_description', 'eu_sales', 1)\n",
    "esrb('ESRB_description', 'jp_sales', 2)"
   ]
  },
  {
   "cell_type": "markdown",
   "metadata": {},
   "source": [
    "В Северной Америке и в Европе картина практически одинаковая. Большая часть выручки получено с игр с рейтингом \"Для всех\" и \"для лиц старше 17 лет\".\n",
    "\n",
    "В Японии не так. Первое место такое же - \"Для всех\", а вот на втором - игры для лиц от 13 до 19 лет."
   ]
  },
  {
   "cell_type": "markdown",
   "metadata": {},
   "source": [
    "# Шаг 5. Проверка гипотезы:\n",
    "<a id=\"a\"></a>"
   ]
  },
  {
   "cell_type": "markdown",
   "metadata": {},
   "source": [
    "\n",
    "- Средние пользовательские рейтинги платформ Xbox One и PC одинаковые;\n",
    "- Средние пользовательские рейтинги жанров Action (англ. «действие», экшен-игры) и Sports (англ. «спортивные соревнования») разные.\n",
    "\n",
    "Для проверки обеих гипотез будем использовать t-критерий Стьюдента, т.к. в обоих случаях выборки независимы между собой.\n",
    "Определим пороговое значение alpha = 0.05\n",
    "\n",
    "Гипотеза 1:\n",
    "средние пользовательские рейтинги платформ Xbox One и PC одинаковые\n",
    "- Н0 (нулевая гипотеза) - средние пользовательские рейтинги платформ Xbox One и PC одинаковые.\n",
    "- Н1 (альтернативная гипотеза) - средние пользовательские рейтинги платформ Xbox One и PC отличаются между собой."
   ]
  },
  {
   "cell_type": "code",
   "execution_count": 49,
   "metadata": {},
   "outputs": [
    {
     "name": "stdout",
     "output_type": "stream",
     "text": [
      "p-значение: 0.051442053986115704\n",
      "Не получилось отвергнуть нулевую гипотезу\n"
     ]
    }
   ],
   "source": [
    "from scipy import stats as st\n",
    "alpha = 0.05\n",
    "\n",
    "xbox_one = data_new[(data_new['platform'] == 'xone') & (data_new['user_score'] > 0)]['user_score']\n",
    "pc = data_new[(data_new['platform'] == 'pc') & (data_new['user_score'] > 0)]['user_score']\n",
    "\n",
    "results = st.ttest_ind(xbox_one, pc)\n",
    "\n",
    "print('p-значение:', results.pvalue)\n",
    "\n",
    "if (results.pvalue < alpha):\n",
    "    print(\"Отвергаем нулевую гипотезу\")\n",
    "else:\n",
    "    print(\"Не получилось отвергнуть нулевую гипотезу\")"
   ]
  },
  {
   "cell_type": "markdown",
   "metadata": {},
   "source": [
    "Гипотеза 2: средние пользовательские рейтинги жанров Action и Sports разные.\n",
    "- Н0 (нулевая гипотеза) - средние пользовательские рейтинги жанров Action и Sports одинаковые.\n",
    "- Н1 (альтернативная гипотеза) - средние пользовательские рейтинги жанров Action и Sports отличаются между собой.\n",
    "<a id=\"b\"></a>"
   ]
  },
  {
   "cell_type": "code",
   "execution_count": 50,
   "metadata": {},
   "outputs": [
    {
     "name": "stdout",
     "output_type": "stream",
     "text": [
      "p-значение: 8.702848425217629e-13\n",
      "Отвергаем нулевую гипотезу\n"
     ]
    }
   ],
   "source": [
    "action = data_new[(data_new['genre'] == 'action') & (data_new['user_score'] > 0)]['user_score']\n",
    "sports = data_new[(data_new['genre'] == 'sports') & (data_new['user_score'] > 0)]['user_score']\n",
    "\n",
    "results = st.ttest_ind(action, sports)\n",
    "\n",
    "print('p-значение:', results.pvalue)\n",
    "\n",
    "if (results.pvalue < alpha):\n",
    "    print(\"Отвергаем нулевую гипотезу\")\n",
    "else:\n",
    "    print(\"Не получилось отвергнуть нулевую гипотезу\")"
   ]
  },
  {
   "cell_type": "markdown",
   "metadata": {},
   "source": [
    "Перед нами две генеральные совокупности и нужно сопоставить их средние. Так как, чтобы это понять недостаточно просто сравнить числа за определённый период времени, необходимо применить метод scipy.stats.ttest_ind (array1, array2, equal_var). Нулевой гипотезой будет гипотеза о том, что средние пользовательские рейтинги платформ Xbox One и PC одинаковые. Альтернативной гипотезой будет \"средние пользовательские рейтинги платформ Xbox One и PC отличаются между собой\". Используется t-критерий Стьюдента, так как сравниваемые выборки независимы между собой. Исходя из значения р, верно следующее утверждение: средние пользовательские рейтинги платформ Xbox One и PC отличаются между собой. А значит сформулированная гипотеза о том, что средние наших выборок одинаковые, не отвергается. Для второго случая нулевой гипотезой будет гипотеза о том, средние пользовательские рейтинги жанров Action и Sports одинаковые. Альтернативной гипотезой будет, что средние пользовательские рейтинги жанров Action и Sports отличаются между собой. Таким образом, остается верным утверждение, что средние пользовательские рейтинги жанров Action и Sports отличаются между собой."
   ]
  },
  {
   "cell_type": "markdown",
   "metadata": {},
   "source": [
    "# Вывод:\n",
    "<a id=\"g\"></a>\n",
    "По проведенному анализу можно сделать вывод: видно, что рынок видеоигр падает, на данный момент люди переходят на мобильные платформы, а видеоигр становится с каждым годом все меньше и меньше. Чтобы остаться на рынке и не потерять вырочку разработчикам необходимо, учитывая все предпочтения пользователя, создавать новый и интересные игры.\n",
    "\n",
    "Видно, что сильное влияние на итоговую выручку оказывают, в большинстве случаев оценки пользователей и критиков. Поэтому разработчикам стоит учитывать это при создании игры. По продажам абсолютно все платформы имеют спад на 4-й, 5-й год, разработчкам нужно прослеживать эту тенденцию и выпускать модель только в момент спада продаж предидущей модели. Так же стоит следить и за интересами разных стран. Рынки продуктов абсолютно разные, больше всего отличий у рынка Японии  здесь прредпочитаю иные игры и платформы, чем в Европе и Северной Америке.\n",
    "\n",
    "Прогноз на 2017 год: тенденция спада продаж игр по всем платформам скорее всего сохранится. Поэтому в 2017 разработчикам необходимо создать новые или обновленные платформы. На мой взгляд можно сделать продолжение какой-либо популярной игры в прошлом, улучшив графику и сюжет. Сочетание ностальгии по старым героям и улучшенная картинка в видеоигре должны понравится пользователям. Разработчики самое главное не должны забывать свою целевую аудиторию, здесь должны правильно выбирать жанры игр интерфейс, и учитывать в каком регионе видеоигра будет иметь успех будет иметь успех.\n",
    "\n"
   ]
  }
 ],
 "metadata": {
  "ExecuteTimeLog": [
   {
    "duration": 607,
    "start_time": "2021-08-20T07:53:42.002Z"
   },
   {
    "duration": 24,
    "start_time": "2021-08-20T07:53:44.020Z"
   },
   {
    "duration": 3,
    "start_time": "2021-08-20T07:59:23.949Z"
   },
   {
    "duration": 18,
    "start_time": "2021-08-20T07:59:38.338Z"
   },
   {
    "duration": 553,
    "start_time": "2021-08-20T10:06:37.368Z"
   },
   {
    "duration": 792,
    "start_time": "2021-08-20T10:06:41.577Z"
   },
   {
    "duration": 37,
    "start_time": "2021-08-20T10:06:43.808Z"
   },
   {
    "duration": 14,
    "start_time": "2021-08-20T10:06:46.480Z"
   },
   {
    "duration": 426,
    "start_time": "2021-08-20T10:10:07.388Z"
   },
   {
    "duration": 428,
    "start_time": "2021-08-20T10:10:28.612Z"
   },
   {
    "duration": 363,
    "start_time": "2021-08-20T10:11:25.328Z"
   },
   {
    "duration": 367,
    "start_time": "2021-08-20T10:11:33.012Z"
   },
   {
    "duration": 386,
    "start_time": "2021-08-20T10:13:12.453Z"
   },
   {
    "duration": 25,
    "start_time": "2021-08-20T10:28:15.308Z"
   },
   {
    "duration": 373,
    "start_time": "2021-08-20T10:50:04.634Z"
   },
   {
    "duration": 178,
    "start_time": "2021-08-20T10:50:23.367Z"
   },
   {
    "duration": 188,
    "start_time": "2021-08-20T10:50:35.702Z"
   },
   {
    "duration": 26,
    "start_time": "2021-08-20T10:54:41.801Z"
   },
   {
    "duration": 197,
    "start_time": "2021-08-20T10:57:57.445Z"
   },
   {
    "duration": 545,
    "start_time": "2021-08-20T10:58:36.500Z"
   },
   {
    "duration": 48,
    "start_time": "2021-08-20T10:59:12.705Z"
   },
   {
    "duration": 27,
    "start_time": "2021-08-20T10:59:14.545Z"
   },
   {
    "duration": 24,
    "start_time": "2021-08-20T10:59:19.826Z"
   },
   {
    "duration": 24,
    "start_time": "2021-08-20T10:59:23.385Z"
   },
   {
    "duration": 14,
    "start_time": "2021-08-20T10:59:26.290Z"
   },
   {
    "duration": 584,
    "start_time": "2021-08-20T10:59:33.333Z"
   },
   {
    "duration": 541,
    "start_time": "2021-08-20T11:00:02.074Z"
   },
   {
    "duration": 178,
    "start_time": "2021-08-20T11:00:53.101Z"
   },
   {
    "duration": 48,
    "start_time": "2021-08-20T11:01:46.613Z"
   },
   {
    "duration": 203,
    "start_time": "2021-08-20T11:01:52.833Z"
   },
   {
    "duration": 64,
    "start_time": "2021-08-20T13:09:33.511Z"
   },
   {
    "duration": 305,
    "start_time": "2021-08-20T13:09:39.152Z"
   },
   {
    "duration": 65,
    "start_time": "2021-08-20T13:09:56.652Z"
   },
   {
    "duration": 280,
    "start_time": "2021-08-20T13:10:02.112Z"
   },
   {
    "duration": 573,
    "start_time": "2021-08-21T10:13:01.816Z"
   },
   {
    "duration": 25,
    "start_time": "2021-08-21T10:13:04.437Z"
   },
   {
    "duration": 15,
    "start_time": "2021-08-21T10:13:09.353Z"
   },
   {
    "duration": 14,
    "start_time": "2021-08-21T10:13:11.514Z"
   },
   {
    "duration": 9,
    "start_time": "2021-08-21T10:13:15.134Z"
   },
   {
    "duration": 120,
    "start_time": "2021-08-21T10:13:19.463Z"
   },
   {
    "duration": 410,
    "start_time": "2021-08-21T10:28:07.656Z"
   },
   {
    "duration": 35,
    "start_time": "2021-08-21T10:28:34.732Z"
   },
   {
    "duration": 19,
    "start_time": "2021-08-21T10:28:38.613Z"
   },
   {
    "duration": 14,
    "start_time": "2021-08-21T10:28:39.652Z"
   },
   {
    "duration": 14,
    "start_time": "2021-08-21T10:28:40.673Z"
   },
   {
    "duration": 9,
    "start_time": "2021-08-21T10:28:41.640Z"
   },
   {
    "duration": 125,
    "start_time": "2021-08-21T10:28:42.900Z"
   },
   {
    "duration": 130,
    "start_time": "2021-08-21T10:30:50.702Z"
   },
   {
    "duration": 126,
    "start_time": "2021-08-21T10:32:18.681Z"
   },
   {
    "duration": 129,
    "start_time": "2021-08-21T10:32:38.331Z"
   },
   {
    "duration": 226,
    "start_time": "2021-08-21T10:49:05.335Z"
   },
   {
    "duration": 36,
    "start_time": "2021-08-21T10:51:30.495Z"
   },
   {
    "duration": 472,
    "start_time": "2021-08-21T10:51:37.214Z"
   },
   {
    "duration": 33,
    "start_time": "2021-08-21T10:52:08.333Z"
   },
   {
    "duration": 464,
    "start_time": "2021-08-21T10:52:13.453Z"
   },
   {
    "duration": 34,
    "start_time": "2021-08-21T10:52:43.214Z"
   },
   {
    "duration": 451,
    "start_time": "2021-08-21T10:52:48.162Z"
   },
   {
    "duration": 469,
    "start_time": "2021-08-21T10:55:07.083Z"
   },
   {
    "duration": 461,
    "start_time": "2021-08-21T11:00:15.093Z"
   },
   {
    "duration": 338,
    "start_time": "2021-08-21T11:20:41.434Z"
   },
   {
    "duration": 560,
    "start_time": "2021-08-21T11:31:12.041Z"
   },
   {
    "duration": 577,
    "start_time": "2021-08-21T11:34:55.200Z"
   },
   {
    "duration": 611,
    "start_time": "2021-08-21T11:38:13.169Z"
   },
   {
    "duration": 35,
    "start_time": "2021-08-21T11:40:41.875Z"
   },
   {
    "duration": 361,
    "start_time": "2021-08-21T11:40:46.573Z"
   },
   {
    "duration": 34,
    "start_time": "2021-08-21T11:41:34.940Z"
   },
   {
    "duration": 547,
    "start_time": "2021-08-21T11:41:40.540Z"
   },
   {
    "duration": 33,
    "start_time": "2021-08-21T11:42:34.973Z"
   },
   {
    "duration": 357,
    "start_time": "2021-08-21T11:42:38.601Z"
   },
   {
    "duration": 16,
    "start_time": "2021-08-21T11:43:20.792Z"
   },
   {
    "duration": 9,
    "start_time": "2021-08-21T11:43:53.320Z"
   },
   {
    "duration": 376,
    "start_time": "2021-08-21T11:44:55.630Z"
   },
   {
    "duration": 1280,
    "start_time": "2021-08-22T08:20:03.167Z"
   },
   {
    "duration": 659,
    "start_time": "2021-08-22T08:20:57.961Z"
   },
   {
    "duration": 821,
    "start_time": "2021-08-22T08:30:14.846Z"
   },
   {
    "duration": 416,
    "start_time": "2021-08-22T08:33:00.015Z"
   },
   {
    "duration": 68,
    "start_time": "2021-08-22T08:33:16.340Z"
   },
   {
    "duration": 405,
    "start_time": "2021-08-22T08:34:38.686Z"
   },
   {
    "duration": 376,
    "start_time": "2021-08-22T08:37:56.566Z"
   },
   {
    "duration": 48,
    "start_time": "2021-08-22T08:38:23.685Z"
   },
   {
    "duration": 608,
    "start_time": "2021-08-22T08:38:29.429Z"
   },
   {
    "duration": 32,
    "start_time": "2021-08-22T08:38:33.976Z"
   },
   {
    "duration": 9,
    "start_time": "2021-08-22T08:39:29.358Z"
   },
   {
    "duration": 610,
    "start_time": "2021-08-22T08:41:53.681Z"
   },
   {
    "duration": 702,
    "start_time": "2021-08-22T08:43:33.145Z"
   },
   {
    "duration": 946,
    "start_time": "2021-08-22T08:43:45.740Z"
   },
   {
    "duration": 573,
    "start_time": "2021-08-22T08:43:54.984Z"
   },
   {
    "duration": 549,
    "start_time": "2021-08-22T08:44:12.658Z"
   },
   {
    "duration": 531,
    "start_time": "2021-08-22T08:44:28.472Z"
   },
   {
    "duration": 557,
    "start_time": "2021-08-22T08:53:39.919Z"
   },
   {
    "duration": 510,
    "start_time": "2021-08-22T09:09:32.397Z"
   },
   {
    "duration": 125,
    "start_time": "2021-08-22T09:10:37.743Z"
   },
   {
    "duration": 1054,
    "start_time": "2021-08-22T09:11:16.374Z"
   },
   {
    "duration": 1157,
    "start_time": "2021-08-22T09:12:22.720Z"
   },
   {
    "duration": 613,
    "start_time": "2021-08-22T09:13:02.899Z"
   },
   {
    "duration": 505,
    "start_time": "2021-08-22T09:21:02.714Z"
   },
   {
    "duration": 549,
    "start_time": "2021-08-22T09:21:29.665Z"
   },
   {
    "duration": 545,
    "start_time": "2021-08-22T09:21:44.389Z"
   },
   {
    "duration": 530,
    "start_time": "2021-08-22T09:22:00.316Z"
   },
   {
    "duration": 529,
    "start_time": "2021-08-22T09:22:10.084Z"
   },
   {
    "duration": 645,
    "start_time": "2021-08-22T09:22:19.161Z"
   },
   {
    "duration": 460,
    "start_time": "2021-08-22T09:22:32.186Z"
   },
   {
    "duration": 433,
    "start_time": "2021-08-22T09:24:26.846Z"
   },
   {
    "duration": 468,
    "start_time": "2021-08-22T09:24:41.561Z"
   },
   {
    "duration": 474,
    "start_time": "2021-08-22T09:31:18.254Z"
   },
   {
    "duration": 452,
    "start_time": "2021-08-22T09:33:09.548Z"
   },
   {
    "duration": 441,
    "start_time": "2021-08-22T09:33:18.081Z"
   },
   {
    "duration": 484,
    "start_time": "2021-08-22T09:37:23.016Z"
   },
   {
    "duration": 821,
    "start_time": "2021-08-22T09:39:22.485Z"
   },
   {
    "duration": 4006,
    "start_time": "2021-08-22T09:39:31.033Z"
   },
   {
    "duration": 618,
    "start_time": "2021-08-22T09:40:52.882Z"
   },
   {
    "duration": 570,
    "start_time": "2021-08-22T09:41:06.330Z"
   },
   {
    "duration": 460,
    "start_time": "2021-08-22T09:41:25.881Z"
   },
   {
    "duration": 467,
    "start_time": "2021-08-22T09:41:42.230Z"
   },
   {
    "duration": 486,
    "start_time": "2021-08-22T09:43:02.888Z"
   },
   {
    "duration": 474,
    "start_time": "2021-08-22T09:43:29.015Z"
   },
   {
    "duration": 468,
    "start_time": "2021-08-22T09:44:29.408Z"
   },
   {
    "duration": 343,
    "start_time": "2021-08-22T09:45:59.602Z"
   },
   {
    "duration": 43229,
    "start_time": "2021-08-22T09:46:11.572Z"
   },
   {
    "duration": 900,
    "start_time": "2021-08-22T09:48:44.801Z"
   },
   {
    "duration": 772,
    "start_time": "2021-08-22T09:48:57.376Z"
   },
   {
    "duration": 470,
    "start_time": "2021-08-22T09:49:54.337Z"
   },
   {
    "duration": 842,
    "start_time": "2021-08-22T09:51:51.144Z"
   },
   {
    "duration": 895,
    "start_time": "2021-08-22T09:52:57.953Z"
   },
   {
    "duration": 861,
    "start_time": "2021-08-22T09:55:08.313Z"
   },
   {
    "duration": 904,
    "start_time": "2021-08-22T09:55:24.635Z"
   },
   {
    "duration": 800,
    "start_time": "2021-08-22T09:56:45.923Z"
   },
   {
    "duration": 120,
    "start_time": "2021-08-22T09:57:44.644Z"
   },
   {
    "duration": 127,
    "start_time": "2021-08-22T09:58:44.179Z"
   },
   {
    "duration": 1527,
    "start_time": "2021-08-22T09:59:03.221Z"
   },
   {
    "duration": 986,
    "start_time": "2021-08-22T10:00:50.593Z"
   },
   {
    "duration": 944,
    "start_time": "2021-08-22T10:31:50.168Z"
   },
   {
    "duration": 922,
    "start_time": "2021-08-22T10:32:34.891Z"
   },
   {
    "duration": 961,
    "start_time": "2021-08-22T10:32:58.212Z"
   },
   {
    "duration": 955,
    "start_time": "2021-08-22T10:33:58.675Z"
   },
   {
    "duration": 1447,
    "start_time": "2021-08-22T10:37:02.199Z"
   },
   {
    "duration": 1115,
    "start_time": "2021-08-22T10:37:20.422Z"
   },
   {
    "duration": 1143,
    "start_time": "2021-08-22T10:37:31.791Z"
   },
   {
    "duration": 1192,
    "start_time": "2021-08-22T10:38:19.293Z"
   },
   {
    "duration": 1534,
    "start_time": "2021-08-22T10:42:22.044Z"
   },
   {
    "duration": 767,
    "start_time": "2021-08-22T10:52:54.713Z"
   },
   {
    "duration": 121,
    "start_time": "2021-08-22T10:53:05.239Z"
   },
   {
    "duration": 1252,
    "start_time": "2021-08-22T10:53:15.878Z"
   },
   {
    "duration": 865,
    "start_time": "2021-08-22T10:53:25.072Z"
   },
   {
    "duration": 1860,
    "start_time": "2021-08-22T10:53:35.329Z"
   },
   {
    "duration": 12,
    "start_time": "2021-08-22T10:57:17.860Z"
   },
   {
    "duration": 8,
    "start_time": "2021-08-22T11:02:17.099Z"
   },
   {
    "duration": 7,
    "start_time": "2021-08-22T11:02:53.835Z"
   },
   {
    "duration": 468,
    "start_time": "2021-08-22T11:10:06.171Z"
   },
   {
    "duration": 484,
    "start_time": "2021-08-22T11:11:41.848Z"
   },
   {
    "duration": 1278,
    "start_time": "2021-08-22T11:12:12.061Z"
   },
   {
    "duration": 1224,
    "start_time": "2021-08-22T11:12:30.765Z"
   },
   {
    "duration": 1177,
    "start_time": "2021-08-22T11:12:43.123Z"
   },
   {
    "duration": 1241,
    "start_time": "2021-08-22T11:12:57.314Z"
   },
   {
    "duration": 1508,
    "start_time": "2021-08-22T11:13:09.700Z"
   },
   {
    "duration": 1199,
    "start_time": "2021-08-22T11:13:23.448Z"
   },
   {
    "duration": 1282,
    "start_time": "2021-08-22T11:13:41.109Z"
   },
   {
    "duration": 1449,
    "start_time": "2021-08-22T11:13:50.831Z"
   },
   {
    "duration": 1724,
    "start_time": "2021-08-22T11:14:24.341Z"
   },
   {
    "duration": 1296,
    "start_time": "2021-08-22T11:14:37.659Z"
   },
   {
    "duration": 1373,
    "start_time": "2021-08-22T11:14:51.882Z"
   },
   {
    "duration": 488,
    "start_time": "2021-08-22T11:17:47.984Z"
   },
   {
    "duration": 1274,
    "start_time": "2021-08-22T11:18:06.793Z"
   },
   {
    "duration": 696,
    "start_time": "2021-08-22T11:18:34.460Z"
   },
   {
    "duration": 1327,
    "start_time": "2021-08-22T11:18:48.833Z"
   },
   {
    "duration": 502,
    "start_time": "2021-08-22T11:29:02.033Z"
   },
   {
    "duration": 400,
    "start_time": "2021-08-22T11:29:11.776Z"
   },
   {
    "duration": 48,
    "start_time": "2021-08-22T11:29:32.916Z"
   },
   {
    "duration": 657,
    "start_time": "2021-08-22T11:29:37.000Z"
   },
   {
    "duration": 575,
    "start_time": "2021-08-22T11:29:42.564Z"
   },
   {
    "duration": 1578,
    "start_time": "2021-08-22T11:29:47.288Z"
   },
   {
    "duration": 1435,
    "start_time": "2021-08-22T11:29:53.019Z"
   },
   {
    "duration": 637,
    "start_time": "2021-08-22T11:30:01.070Z"
   },
   {
    "duration": 1338,
    "start_time": "2021-08-22T11:31:48.291Z"
   },
   {
    "duration": 851,
    "start_time": "2021-08-22T11:31:55.845Z"
   },
   {
    "duration": 767,
    "start_time": "2021-08-22T11:33:37.654Z"
   },
   {
    "duration": 9,
    "start_time": "2021-08-22T11:40:08.640Z"
   },
   {
    "duration": 32,
    "start_time": "2021-08-22T11:50:25.459Z"
   },
   {
    "duration": 331,
    "start_time": "2021-08-22T11:50:55.884Z"
   },
   {
    "duration": 685,
    "start_time": "2021-08-22T11:52:38.089Z"
   },
   {
    "duration": 535,
    "start_time": "2021-08-22T11:52:45.828Z"
   },
   {
    "duration": 853,
    "start_time": "2021-08-22T11:53:00.043Z"
   },
   {
    "duration": 896,
    "start_time": "2021-08-22T11:53:10.031Z"
   },
   {
    "duration": 1658,
    "start_time": "2021-08-22T11:53:37.373Z"
   },
   {
    "duration": 451,
    "start_time": "2021-08-22T11:55:04.786Z"
   },
   {
    "duration": 787,
    "start_time": "2021-08-22T11:55:39.540Z"
   },
   {
    "duration": 616,
    "start_time": "2021-08-22T11:56:37.932Z"
   },
   {
    "duration": 1701,
    "start_time": "2021-08-22T12:00:08.674Z"
   },
   {
    "duration": 807,
    "start_time": "2021-08-22T12:02:53.940Z"
   },
   {
    "duration": 407,
    "start_time": "2021-08-22T12:05:54.211Z"
   },
   {
    "duration": 532,
    "start_time": "2021-08-22T12:06:29.905Z"
   },
   {
    "duration": 425,
    "start_time": "2021-08-22T12:07:45.792Z"
   },
   {
    "duration": 639,
    "start_time": "2021-08-22T12:07:59.335Z"
   },
   {
    "duration": 128,
    "start_time": "2021-08-22T12:08:44.943Z"
   },
   {
    "duration": 1623,
    "start_time": "2021-08-22T12:08:54.934Z"
   },
   {
    "duration": 595,
    "start_time": "2021-08-22T12:09:35.220Z"
   },
   {
    "duration": 48,
    "start_time": "2021-08-22T12:15:39.833Z"
   },
   {
    "duration": 300,
    "start_time": "2021-08-22T12:15:47.031Z"
   },
   {
    "duration": 619,
    "start_time": "2021-08-22T12:15:57.164Z"
   },
   {
    "duration": 1348,
    "start_time": "2021-08-22T12:16:01.647Z"
   },
   {
    "duration": 1350,
    "start_time": "2021-08-22T12:16:10.055Z"
   },
   {
    "duration": 769,
    "start_time": "2021-08-22T12:16:17.062Z"
   },
   {
    "duration": 583,
    "start_time": "2021-08-22T12:16:21.638Z"
   },
   {
    "duration": 541,
    "start_time": "2021-08-22T12:20:33.828Z"
   },
   {
    "duration": 1243,
    "start_time": "2021-08-22T12:22:04.334Z"
   },
   {
    "duration": 735,
    "start_time": "2021-08-22T12:22:10.127Z"
   },
   {
    "duration": 551,
    "start_time": "2021-08-22T12:22:15.453Z"
   },
   {
    "duration": 872,
    "start_time": "2021-08-22T12:22:21.474Z"
   },
   {
    "duration": 881,
    "start_time": "2021-08-22T12:23:05.077Z"
   },
   {
    "duration": 1471,
    "start_time": "2021-08-22T12:24:01.120Z"
   },
   {
    "duration": 1108,
    "start_time": "2021-08-22T12:25:59.622Z"
   },
   {
    "duration": 10413,
    "start_time": "2021-08-22T12:28:32.287Z"
   },
   {
    "duration": 9588,
    "start_time": "2021-08-22T12:29:00.773Z"
   },
   {
    "duration": 10418,
    "start_time": "2021-08-22T12:31:15.694Z"
   },
   {
    "duration": 9775,
    "start_time": "2021-08-22T12:31:44.416Z"
   },
   {
    "duration": 9706,
    "start_time": "2021-08-22T12:32:12.048Z"
   },
   {
    "duration": 10742,
    "start_time": "2021-08-22T12:32:34.776Z"
   },
   {
    "duration": 9081,
    "start_time": "2021-08-22T12:34:21.060Z"
   },
   {
    "duration": 934,
    "start_time": "2021-08-22T12:35:16.980Z"
   },
   {
    "duration": 57,
    "start_time": "2021-08-22T12:35:34.506Z"
   },
   {
    "duration": 46,
    "start_time": "2021-08-22T12:36:38.289Z"
   },
   {
    "duration": 278,
    "start_time": "2021-08-22T12:36:43.323Z"
   },
   {
    "duration": 1278,
    "start_time": "2021-08-22T12:37:05.072Z"
   },
   {
    "duration": 730,
    "start_time": "2021-08-22T12:37:10.280Z"
   },
   {
    "duration": 560,
    "start_time": "2021-08-22T12:37:18.369Z"
   },
   {
    "duration": 545,
    "start_time": "2021-08-22T12:38:22.302Z"
   },
   {
    "duration": 10153,
    "start_time": "2021-08-22T12:39:33.652Z"
   },
   {
    "duration": 9291,
    "start_time": "2021-08-22T12:40:09.093Z"
   },
   {
    "duration": 9029,
    "start_time": "2021-08-22T12:41:06.610Z"
   },
   {
    "duration": 398,
    "start_time": "2021-08-22T12:45:57.983Z"
   },
   {
    "duration": 501,
    "start_time": "2021-08-22T12:47:49.141Z"
   },
   {
    "duration": 1156,
    "start_time": "2021-08-22T12:53:52.562Z"
   },
   {
    "duration": 1451,
    "start_time": "2021-08-22T12:54:08.093Z"
   },
   {
    "duration": 1246,
    "start_time": "2021-08-22T12:54:28.808Z"
   },
   {
    "duration": 2119,
    "start_time": "2021-08-22T12:55:43.062Z"
   },
   {
    "duration": 811,
    "start_time": "2021-08-22T12:56:09.703Z"
   },
   {
    "duration": 812,
    "start_time": "2021-08-22T12:56:20.897Z"
   },
   {
    "duration": 1013,
    "start_time": "2021-08-22T12:59:10.335Z"
   },
   {
    "duration": 1266,
    "start_time": "2021-08-22T12:59:37.745Z"
   },
   {
    "duration": 625,
    "start_time": "2021-08-22T13:00:09.112Z"
   },
   {
    "duration": 53,
    "start_time": "2021-08-22T13:00:44.424Z"
   },
   {
    "duration": 318,
    "start_time": "2021-08-22T13:00:50.042Z"
   },
   {
    "duration": 868,
    "start_time": "2021-08-22T13:00:55.754Z"
   },
   {
    "duration": 1404,
    "start_time": "2021-08-22T13:01:00.690Z"
   },
   {
    "duration": 1476,
    "start_time": "2021-08-22T13:01:04.102Z"
   },
   {
    "duration": 1112,
    "start_time": "2021-08-22T13:01:08.960Z"
   },
   {
    "duration": 651,
    "start_time": "2021-08-22T13:01:11.896Z"
   },
   {
    "duration": 631,
    "start_time": "2021-08-22T13:01:50.536Z"
   },
   {
    "duration": 1209,
    "start_time": "2021-08-22T13:01:55.724Z"
   },
   {
    "duration": 379,
    "start_time": "2021-08-22T13:06:00.871Z"
   },
   {
    "duration": 797,
    "start_time": "2021-08-22T13:06:21.067Z"
   },
   {
    "duration": 81,
    "start_time": "2021-08-22T13:06:43.407Z"
   },
   {
    "duration": 413,
    "start_time": "2021-08-22T13:09:49.367Z"
   },
   {
    "duration": 33,
    "start_time": "2021-08-22T13:10:01.057Z"
   },
   {
    "duration": 610,
    "start_time": "2021-08-22T13:10:22.622Z"
   },
   {
    "duration": 26,
    "start_time": "2021-08-22T13:11:05.198Z"
   },
   {
    "duration": 33,
    "start_time": "2021-08-22T13:11:31.496Z"
   },
   {
    "duration": 116,
    "start_time": "2021-08-22T13:11:38.731Z"
   },
   {
    "duration": 29,
    "start_time": "2021-08-22T13:11:50.120Z"
   },
   {
    "duration": 30,
    "start_time": "2021-08-22T13:11:56.162Z"
   },
   {
    "duration": 33,
    "start_time": "2021-08-22T13:12:01.852Z"
   },
   {
    "duration": 373,
    "start_time": "2021-08-22T13:15:53.506Z"
   },
   {
    "duration": 382,
    "start_time": "2021-08-22T13:16:59.427Z"
   },
   {
    "duration": 396,
    "start_time": "2021-08-22T13:17:48.427Z"
   },
   {
    "duration": 442,
    "start_time": "2021-08-22T13:18:11.493Z"
   },
   {
    "duration": 392,
    "start_time": "2021-08-22T13:18:47.208Z"
   },
   {
    "duration": 27,
    "start_time": "2021-08-22T13:20:12.935Z"
   },
   {
    "duration": 26,
    "start_time": "2021-08-22T13:20:24.208Z"
   },
   {
    "duration": 402,
    "start_time": "2021-08-22T13:21:17.002Z"
   },
   {
    "duration": 27,
    "start_time": "2021-08-22T13:21:29.558Z"
   },
   {
    "duration": 24,
    "start_time": "2021-08-22T13:22:46.535Z"
   },
   {
    "duration": 32,
    "start_time": "2021-08-22T13:23:17.209Z"
   },
   {
    "duration": 36,
    "start_time": "2021-08-22T13:24:56.662Z"
   },
   {
    "duration": 14,
    "start_time": "2021-08-22T13:43:58.877Z"
   },
   {
    "duration": 381,
    "start_time": "2021-08-22T13:45:03.335Z"
   },
   {
    "duration": 23,
    "start_time": "2021-08-22T13:45:20.118Z"
   },
   {
    "duration": 14,
    "start_time": "2021-08-22T13:46:11.859Z"
   },
   {
    "duration": 12,
    "start_time": "2021-08-22T13:46:28.774Z"
   },
   {
    "duration": 19,
    "start_time": "2021-08-22T13:46:34.241Z"
   },
   {
    "duration": 11,
    "start_time": "2021-08-22T13:46:37.036Z"
   },
   {
    "duration": 26,
    "start_time": "2021-08-22T13:47:08.149Z"
   },
   {
    "duration": 40,
    "start_time": "2021-08-22T13:48:56.370Z"
   },
   {
    "duration": 33,
    "start_time": "2021-08-22T13:50:43.185Z"
   },
   {
    "duration": 361,
    "start_time": "2021-08-23T09:25:23.564Z"
   },
   {
    "duration": 682,
    "start_time": "2021-08-23T09:25:31.204Z"
   },
   {
    "duration": 179,
    "start_time": "2021-08-23T09:25:37.451Z"
   },
   {
    "duration": 327,
    "start_time": "2021-08-23T09:25:44.578Z"
   },
   {
    "duration": 738,
    "start_time": "2021-08-23T09:25:48.732Z"
   },
   {
    "duration": 713,
    "start_time": "2021-08-23T09:25:53.431Z"
   },
   {
    "duration": 408,
    "start_time": "2021-08-23T09:25:58.400Z"
   },
   {
    "duration": 334,
    "start_time": "2021-08-23T09:26:01.902Z"
   },
   {
    "duration": 674,
    "start_time": "2021-08-23T09:26:05.537Z"
   },
   {
    "duration": 21,
    "start_time": "2021-08-23T09:26:09.747Z"
   },
   {
    "duration": 568,
    "start_time": "2021-08-23T09:26:15.093Z"
   },
   {
    "duration": 499,
    "start_time": "2021-08-23T09:27:12.330Z"
   },
   {
    "duration": 1001,
    "start_time": "2021-08-23T09:29:42.000Z"
   },
   {
    "duration": 506,
    "start_time": "2021-08-23T09:31:36.934Z"
   },
   {
    "duration": 267,
    "start_time": "2021-08-23T09:35:11.647Z"
   },
   {
    "duration": 680,
    "start_time": "2021-08-23T09:35:57.547Z"
   },
   {
    "duration": 10,
    "start_time": "2021-08-23T09:36:36.122Z"
   },
   {
    "duration": 11,
    "start_time": "2021-08-23T09:38:05.401Z"
   },
   {
    "duration": 11,
    "start_time": "2021-08-23T09:38:55.509Z"
   },
   {
    "duration": 35,
    "start_time": "2021-08-23T12:13:29.219Z"
   },
   {
    "duration": 1069,
    "start_time": "2021-08-23T12:13:34.272Z"
   },
   {
    "duration": 185,
    "start_time": "2021-08-23T12:13:49.116Z"
   },
   {
    "duration": 13331,
    "start_time": "2021-08-23T12:27:37.620Z"
   },
   {
    "duration": 12434,
    "start_time": "2021-08-23T12:29:18.474Z"
   },
   {
    "duration": 36,
    "start_time": "2021-08-23T12:29:56.262Z"
   },
   {
    "duration": 12554,
    "start_time": "2021-08-23T12:30:58.393Z"
   },
   {
    "duration": 40282,
    "start_time": "2021-08-23T12:32:46.361Z"
   },
   {
    "duration": 34,
    "start_time": "2021-08-23T12:33:26.645Z"
   },
   {
    "duration": 49144,
    "start_time": "2021-08-23T12:33:47.341Z"
   },
   {
    "duration": 34,
    "start_time": "2021-08-23T12:35:20.391Z"
   },
   {
    "duration": 40214,
    "start_time": "2021-08-23T12:36:19.127Z"
   },
   {
    "duration": 35,
    "start_time": "2021-08-23T12:38:05.384Z"
   },
   {
    "duration": 40091,
    "start_time": "2021-08-23T12:38:11.138Z"
   },
   {
    "duration": 35,
    "start_time": "2021-08-23T12:41:02.614Z"
   },
   {
    "duration": 12706,
    "start_time": "2021-08-23T12:41:07.744Z"
   },
   {
    "duration": 39562,
    "start_time": "2021-08-23T12:41:46.051Z"
   },
   {
    "duration": 44,
    "start_time": "2021-08-23T12:42:25.615Z"
   },
   {
    "duration": 53119,
    "start_time": "2021-08-23T12:42:52.572Z"
   },
   {
    "duration": 35,
    "start_time": "2021-08-23T12:43:45.693Z"
   },
   {
    "duration": 523,
    "start_time": "2021-08-23T12:45:32.765Z"
   },
   {
    "duration": 39112,
    "start_time": "2021-08-23T12:45:48.987Z"
   },
   {
    "duration": 35,
    "start_time": "2021-08-23T12:46:53.591Z"
   },
   {
    "duration": 12579,
    "start_time": "2021-08-23T12:46:58.462Z"
   },
   {
    "duration": 38,
    "start_time": "2021-08-23T13:01:35.173Z"
   },
   {
    "duration": 189,
    "start_time": "2021-08-23T13:01:40.295Z"
   },
   {
    "duration": 35,
    "start_time": "2021-08-23T13:02:04.215Z"
   },
   {
    "duration": 194,
    "start_time": "2021-08-23T13:02:10.575Z"
   },
   {
    "duration": 13,
    "start_time": "2021-08-23T13:06:49.316Z"
   },
   {
    "duration": 33,
    "start_time": "2021-08-23T13:07:25.450Z"
   },
   {
    "duration": 39875,
    "start_time": "2021-08-23T13:07:29.948Z"
   },
   {
    "duration": 36,
    "start_time": "2021-08-23T13:08:56.287Z"
   },
   {
    "duration": 40956,
    "start_time": "2021-08-23T13:09:16.005Z"
   },
   {
    "duration": 36,
    "start_time": "2021-08-23T13:12:21.235Z"
   },
   {
    "duration": 38603,
    "start_time": "2021-08-23T13:12:27.971Z"
   },
   {
    "duration": 37,
    "start_time": "2021-08-23T13:14:00.076Z"
   },
   {
    "duration": 80339,
    "start_time": "2021-08-23T13:14:04.173Z"
   },
   {
    "duration": 189,
    "start_time": "2021-08-23T13:18:09.209Z"
   },
   {
    "duration": 41,
    "start_time": "2021-08-23T13:33:47.437Z"
   },
   {
    "duration": 194,
    "start_time": "2021-08-23T13:33:51.608Z"
   },
   {
    "duration": 317,
    "start_time": "2021-08-23T13:37:38.684Z"
   },
   {
    "duration": 718,
    "start_time": "2021-08-23T13:42:31.916Z"
   },
   {
    "duration": 711,
    "start_time": "2021-08-23T13:47:33.256Z"
   },
   {
    "duration": 412,
    "start_time": "2021-08-23T13:47:48.598Z"
   },
   {
    "duration": 700,
    "start_time": "2021-08-23T13:47:52.161Z"
   },
   {
    "duration": 754,
    "start_time": "2021-08-23T13:49:00.196Z"
   },
   {
    "duration": 766,
    "start_time": "2021-08-23T13:49:35.005Z"
   },
   {
    "duration": 775,
    "start_time": "2021-08-23T13:49:51.596Z"
   },
   {
    "duration": 725,
    "start_time": "2021-08-23T13:50:11.659Z"
   },
   {
    "duration": 782,
    "start_time": "2021-08-23T13:50:33.261Z"
   },
   {
    "duration": 852,
    "start_time": "2021-08-23T13:50:46.209Z"
   },
   {
    "duration": 725,
    "start_time": "2021-08-23T13:51:02.655Z"
   },
   {
    "duration": 708,
    "start_time": "2021-08-23T13:51:12.453Z"
   },
   {
    "duration": 736,
    "start_time": "2021-08-23T13:51:25.333Z"
   },
   {
    "duration": 885,
    "start_time": "2021-08-23T13:58:55.862Z"
   },
   {
    "duration": 419,
    "start_time": "2021-08-23T14:02:38.845Z"
   },
   {
    "duration": 562,
    "start_time": "2021-08-23T14:03:16.372Z"
   },
   {
    "duration": 398,
    "start_time": "2021-08-23T14:04:53.374Z"
   },
   {
    "duration": 555,
    "start_time": "2021-08-23T14:05:27.034Z"
   },
   {
    "duration": 569,
    "start_time": "2021-08-23T14:07:10.992Z"
   },
   {
    "duration": 199,
    "start_time": "2021-08-23T14:07:19.069Z"
   },
   {
    "duration": 651,
    "start_time": "2021-08-23T14:09:23.007Z"
   },
   {
    "duration": 619,
    "start_time": "2021-08-23T14:10:26.113Z"
   },
   {
    "duration": 430,
    "start_time": "2021-08-23T14:12:04.931Z"
   },
   {
    "duration": 564,
    "start_time": "2021-08-23T14:12:50.321Z"
   },
   {
    "duration": 392,
    "start_time": "2021-08-23T14:13:29.868Z"
   },
   {
    "duration": 386,
    "start_time": "2021-08-23T14:13:43.633Z"
   },
   {
    "duration": 411,
    "start_time": "2021-08-23T14:14:04.138Z"
   },
   {
    "duration": 400,
    "start_time": "2021-08-23T14:14:44.154Z"
   },
   {
    "duration": 390,
    "start_time": "2021-08-23T14:14:56.976Z"
   },
   {
    "duration": 516,
    "start_time": "2021-08-23T14:15:12.567Z"
   },
   {
    "duration": 880,
    "start_time": "2021-08-23T14:15:18.690Z"
   },
   {
    "duration": 527,
    "start_time": "2021-08-23T14:15:31.796Z"
   },
   {
    "duration": 400,
    "start_time": "2021-08-23T14:16:25.117Z"
   },
   {
    "duration": 36,
    "start_time": "2021-08-23T14:16:39.773Z"
   },
   {
    "duration": 161,
    "start_time": "2021-08-23T14:16:43.956Z"
   },
   {
    "duration": 311,
    "start_time": "2021-08-23T14:16:48.700Z"
   },
   {
    "duration": 899,
    "start_time": "2021-08-23T14:16:52.816Z"
   },
   {
    "duration": 733,
    "start_time": "2021-08-23T14:16:57.842Z"
   },
   {
    "duration": 546,
    "start_time": "2021-08-23T14:17:04.242Z"
   },
   {
    "duration": 36,
    "start_time": "2021-08-23T14:18:10.713Z"
   },
   {
    "duration": 161,
    "start_time": "2021-08-23T14:18:15.149Z"
   },
   {
    "duration": 317,
    "start_time": "2021-08-23T14:18:19.828Z"
   },
   {
    "duration": 709,
    "start_time": "2021-08-23T14:18:22.535Z"
   },
   {
    "duration": 742,
    "start_time": "2021-08-23T14:18:25.563Z"
   },
   {
    "duration": 442,
    "start_time": "2021-08-23T14:18:29.799Z"
   },
   {
    "duration": 37,
    "start_time": "2021-08-23T14:19:39.065Z"
   },
   {
    "duration": 17,
    "start_time": "2021-08-23T14:19:40.258Z"
   },
   {
    "duration": 15,
    "start_time": "2021-08-23T14:19:40.743Z"
   },
   {
    "duration": 15,
    "start_time": "2021-08-23T14:19:41.163Z"
   },
   {
    "duration": 9,
    "start_time": "2021-08-23T14:19:41.931Z"
   },
   {
    "duration": 162,
    "start_time": "2021-08-23T14:19:43.251Z"
   },
   {
    "duration": 11,
    "start_time": "2021-08-23T14:19:44.844Z"
   },
   {
    "duration": 311,
    "start_time": "2021-08-23T14:19:46.316Z"
   },
   {
    "duration": 949,
    "start_time": "2021-08-23T14:19:47.960Z"
   },
   {
    "duration": 2008,
    "start_time": "2021-08-23T14:19:50.402Z"
   },
   {
    "duration": 637,
    "start_time": "2021-08-23T14:20:07.803Z"
   },
   {
    "duration": 739,
    "start_time": "2021-08-23T14:21:42.668Z"
   },
   {
    "duration": 461,
    "start_time": "2021-08-23T14:22:21.756Z"
   },
   {
    "duration": 155,
    "start_time": "2021-08-23T14:22:32.046Z"
   },
   {
    "duration": 18,
    "start_time": "2021-08-23T14:25:17.817Z"
   },
   {
    "duration": 648,
    "start_time": "2021-08-23T14:28:37.770Z"
   },
   {
    "duration": 538,
    "start_time": "2021-08-23T14:28:46.062Z"
   },
   {
    "duration": 171,
    "start_time": "2021-08-23T14:29:53.272Z"
   },
   {
    "duration": 159,
    "start_time": "2021-08-23T14:30:09.846Z"
   },
   {
    "duration": 31,
    "start_time": "2021-08-23T14:32:52.216Z"
   },
   {
    "duration": 132,
    "start_time": "2021-08-23T14:38:16.850Z"
   },
   {
    "duration": 155,
    "start_time": "2021-08-23T14:39:31.020Z"
   },
   {
    "duration": 369,
    "start_time": "2021-08-23T14:43:15.760Z"
   },
   {
    "duration": 39,
    "start_time": "2021-08-23T14:47:33.454Z"
   },
   {
    "duration": 19,
    "start_time": "2021-08-23T14:47:36.124Z"
   },
   {
    "duration": 16,
    "start_time": "2021-08-23T14:47:38.800Z"
   },
   {
    "duration": 16,
    "start_time": "2021-08-23T14:47:42.429Z"
   },
   {
    "duration": 10,
    "start_time": "2021-08-23T14:47:43.703Z"
   },
   {
    "duration": 160,
    "start_time": "2021-08-23T14:47:46.690Z"
   },
   {
    "duration": 11,
    "start_time": "2021-08-23T14:47:50.194Z"
   },
   {
    "duration": 31,
    "start_time": "2021-08-23T14:47:52.635Z"
   },
   {
    "duration": 600,
    "start_time": "2021-08-23T14:48:20.674Z"
   },
   {
    "duration": 700,
    "start_time": "2021-08-23T14:48:26.210Z"
   },
   {
    "duration": 723,
    "start_time": "2021-08-23T14:48:33.948Z"
   },
   {
    "duration": 728,
    "start_time": "2021-08-23T14:49:17.360Z"
   },
   {
    "duration": 162,
    "start_time": "2021-08-23T14:49:23.451Z"
   },
   {
    "duration": 446,
    "start_time": "2021-08-23T14:49:26.367Z"
   },
   {
    "duration": 207,
    "start_time": "2021-08-23T14:53:36.502Z"
   },
   {
    "duration": 793,
    "start_time": "2021-08-23T14:56:33.718Z"
   },
   {
    "duration": 5261,
    "start_time": "2021-08-23T15:01:05.716Z"
   },
   {
    "duration": 749,
    "start_time": "2021-08-23T15:04:10.873Z"
   },
   {
    "duration": 351,
    "start_time": "2021-08-23T15:05:36.469Z"
   },
   {
    "duration": 2481,
    "start_time": "2021-08-23T15:06:31.399Z"
   },
   {
    "duration": 254,
    "start_time": "2021-08-23T15:10:42.210Z"
   },
   {
    "duration": 10513,
    "start_time": "2021-08-23T15:10:47.825Z"
   },
   {
    "duration": 130,
    "start_time": "2021-08-23T15:15:31.933Z"
   },
   {
    "duration": 455,
    "start_time": "2021-08-23T15:15:57.536Z"
   },
   {
    "duration": 555,
    "start_time": "2021-08-23T15:17:03.965Z"
   },
   {
    "duration": 642,
    "start_time": "2021-08-23T15:18:22.076Z"
   },
   {
    "duration": 404,
    "start_time": "2021-08-23T15:19:07.079Z"
   },
   {
    "duration": 393,
    "start_time": "2021-08-23T15:19:24.411Z"
   },
   {
    "duration": 438,
    "start_time": "2021-08-23T15:19:53.715Z"
   },
   {
    "duration": 508,
    "start_time": "2021-08-23T15:21:26.772Z"
   },
   {
    "duration": 514,
    "start_time": "2021-08-23T15:22:41.307Z"
   },
   {
    "duration": 811,
    "start_time": "2021-08-23T15:26:30.751Z"
   },
   {
    "duration": 401,
    "start_time": "2021-08-23T15:26:57.607Z"
   },
   {
    "duration": 424,
    "start_time": "2021-08-23T15:27:58.922Z"
   },
   {
    "duration": 1001,
    "start_time": "2021-08-23T15:33:27.258Z"
   },
   {
    "duration": 450,
    "start_time": "2021-08-23T15:35:01.206Z"
   },
   {
    "duration": 437,
    "start_time": "2021-08-23T15:35:35.205Z"
   },
   {
    "duration": 483,
    "start_time": "2021-08-23T15:35:58.870Z"
   },
   {
    "duration": 419,
    "start_time": "2021-08-23T15:36:55.588Z"
   },
   {
    "duration": 434,
    "start_time": "2021-08-23T15:37:10.920Z"
   },
   {
    "duration": 365,
    "start_time": "2021-08-23T15:37:32.300Z"
   },
   {
    "duration": 345,
    "start_time": "2021-08-23T15:49:32.888Z"
   },
   {
    "duration": 288,
    "start_time": "2021-08-23T15:49:47.776Z"
   },
   {
    "duration": 682,
    "start_time": "2021-08-23T15:52:26.958Z"
   },
   {
    "duration": 244,
    "start_time": "2021-08-23T15:54:20.149Z"
   },
   {
    "duration": 982,
    "start_time": "2021-08-23T15:55:17.137Z"
   },
   {
    "duration": 506,
    "start_time": "2021-08-23T15:56:14.058Z"
   },
   {
    "duration": 591,
    "start_time": "2021-08-23T15:58:09.619Z"
   },
   {
    "duration": 1042,
    "start_time": "2021-08-23T15:59:15.786Z"
   },
   {
    "duration": 532,
    "start_time": "2021-08-23T16:02:04.159Z"
   },
   {
    "duration": 1099,
    "start_time": "2021-08-23T16:02:07.277Z"
   },
   {
    "duration": 479,
    "start_time": "2021-08-23T16:06:05.316Z"
   },
   {
    "duration": 496,
    "start_time": "2021-08-23T16:06:15.776Z"
   },
   {
    "duration": 507,
    "start_time": "2021-08-23T16:06:29.856Z"
   },
   {
    "duration": 481,
    "start_time": "2021-08-23T16:06:38.202Z"
   },
   {
    "duration": 493,
    "start_time": "2021-08-23T16:07:06.736Z"
   },
   {
    "duration": 478,
    "start_time": "2021-08-23T16:07:23.184Z"
   },
   {
    "duration": 692,
    "start_time": "2021-08-23T16:07:32.766Z"
   },
   {
    "duration": 483,
    "start_time": "2021-08-23T16:07:59.483Z"
   },
   {
    "duration": 499,
    "start_time": "2021-08-23T16:08:39.188Z"
   },
   {
    "duration": 481,
    "start_time": "2021-08-23T16:09:07.338Z"
   },
   {
    "duration": 555,
    "start_time": "2021-08-23T16:09:11.127Z"
   },
   {
    "duration": 499,
    "start_time": "2021-08-23T16:17:15.728Z"
   },
   {
    "duration": 33,
    "start_time": "2021-08-23T16:24:16.541Z"
   },
   {
    "duration": 1192,
    "start_time": "2021-08-23T16:28:42.011Z"
   },
   {
    "duration": 1058,
    "start_time": "2021-08-23T16:30:38.818Z"
   },
   {
    "duration": 1648,
    "start_time": "2021-08-23T16:31:50.550Z"
   },
   {
    "duration": 1276,
    "start_time": "2021-08-23T16:32:02.127Z"
   },
   {
    "duration": 528,
    "start_time": "2021-08-23T16:33:04.384Z"
   },
   {
    "duration": 512,
    "start_time": "2021-08-23T16:33:49.603Z"
   },
   {
    "duration": 510,
    "start_time": "2021-08-23T16:35:27.582Z"
   },
   {
    "duration": 500,
    "start_time": "2021-08-23T16:36:15.821Z"
   },
   {
    "duration": 508,
    "start_time": "2021-08-23T16:37:49.053Z"
   },
   {
    "duration": 1144,
    "start_time": "2021-08-23T16:40:00.573Z"
   },
   {
    "duration": 516,
    "start_time": "2021-08-23T16:41:13.333Z"
   },
   {
    "duration": 534,
    "start_time": "2021-08-23T16:41:35.502Z"
   },
   {
    "duration": 596,
    "start_time": "2021-08-23T16:43:08.528Z"
   },
   {
    "duration": 700,
    "start_time": "2021-08-23T16:43:24.676Z"
   },
   {
    "duration": 696,
    "start_time": "2021-08-23T16:44:25.660Z"
   },
   {
    "duration": 134,
    "start_time": "2021-08-23T16:45:38.567Z"
   },
   {
    "duration": 125,
    "start_time": "2021-08-23T16:45:45.108Z"
   },
   {
    "duration": 786,
    "start_time": "2021-08-23T16:45:53.741Z"
   },
   {
    "duration": 1245,
    "start_time": "2021-08-23T16:46:12.859Z"
   },
   {
    "duration": 683,
    "start_time": "2021-08-23T16:46:23.100Z"
   },
   {
    "duration": 650,
    "start_time": "2021-08-23T16:46:40.859Z"
   },
   {
    "duration": 670,
    "start_time": "2021-08-23T16:46:54.950Z"
   },
   {
    "duration": 37,
    "start_time": "2021-08-23T16:47:11.990Z"
   },
   {
    "duration": 18,
    "start_time": "2021-08-23T16:47:13.202Z"
   },
   {
    "duration": 15,
    "start_time": "2021-08-23T16:47:14.065Z"
   },
   {
    "duration": 15,
    "start_time": "2021-08-23T16:47:14.909Z"
   },
   {
    "duration": 10,
    "start_time": "2021-08-23T16:47:15.642Z"
   },
   {
    "duration": 164,
    "start_time": "2021-08-23T16:47:17.808Z"
   },
   {
    "duration": 11,
    "start_time": "2021-08-23T16:47:19.653Z"
   },
   {
    "duration": 34,
    "start_time": "2021-08-23T16:47:20.868Z"
   },
   {
    "duration": 388,
    "start_time": "2021-08-23T16:47:28.772Z"
   },
   {
    "duration": 701,
    "start_time": "2021-08-23T16:47:30.918Z"
   },
   {
    "duration": 709,
    "start_time": "2021-08-23T16:47:34.715Z"
   },
   {
    "duration": 164,
    "start_time": "2021-08-23T16:47:38.477Z"
   },
   {
    "duration": 337,
    "start_time": "2021-08-23T16:47:40.851Z"
   },
   {
    "duration": 655,
    "start_time": "2021-08-23T16:47:41.789Z"
   },
   {
    "duration": 678,
    "start_time": "2021-08-23T16:47:44.537Z"
   },
   {
    "duration": 19,
    "start_time": "2021-08-23T16:47:47.372Z"
   },
   {
    "duration": 489,
    "start_time": "2021-08-23T16:47:51.152Z"
   },
   {
    "duration": 506,
    "start_time": "2021-08-23T16:47:53.823Z"
   },
   {
    "duration": 1172,
    "start_time": "2021-08-23T16:47:59.150Z"
   },
   {
    "duration": 680,
    "start_time": "2021-08-23T16:48:27.426Z"
   },
   {
    "duration": 692,
    "start_time": "2021-08-23T16:49:06.043Z"
   },
   {
    "duration": 676,
    "start_time": "2021-08-23T16:49:25.119Z"
   },
   {
    "duration": 664,
    "start_time": "2021-08-23T16:49:50.316Z"
   },
   {
    "duration": 745,
    "start_time": "2021-08-23T16:49:58.798Z"
   },
   {
    "duration": 674,
    "start_time": "2021-08-23T16:50:37.599Z"
   },
   {
    "duration": 689,
    "start_time": "2021-08-23T16:51:26.751Z"
   },
   {
    "duration": 688,
    "start_time": "2021-08-23T16:51:52.037Z"
   },
   {
    "duration": 13,
    "start_time": "2021-08-23T18:28:25.580Z"
   },
   {
    "duration": 11,
    "start_time": "2021-08-23T18:28:52.229Z"
   },
   {
    "duration": 986,
    "start_time": "2021-08-24T19:44:07.858Z"
   },
   {
    "duration": 35,
    "start_time": "2021-08-24T19:44:08.847Z"
   },
   {
    "duration": 29,
    "start_time": "2021-08-24T19:44:08.885Z"
   },
   {
    "duration": 52,
    "start_time": "2021-08-24T19:44:08.917Z"
   },
   {
    "duration": 15,
    "start_time": "2021-08-24T19:44:08.972Z"
   },
   {
    "duration": 283,
    "start_time": "2021-08-24T19:44:08.989Z"
   },
   {
    "duration": 13,
    "start_time": "2021-08-24T19:44:09.274Z"
   },
   {
    "duration": 77,
    "start_time": "2021-08-24T19:44:09.290Z"
   },
   {
    "duration": 582,
    "start_time": "2021-08-24T19:44:09.372Z"
   },
   {
    "duration": 1369,
    "start_time": "2021-08-24T19:44:09.957Z"
   },
   {
    "duration": 1353,
    "start_time": "2021-08-24T19:44:11.328Z"
   },
   {
    "duration": 306,
    "start_time": "2021-08-24T19:44:12.684Z"
   },
   {
    "duration": 660,
    "start_time": "2021-08-24T19:44:12.992Z"
   },
   {
    "duration": 1020,
    "start_time": "2021-08-24T19:44:13.654Z"
   },
   {
    "duration": 1280,
    "start_time": "2021-08-24T19:44:14.677Z"
   },
   {
    "duration": 828,
    "start_time": "2021-08-24T19:44:15.967Z"
   },
   {
    "duration": 40,
    "start_time": "2021-08-24T19:44:16.758Z"
   },
   {
    "duration": 40,
    "start_time": "2021-08-24T19:44:16.760Z"
   },
   {
    "duration": 39,
    "start_time": "2021-08-24T19:44:16.763Z"
   },
   {
    "duration": 38,
    "start_time": "2021-08-24T19:44:16.767Z"
   },
   {
    "duration": 38,
    "start_time": "2021-08-24T19:44:16.769Z"
   },
   {
    "duration": 967,
    "start_time": "2021-08-25T08:43:00.443Z"
   },
   {
    "duration": 35,
    "start_time": "2021-08-25T08:43:02.176Z"
   },
   {
    "duration": 24,
    "start_time": "2021-08-25T08:43:03.183Z"
   },
   {
    "duration": 24,
    "start_time": "2021-08-25T08:43:03.991Z"
   },
   {
    "duration": 14,
    "start_time": "2021-08-25T08:43:04.901Z"
   },
   {
    "duration": 287,
    "start_time": "2021-08-25T08:43:08.462Z"
   },
   {
    "duration": 14,
    "start_time": "2021-08-25T08:43:16.308Z"
   },
   {
    "duration": 55,
    "start_time": "2021-08-25T08:43:24.259Z"
   },
   {
    "duration": 594,
    "start_time": "2021-08-25T08:43:27.518Z"
   },
   {
    "duration": 1470,
    "start_time": "2021-08-25T08:43:30.748Z"
   },
   {
    "duration": 1486,
    "start_time": "2021-08-25T08:43:35.028Z"
   },
   {
    "duration": 322,
    "start_time": "2021-08-25T08:43:41.757Z"
   },
   {
    "duration": 640,
    "start_time": "2021-08-25T08:43:45.608Z"
   },
   {
    "duration": 1044,
    "start_time": "2021-08-25T08:43:46.832Z"
   },
   {
    "duration": 1301,
    "start_time": "2021-08-25T08:43:51.436Z"
   },
   {
    "duration": 41,
    "start_time": "2021-08-25T08:45:33.261Z"
   },
   {
    "duration": 1007,
    "start_time": "2021-08-25T08:45:53.667Z"
   },
   {
    "duration": 952,
    "start_time": "2021-08-25T08:45:56.776Z"
   },
   {
    "duration": 1332,
    "start_time": "2021-08-25T08:45:59.586Z"
   },
   {
    "duration": 583,
    "start_time": "2021-08-25T08:46:03.885Z"
   },
   {
    "duration": 15,
    "start_time": "2021-08-25T08:46:06.350Z"
   },
   {
    "duration": 83,
    "start_time": "2021-08-25T09:10:22.649Z"
   },
   {
    "duration": 296,
    "start_time": "2021-08-25T09:12:06.484Z"
   },
   {
    "duration": 45,
    "start_time": "2021-08-25T09:12:15.430Z"
   },
   {
    "duration": 30,
    "start_time": "2021-08-25T09:12:18.054Z"
   },
   {
    "duration": 25,
    "start_time": "2021-08-25T09:12:19.078Z"
   },
   {
    "duration": 24,
    "start_time": "2021-08-25T09:12:19.926Z"
   },
   {
    "duration": 14,
    "start_time": "2021-08-25T09:12:20.805Z"
   },
   {
    "duration": 4,
    "start_time": "2021-08-25T09:13:27.800Z"
   },
   {
    "duration": 221,
    "start_time": "2021-08-25T09:13:32.863Z"
   },
   {
    "duration": 6,
    "start_time": "2021-08-25T09:13:41.932Z"
   },
   {
    "duration": 49,
    "start_time": "2021-08-25T09:13:43.008Z"
   },
   {
    "duration": 41,
    "start_time": "2021-08-25T09:14:06.953Z"
   },
   {
    "duration": 13,
    "start_time": "2021-08-25T09:14:12.396Z"
   },
   {
    "duration": 16,
    "start_time": "2021-08-25T09:14:17.480Z"
   },
   {
    "duration": 58,
    "start_time": "2021-08-25T09:14:18.128Z"
   },
   {
    "duration": 570,
    "start_time": "2021-08-25T09:14:20.425Z"
   },
   {
    "duration": 1409,
    "start_time": "2021-08-25T09:14:23.016Z"
   },
   {
    "duration": 1409,
    "start_time": "2021-08-25T09:14:26.030Z"
   },
   {
    "duration": 1475,
    "start_time": "2021-08-25T09:14:30.143Z"
   },
   {
    "duration": 300,
    "start_time": "2021-08-25T09:14:34.681Z"
   },
   {
    "duration": 638,
    "start_time": "2021-08-25T09:14:37.760Z"
   },
   {
    "duration": 962,
    "start_time": "2021-08-25T09:14:39.981Z"
   },
   {
    "duration": 1217,
    "start_time": "2021-08-25T09:14:44.040Z"
   },
   {
    "duration": 37,
    "start_time": "2021-08-25T09:14:47.984Z"
   },
   {
    "duration": 891,
    "start_time": "2021-08-25T09:14:52.668Z"
   },
   {
    "duration": 905,
    "start_time": "2021-08-25T09:14:54.868Z"
   },
   {
    "duration": 1375,
    "start_time": "2021-08-25T09:14:57.547Z"
   },
   {
    "duration": 15,
    "start_time": "2021-08-25T09:15:00.865Z"
   },
   {
    "duration": 15,
    "start_time": "2021-08-25T09:15:02.880Z"
   }
  ],
  "kernelspec": {
   "display_name": "Python 3",
   "language": "python",
   "name": "python3"
  },
  "language_info": {
   "codemirror_mode": {
    "name": "ipython",
    "version": 3
   },
   "file_extension": ".py",
   "mimetype": "text/x-python",
   "name": "python",
   "nbconvert_exporter": "python",
   "pygments_lexer": "ipython3",
   "version": "3.7.8"
  },
  "toc": {
   "base_numbering": 1,
   "nav_menu": {},
   "number_sections": true,
   "sideBar": true,
   "skip_h1_title": true,
   "title_cell": "Table of Contents",
   "title_sidebar": "Contents",
   "toc_cell": false,
   "toc_position": {},
   "toc_section_display": true,
   "toc_window_display": false
  }
 },
 "nbformat": 4,
 "nbformat_minor": 2
}
