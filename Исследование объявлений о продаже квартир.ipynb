{
 "cells": [
  {
   "cell_type": "markdown",
   "metadata": {
    "toc": true
   },
   "source": [
    "<h1>Содержание<span class=\"tocSkip\"></span></h1>\n",
    "<div class=\"toc\"><ul class=\"toc-item\"><li><span><a href=\"#Изучение-данных-из-файла\" data-toc-modified-id=\"Изучение-данных-из-файла-1\"><span class=\"toc-item-num\">1&nbsp;&nbsp;</span>Изучение данных из файла</a></span></li><li><span><a href=\"#Предобработка-данных\" data-toc-modified-id=\"Предобработка-данных-2\"><span class=\"toc-item-num\">2&nbsp;&nbsp;</span>Предобработка данных</a></span></li><li><span><a href=\"#Расчёты-и-добавление-результатов-в-таблицу\" data-toc-modified-id=\"Расчёты-и-добавление-результатов-в-таблицу-3\"><span class=\"toc-item-num\">3&nbsp;&nbsp;</span>Расчёты и добавление результатов в таблицу</a></span></li><li><span><a href=\"#Исследовательский-анализ-данных\" data-toc-modified-id=\"Исследовательский-анализ-данных-4\"><span class=\"toc-item-num\">4&nbsp;&nbsp;</span>Исследовательский анализ данных</a></span></li><li><span><a href=\"#Общий-вывод\" data-toc-modified-id=\"Общий-вывод-5\"><span class=\"toc-item-num\">5&nbsp;&nbsp;</span>Общий вывод</a></span></li></ul></div>"
   ]
  },
  {
   "cell_type": "markdown",
   "metadata": {},
   "source": [
    "# Исследование объявлений о продаже квартир\n",
    "\n",
    "В вашем распоряжении данные сервиса Яндекс.Недвижимость — архив объявлений о продаже квартир в Санкт-Петербурге и соседних населённых пунктах за несколько лет. Нужно научиться определять рыночную стоимость объектов недвижимости. Ваша задача — установить параметры. Это позволит построить автоматизированную систему: она отследит аномалии и мошенническую деятельность. \n",
    "\n",
    "По каждой квартире на продажу доступны два вида данных. Первые вписаны пользователем, вторые получены автоматически на основе картографических данных. Например, расстояние до центра, аэропорта, ближайшего парка и водоёма. "
   ]
  },
  {
   "cell_type": "markdown",
   "metadata": {},
   "source": [
    "## Изучение данных из файла"
   ]
  },
  {
   "cell_type": "code",
   "execution_count": 1,
   "metadata": {},
   "outputs": [],
   "source": [
    "import pandas as pd\n",
    "from datetime import datetime\n",
    "import matplotlib.pyplot as plt\n",
    "data = pd.read_csv('/datasets/real_estate_data.csv', sep = '\\t')"
   ]
  },
  {
   "cell_type": "code",
   "execution_count": 2,
   "metadata": {},
   "outputs": [
    {
     "data": {
      "text/html": [
       "<div>\n",
       "<style scoped>\n",
       "    .dataframe tbody tr th:only-of-type {\n",
       "        vertical-align: middle;\n",
       "    }\n",
       "\n",
       "    .dataframe tbody tr th {\n",
       "        vertical-align: top;\n",
       "    }\n",
       "\n",
       "    .dataframe thead th {\n",
       "        text-align: right;\n",
       "    }\n",
       "</style>\n",
       "<table border=\"1\" class=\"dataframe\">\n",
       "  <thead>\n",
       "    <tr style=\"text-align: right;\">\n",
       "      <th></th>\n",
       "      <th>total_images</th>\n",
       "      <th>last_price</th>\n",
       "      <th>total_area</th>\n",
       "      <th>first_day_exposition</th>\n",
       "      <th>rooms</th>\n",
       "      <th>ceiling_height</th>\n",
       "      <th>floors_total</th>\n",
       "      <th>living_area</th>\n",
       "      <th>floor</th>\n",
       "      <th>is_apartment</th>\n",
       "      <th>...</th>\n",
       "      <th>kitchen_area</th>\n",
       "      <th>balcony</th>\n",
       "      <th>locality_name</th>\n",
       "      <th>airports_nearest</th>\n",
       "      <th>cityCenters_nearest</th>\n",
       "      <th>parks_around3000</th>\n",
       "      <th>parks_nearest</th>\n",
       "      <th>ponds_around3000</th>\n",
       "      <th>ponds_nearest</th>\n",
       "      <th>days_exposition</th>\n",
       "    </tr>\n",
       "  </thead>\n",
       "  <tbody>\n",
       "    <tr>\n",
       "      <td>0</td>\n",
       "      <td>20</td>\n",
       "      <td>13000000.0</td>\n",
       "      <td>108.00</td>\n",
       "      <td>2019-03-07T00:00:00</td>\n",
       "      <td>3</td>\n",
       "      <td>2.70</td>\n",
       "      <td>16.0</td>\n",
       "      <td>51.00</td>\n",
       "      <td>8</td>\n",
       "      <td>NaN</td>\n",
       "      <td>...</td>\n",
       "      <td>25.00</td>\n",
       "      <td>NaN</td>\n",
       "      <td>Санкт-Петербург</td>\n",
       "      <td>18863.0</td>\n",
       "      <td>16028.0</td>\n",
       "      <td>1.0</td>\n",
       "      <td>482.0</td>\n",
       "      <td>2.0</td>\n",
       "      <td>755.0</td>\n",
       "      <td>NaN</td>\n",
       "    </tr>\n",
       "    <tr>\n",
       "      <td>1</td>\n",
       "      <td>7</td>\n",
       "      <td>3350000.0</td>\n",
       "      <td>40.40</td>\n",
       "      <td>2018-12-04T00:00:00</td>\n",
       "      <td>1</td>\n",
       "      <td>NaN</td>\n",
       "      <td>11.0</td>\n",
       "      <td>18.60</td>\n",
       "      <td>1</td>\n",
       "      <td>NaN</td>\n",
       "      <td>...</td>\n",
       "      <td>11.00</td>\n",
       "      <td>2.0</td>\n",
       "      <td>посёлок Шушары</td>\n",
       "      <td>12817.0</td>\n",
       "      <td>18603.0</td>\n",
       "      <td>0.0</td>\n",
       "      <td>NaN</td>\n",
       "      <td>0.0</td>\n",
       "      <td>NaN</td>\n",
       "      <td>81.0</td>\n",
       "    </tr>\n",
       "    <tr>\n",
       "      <td>2</td>\n",
       "      <td>10</td>\n",
       "      <td>5196000.0</td>\n",
       "      <td>56.00</td>\n",
       "      <td>2015-08-20T00:00:00</td>\n",
       "      <td>2</td>\n",
       "      <td>NaN</td>\n",
       "      <td>5.0</td>\n",
       "      <td>34.30</td>\n",
       "      <td>4</td>\n",
       "      <td>NaN</td>\n",
       "      <td>...</td>\n",
       "      <td>8.30</td>\n",
       "      <td>0.0</td>\n",
       "      <td>Санкт-Петербург</td>\n",
       "      <td>21741.0</td>\n",
       "      <td>13933.0</td>\n",
       "      <td>1.0</td>\n",
       "      <td>90.0</td>\n",
       "      <td>2.0</td>\n",
       "      <td>574.0</td>\n",
       "      <td>558.0</td>\n",
       "    </tr>\n",
       "    <tr>\n",
       "      <td>3</td>\n",
       "      <td>0</td>\n",
       "      <td>64900000.0</td>\n",
       "      <td>159.00</td>\n",
       "      <td>2015-07-24T00:00:00</td>\n",
       "      <td>3</td>\n",
       "      <td>NaN</td>\n",
       "      <td>14.0</td>\n",
       "      <td>NaN</td>\n",
       "      <td>9</td>\n",
       "      <td>NaN</td>\n",
       "      <td>...</td>\n",
       "      <td>NaN</td>\n",
       "      <td>0.0</td>\n",
       "      <td>Санкт-Петербург</td>\n",
       "      <td>28098.0</td>\n",
       "      <td>6800.0</td>\n",
       "      <td>2.0</td>\n",
       "      <td>84.0</td>\n",
       "      <td>3.0</td>\n",
       "      <td>234.0</td>\n",
       "      <td>424.0</td>\n",
       "    </tr>\n",
       "    <tr>\n",
       "      <td>4</td>\n",
       "      <td>2</td>\n",
       "      <td>10000000.0</td>\n",
       "      <td>100.00</td>\n",
       "      <td>2018-06-19T00:00:00</td>\n",
       "      <td>2</td>\n",
       "      <td>3.03</td>\n",
       "      <td>14.0</td>\n",
       "      <td>32.00</td>\n",
       "      <td>13</td>\n",
       "      <td>NaN</td>\n",
       "      <td>...</td>\n",
       "      <td>41.00</td>\n",
       "      <td>NaN</td>\n",
       "      <td>Санкт-Петербург</td>\n",
       "      <td>31856.0</td>\n",
       "      <td>8098.0</td>\n",
       "      <td>2.0</td>\n",
       "      <td>112.0</td>\n",
       "      <td>1.0</td>\n",
       "      <td>48.0</td>\n",
       "      <td>121.0</td>\n",
       "    </tr>\n",
       "    <tr>\n",
       "      <td>5</td>\n",
       "      <td>10</td>\n",
       "      <td>2890000.0</td>\n",
       "      <td>30.40</td>\n",
       "      <td>2018-09-10T00:00:00</td>\n",
       "      <td>1</td>\n",
       "      <td>NaN</td>\n",
       "      <td>12.0</td>\n",
       "      <td>14.40</td>\n",
       "      <td>5</td>\n",
       "      <td>NaN</td>\n",
       "      <td>...</td>\n",
       "      <td>9.10</td>\n",
       "      <td>NaN</td>\n",
       "      <td>городской посёлок Янино-1</td>\n",
       "      <td>NaN</td>\n",
       "      <td>NaN</td>\n",
       "      <td>NaN</td>\n",
       "      <td>NaN</td>\n",
       "      <td>NaN</td>\n",
       "      <td>NaN</td>\n",
       "      <td>55.0</td>\n",
       "    </tr>\n",
       "    <tr>\n",
       "      <td>6</td>\n",
       "      <td>6</td>\n",
       "      <td>3700000.0</td>\n",
       "      <td>37.30</td>\n",
       "      <td>2017-11-02T00:00:00</td>\n",
       "      <td>1</td>\n",
       "      <td>NaN</td>\n",
       "      <td>26.0</td>\n",
       "      <td>10.60</td>\n",
       "      <td>6</td>\n",
       "      <td>NaN</td>\n",
       "      <td>...</td>\n",
       "      <td>14.40</td>\n",
       "      <td>1.0</td>\n",
       "      <td>посёлок Парголово</td>\n",
       "      <td>52996.0</td>\n",
       "      <td>19143.0</td>\n",
       "      <td>0.0</td>\n",
       "      <td>NaN</td>\n",
       "      <td>0.0</td>\n",
       "      <td>NaN</td>\n",
       "      <td>155.0</td>\n",
       "    </tr>\n",
       "    <tr>\n",
       "      <td>7</td>\n",
       "      <td>5</td>\n",
       "      <td>7915000.0</td>\n",
       "      <td>71.60</td>\n",
       "      <td>2019-04-18T00:00:00</td>\n",
       "      <td>2</td>\n",
       "      <td>NaN</td>\n",
       "      <td>24.0</td>\n",
       "      <td>NaN</td>\n",
       "      <td>22</td>\n",
       "      <td>NaN</td>\n",
       "      <td>...</td>\n",
       "      <td>18.90</td>\n",
       "      <td>2.0</td>\n",
       "      <td>Санкт-Петербург</td>\n",
       "      <td>23982.0</td>\n",
       "      <td>11634.0</td>\n",
       "      <td>0.0</td>\n",
       "      <td>NaN</td>\n",
       "      <td>0.0</td>\n",
       "      <td>NaN</td>\n",
       "      <td>NaN</td>\n",
       "    </tr>\n",
       "    <tr>\n",
       "      <td>8</td>\n",
       "      <td>20</td>\n",
       "      <td>2900000.0</td>\n",
       "      <td>33.16</td>\n",
       "      <td>2018-05-23T00:00:00</td>\n",
       "      <td>1</td>\n",
       "      <td>NaN</td>\n",
       "      <td>27.0</td>\n",
       "      <td>15.43</td>\n",
       "      <td>26</td>\n",
       "      <td>NaN</td>\n",
       "      <td>...</td>\n",
       "      <td>8.81</td>\n",
       "      <td>NaN</td>\n",
       "      <td>посёлок Мурино</td>\n",
       "      <td>NaN</td>\n",
       "      <td>NaN</td>\n",
       "      <td>NaN</td>\n",
       "      <td>NaN</td>\n",
       "      <td>NaN</td>\n",
       "      <td>NaN</td>\n",
       "      <td>189.0</td>\n",
       "    </tr>\n",
       "    <tr>\n",
       "      <td>9</td>\n",
       "      <td>18</td>\n",
       "      <td>5400000.0</td>\n",
       "      <td>61.00</td>\n",
       "      <td>2017-02-26T00:00:00</td>\n",
       "      <td>3</td>\n",
       "      <td>2.50</td>\n",
       "      <td>9.0</td>\n",
       "      <td>43.60</td>\n",
       "      <td>7</td>\n",
       "      <td>NaN</td>\n",
       "      <td>...</td>\n",
       "      <td>6.50</td>\n",
       "      <td>2.0</td>\n",
       "      <td>Санкт-Петербург</td>\n",
       "      <td>50898.0</td>\n",
       "      <td>15008.0</td>\n",
       "      <td>0.0</td>\n",
       "      <td>NaN</td>\n",
       "      <td>0.0</td>\n",
       "      <td>NaN</td>\n",
       "      <td>289.0</td>\n",
       "    </tr>\n",
       "  </tbody>\n",
       "</table>\n",
       "<p>10 rows × 22 columns</p>\n",
       "</div>"
      ],
      "text/plain": [
       "   total_images  last_price  total_area first_day_exposition  rooms  \\\n",
       "0            20  13000000.0      108.00  2019-03-07T00:00:00      3   \n",
       "1             7   3350000.0       40.40  2018-12-04T00:00:00      1   \n",
       "2            10   5196000.0       56.00  2015-08-20T00:00:00      2   \n",
       "3             0  64900000.0      159.00  2015-07-24T00:00:00      3   \n",
       "4             2  10000000.0      100.00  2018-06-19T00:00:00      2   \n",
       "5            10   2890000.0       30.40  2018-09-10T00:00:00      1   \n",
       "6             6   3700000.0       37.30  2017-11-02T00:00:00      1   \n",
       "7             5   7915000.0       71.60  2019-04-18T00:00:00      2   \n",
       "8            20   2900000.0       33.16  2018-05-23T00:00:00      1   \n",
       "9            18   5400000.0       61.00  2017-02-26T00:00:00      3   \n",
       "\n",
       "   ceiling_height  floors_total  living_area  floor is_apartment  ...  \\\n",
       "0            2.70          16.0        51.00      8          NaN  ...   \n",
       "1             NaN          11.0        18.60      1          NaN  ...   \n",
       "2             NaN           5.0        34.30      4          NaN  ...   \n",
       "3             NaN          14.0          NaN      9          NaN  ...   \n",
       "4            3.03          14.0        32.00     13          NaN  ...   \n",
       "5             NaN          12.0        14.40      5          NaN  ...   \n",
       "6             NaN          26.0        10.60      6          NaN  ...   \n",
       "7             NaN          24.0          NaN     22          NaN  ...   \n",
       "8             NaN          27.0        15.43     26          NaN  ...   \n",
       "9            2.50           9.0        43.60      7          NaN  ...   \n",
       "\n",
       "   kitchen_area  balcony              locality_name  airports_nearest  \\\n",
       "0         25.00      NaN            Санкт-Петербург           18863.0   \n",
       "1         11.00      2.0             посёлок Шушары           12817.0   \n",
       "2          8.30      0.0            Санкт-Петербург           21741.0   \n",
       "3           NaN      0.0            Санкт-Петербург           28098.0   \n",
       "4         41.00      NaN            Санкт-Петербург           31856.0   \n",
       "5          9.10      NaN  городской посёлок Янино-1               NaN   \n",
       "6         14.40      1.0          посёлок Парголово           52996.0   \n",
       "7         18.90      2.0            Санкт-Петербург           23982.0   \n",
       "8          8.81      NaN             посёлок Мурино               NaN   \n",
       "9          6.50      2.0            Санкт-Петербург           50898.0   \n",
       "\n",
       "  cityCenters_nearest  parks_around3000  parks_nearest  ponds_around3000  \\\n",
       "0             16028.0               1.0          482.0               2.0   \n",
       "1             18603.0               0.0            NaN               0.0   \n",
       "2             13933.0               1.0           90.0               2.0   \n",
       "3              6800.0               2.0           84.0               3.0   \n",
       "4              8098.0               2.0          112.0               1.0   \n",
       "5                 NaN               NaN            NaN               NaN   \n",
       "6             19143.0               0.0            NaN               0.0   \n",
       "7             11634.0               0.0            NaN               0.0   \n",
       "8                 NaN               NaN            NaN               NaN   \n",
       "9             15008.0               0.0            NaN               0.0   \n",
       "\n",
       "   ponds_nearest  days_exposition  \n",
       "0          755.0              NaN  \n",
       "1            NaN             81.0  \n",
       "2          574.0            558.0  \n",
       "3          234.0            424.0  \n",
       "4           48.0            121.0  \n",
       "5            NaN             55.0  \n",
       "6            NaN            155.0  \n",
       "7            NaN              NaN  \n",
       "8            NaN            189.0  \n",
       "9            NaN            289.0  \n",
       "\n",
       "[10 rows x 22 columns]"
      ]
     },
     "execution_count": 2,
     "metadata": {},
     "output_type": "execute_result"
    }
   ],
   "source": [
    "data.head(10)"
   ]
  },
  {
   "cell_type": "code",
   "execution_count": 3,
   "metadata": {},
   "outputs": [
    {
     "data": {
      "text/html": [
       "<div>\n",
       "<style scoped>\n",
       "    .dataframe tbody tr th:only-of-type {\n",
       "        vertical-align: middle;\n",
       "    }\n",
       "\n",
       "    .dataframe tbody tr th {\n",
       "        vertical-align: top;\n",
       "    }\n",
       "\n",
       "    .dataframe thead th {\n",
       "        text-align: right;\n",
       "    }\n",
       "</style>\n",
       "<table border=\"1\" class=\"dataframe\">\n",
       "  <thead>\n",
       "    <tr style=\"text-align: right;\">\n",
       "      <th></th>\n",
       "      <th>total_images</th>\n",
       "      <th>last_price</th>\n",
       "      <th>total_area</th>\n",
       "      <th>first_day_exposition</th>\n",
       "      <th>rooms</th>\n",
       "      <th>ceiling_height</th>\n",
       "      <th>floors_total</th>\n",
       "      <th>living_area</th>\n",
       "      <th>floor</th>\n",
       "      <th>is_apartment</th>\n",
       "      <th>...</th>\n",
       "      <th>kitchen_area</th>\n",
       "      <th>balcony</th>\n",
       "      <th>locality_name</th>\n",
       "      <th>airports_nearest</th>\n",
       "      <th>cityCenters_nearest</th>\n",
       "      <th>parks_around3000</th>\n",
       "      <th>parks_nearest</th>\n",
       "      <th>ponds_around3000</th>\n",
       "      <th>ponds_nearest</th>\n",
       "      <th>days_exposition</th>\n",
       "    </tr>\n",
       "  </thead>\n",
       "  <tbody>\n",
       "    <tr>\n",
       "      <td>23689</td>\n",
       "      <td>13</td>\n",
       "      <td>3550000.0</td>\n",
       "      <td>35.30</td>\n",
       "      <td>2018-02-28T00:00:00</td>\n",
       "      <td>1</td>\n",
       "      <td>2.86</td>\n",
       "      <td>15.0</td>\n",
       "      <td>16.3</td>\n",
       "      <td>4</td>\n",
       "      <td>NaN</td>\n",
       "      <td>...</td>\n",
       "      <td>9.10</td>\n",
       "      <td>2.0</td>\n",
       "      <td>Санкт-Петербург</td>\n",
       "      <td>17284.0</td>\n",
       "      <td>16081.0</td>\n",
       "      <td>1.0</td>\n",
       "      <td>353.0</td>\n",
       "      <td>2.0</td>\n",
       "      <td>652.0</td>\n",
       "      <td>29.0</td>\n",
       "    </tr>\n",
       "    <tr>\n",
       "      <td>23690</td>\n",
       "      <td>3</td>\n",
       "      <td>5500000.0</td>\n",
       "      <td>52.00</td>\n",
       "      <td>2018-07-19T00:00:00</td>\n",
       "      <td>2</td>\n",
       "      <td>NaN</td>\n",
       "      <td>5.0</td>\n",
       "      <td>31.0</td>\n",
       "      <td>2</td>\n",
       "      <td>NaN</td>\n",
       "      <td>...</td>\n",
       "      <td>6.00</td>\n",
       "      <td>NaN</td>\n",
       "      <td>Санкт-Петербург</td>\n",
       "      <td>20151.0</td>\n",
       "      <td>6263.0</td>\n",
       "      <td>1.0</td>\n",
       "      <td>300.0</td>\n",
       "      <td>0.0</td>\n",
       "      <td>NaN</td>\n",
       "      <td>15.0</td>\n",
       "    </tr>\n",
       "    <tr>\n",
       "      <td>23691</td>\n",
       "      <td>11</td>\n",
       "      <td>9470000.0</td>\n",
       "      <td>72.90</td>\n",
       "      <td>2016-10-13T00:00:00</td>\n",
       "      <td>2</td>\n",
       "      <td>2.75</td>\n",
       "      <td>25.0</td>\n",
       "      <td>40.3</td>\n",
       "      <td>7</td>\n",
       "      <td>NaN</td>\n",
       "      <td>...</td>\n",
       "      <td>10.60</td>\n",
       "      <td>1.0</td>\n",
       "      <td>Санкт-Петербург</td>\n",
       "      <td>19424.0</td>\n",
       "      <td>4489.0</td>\n",
       "      <td>0.0</td>\n",
       "      <td>NaN</td>\n",
       "      <td>1.0</td>\n",
       "      <td>806.0</td>\n",
       "      <td>519.0</td>\n",
       "    </tr>\n",
       "    <tr>\n",
       "      <td>23692</td>\n",
       "      <td>2</td>\n",
       "      <td>1350000.0</td>\n",
       "      <td>30.00</td>\n",
       "      <td>2017-07-07T00:00:00</td>\n",
       "      <td>1</td>\n",
       "      <td>NaN</td>\n",
       "      <td>5.0</td>\n",
       "      <td>17.5</td>\n",
       "      <td>4</td>\n",
       "      <td>NaN</td>\n",
       "      <td>...</td>\n",
       "      <td>6.00</td>\n",
       "      <td>NaN</td>\n",
       "      <td>Тихвин</td>\n",
       "      <td>NaN</td>\n",
       "      <td>NaN</td>\n",
       "      <td>NaN</td>\n",
       "      <td>NaN</td>\n",
       "      <td>NaN</td>\n",
       "      <td>NaN</td>\n",
       "      <td>413.0</td>\n",
       "    </tr>\n",
       "    <tr>\n",
       "      <td>23693</td>\n",
       "      <td>9</td>\n",
       "      <td>4600000.0</td>\n",
       "      <td>62.40</td>\n",
       "      <td>2016-08-05T00:00:00</td>\n",
       "      <td>3</td>\n",
       "      <td>2.60</td>\n",
       "      <td>9.0</td>\n",
       "      <td>40.0</td>\n",
       "      <td>8</td>\n",
       "      <td>NaN</td>\n",
       "      <td>...</td>\n",
       "      <td>8.00</td>\n",
       "      <td>0.0</td>\n",
       "      <td>Петергоф</td>\n",
       "      <td>45602.0</td>\n",
       "      <td>34104.0</td>\n",
       "      <td>1.0</td>\n",
       "      <td>352.0</td>\n",
       "      <td>1.0</td>\n",
       "      <td>675.0</td>\n",
       "      <td>239.0</td>\n",
       "    </tr>\n",
       "    <tr>\n",
       "      <td>23694</td>\n",
       "      <td>9</td>\n",
       "      <td>9700000.0</td>\n",
       "      <td>133.81</td>\n",
       "      <td>2017-03-21T00:00:00</td>\n",
       "      <td>3</td>\n",
       "      <td>3.70</td>\n",
       "      <td>5.0</td>\n",
       "      <td>73.3</td>\n",
       "      <td>3</td>\n",
       "      <td>NaN</td>\n",
       "      <td>...</td>\n",
       "      <td>13.83</td>\n",
       "      <td>NaN</td>\n",
       "      <td>Санкт-Петербург</td>\n",
       "      <td>24665.0</td>\n",
       "      <td>4232.0</td>\n",
       "      <td>1.0</td>\n",
       "      <td>796.0</td>\n",
       "      <td>3.0</td>\n",
       "      <td>381.0</td>\n",
       "      <td>NaN</td>\n",
       "    </tr>\n",
       "    <tr>\n",
       "      <td>23695</td>\n",
       "      <td>14</td>\n",
       "      <td>3100000.0</td>\n",
       "      <td>59.00</td>\n",
       "      <td>2018-01-15T00:00:00</td>\n",
       "      <td>3</td>\n",
       "      <td>NaN</td>\n",
       "      <td>5.0</td>\n",
       "      <td>38.0</td>\n",
       "      <td>4</td>\n",
       "      <td>NaN</td>\n",
       "      <td>...</td>\n",
       "      <td>8.50</td>\n",
       "      <td>NaN</td>\n",
       "      <td>Тосно</td>\n",
       "      <td>NaN</td>\n",
       "      <td>NaN</td>\n",
       "      <td>NaN</td>\n",
       "      <td>NaN</td>\n",
       "      <td>NaN</td>\n",
       "      <td>NaN</td>\n",
       "      <td>45.0</td>\n",
       "    </tr>\n",
       "    <tr>\n",
       "      <td>23696</td>\n",
       "      <td>18</td>\n",
       "      <td>2500000.0</td>\n",
       "      <td>56.70</td>\n",
       "      <td>2018-02-11T00:00:00</td>\n",
       "      <td>2</td>\n",
       "      <td>NaN</td>\n",
       "      <td>3.0</td>\n",
       "      <td>29.7</td>\n",
       "      <td>1</td>\n",
       "      <td>NaN</td>\n",
       "      <td>...</td>\n",
       "      <td>NaN</td>\n",
       "      <td>NaN</td>\n",
       "      <td>село Рождествено</td>\n",
       "      <td>NaN</td>\n",
       "      <td>NaN</td>\n",
       "      <td>NaN</td>\n",
       "      <td>NaN</td>\n",
       "      <td>NaN</td>\n",
       "      <td>NaN</td>\n",
       "      <td>NaN</td>\n",
       "    </tr>\n",
       "    <tr>\n",
       "      <td>23697</td>\n",
       "      <td>13</td>\n",
       "      <td>11475000.0</td>\n",
       "      <td>76.75</td>\n",
       "      <td>2017-03-28T00:00:00</td>\n",
       "      <td>2</td>\n",
       "      <td>3.00</td>\n",
       "      <td>17.0</td>\n",
       "      <td>NaN</td>\n",
       "      <td>12</td>\n",
       "      <td>NaN</td>\n",
       "      <td>...</td>\n",
       "      <td>23.30</td>\n",
       "      <td>2.0</td>\n",
       "      <td>Санкт-Петербург</td>\n",
       "      <td>39140.0</td>\n",
       "      <td>10364.0</td>\n",
       "      <td>2.0</td>\n",
       "      <td>173.0</td>\n",
       "      <td>3.0</td>\n",
       "      <td>196.0</td>\n",
       "      <td>602.0</td>\n",
       "    </tr>\n",
       "    <tr>\n",
       "      <td>23698</td>\n",
       "      <td>4</td>\n",
       "      <td>1350000.0</td>\n",
       "      <td>32.30</td>\n",
       "      <td>2017-07-21T00:00:00</td>\n",
       "      <td>1</td>\n",
       "      <td>2.50</td>\n",
       "      <td>5.0</td>\n",
       "      <td>12.3</td>\n",
       "      <td>1</td>\n",
       "      <td>NaN</td>\n",
       "      <td>...</td>\n",
       "      <td>9.00</td>\n",
       "      <td>NaN</td>\n",
       "      <td>поселок Новый Учхоз</td>\n",
       "      <td>NaN</td>\n",
       "      <td>NaN</td>\n",
       "      <td>NaN</td>\n",
       "      <td>NaN</td>\n",
       "      <td>NaN</td>\n",
       "      <td>NaN</td>\n",
       "      <td>NaN</td>\n",
       "    </tr>\n",
       "  </tbody>\n",
       "</table>\n",
       "<p>10 rows × 22 columns</p>\n",
       "</div>"
      ],
      "text/plain": [
       "       total_images  last_price  total_area first_day_exposition  rooms  \\\n",
       "23689            13   3550000.0       35.30  2018-02-28T00:00:00      1   \n",
       "23690             3   5500000.0       52.00  2018-07-19T00:00:00      2   \n",
       "23691            11   9470000.0       72.90  2016-10-13T00:00:00      2   \n",
       "23692             2   1350000.0       30.00  2017-07-07T00:00:00      1   \n",
       "23693             9   4600000.0       62.40  2016-08-05T00:00:00      3   \n",
       "23694             9   9700000.0      133.81  2017-03-21T00:00:00      3   \n",
       "23695            14   3100000.0       59.00  2018-01-15T00:00:00      3   \n",
       "23696            18   2500000.0       56.70  2018-02-11T00:00:00      2   \n",
       "23697            13  11475000.0       76.75  2017-03-28T00:00:00      2   \n",
       "23698             4   1350000.0       32.30  2017-07-21T00:00:00      1   \n",
       "\n",
       "       ceiling_height  floors_total  living_area  floor is_apartment  ...  \\\n",
       "23689            2.86          15.0         16.3      4          NaN  ...   \n",
       "23690             NaN           5.0         31.0      2          NaN  ...   \n",
       "23691            2.75          25.0         40.3      7          NaN  ...   \n",
       "23692             NaN           5.0         17.5      4          NaN  ...   \n",
       "23693            2.60           9.0         40.0      8          NaN  ...   \n",
       "23694            3.70           5.0         73.3      3          NaN  ...   \n",
       "23695             NaN           5.0         38.0      4          NaN  ...   \n",
       "23696             NaN           3.0         29.7      1          NaN  ...   \n",
       "23697            3.00          17.0          NaN     12          NaN  ...   \n",
       "23698            2.50           5.0         12.3      1          NaN  ...   \n",
       "\n",
       "       kitchen_area  balcony        locality_name  airports_nearest  \\\n",
       "23689          9.10      2.0      Санкт-Петербург           17284.0   \n",
       "23690          6.00      NaN      Санкт-Петербург           20151.0   \n",
       "23691         10.60      1.0      Санкт-Петербург           19424.0   \n",
       "23692          6.00      NaN               Тихвин               NaN   \n",
       "23693          8.00      0.0             Петергоф           45602.0   \n",
       "23694         13.83      NaN      Санкт-Петербург           24665.0   \n",
       "23695          8.50      NaN                Тосно               NaN   \n",
       "23696           NaN      NaN     село Рождествено               NaN   \n",
       "23697         23.30      2.0      Санкт-Петербург           39140.0   \n",
       "23698          9.00      NaN  поселок Новый Учхоз               NaN   \n",
       "\n",
       "      cityCenters_nearest  parks_around3000  parks_nearest  ponds_around3000  \\\n",
       "23689             16081.0               1.0          353.0               2.0   \n",
       "23690              6263.0               1.0          300.0               0.0   \n",
       "23691              4489.0               0.0            NaN               1.0   \n",
       "23692                 NaN               NaN            NaN               NaN   \n",
       "23693             34104.0               1.0          352.0               1.0   \n",
       "23694              4232.0               1.0          796.0               3.0   \n",
       "23695                 NaN               NaN            NaN               NaN   \n",
       "23696                 NaN               NaN            NaN               NaN   \n",
       "23697             10364.0               2.0          173.0               3.0   \n",
       "23698                 NaN               NaN            NaN               NaN   \n",
       "\n",
       "       ponds_nearest  days_exposition  \n",
       "23689          652.0             29.0  \n",
       "23690            NaN             15.0  \n",
       "23691          806.0            519.0  \n",
       "23692            NaN            413.0  \n",
       "23693          675.0            239.0  \n",
       "23694          381.0              NaN  \n",
       "23695            NaN             45.0  \n",
       "23696            NaN              NaN  \n",
       "23697          196.0            602.0  \n",
       "23698            NaN              NaN  \n",
       "\n",
       "[10 rows x 22 columns]"
      ]
     },
     "execution_count": 3,
     "metadata": {},
     "output_type": "execute_result"
    }
   ],
   "source": [
    "data.tail(10)"
   ]
  },
  {
   "cell_type": "code",
   "execution_count": 4,
   "metadata": {},
   "outputs": [
    {
     "data": {
      "text/html": [
       "<div>\n",
       "<style scoped>\n",
       "    .dataframe tbody tr th:only-of-type {\n",
       "        vertical-align: middle;\n",
       "    }\n",
       "\n",
       "    .dataframe tbody tr th {\n",
       "        vertical-align: top;\n",
       "    }\n",
       "\n",
       "    .dataframe thead th {\n",
       "        text-align: right;\n",
       "    }\n",
       "</style>\n",
       "<table border=\"1\" class=\"dataframe\">\n",
       "  <thead>\n",
       "    <tr style=\"text-align: right;\">\n",
       "      <th></th>\n",
       "      <th>total_images</th>\n",
       "      <th>last_price</th>\n",
       "      <th>total_area</th>\n",
       "      <th>rooms</th>\n",
       "      <th>ceiling_height</th>\n",
       "      <th>floors_total</th>\n",
       "      <th>living_area</th>\n",
       "      <th>floor</th>\n",
       "      <th>kitchen_area</th>\n",
       "      <th>balcony</th>\n",
       "      <th>airports_nearest</th>\n",
       "      <th>cityCenters_nearest</th>\n",
       "      <th>parks_around3000</th>\n",
       "      <th>parks_nearest</th>\n",
       "      <th>ponds_around3000</th>\n",
       "      <th>ponds_nearest</th>\n",
       "      <th>days_exposition</th>\n",
       "    </tr>\n",
       "  </thead>\n",
       "  <tbody>\n",
       "    <tr>\n",
       "      <td>count</td>\n",
       "      <td>23699.000000</td>\n",
       "      <td>2.369900e+04</td>\n",
       "      <td>23699.000000</td>\n",
       "      <td>23699.000000</td>\n",
       "      <td>14504.000000</td>\n",
       "      <td>23613.000000</td>\n",
       "      <td>21796.000000</td>\n",
       "      <td>23699.000000</td>\n",
       "      <td>21421.000000</td>\n",
       "      <td>12180.000000</td>\n",
       "      <td>18157.000000</td>\n",
       "      <td>18180.000000</td>\n",
       "      <td>18181.000000</td>\n",
       "      <td>8079.000000</td>\n",
       "      <td>18181.000000</td>\n",
       "      <td>9110.000000</td>\n",
       "      <td>20518.000000</td>\n",
       "    </tr>\n",
       "    <tr>\n",
       "      <td>mean</td>\n",
       "      <td>9.858475</td>\n",
       "      <td>6.541549e+06</td>\n",
       "      <td>60.348651</td>\n",
       "      <td>2.070636</td>\n",
       "      <td>2.771499</td>\n",
       "      <td>10.673824</td>\n",
       "      <td>34.457852</td>\n",
       "      <td>5.892358</td>\n",
       "      <td>10.569807</td>\n",
       "      <td>1.150082</td>\n",
       "      <td>28793.672193</td>\n",
       "      <td>14191.277833</td>\n",
       "      <td>0.611408</td>\n",
       "      <td>490.804555</td>\n",
       "      <td>0.770255</td>\n",
       "      <td>517.980900</td>\n",
       "      <td>180.888634</td>\n",
       "    </tr>\n",
       "    <tr>\n",
       "      <td>std</td>\n",
       "      <td>5.682529</td>\n",
       "      <td>1.088701e+07</td>\n",
       "      <td>35.654083</td>\n",
       "      <td>1.078405</td>\n",
       "      <td>1.261056</td>\n",
       "      <td>6.597173</td>\n",
       "      <td>22.030445</td>\n",
       "      <td>4.885249</td>\n",
       "      <td>5.905438</td>\n",
       "      <td>1.071300</td>\n",
       "      <td>12630.880622</td>\n",
       "      <td>8608.386210</td>\n",
       "      <td>0.802074</td>\n",
       "      <td>342.317995</td>\n",
       "      <td>0.938346</td>\n",
       "      <td>277.720643</td>\n",
       "      <td>219.727988</td>\n",
       "    </tr>\n",
       "    <tr>\n",
       "      <td>min</td>\n",
       "      <td>0.000000</td>\n",
       "      <td>1.219000e+04</td>\n",
       "      <td>12.000000</td>\n",
       "      <td>0.000000</td>\n",
       "      <td>1.000000</td>\n",
       "      <td>1.000000</td>\n",
       "      <td>2.000000</td>\n",
       "      <td>1.000000</td>\n",
       "      <td>1.300000</td>\n",
       "      <td>0.000000</td>\n",
       "      <td>0.000000</td>\n",
       "      <td>181.000000</td>\n",
       "      <td>0.000000</td>\n",
       "      <td>1.000000</td>\n",
       "      <td>0.000000</td>\n",
       "      <td>13.000000</td>\n",
       "      <td>1.000000</td>\n",
       "    </tr>\n",
       "    <tr>\n",
       "      <td>25%</td>\n",
       "      <td>6.000000</td>\n",
       "      <td>3.400000e+06</td>\n",
       "      <td>40.000000</td>\n",
       "      <td>1.000000</td>\n",
       "      <td>2.520000</td>\n",
       "      <td>5.000000</td>\n",
       "      <td>18.600000</td>\n",
       "      <td>2.000000</td>\n",
       "      <td>7.000000</td>\n",
       "      <td>0.000000</td>\n",
       "      <td>18585.000000</td>\n",
       "      <td>9238.000000</td>\n",
       "      <td>0.000000</td>\n",
       "      <td>288.000000</td>\n",
       "      <td>0.000000</td>\n",
       "      <td>294.000000</td>\n",
       "      <td>45.000000</td>\n",
       "    </tr>\n",
       "    <tr>\n",
       "      <td>50%</td>\n",
       "      <td>9.000000</td>\n",
       "      <td>4.650000e+06</td>\n",
       "      <td>52.000000</td>\n",
       "      <td>2.000000</td>\n",
       "      <td>2.650000</td>\n",
       "      <td>9.000000</td>\n",
       "      <td>30.000000</td>\n",
       "      <td>4.000000</td>\n",
       "      <td>9.100000</td>\n",
       "      <td>1.000000</td>\n",
       "      <td>26726.000000</td>\n",
       "      <td>13098.500000</td>\n",
       "      <td>0.000000</td>\n",
       "      <td>455.000000</td>\n",
       "      <td>1.000000</td>\n",
       "      <td>502.000000</td>\n",
       "      <td>95.000000</td>\n",
       "    </tr>\n",
       "    <tr>\n",
       "      <td>75%</td>\n",
       "      <td>14.000000</td>\n",
       "      <td>6.800000e+06</td>\n",
       "      <td>69.900000</td>\n",
       "      <td>3.000000</td>\n",
       "      <td>2.800000</td>\n",
       "      <td>16.000000</td>\n",
       "      <td>42.300000</td>\n",
       "      <td>8.000000</td>\n",
       "      <td>12.000000</td>\n",
       "      <td>2.000000</td>\n",
       "      <td>37273.000000</td>\n",
       "      <td>16293.000000</td>\n",
       "      <td>1.000000</td>\n",
       "      <td>612.000000</td>\n",
       "      <td>1.000000</td>\n",
       "      <td>729.000000</td>\n",
       "      <td>232.000000</td>\n",
       "    </tr>\n",
       "    <tr>\n",
       "      <td>max</td>\n",
       "      <td>50.000000</td>\n",
       "      <td>7.630000e+08</td>\n",
       "      <td>900.000000</td>\n",
       "      <td>19.000000</td>\n",
       "      <td>100.000000</td>\n",
       "      <td>60.000000</td>\n",
       "      <td>409.700000</td>\n",
       "      <td>33.000000</td>\n",
       "      <td>112.000000</td>\n",
       "      <td>5.000000</td>\n",
       "      <td>84869.000000</td>\n",
       "      <td>65968.000000</td>\n",
       "      <td>3.000000</td>\n",
       "      <td>3190.000000</td>\n",
       "      <td>3.000000</td>\n",
       "      <td>1344.000000</td>\n",
       "      <td>1580.000000</td>\n",
       "    </tr>\n",
       "  </tbody>\n",
       "</table>\n",
       "</div>"
      ],
      "text/plain": [
       "       total_images    last_price    total_area         rooms  ceiling_height  \\\n",
       "count  23699.000000  2.369900e+04  23699.000000  23699.000000    14504.000000   \n",
       "mean       9.858475  6.541549e+06     60.348651      2.070636        2.771499   \n",
       "std        5.682529  1.088701e+07     35.654083      1.078405        1.261056   \n",
       "min        0.000000  1.219000e+04     12.000000      0.000000        1.000000   \n",
       "25%        6.000000  3.400000e+06     40.000000      1.000000        2.520000   \n",
       "50%        9.000000  4.650000e+06     52.000000      2.000000        2.650000   \n",
       "75%       14.000000  6.800000e+06     69.900000      3.000000        2.800000   \n",
       "max       50.000000  7.630000e+08    900.000000     19.000000      100.000000   \n",
       "\n",
       "       floors_total   living_area         floor  kitchen_area       balcony  \\\n",
       "count  23613.000000  21796.000000  23699.000000  21421.000000  12180.000000   \n",
       "mean      10.673824     34.457852      5.892358     10.569807      1.150082   \n",
       "std        6.597173     22.030445      4.885249      5.905438      1.071300   \n",
       "min        1.000000      2.000000      1.000000      1.300000      0.000000   \n",
       "25%        5.000000     18.600000      2.000000      7.000000      0.000000   \n",
       "50%        9.000000     30.000000      4.000000      9.100000      1.000000   \n",
       "75%       16.000000     42.300000      8.000000     12.000000      2.000000   \n",
       "max       60.000000    409.700000     33.000000    112.000000      5.000000   \n",
       "\n",
       "       airports_nearest  cityCenters_nearest  parks_around3000  parks_nearest  \\\n",
       "count      18157.000000         18180.000000      18181.000000    8079.000000   \n",
       "mean       28793.672193         14191.277833          0.611408     490.804555   \n",
       "std        12630.880622          8608.386210          0.802074     342.317995   \n",
       "min            0.000000           181.000000          0.000000       1.000000   \n",
       "25%        18585.000000          9238.000000          0.000000     288.000000   \n",
       "50%        26726.000000         13098.500000          0.000000     455.000000   \n",
       "75%        37273.000000         16293.000000          1.000000     612.000000   \n",
       "max        84869.000000         65968.000000          3.000000    3190.000000   \n",
       "\n",
       "       ponds_around3000  ponds_nearest  days_exposition  \n",
       "count      18181.000000    9110.000000     20518.000000  \n",
       "mean           0.770255     517.980900       180.888634  \n",
       "std            0.938346     277.720643       219.727988  \n",
       "min            0.000000      13.000000         1.000000  \n",
       "25%            0.000000     294.000000        45.000000  \n",
       "50%            1.000000     502.000000        95.000000  \n",
       "75%            1.000000     729.000000       232.000000  \n",
       "max            3.000000    1344.000000      1580.000000  "
      ]
     },
     "execution_count": 4,
     "metadata": {},
     "output_type": "execute_result"
    }
   ],
   "source": [
    "data.describe()"
   ]
  },
  {
   "cell_type": "code",
   "execution_count": 5,
   "metadata": {},
   "outputs": [
    {
     "name": "stdout",
     "output_type": "stream",
     "text": [
      "<class 'pandas.core.frame.DataFrame'>\n",
      "RangeIndex: 23699 entries, 0 to 23698\n",
      "Data columns (total 22 columns):\n",
      "total_images            23699 non-null int64\n",
      "last_price              23699 non-null float64\n",
      "total_area              23699 non-null float64\n",
      "first_day_exposition    23699 non-null object\n",
      "rooms                   23699 non-null int64\n",
      "ceiling_height          14504 non-null float64\n",
      "floors_total            23613 non-null float64\n",
      "living_area             21796 non-null float64\n",
      "floor                   23699 non-null int64\n",
      "is_apartment            2775 non-null object\n",
      "studio                  23699 non-null bool\n",
      "open_plan               23699 non-null bool\n",
      "kitchen_area            21421 non-null float64\n",
      "balcony                 12180 non-null float64\n",
      "locality_name           23650 non-null object\n",
      "airports_nearest        18157 non-null float64\n",
      "cityCenters_nearest     18180 non-null float64\n",
      "parks_around3000        18181 non-null float64\n",
      "parks_nearest           8079 non-null float64\n",
      "ponds_around3000        18181 non-null float64\n",
      "ponds_nearest           9110 non-null float64\n",
      "days_exposition         20518 non-null float64\n",
      "dtypes: bool(2), float64(14), int64(3), object(3)\n",
      "memory usage: 3.7+ MB\n"
     ]
    }
   ],
   "source": [
    "data.info()"
   ]
  },
  {
   "cell_type": "markdown",
   "metadata": {},
   "source": [
    "Общая информация: \n",
    "- airports_nearest — расстояние до ближайшего аэропорта в метрах (м)\n",
    "- balcony — число балконов\n",
    "- ceiling_height — высота потолков (м)\n",
    "- cityCenters_nearest — расстояние до центра города (м)\n",
    "- days_exposition — сколько дней было размещено объявление (от публикации до снятия)\n",
    "- first_day_exposition — дата публикации\n",
    "- floor — этаж\n",
    "- floors_total — всего этажей в доме\n",
    "- is_apartment — апартаменты (булев тип)\n",
    "- kitchen_area — площадь кухни в квадратных метрах (м²)\n",
    "- last_price — цена на момент снятия с публикации\n",
    "- living_area — жилая площадь в квадратных метрах(м²)\n",
    "- locality_name — название населённого пункта\n",
    "- open_plan — свободная планировка (булев тип)\n",
    "- parks_around3000 — число парков в радиусе 3 км\n",
    "- parks_nearest — расстояние до ближайшего парка (м)\n",
    "- ponds_around3000 — число водоёмов в радиусе 3 км\n",
    "- ponds_nearest — расстояние до ближайшего водоёма (м)\n",
    "- rooms — число комнат\n",
    "- studio — квартира-студия (булев тип)\n",
    "- total_area — площадь квартиры в квадратных метрах (м²)\n",
    "- total_images — число фотографий квартиры в объявлении\n",
    "\n",
    "На начальном этапе ясно: файл содержит данные по 23699 объектам недвижимости, каждый из которых описывается 22 признаками. У некоторых признаков есть пропущенные значения, которые необходимо обработать."
   ]
  },
  {
   "cell_type": "markdown",
   "metadata": {},
   "source": [
    "## Предобработка данных"
   ]
  },
  {
   "cell_type": "code",
   "execution_count": 6,
   "metadata": {},
   "outputs": [
    {
     "data": {
      "text/plain": [
       "total_images                0\n",
       "open_plan                   0\n",
       "floor                       0\n",
       "rooms                       0\n",
       "studio                      0\n",
       "total_area                  0\n",
       "last_price                  0\n",
       "first_day_exposition        0\n",
       "locality_name              49\n",
       "floors_total               86\n",
       "living_area              1903\n",
       "kitchen_area             2278\n",
       "days_exposition          3181\n",
       "ponds_around3000         5518\n",
       "parks_around3000         5518\n",
       "cityCenters_nearest      5519\n",
       "airports_nearest         5542\n",
       "ceiling_height           9195\n",
       "balcony                 11519\n",
       "ponds_nearest           14589\n",
       "parks_nearest           15620\n",
       "is_apartment            20924\n",
       "dtype: int64"
      ]
     },
     "metadata": {},
     "output_type": "display_data"
    },
    {
     "data": {
      "text/plain": [
       "365"
      ]
     },
     "metadata": {},
     "output_type": "display_data"
    },
    {
     "data": {
      "text/plain": [
       "331"
      ]
     },
     "metadata": {},
     "output_type": "display_data"
    },
    {
     "name": "stdout",
     "output_type": "stream",
     "text": [
      "Площадь жилого помещения занимает: 56.5%\n",
      "Площадь кухни занимает: 18.7%\n"
     ]
    },
    {
     "data": {
      "text/plain": [
       "total_images                0\n",
       "locality_name               0\n",
       "balcony                     0\n",
       "kitchen_area                0\n",
       "open_plan                   0\n",
       "is_apartment                0\n",
       "floor                       0\n",
       "studio                      0\n",
       "floors_total                0\n",
       "ceiling_height              0\n",
       "rooms                       0\n",
       "first_day_exposition        0\n",
       "total_area                  0\n",
       "last_price                  0\n",
       "living_area                 0\n",
       "days_exposition          3180\n",
       "cityCenters_nearest      4864\n",
       "parks_around3000         5510\n",
       "ponds_around3000         5510\n",
       "airports_nearest         5534\n",
       "ponds_nearest           14565\n",
       "parks_nearest           15585\n",
       "dtype: int64"
      ]
     },
     "metadata": {},
     "output_type": "display_data"
    },
    {
     "name": "stdout",
     "output_type": "stream",
     "text": [
      "<class 'pandas.core.frame.DataFrame'>\n",
      "Int64Index: 23649 entries, 0 to 23698\n",
      "Data columns (total 22 columns):\n",
      "total_images            23649 non-null int64\n",
      "last_price              23649 non-null int64\n",
      "total_area              23649 non-null float64\n",
      "first_day_exposition    23649 non-null object\n",
      "rooms                   23649 non-null int64\n",
      "ceiling_height          23649 non-null float64\n",
      "floors_total            23649 non-null int64\n",
      "living_area             23649 non-null float64\n",
      "floor                   23649 non-null int64\n",
      "is_apartment            23649 non-null bool\n",
      "studio                  23649 non-null bool\n",
      "open_plan               23649 non-null bool\n",
      "kitchen_area            23649 non-null float64\n",
      "balcony                 23649 non-null int64\n",
      "locality_name           23649 non-null object\n",
      "airports_nearest        18115 non-null float64\n",
      "cityCenters_nearest     18785 non-null float64\n",
      "parks_around3000        18139 non-null float64\n",
      "parks_nearest           8064 non-null float64\n",
      "ponds_around3000        18139 non-null float64\n",
      "ponds_nearest           9084 non-null float64\n",
      "days_exposition         20469 non-null float64\n",
      "dtypes: bool(3), float64(11), int64(6), object(2)\n",
      "memory usage: 3.7+ MB\n"
     ]
    }
   ],
   "source": [
    "#посмотрим количество пропусков в каждом столбце\n",
    "display(data.isna().sum().sort_values())\n",
    "\n",
    "#Столбец [locality_name]\n",
    "display(len(data['locality_name'].unique()))\n",
    "data['locality_name'] = data['locality_name'].str.lower()\n",
    "#Возможно есть проблема с буквой Ё\n",
    "#display(data['locality_name'].unique())\n",
    "data['locality_name'] = data['locality_name'].str.replace('ё', 'е', regex=True)\n",
    "#Действительно ситуация изменилась, убрали 34 дубля\n",
    "display(len(data['locality_name'].unique()))\n",
    "# Удалим строки без города, они будут мешать в анализе и даже пользователям такие объявления не нужны, так как не понятно, где эта квартира.\n",
    "data = data.dropna(subset=['locality_name'])\n",
    "\n",
    "#В столбце [balcony] много занчений NaN,скорее все, где балкон отсутствует, там вместо 0 стоит NaN\n",
    "data['balcony'] = data['balcony'].fillna(0)\n",
    "\n",
    "#Столбец ['is_apartment'] имеет булев тип, т.е обозначение аппартаменты это или нет, так же в апартаментаx значения NaN\n",
    "#Скорее всего люди не знают разницы между апартаментами и квартирами,поэтому при заполнении формы пропускали эти пункты\n",
    "#а владельцы апартаментов точно в курсе, что у них апартаменты\n",
    "#Поэтому заменим пустые значения на False \n",
    "#display(data['is_apartment'].unique())\n",
    "data['is_apartment'] = data['is_apartment'].fillna(False)\n",
    "\n",
    "#Столбец [floors_total] \n",
    "median = data.groupby('locality_name').agg({'floors_total' : 'median'})\n",
    "for element in data['locality_name'].unique():\n",
    "    data.loc[data['locality_name'] == element, 'floors_total'] = data.loc[data['locality_name'] == element, 'floors_total'].fillna(median.loc[element, 'floors_total'])\n",
    "\n",
    "#Пропуски в столбце [living_area] (жилая площадь в квадратных метрах) и [kitchen_area] (площадь кухни в квадратных метрах)\n",
    "#Посчитаем какую часть занимает жилая площадь от всей площади квартиры\n",
    "part_living_area = (data['living_area'] / data['total_area']).mean()\n",
    "print(\"Площадь жилого помещения занимает: {:.1%}\".format(part_living_area))\n",
    "#Посчитаем какую часть занимает площадь кухни от всей площади\n",
    "part_kitchen_area = (data['kitchen_area'] / data['total_area']).mean()\n",
    "print(\"Площадь кухни занимает: {:.1%}\".format(part_kitchen_area))\n",
    "#Площадь жилого помещения в среднем занимает: 56.5%\n",
    "#Площадь кухни занимает: 18.7%\n",
    "#сделаем замену пропусков произведением общей площади на часть, которую занимают жилая площадь и кухня\n",
    "data['living_area'] = data['living_area'].fillna(data['total_area'] * 0.565)\n",
    "data['kitchen_area'] = data['kitchen_area'].fillna(data['total_area'] * 0.187)     \n",
    "\n",
    "# необходимо сделать группировку по локации и выделить среднее значение \n",
    "# расстояния до центра города  для каждой локации \n",
    "#и вставить эти значения вместо нулей по этим локациям\n",
    "#вводим переменную, которая нам дает среднее значение  \n",
    "median_locality_name = data.groupby('locality_name').agg({'cityCenters_nearest' : 'median'})\n",
    "for element in data['locality_name'].unique():\n",
    "    data.loc[data['locality_name'] == element, 'cityCenters_nearest'] = data.loc[data['locality_name'] == element, 'cityCenters_nearest'].fillna(median_locality_name.loc[element, 'cityCenters_nearest'])\n",
    "\n",
    "    \n",
    "#Столбец [ceiling_height]\n",
    "median_new = data.groupby('floors_total').agg({'ceiling_height' : 'median'})\n",
    "for element in data['floors_total'].unique():\n",
    "    data.loc[data['floors_total'] == element, 'ceiling_height'] = data.loc[data['floors_total'] == element, 'ceiling_height'].fillna(median_new.loc[element, 'ceiling_height'])\n",
    "data = data.drop(index=[11575])\n",
    "\n",
    "\n",
    "\n",
    "list_to_int = ['last_price', 'floors_total', 'balcony', 'floor']\n",
    "\n",
    "for column in list_to_int:\n",
    "    data[column] = data[column].astype('int')\n",
    "#Округляем до 1 знака после запятой:    \n",
    "list_to_float_1 = ['total_area', 'ceiling_height', 'living_area', 'kitchen_area']\n",
    "\n",
    "for column in list_to_float_1:\n",
    "    data[column] = data[column].round(1)\n",
    "\n",
    "display(data.isna().sum().sort_values())\n",
    "#Дубликатов нет\n",
    "data.duplicated().sum()\n",
    "data.info()\n",
    "\n"
   ]
  },
  {
   "cell_type": "markdown",
   "metadata": {},
   "source": [
    "Исправление значений NaN: \n",
    "- Столбец [locality_name] - была проблема с буквами Ё и Е. По исправлению избавились от 34 дубликатов. \n",
    "- Столбец [floors_total] -  Данный столбец содержал пропуски.  Заполним тогда значения с помощью расчета медианы для каждой группы окрестности, так как чаще всего дома в одном районе строят по одному типу. Все NaN по датафрейму заполнены, явно некорректные значения откорректированы.\n",
    "- Столбец [living_area] и [kitchen_area] - посчитаем какую часть в среднем занимает жилая площадь от всей площади квартиры и какую часть в среднем занимает площадь кухни от всей площади. Площадь жилого помещения в среднем занимает: 56.5%. Площадь кухни занимает: 18.7%. Сделаем замену пропусков произведением общей площади на часть, которую занимают жилая площадь и кухня.\n",
    "- Столбец [balcony] много занчений NaN, скорее всего, люди неимеющие балконов ничего не ставили вместо 0. Поэтому все значения NaN были заменены 0\n",
    "- Столбец [is_apartment] - расстояние до ближайшего аэропорта в метрах (м). Причиной может быть следующее: не многие люди знали разницы между апартаментами и квартирами, это вело к тому, что люди, которые продавали квартиры, при заполнении формы для создания объявления просто пропускали эти пункты, т.к. особо не понимали, что их спрашивали. И наоборот, владельцы апартаментов точно в курсе, что у них апартаменты (раз уж они их приобрели, значит, они разбираются в этом вопросе), поэтому по ним данные оказались заполненными.\n",
    "- Столбец [ceiling_height] в среднем высота потолков в пределах 2,5-2,7 метра. Для элитного жилья показатель может превышать 3 метра. поэтому возьмем максимальную высоту потолка - 4 метра, а минимальную 2.4 метра. Число этажей в доме: пропущено 0,4% значений. Была взята медиана ceiling-height от кол-ва этажей в доме, так как в нашей стране распространено типовое жилье. Также после замены осталось одно значение NaN, эта строчка была удалена, чтобы избавиться от всех NaN.\n",
    "\n",
    "Количество NaN по days_exposition : 3181. Довольно важный параметр. Но \"среднее\"/\"медиана\" не подойдут или заполняют малое количество пропусков. Расстояние до центра города: пропущено 23,3% значений. При этом из всех квартир Санкт-Петербурга отсутствует информация по расстоянию до центра для 0,4% квартир. Поскольку трудоемкость заполнения таких пропущенных значений велика по сравнению с их общим количеством, оставим данные пропущенные значения без изменений. Поэтому оставляем эти столбец в покое. \n",
    "Пропуски в столбцах, которые не нужны в дальнейшем было принято оставить:\n",
    "• airports_nearest — расстояние до ближайшего аэропорта в метрах (м)\n",
    "• parks_around3000 — число парков в радиусе 3 (км)\n",
    "• parks_nearest — расстояние до ближайшего парка (м)\n",
    "• ponds_around3000 — число водоёмов в радиусе 3 (км)\n",
    "• ponds_nearest — расстояние до ближайшего водоёма (м)\n",
    "Были скорректированы столбцы 'last_price', 'floors_total', 'balcony', 'floor'  в тип int. Для того, чтобы таблица легче воспринималась на глаз.  Нужный тип значения перевелся методом astype(). Аргумент ('int') метода astype() означает, что значение нужно перевести в целое число."
   ]
  },
  {
   "cell_type": "markdown",
   "metadata": {},
   "source": [
    "## Расчёты и добавление результатов в таблицу"
   ]
  },
  {
   "cell_type": "code",
   "execution_count": 7,
   "metadata": {},
   "outputs": [
    {
     "data": {
      "text/html": [
       "<div>\n",
       "<style scoped>\n",
       "    .dataframe tbody tr th:only-of-type {\n",
       "        vertical-align: middle;\n",
       "    }\n",
       "\n",
       "    .dataframe tbody tr th {\n",
       "        vertical-align: top;\n",
       "    }\n",
       "\n",
       "    .dataframe thead th {\n",
       "        text-align: right;\n",
       "    }\n",
       "</style>\n",
       "<table border=\"1\" class=\"dataframe\">\n",
       "  <thead>\n",
       "    <tr style=\"text-align: right;\">\n",
       "      <th></th>\n",
       "      <th>total_images</th>\n",
       "      <th>last_price</th>\n",
       "      <th>total_area</th>\n",
       "      <th>rooms</th>\n",
       "      <th>ceiling_height</th>\n",
       "      <th>floors_total</th>\n",
       "      <th>living_area</th>\n",
       "      <th>floor</th>\n",
       "      <th>is_apartment</th>\n",
       "      <th>studio</th>\n",
       "      <th>...</th>\n",
       "      <th>ponds_nearest</th>\n",
       "      <th>days_exposition</th>\n",
       "      <th>price_per_meter</th>\n",
       "      <th>time</th>\n",
       "      <th>weekday</th>\n",
       "      <th>month</th>\n",
       "      <th>year</th>\n",
       "      <th>floors_group</th>\n",
       "      <th>ratio_living_total</th>\n",
       "      <th>ratio_kitchen_total</th>\n",
       "    </tr>\n",
       "  </thead>\n",
       "  <tbody>\n",
       "    <tr>\n",
       "      <td>0</td>\n",
       "      <td>20</td>\n",
       "      <td>13000000</td>\n",
       "      <td>108.0</td>\n",
       "      <td>3</td>\n",
       "      <td>2.7</td>\n",
       "      <td>16</td>\n",
       "      <td>51.0</td>\n",
       "      <td>8</td>\n",
       "      <td>False</td>\n",
       "      <td>False</td>\n",
       "      <td>...</td>\n",
       "      <td>755.0</td>\n",
       "      <td>NaN</td>\n",
       "      <td>120370.370370</td>\n",
       "      <td>2019-03-07</td>\n",
       "      <td>3</td>\n",
       "      <td>3</td>\n",
       "      <td>2019</td>\n",
       "      <td>другой</td>\n",
       "      <td>0.472222</td>\n",
       "      <td>0.231481</td>\n",
       "    </tr>\n",
       "    <tr>\n",
       "      <td>1</td>\n",
       "      <td>7</td>\n",
       "      <td>3350000</td>\n",
       "      <td>40.4</td>\n",
       "      <td>1</td>\n",
       "      <td>2.8</td>\n",
       "      <td>11</td>\n",
       "      <td>18.6</td>\n",
       "      <td>1</td>\n",
       "      <td>False</td>\n",
       "      <td>False</td>\n",
       "      <td>...</td>\n",
       "      <td>NaN</td>\n",
       "      <td>81.0</td>\n",
       "      <td>82920.792079</td>\n",
       "      <td>2018-12-04</td>\n",
       "      <td>1</td>\n",
       "      <td>12</td>\n",
       "      <td>2018</td>\n",
       "      <td>первый</td>\n",
       "      <td>0.460396</td>\n",
       "      <td>0.272277</td>\n",
       "    </tr>\n",
       "    <tr>\n",
       "      <td>2</td>\n",
       "      <td>10</td>\n",
       "      <td>5196000</td>\n",
       "      <td>56.0</td>\n",
       "      <td>2</td>\n",
       "      <td>2.6</td>\n",
       "      <td>5</td>\n",
       "      <td>34.3</td>\n",
       "      <td>4</td>\n",
       "      <td>False</td>\n",
       "      <td>False</td>\n",
       "      <td>...</td>\n",
       "      <td>574.0</td>\n",
       "      <td>558.0</td>\n",
       "      <td>92785.714286</td>\n",
       "      <td>2015-08-20</td>\n",
       "      <td>3</td>\n",
       "      <td>8</td>\n",
       "      <td>2015</td>\n",
       "      <td>другой</td>\n",
       "      <td>0.612500</td>\n",
       "      <td>0.148214</td>\n",
       "    </tr>\n",
       "    <tr>\n",
       "      <td>3</td>\n",
       "      <td>0</td>\n",
       "      <td>64900000</td>\n",
       "      <td>159.0</td>\n",
       "      <td>3</td>\n",
       "      <td>2.6</td>\n",
       "      <td>14</td>\n",
       "      <td>89.8</td>\n",
       "      <td>9</td>\n",
       "      <td>False</td>\n",
       "      <td>False</td>\n",
       "      <td>...</td>\n",
       "      <td>234.0</td>\n",
       "      <td>424.0</td>\n",
       "      <td>408176.100629</td>\n",
       "      <td>2015-07-24</td>\n",
       "      <td>4</td>\n",
       "      <td>7</td>\n",
       "      <td>2015</td>\n",
       "      <td>другой</td>\n",
       "      <td>0.564780</td>\n",
       "      <td>0.186792</td>\n",
       "    </tr>\n",
       "    <tr>\n",
       "      <td>4</td>\n",
       "      <td>2</td>\n",
       "      <td>10000000</td>\n",
       "      <td>100.0</td>\n",
       "      <td>2</td>\n",
       "      <td>3.0</td>\n",
       "      <td>14</td>\n",
       "      <td>32.0</td>\n",
       "      <td>13</td>\n",
       "      <td>False</td>\n",
       "      <td>False</td>\n",
       "      <td>...</td>\n",
       "      <td>48.0</td>\n",
       "      <td>121.0</td>\n",
       "      <td>100000.000000</td>\n",
       "      <td>2018-06-19</td>\n",
       "      <td>1</td>\n",
       "      <td>6</td>\n",
       "      <td>2018</td>\n",
       "      <td>другой</td>\n",
       "      <td>0.320000</td>\n",
       "      <td>0.410000</td>\n",
       "    </tr>\n",
       "    <tr>\n",
       "      <td>...</td>\n",
       "      <td>...</td>\n",
       "      <td>...</td>\n",
       "      <td>...</td>\n",
       "      <td>...</td>\n",
       "      <td>...</td>\n",
       "      <td>...</td>\n",
       "      <td>...</td>\n",
       "      <td>...</td>\n",
       "      <td>...</td>\n",
       "      <td>...</td>\n",
       "      <td>...</td>\n",
       "      <td>...</td>\n",
       "      <td>...</td>\n",
       "      <td>...</td>\n",
       "      <td>...</td>\n",
       "      <td>...</td>\n",
       "      <td>...</td>\n",
       "      <td>...</td>\n",
       "      <td>...</td>\n",
       "      <td>...</td>\n",
       "      <td>...</td>\n",
       "    </tr>\n",
       "    <tr>\n",
       "      <td>23694</td>\n",
       "      <td>9</td>\n",
       "      <td>9700000</td>\n",
       "      <td>133.8</td>\n",
       "      <td>3</td>\n",
       "      <td>3.7</td>\n",
       "      <td>5</td>\n",
       "      <td>73.3</td>\n",
       "      <td>3</td>\n",
       "      <td>False</td>\n",
       "      <td>False</td>\n",
       "      <td>...</td>\n",
       "      <td>381.0</td>\n",
       "      <td>NaN</td>\n",
       "      <td>72496.263079</td>\n",
       "      <td>2017-03-21</td>\n",
       "      <td>1</td>\n",
       "      <td>3</td>\n",
       "      <td>2017</td>\n",
       "      <td>другой</td>\n",
       "      <td>0.547833</td>\n",
       "      <td>0.103139</td>\n",
       "    </tr>\n",
       "    <tr>\n",
       "      <td>23695</td>\n",
       "      <td>14</td>\n",
       "      <td>3100000</td>\n",
       "      <td>59.0</td>\n",
       "      <td>3</td>\n",
       "      <td>2.6</td>\n",
       "      <td>5</td>\n",
       "      <td>38.0</td>\n",
       "      <td>4</td>\n",
       "      <td>False</td>\n",
       "      <td>False</td>\n",
       "      <td>...</td>\n",
       "      <td>NaN</td>\n",
       "      <td>45.0</td>\n",
       "      <td>52542.372881</td>\n",
       "      <td>2018-01-15</td>\n",
       "      <td>0</td>\n",
       "      <td>1</td>\n",
       "      <td>2018</td>\n",
       "      <td>другой</td>\n",
       "      <td>0.644068</td>\n",
       "      <td>0.144068</td>\n",
       "    </tr>\n",
       "    <tr>\n",
       "      <td>23696</td>\n",
       "      <td>18</td>\n",
       "      <td>2500000</td>\n",
       "      <td>56.7</td>\n",
       "      <td>2</td>\n",
       "      <td>2.8</td>\n",
       "      <td>3</td>\n",
       "      <td>29.7</td>\n",
       "      <td>1</td>\n",
       "      <td>False</td>\n",
       "      <td>False</td>\n",
       "      <td>...</td>\n",
       "      <td>NaN</td>\n",
       "      <td>NaN</td>\n",
       "      <td>44091.710758</td>\n",
       "      <td>2018-02-11</td>\n",
       "      <td>6</td>\n",
       "      <td>2</td>\n",
       "      <td>2018</td>\n",
       "      <td>первый</td>\n",
       "      <td>0.523810</td>\n",
       "      <td>0.186949</td>\n",
       "    </tr>\n",
       "    <tr>\n",
       "      <td>23697</td>\n",
       "      <td>13</td>\n",
       "      <td>11475000</td>\n",
       "      <td>76.8</td>\n",
       "      <td>2</td>\n",
       "      <td>3.0</td>\n",
       "      <td>17</td>\n",
       "      <td>43.4</td>\n",
       "      <td>12</td>\n",
       "      <td>False</td>\n",
       "      <td>False</td>\n",
       "      <td>...</td>\n",
       "      <td>196.0</td>\n",
       "      <td>602.0</td>\n",
       "      <td>149414.062500</td>\n",
       "      <td>2017-03-28</td>\n",
       "      <td>1</td>\n",
       "      <td>3</td>\n",
       "      <td>2017</td>\n",
       "      <td>другой</td>\n",
       "      <td>0.565104</td>\n",
       "      <td>0.303385</td>\n",
       "    </tr>\n",
       "    <tr>\n",
       "      <td>23698</td>\n",
       "      <td>4</td>\n",
       "      <td>1350000</td>\n",
       "      <td>32.3</td>\n",
       "      <td>1</td>\n",
       "      <td>2.5</td>\n",
       "      <td>5</td>\n",
       "      <td>12.3</td>\n",
       "      <td>1</td>\n",
       "      <td>False</td>\n",
       "      <td>False</td>\n",
       "      <td>...</td>\n",
       "      <td>NaN</td>\n",
       "      <td>NaN</td>\n",
       "      <td>41795.665635</td>\n",
       "      <td>2017-07-21</td>\n",
       "      <td>4</td>\n",
       "      <td>7</td>\n",
       "      <td>2017</td>\n",
       "      <td>первый</td>\n",
       "      <td>0.380805</td>\n",
       "      <td>0.278638</td>\n",
       "    </tr>\n",
       "  </tbody>\n",
       "</table>\n",
       "<p>23649 rows × 29 columns</p>\n",
       "</div>"
      ],
      "text/plain": [
       "       total_images  last_price  total_area  rooms  ceiling_height  \\\n",
       "0                20    13000000       108.0      3             2.7   \n",
       "1                 7     3350000        40.4      1             2.8   \n",
       "2                10     5196000        56.0      2             2.6   \n",
       "3                 0    64900000       159.0      3             2.6   \n",
       "4                 2    10000000       100.0      2             3.0   \n",
       "...             ...         ...         ...    ...             ...   \n",
       "23694             9     9700000       133.8      3             3.7   \n",
       "23695            14     3100000        59.0      3             2.6   \n",
       "23696            18     2500000        56.7      2             2.8   \n",
       "23697            13    11475000        76.8      2             3.0   \n",
       "23698             4     1350000        32.3      1             2.5   \n",
       "\n",
       "       floors_total  living_area  floor  is_apartment  studio  ...  \\\n",
       "0                16         51.0      8         False   False  ...   \n",
       "1                11         18.6      1         False   False  ...   \n",
       "2                 5         34.3      4         False   False  ...   \n",
       "3                14         89.8      9         False   False  ...   \n",
       "4                14         32.0     13         False   False  ...   \n",
       "...             ...          ...    ...           ...     ...  ...   \n",
       "23694             5         73.3      3         False   False  ...   \n",
       "23695             5         38.0      4         False   False  ...   \n",
       "23696             3         29.7      1         False   False  ...   \n",
       "23697            17         43.4     12         False   False  ...   \n",
       "23698             5         12.3      1         False   False  ...   \n",
       "\n",
       "       ponds_nearest  days_exposition  price_per_meter       time  weekday  \\\n",
       "0              755.0              NaN    120370.370370 2019-03-07        3   \n",
       "1                NaN             81.0     82920.792079 2018-12-04        1   \n",
       "2              574.0            558.0     92785.714286 2015-08-20        3   \n",
       "3              234.0            424.0    408176.100629 2015-07-24        4   \n",
       "4               48.0            121.0    100000.000000 2018-06-19        1   \n",
       "...              ...              ...              ...        ...      ...   \n",
       "23694          381.0              NaN     72496.263079 2017-03-21        1   \n",
       "23695            NaN             45.0     52542.372881 2018-01-15        0   \n",
       "23696            NaN              NaN     44091.710758 2018-02-11        6   \n",
       "23697          196.0            602.0    149414.062500 2017-03-28        1   \n",
       "23698            NaN              NaN     41795.665635 2017-07-21        4   \n",
       "\n",
       "       month  year  floors_group  ratio_living_total  ratio_kitchen_total  \n",
       "0          3  2019        другой            0.472222             0.231481  \n",
       "1         12  2018        первый            0.460396             0.272277  \n",
       "2          8  2015        другой            0.612500             0.148214  \n",
       "3          7  2015        другой            0.564780             0.186792  \n",
       "4          6  2018        другой            0.320000             0.410000  \n",
       "...      ...   ...           ...                 ...                  ...  \n",
       "23694      3  2017        другой            0.547833             0.103139  \n",
       "23695      1  2018        другой            0.644068             0.144068  \n",
       "23696      2  2018        первый            0.523810             0.186949  \n",
       "23697      3  2017        другой            0.565104             0.303385  \n",
       "23698      7  2017        первый            0.380805             0.278638  \n",
       "\n",
       "[23649 rows x 29 columns]"
      ]
     },
     "metadata": {},
     "output_type": "display_data"
    }
   ],
   "source": [
    "#Добавление столбца, который показывает цену квадратного метра\n",
    "data['price_per_meter'] = data['last_price']/data['total_area']\n",
    "#Добавление столбцов, которые показывают день недели, месяц и год публикации объявления\n",
    "data['time'] = pd.to_datetime(data['first_day_exposition'], format=\"%Y-%m-%dT%H:%M:%S\")\n",
    "data['weekday'] = data['time'].dt.weekday\n",
    "data['month'] = data['time'].dt.month\n",
    "data['year'] = data['time'].dt.year\n",
    "del data['first_day_exposition']\n",
    "#Введ функции для определения этажа квартиры\n",
    "def floor(data):\n",
    "    if data['floor'] == 1:\n",
    "        return 'первый'\n",
    "    if data['floor'] == data['floors_total']:\n",
    "        return 'последний'\n",
    "    else:\n",
    "        return 'другой'\n",
    "        \n",
    "data['floors_group'] = data.apply(floor, axis=1)\n",
    "#Столбец отношения жилой к общей площади\n",
    "data['ratio_living_total'] = data['living_area']/data['total_area']\n",
    "#Столбец отношения площади кухни к общей\n",
    "data['ratio_kitchen_total'] = data['kitchen_area']/data['total_area']\n",
    "display(data)\n"
   ]
  },
  {
   "cell_type": "markdown",
   "metadata": {},
   "source": [
    "Вывод:\n",
    "Были расширены границы таблицы, произведены расчеты и добавлены все нужные столбцы"
   ]
  },
  {
   "cell_type": "markdown",
   "metadata": {},
   "source": [
    "## Исследовательский анализ данных"
   ]
  },
  {
   "cell_type": "markdown",
   "metadata": {},
   "source": [
    "Исследование площади, цены, числа комнат, высоты потолков:"
   ]
  },
  {
   "cell_type": "code",
   "execution_count": 8,
   "metadata": {},
   "outputs": [
    {
     "data": {
      "text/html": [
       "<div>\n",
       "<style scoped>\n",
       "    .dataframe tbody tr th:only-of-type {\n",
       "        vertical-align: middle;\n",
       "    }\n",
       "\n",
       "    .dataframe tbody tr th {\n",
       "        vertical-align: top;\n",
       "    }\n",
       "\n",
       "    .dataframe thead th {\n",
       "        text-align: right;\n",
       "    }\n",
       "</style>\n",
       "<table border=\"1\" class=\"dataframe\">\n",
       "  <thead>\n",
       "    <tr style=\"text-align: right;\">\n",
       "      <th></th>\n",
       "      <th>total_area</th>\n",
       "      <th>last_price</th>\n",
       "      <th>rooms</th>\n",
       "      <th>ceiling_height</th>\n",
       "    </tr>\n",
       "  </thead>\n",
       "  <tbody>\n",
       "    <tr>\n",
       "      <td>count</td>\n",
       "      <td>23649.000000</td>\n",
       "      <td>2.364900e+04</td>\n",
       "      <td>23649.000000</td>\n",
       "      <td>23649.000000</td>\n",
       "    </tr>\n",
       "    <tr>\n",
       "      <td>mean</td>\n",
       "      <td>60.327333</td>\n",
       "      <td>6.540985e+06</td>\n",
       "      <td>2.070066</td>\n",
       "      <td>2.747258</td>\n",
       "    </tr>\n",
       "    <tr>\n",
       "      <td>std</td>\n",
       "      <td>35.661585</td>\n",
       "      <td>1.089661e+07</td>\n",
       "      <td>1.078626</td>\n",
       "      <td>0.994289</td>\n",
       "    </tr>\n",
       "    <tr>\n",
       "      <td>min</td>\n",
       "      <td>12.000000</td>\n",
       "      <td>1.219000e+04</td>\n",
       "      <td>0.000000</td>\n",
       "      <td>1.000000</td>\n",
       "    </tr>\n",
       "    <tr>\n",
       "      <td>25%</td>\n",
       "      <td>40.000000</td>\n",
       "      <td>3.400000e+06</td>\n",
       "      <td>1.000000</td>\n",
       "      <td>2.600000</td>\n",
       "    </tr>\n",
       "    <tr>\n",
       "      <td>50%</td>\n",
       "      <td>52.000000</td>\n",
       "      <td>4.650000e+06</td>\n",
       "      <td>2.000000</td>\n",
       "      <td>2.600000</td>\n",
       "    </tr>\n",
       "    <tr>\n",
       "      <td>75%</td>\n",
       "      <td>69.700000</td>\n",
       "      <td>6.799000e+06</td>\n",
       "      <td>3.000000</td>\n",
       "      <td>2.800000</td>\n",
       "    </tr>\n",
       "    <tr>\n",
       "      <td>max</td>\n",
       "      <td>900.000000</td>\n",
       "      <td>7.630000e+08</td>\n",
       "      <td>19.000000</td>\n",
       "      <td>100.000000</td>\n",
       "    </tr>\n",
       "  </tbody>\n",
       "</table>\n",
       "</div>"
      ],
      "text/plain": [
       "         total_area    last_price         rooms  ceiling_height\n",
       "count  23649.000000  2.364900e+04  23649.000000    23649.000000\n",
       "mean      60.327333  6.540985e+06      2.070066        2.747258\n",
       "std       35.661585  1.089661e+07      1.078626        0.994289\n",
       "min       12.000000  1.219000e+04      0.000000        1.000000\n",
       "25%       40.000000  3.400000e+06      1.000000        2.600000\n",
       "50%       52.000000  4.650000e+06      2.000000        2.600000\n",
       "75%       69.700000  6.799000e+06      3.000000        2.800000\n",
       "max      900.000000  7.630000e+08     19.000000      100.000000"
      ]
     },
     "execution_count": 8,
     "metadata": {},
     "output_type": "execute_result"
    }
   ],
   "source": [
    "data[['total_area', 'last_price', 'rooms', 'ceiling_height']].describe()"
   ]
  },
  {
   "cell_type": "code",
   "execution_count": 9,
   "metadata": {},
   "outputs": [
    {
     "data": {
      "image/png": "[encoded data removed]",
      "text/plain": [
       "<Figure size 432x288 with 1 Axes>"
      ]
     },
     "metadata": {
      "needs_background": "light"
     },
     "output_type": "display_data"
    },
    {
     "data": {
      "image/png": "[encoded data removed]",
      "text/plain": [
       "<Figure size 432x288 with 1 Axes>"
      ]
     },
     "metadata": {
      "needs_background": "light"
     },
     "output_type": "display_data"
    },
    {
     "data": {
      "image/png": "[encoded data removed]",
      "text/plain": [
       "<Figure size 432x288 with 1 Axes>"
      ]
     },
     "metadata": {
      "needs_background": "light"
     },
     "output_type": "display_data"
    },
    {
     "data": {
      "image/png": "[encoded data removed]",
      "text/plain": [
       "<Figure size 432x288 with 1 Axes>"
      ]
     },
     "metadata": {
      "needs_background": "light"
     },
     "output_type": "display_data"
    },
    {
     "data": {
      "image/png": "[encoded data removed]",
      "text/plain": [
       "<Figure size 432x288 with 1 Axes>"
      ]
     },
     "metadata": {
      "needs_background": "light"
     },
     "output_type": "display_data"
    },
    {
     "data": {
      "image/png": "[encoded data removed]",
      "text/plain": [
       "<Figure size 432x288 with 1 Axes>"
      ]
     },
     "metadata": {
      "needs_background": "light"
     },
     "output_type": "display_data"
    },
    {
     "data": {
      "image/png": "[encoded data removed]",
      "text/plain": [
       "<Figure size 432x288 with 1 Axes>"
      ]
     },
     "metadata": {
      "needs_background": "light"
     },
     "output_type": "display_data"
    },
    {
     "data": {
      "image/png": "[encoded data removed]",
      "text/plain": [
       "<Figure size 432x288 with 1 Axes>"
      ]
     },
     "metadata": {
      "needs_background": "light"
     },
     "output_type": "display_data"
    }
   ],
   "source": [
    "col = ['total_area', 'last_price', 'rooms', 'ceiling_height']\n",
    "def new_print(data, col):\n",
    "    quantiles = data[col].quantile([0.25, 0.75])\n",
    "    IQR = quantiles.iloc[1] - quantiles.iloc[0]\n",
    "    data[col].hist(range=(max(0, quantiles.iloc[0] - 1.5 * IQR), quantiles.iloc[1] + 1.5 * IQR))\n",
    "    plt.show()\n",
    "    data.boxplot(col)\n",
    "    plt.show()\n",
    "\n",
    "for col in data[col]: \n",
    "    new_print(data, col)\n",
    "    "
   ]
  },
  {
   "cell_type": "code",
   "execution_count": 10,
   "metadata": {},
   "outputs": [
    {
     "data": {
      "text/plain": [
       "[(0, 15000000)]"
      ]
     },
     "execution_count": 10,
     "metadata": {},
     "output_type": "execute_result"
    },
    {
     "data": {
      "image/png": "[encoded data removed]",
      "text/plain": [
       "<Figure size 432x288 with 1 Axes>"
      ]
     },
     "metadata": {
      "needs_background": "light"
     },
     "output_type": "display_data"
    }
   ],
   "source": [
    "data.boxplot('last_price').set(ylim=(0,15000000))"
   ]
  },
  {
   "cell_type": "markdown",
   "metadata": {},
   "source": [
    "Вывод: \n",
    "\n",
    "Средняя квартира, выставленная на продажу, имеет следующие характеристики: это 2-комнатная квартира площадью 52 кв. м с потолками 2,65 м, проданная по цене 4,65 млн рублей.\n",
    "Из гистограммы стобца [total_area] - площадь квартиры в квадратных метрах видно, что самые частые значения это примерно от 35 до 60, самый большой пик находится в районе 40, очень мало значений после 150, но отдельные выбросы есть и после 200. Столбец [last_price]: цена на квартиры лежит в промежутке от 1 до 12 млн. Большая часть квартир продается за цену в промежутке между 3 и 6 млн.  При увеличении маштаба видно что выбросы начинаются посе 12 млн. Столбец [rooms] больше всего однокомнатных и двукомнатных квартир. Очень мало квартир с кол-вом комнат более 6. Есть отдельные выбросы и после значения 6. Есть и квартиры с 19-ью комнатами. Столбец [ceiling_height] -  квартиры, в большинстве своем, имеют потолки от 2,5-2,75м (самый популярный вариант) до 3,2м. Остальные случаи - эксклюзивы. \n",
    "\n",
    "Аномальные характеристики квартир из представленного набора данных:\n",
    "7-комнатная квартира или больше\n",
    "площадью более 114,3 кв. м\n",
    "с потолками менее 2,25 м или более 3,05 м\n",
    "по цене более 12 млн рублей\n"
   ]
  },
  {
   "cell_type": "markdown",
   "metadata": {},
   "source": [
    "Исследование количества времени для продажи квартиры:"
   ]
  },
  {
   "cell_type": "code",
   "execution_count": 11,
   "metadata": {},
   "outputs": [
    {
     "data": {
      "text/plain": [
       "count    20469.000000\n",
       "mean       180.759441\n",
       "std        219.781470\n",
       "min          1.000000\n",
       "25%         45.000000\n",
       "50%         95.000000\n",
       "75%        231.000000\n",
       "max       1580.000000\n",
       "Name: days_exposition, dtype: float64"
      ]
     },
     "metadata": {},
     "output_type": "display_data"
    },
    {
     "name": "stdout",
     "output_type": "stream",
     "text": [
      "95.0\n",
      "180.75944110606284\n"
     ]
    },
    {
     "data": {
      "image/png": "[encoded data removed]",
      "text/plain": [
       "<Figure size 432x288 with 1 Axes>"
      ]
     },
     "metadata": {
      "needs_background": "light"
     },
     "output_type": "display_data"
    }
   ],
   "source": [
    "#Построим гистограмму и найдем медианное и среднее значения и изучим данные:\n",
    "data['days_exposition'].hist(bins = 100, range = (1, 1600))\n",
    "display(data['days_exposition'].describe())\n",
    "print(data['days_exposition'].median())\n",
    "print(data['days_exposition'].mean())"
   ]
  },
  {
   "cell_type": "code",
   "execution_count": 12,
   "metadata": {},
   "outputs": [
    {
     "data": {
      "text/plain": [
       "<matplotlib.axes._subplots.AxesSubplot at 0x7ff48337ab10>"
      ]
     },
     "execution_count": 12,
     "metadata": {},
     "output_type": "execute_result"
    },
    {
     "data": {
      "image/png": "[encoded data removed]",
      "text/plain": [
       "<Figure size 432x288 with 1 Axes>"
      ]
     },
     "metadata": {
      "needs_background": "light"
     },
     "output_type": "display_data"
    }
   ],
   "source": [
    "data.boxplot('days_exposition')"
   ]
  },
  {
   "cell_type": "code",
   "execution_count": 13,
   "metadata": {},
   "outputs": [
    {
     "data": {
      "text/plain": [
       "<matplotlib.axes._subplots.AxesSubplot at 0x7ff483345b50>"
      ]
     },
     "execution_count": 13,
     "metadata": {},
     "output_type": "execute_result"
    },
    {
     "data": {
      "image/png": "[encoded data removed]",
      "text/plain": [
       "<Figure size 432x288 with 1 Axes>"
      ]
     },
     "metadata": {
      "needs_background": "light"
     },
     "output_type": "display_data"
    }
   ],
   "source": [
    "data.query('days_exposition < 400')['days_exposition'].hist(bins = 40, range = (0, 200))"
   ]
  },
  {
   "cell_type": "markdown",
   "metadata": {},
   "source": [
    "Вывод:\n",
    "Из полученных данных видно большая часть квартир продавалась в первые 50 дней, некоторые квартиры продаются и больше года, но таких меньше. Есть вероятность, что это могут быть объявления, которые забыли снять. При детальном рассмотрении видно, что самый пик продаж приходится на 15, 45 и 60 день продажи. Вполне возможно, что раз в 15 дней или на почту продавцу приходит вопрос, продал ли он квартиру, он заходит и делает соответствующую пометку, или ему звонит оператор и по телефону задает тот же вопрос и закрывает/не закрывает объявление согласно полученной информации. Таким образом, учитывая то, что многие самостоятельно не закрывают объявления, что большая часть квартир продается в пределах 60 дней с момента публикации объявления и что проверка производится раз в 15 дней, имеем такие вот данные. \n",
    "Исходя из метода describe, межквартильный размах - от 45 до 232 дней, исходя же из метода boxplot - диаграмма размаха у нас от минимального значения до примерно 500 дней. Значит необоснованно быстрых значений у нас нет, а необоснованно долгие - от 500 дней и выше. Значит нормальные значения у нас лежат от 1 до 500 "
   ]
  },
  {
   "cell_type": "markdown",
   "metadata": {},
   "source": [
    "Исключение редких и выбивающихся значений: "
   ]
  },
  {
   "cell_type": "code",
   "execution_count": 14,
   "metadata": {},
   "outputs": [
    {
     "data": {
      "text/html": [
       "<div>\n",
       "<style scoped>\n",
       "    .dataframe tbody tr th:only-of-type {\n",
       "        vertical-align: middle;\n",
       "    }\n",
       "\n",
       "    .dataframe tbody tr th {\n",
       "        vertical-align: top;\n",
       "    }\n",
       "\n",
       "    .dataframe thead th {\n",
       "        text-align: right;\n",
       "    }\n",
       "</style>\n",
       "<table border=\"1\" class=\"dataframe\">\n",
       "  <thead>\n",
       "    <tr style=\"text-align: right;\">\n",
       "      <th></th>\n",
       "      <th>last_price</th>\n",
       "      <th>total_area</th>\n",
       "      <th>rooms</th>\n",
       "      <th>days_exposition</th>\n",
       "    </tr>\n",
       "  </thead>\n",
       "  <tbody>\n",
       "    <tr>\n",
       "      <td>last_price</td>\n",
       "      <td>1.000000</td>\n",
       "      <td>0.723931</td>\n",
       "      <td>0.461245</td>\n",
       "      <td>0.046214</td>\n",
       "    </tr>\n",
       "    <tr>\n",
       "      <td>total_area</td>\n",
       "      <td>0.723931</td>\n",
       "      <td>1.000000</td>\n",
       "      <td>0.802162</td>\n",
       "      <td>0.093682</td>\n",
       "    </tr>\n",
       "    <tr>\n",
       "      <td>rooms</td>\n",
       "      <td>0.461245</td>\n",
       "      <td>0.802162</td>\n",
       "      <td>1.000000</td>\n",
       "      <td>0.072025</td>\n",
       "    </tr>\n",
       "    <tr>\n",
       "      <td>days_exposition</td>\n",
       "      <td>0.046214</td>\n",
       "      <td>0.093682</td>\n",
       "      <td>0.072025</td>\n",
       "      <td>1.000000</td>\n",
       "    </tr>\n",
       "  </tbody>\n",
       "</table>\n",
       "</div>"
      ],
      "text/plain": [
       "                 last_price  total_area     rooms  days_exposition\n",
       "last_price         1.000000    0.723931  0.461245         0.046214\n",
       "total_area         0.723931    1.000000  0.802162         0.093682\n",
       "rooms              0.461245    0.802162  1.000000         0.072025\n",
       "days_exposition    0.046214    0.093682  0.072025         1.000000"
      ]
     },
     "metadata": {},
     "output_type": "display_data"
    },
    {
     "data": {
      "image/png": "[encoded data removed]",
      "text/plain": [
       "<Figure size 648x648 with 16 Axes>"
      ]
     },
     "metadata": {
      "needs_background": "light"
     },
     "output_type": "display_data"
    }
   ],
   "source": [
    "#Избавимся от данных ненужные значений и построим новые \n",
    "data_new = data.query('20 < total_area < 130 and 1 <= rooms <= 7 and 1000000 < last_price < 13000000 and days_exposition < 500 ')\n",
    "\n",
    "data_new_multi = data_new.loc[:, ['last_price','total_area', 'rooms','days_exposition']]\n",
    "display(data_new_multi.corr())\n",
    "_=pd.plotting.scatter_matrix(data_new_multi, figsize=(9, 9))"
   ]
  },
  {
   "cell_type": "markdown",
   "metadata": {},
   "source": [
    "Вывод\n",
    "- Больше продано квартир с низкой стоимостью и маленькой площадью.\n",
    "- Стоимость высокая у квартир с 6 и 7 комнатами и их очень мало. В основном, это квартиры с меньшим количеством комнат.\n",
    "- Цена квартиры и площадь имеет малое влияние на длительность её продажи.\n",
    "- Чем больше квартира, тем выше стоимость.\n",
    "- Чем больше площадь, тем больше комнат в квартире."
   ]
  },
  {
   "cell_type": "markdown",
   "metadata": {},
   "source": [
    "Исследование факторов, которые больше всего влияют на стоимость квартиры. Зависит ли цена от площади, числа комнат, удалённости от центра. Зависят цены от того, на каком этаже расположена квартира: первом, последнем или другом. Также изучите зависимость от даты размещения: дня недели, месяца и года."
   ]
  },
  {
   "cell_type": "code",
   "execution_count": 15,
   "metadata": {},
   "outputs": [
    {
     "data": {
      "text/html": [
       "<div>\n",
       "<style scoped>\n",
       "    .dataframe tbody tr th:only-of-type {\n",
       "        vertical-align: middle;\n",
       "    }\n",
       "\n",
       "    .dataframe tbody tr th {\n",
       "        vertical-align: top;\n",
       "    }\n",
       "\n",
       "    .dataframe thead th {\n",
       "        text-align: right;\n",
       "    }\n",
       "</style>\n",
       "<table border=\"1\" class=\"dataframe\">\n",
       "  <thead>\n",
       "    <tr style=\"text-align: right;\">\n",
       "      <th></th>\n",
       "      <th>last_price</th>\n",
       "      <th>total_area</th>\n",
       "      <th>rooms</th>\n",
       "      <th>cityCenters_nearest</th>\n",
       "    </tr>\n",
       "  </thead>\n",
       "  <tbody>\n",
       "    <tr>\n",
       "      <td>last_price</td>\n",
       "      <td>1.000000</td>\n",
       "      <td>0.723931</td>\n",
       "      <td>0.461245</td>\n",
       "      <td>-0.368354</td>\n",
       "    </tr>\n",
       "    <tr>\n",
       "      <td>total_area</td>\n",
       "      <td>0.723931</td>\n",
       "      <td>1.000000</td>\n",
       "      <td>0.802162</td>\n",
       "      <td>-0.157608</td>\n",
       "    </tr>\n",
       "    <tr>\n",
       "      <td>rooms</td>\n",
       "      <td>0.461245</td>\n",
       "      <td>0.802162</td>\n",
       "      <td>1.000000</td>\n",
       "      <td>-0.110916</td>\n",
       "    </tr>\n",
       "    <tr>\n",
       "      <td>cityCenters_nearest</td>\n",
       "      <td>-0.368354</td>\n",
       "      <td>-0.157608</td>\n",
       "      <td>-0.110916</td>\n",
       "      <td>1.000000</td>\n",
       "    </tr>\n",
       "  </tbody>\n",
       "</table>\n",
       "</div>"
      ],
      "text/plain": [
       "                     last_price  total_area     rooms  cityCenters_nearest\n",
       "last_price             1.000000    0.723931  0.461245            -0.368354\n",
       "total_area             0.723931    1.000000  0.802162            -0.157608\n",
       "rooms                  0.461245    0.802162  1.000000            -0.110916\n",
       "cityCenters_nearest   -0.368354   -0.157608 -0.110916             1.000000"
      ]
     },
     "metadata": {},
     "output_type": "display_data"
    },
    {
     "data": {
      "image/png": "[encoded data removed]",
      "text/plain": [
       "<Figure size 648x648 with 16 Axes>"
      ]
     },
     "metadata": {
      "needs_background": "light"
     },
     "output_type": "display_data"
    },
    {
     "data": {
      "image/png": "[encoded data removed]",
      "text/plain": [
       "<Figure size 432x288 with 1 Axes>"
      ]
     },
     "metadata": {
      "needs_background": "light"
     },
     "output_type": "display_data"
    },
    {
     "data": {
      "image/png": "[encoded data removed]",
      "text/plain": [
       "<Figure size 360x360 with 1 Axes>"
      ]
     },
     "metadata": {
      "needs_background": "light"
     },
     "output_type": "display_data"
    },
    {
     "data": {
      "image/png": "[encoded data removed]",
      "text/plain": [
       "<Figure size 360x360 with 1 Axes>"
      ]
     },
     "metadata": {
      "needs_background": "light"
     },
     "output_type": "display_data"
    },
    {
     "data": {
      "image/png": "[encoded data removed]",
      "text/plain": [
       "<Figure size 360x360 with 1 Axes>"
      ]
     },
     "metadata": {
      "needs_background": "light"
     },
     "output_type": "display_data"
    },
    {
     "data": {
      "image/png": "[encoded data removed]",
      "text/plain": [
       "<Figure size 360x360 with 1 Axes>"
      ]
     },
     "metadata": {
      "needs_background": "light"
     },
     "output_type": "display_data"
    }
   ],
   "source": [
    "import seaborn as sns\n",
    "data_price = data_new.loc[:, ['last_price', 'total_area',  'rooms', 'cityCenters_nearest']]\n",
    "display(data_price.corr())\n",
    "pd.plotting.scatter_matrix(data_price, figsize=(9, 9), alpha=0.3)\n",
    "\n",
    "pivot_group_1 = data_new.pivot_table(index='rooms', values='last_price', aggfunc='median')\n",
    "pivot_group_1.plot(y='last_price', kind ='bar')\n",
    "#pivot_group_2 = data_new.pivot_table(index='total_area', values='last_price', aggfunc='median')\n",
    "#pivot_group_2.plot(y='last_price', kind ='bar', figsize=(20, 20)).set(xlim = (20, 100))\n",
    "for column in ['floors_group', 'weekday', 'month', 'year']:\n",
    "    sns.catplot(x=column, y=\"last_price\", kind=\"box\", data=data_new, palette='husl')\n"
   ]
  },
  {
   "cell_type": "markdown",
   "metadata": {},
   "source": [
    "По матрица диаграмм рассеяния выше видно:\n",
    "- Чем больше комнат, тем выше цена - так продолжается до 7 комнат (включительно)\n",
    "- Высокие цены за квартиры находятся только в области ближе к центру города\n",
    "- Чем больше квартира, тем выше стоимость\n",
    "\n",
    "Факторы, влияющие на стоимость квартиры:\n",
    "Наиболее сильная корреляция наблюдается между площадью квартиры и ее стоимостью (коэфф. корреляции 0,72).\n",
    "Расстояние до центра города также, очевидно, влияет на стоимость квартиры, но обратно пропорционально и не так сильно (коэфф. корреляции -0,37).\n",
    "Стоимость квартиры также напрямую зависит от числа комнат: чем их больше, тем квартира дороже. Но это верно, пока число комнат не превышает четырех: 5- или 6-комнатные квартиры могут быть проданы дешевле 4-комнатных, и вызвано это скорее всего отсутствием спроса.\n",
    "Квартиры на первом или последнем этаже обычно продаются по более низкой цене, чем квартиры на других этажах.\n",
    "По дням недели:\n",
    "цена за кв.метр в объявлениях, которые разместили во вторник, четверг, пятницу и субботу дороже, чем в другие дни.\n",
    "По месяцам:\n",
    "Квартиры дешевеют в марте и октябре.\n",
    "По годам:\n",
    "Самые дорогие квартиры были в 2015 и 2019 году, между этими годами квартиры падают в цене \n",
    "День недели, месяц и год публикации объявления не играют значимой роли на стоимость, по которой объект недвижимости будет продан. "
   ]
  },
  {
   "cell_type": "markdown",
   "metadata": {},
   "source": [
    "Посчитать среднюю цену квадратного метра в этих населённых пунктах. Выделите среди них населённые пункты с самой высокой и низкой стоимостью жилья:"
   ]
  },
  {
   "cell_type": "code",
   "execution_count": 16,
   "metadata": {},
   "outputs": [
    {
     "data": {
      "text/html": [
       "<div>\n",
       "<style scoped>\n",
       "    .dataframe tbody tr th:only-of-type {\n",
       "        vertical-align: middle;\n",
       "    }\n",
       "\n",
       "    .dataframe tbody tr th {\n",
       "        vertical-align: top;\n",
       "    }\n",
       "\n",
       "    .dataframe thead th {\n",
       "        text-align: right;\n",
       "    }\n",
       "</style>\n",
       "<table border=\"1\" class=\"dataframe\">\n",
       "  <thead>\n",
       "    <tr style=\"text-align: right;\">\n",
       "      <th></th>\n",
       "      <th>count</th>\n",
       "      <th>mean</th>\n",
       "    </tr>\n",
       "    <tr>\n",
       "      <th>locality_name</th>\n",
       "      <th></th>\n",
       "      <th></th>\n",
       "    </tr>\n",
       "  </thead>\n",
       "  <tbody>\n",
       "    <tr>\n",
       "      <td>санкт-петербург</td>\n",
       "      <td>11294</td>\n",
       "      <td>104809.629464</td>\n",
       "    </tr>\n",
       "    <tr>\n",
       "      <td>поселок мурино</td>\n",
       "      <td>491</td>\n",
       "      <td>85281.128584</td>\n",
       "    </tr>\n",
       "    <tr>\n",
       "      <td>поселок шушары</td>\n",
       "      <td>381</td>\n",
       "      <td>77620.233739</td>\n",
       "    </tr>\n",
       "    <tr>\n",
       "      <td>всеволожск</td>\n",
       "      <td>300</td>\n",
       "      <td>66842.545753</td>\n",
       "    </tr>\n",
       "    <tr>\n",
       "      <td>колпино</td>\n",
       "      <td>292</td>\n",
       "      <td>74671.693815</td>\n",
       "    </tr>\n",
       "    <tr>\n",
       "      <td>поселок парголово</td>\n",
       "      <td>282</td>\n",
       "      <td>89480.874532</td>\n",
       "    </tr>\n",
       "    <tr>\n",
       "      <td>пушкин</td>\n",
       "      <td>261</td>\n",
       "      <td>99673.409049</td>\n",
       "    </tr>\n",
       "    <tr>\n",
       "      <td>деревня кудрово</td>\n",
       "      <td>250</td>\n",
       "      <td>92347.325018</td>\n",
       "    </tr>\n",
       "    <tr>\n",
       "      <td>гатчина</td>\n",
       "      <td>240</td>\n",
       "      <td>68514.534892</td>\n",
       "    </tr>\n",
       "    <tr>\n",
       "      <td>выборг</td>\n",
       "      <td>189</td>\n",
       "      <td>57607.565079</td>\n",
       "    </tr>\n",
       "  </tbody>\n",
       "</table>\n",
       "</div>"
      ],
      "text/plain": [
       "                   count           mean\n",
       "locality_name                          \n",
       "санкт-петербург    11294  104809.629464\n",
       "поселок мурино       491   85281.128584\n",
       "поселок шушары       381   77620.233739\n",
       "всеволожск           300   66842.545753\n",
       "колпино              292   74671.693815\n",
       "поселок парголово    282   89480.874532\n",
       "пушкин               261   99673.409049\n",
       "деревня кудрово      250   92347.325018\n",
       "гатчина              240   68514.534892\n",
       "выборг               189   57607.565079"
      ]
     },
     "metadata": {},
     "output_type": "display_data"
    },
    {
     "data": {
      "text/html": [
       "<div>\n",
       "<style scoped>\n",
       "    .dataframe tbody tr th:only-of-type {\n",
       "        vertical-align: middle;\n",
       "    }\n",
       "\n",
       "    .dataframe tbody tr th {\n",
       "        vertical-align: top;\n",
       "    }\n",
       "\n",
       "    .dataframe thead th {\n",
       "        text-align: right;\n",
       "    }\n",
       "</style>\n",
       "<table border=\"1\" class=\"dataframe\">\n",
       "  <thead>\n",
       "    <tr style=\"text-align: right;\">\n",
       "      <th></th>\n",
       "      <th>count</th>\n",
       "      <th>mean</th>\n",
       "    </tr>\n",
       "    <tr>\n",
       "      <th>locality_name</th>\n",
       "      <th></th>\n",
       "      <th></th>\n",
       "    </tr>\n",
       "  </thead>\n",
       "  <tbody>\n",
       "    <tr>\n",
       "      <td>санкт-петербург</td>\n",
       "      <td>11294</td>\n",
       "      <td>104809.629464</td>\n",
       "    </tr>\n",
       "  </tbody>\n",
       "</table>\n",
       "</div>"
      ],
      "text/plain": [
       "                 count           mean\n",
       "locality_name                        \n",
       "санкт-петербург  11294  104809.629464"
      ]
     },
     "metadata": {},
     "output_type": "display_data"
    },
    {
     "data": {
      "text/html": [
       "<div>\n",
       "<style scoped>\n",
       "    .dataframe tbody tr th:only-of-type {\n",
       "        vertical-align: middle;\n",
       "    }\n",
       "\n",
       "    .dataframe tbody tr th {\n",
       "        vertical-align: top;\n",
       "    }\n",
       "\n",
       "    .dataframe thead th {\n",
       "        text-align: right;\n",
       "    }\n",
       "</style>\n",
       "<table border=\"1\" class=\"dataframe\">\n",
       "  <thead>\n",
       "    <tr style=\"text-align: right;\">\n",
       "      <th></th>\n",
       "      <th>count</th>\n",
       "      <th>mean</th>\n",
       "    </tr>\n",
       "    <tr>\n",
       "      <th>locality_name</th>\n",
       "      <th></th>\n",
       "      <th></th>\n",
       "    </tr>\n",
       "  </thead>\n",
       "  <tbody>\n",
       "    <tr>\n",
       "      <td>выборг</td>\n",
       "      <td>189</td>\n",
       "      <td>57607.565079</td>\n",
       "    </tr>\n",
       "  </tbody>\n",
       "</table>\n",
       "</div>"
      ],
      "text/plain": [
       "               count          mean\n",
       "locality_name                     \n",
       "выборг           189  57607.565079"
      ]
     },
     "metadata": {},
     "output_type": "display_data"
    }
   ],
   "source": [
    "#price_per_median_count = data_new.pivot_table(index='locality_name', values='price_per_meter', aggfunc=['count', 'median'])\n",
    "#price_per_median_count.columns = ['count', 'median']\n",
    "#price_per_median_count.sort_values('count', ascending=False).head(10)\n",
    "locality_pivot_table = data_new.pivot_table(index = 'locality_name', values = 'price_per_meter', aggfunc=['count', 'mean'])\n",
    "locality_pivot_table.columns = ['count', 'mean']\n",
    "locality_pivot_table = locality_pivot_table.sort_values('count', ascending = False).head(10)\n",
    "display(locality_pivot_table)\n",
    "#самая высокая стоимость\n",
    "display(locality_pivot_table[locality_pivot_table['mean']==locality_pivot_table['mean'].max()])\n",
    "#самая низкая стоимость\n",
    "display(locality_pivot_table[locality_pivot_table['mean']==locality_pivot_table['mean'].min()])\n"
   ]
  },
  {
   "cell_type": "markdown",
   "metadata": {},
   "source": [
    "Вывод:\n",
    "самая высокая стоимость жилья из 10 населённых пунктов с самым большим количеством объявлений в Санкт-Петербурге, тогда как самая низкая стоимость в Выборге."
   ]
  },
  {
   "cell_type": "markdown",
   "metadata": {},
   "source": [
    "Изучить предложения квартир: для каждой квартиры есть информация о расстоянии до центра. Выделить квартиры в Санкт-Петербурге ('locality_name'). Выяснить, какая область входит в центр: "
   ]
  },
  {
   "cell_type": "code",
   "execution_count": 17,
   "metadata": {},
   "outputs": [
    {
     "name": "stderr",
     "output_type": "stream",
     "text": [
      "/opt/conda/lib/python3.7/site-packages/ipykernel_launcher.py:2: SettingWithCopyWarning: \n",
      "A value is trying to be set on a copy of a slice from a DataFrame.\n",
      "Try using .loc[row_indexer,col_indexer] = value instead\n",
      "\n",
      "See the caveats in the documentation: http://pandas.pydata.org/pandas-docs/stable/user_guide/indexing.html#returning-a-view-versus-a-copy\n",
      "  \n"
     ]
    },
    {
     "data": {
      "text/plain": [
       "0.208"
      ]
     },
     "metadata": {},
     "output_type": "display_data"
    },
    {
     "data": {
      "text/plain": [
       "64.857"
      ]
     },
     "metadata": {},
     "output_type": "display_data"
    },
    {
     "name": "stderr",
     "output_type": "stream",
     "text": [
      "/opt/conda/lib/python3.7/site-packages/ipykernel_launcher.py:6: SettingWithCopyWarning: \n",
      "A value is trying to be set on a copy of a slice from a DataFrame.\n",
      "Try using .loc[row_indexer,col_indexer] = value instead\n",
      "\n",
      "See the caveats in the documentation: http://pandas.pydata.org/pandas-docs/stable/user_guide/indexing.html#returning-a-view-versus-a-copy\n",
      "  \n",
      "/opt/conda/lib/python3.7/site-packages/ipykernel_launcher.py:8: SettingWithCopyWarning: \n",
      "A value is trying to be set on a copy of a slice from a DataFrame.\n",
      "Try using .loc[row_indexer,col_indexer] = value instead\n",
      "\n",
      "See the caveats in the documentation: http://pandas.pydata.org/pandas-docs/stable/user_guide/indexing.html#returning-a-view-versus-a-copy\n",
      "  \n"
     ]
    },
    {
     "data": {
      "text/plain": [
       "<matplotlib.axes._subplots.AxesSubplot at 0x7ff456db0e90>"
      ]
     },
     "execution_count": 17,
     "metadata": {},
     "output_type": "execute_result"
    },
    {
     "data": {
      "image/png": "[encoded data removed]",
      "text/plain": [
       "<Figure size 432x288 with 1 Axes>"
      ]
     },
     "metadata": {
      "needs_background": "light"
     },
     "output_type": "display_data"
    }
   ],
   "source": [
    "#переведем м в километры\n",
    "data_new['cityCenters_nearest_km'] = data_new['cityCenters_nearest']/1000\n",
    "display(data_new['cityCenters_nearest_km'].min()) # - 0,181 км\n",
    "display(data_new['cityCenters_nearest_km'].max()) # - 65 км\n",
    "#Заполним пропуски любой цифрой, которой у нас нет(например, 100)\n",
    "data_new['cityCenters_nearest_km'] = data_new['cityCenters_nearest_km'].fillna(100)\n",
    "# округим путем измены типа данных на int\n",
    "data_new['cityCenters_nearest_km'] = data_new['cityCenters_nearest_km'].astype('int')\n",
    "#display(data['cityCenters_nearest_km'].unique())\n",
    "#display(data['locality_name'].unique())\n",
    "data_new_1 = data_new.query('locality_name == \"санкт-петербург\"')\n",
    "#display(data_new_1)\n",
    "#сделаем срез по локации СПб и исключим пропуски, которые заполнили нулями, постороим сводную зависимости цены от километража\n",
    "pivot_table_km = data_new_1.pivot_table(index = 'cityCenters_nearest_km', values = 'price_per_meter', aggfunc = 'mean')\n",
    "#построим график\n",
    "pivot_table_km.plot(style='o-', xlim=(0, 15))"
   ]
  },
  {
   "cell_type": "markdown",
   "metadata": {},
   "source": [
    "Вывод:\n",
    "Из графика видно, что характер изменения цен на квартиры меняются примерно до 9 км, а далее цена очень медленно падает, то есть за центром цены практически одинаковые. Поэтому можно сделать вывод, что радиус центра равен примерно 9 км."
   ]
  },
  {
   "cell_type": "code",
   "execution_count": 19,
   "metadata": {},
   "outputs": [
    {
     "data": {
      "text/html": [
       "<div>\n",
       "<style scoped>\n",
       "    .dataframe tbody tr th:only-of-type {\n",
       "        vertical-align: middle;\n",
       "    }\n",
       "\n",
       "    .dataframe tbody tr th {\n",
       "        vertical-align: top;\n",
       "    }\n",
       "\n",
       "    .dataframe thead th {\n",
       "        text-align: right;\n",
       "    }\n",
       "</style>\n",
       "<table border=\"1\" class=\"dataframe\">\n",
       "  <thead>\n",
       "    <tr style=\"text-align: right;\">\n",
       "      <th></th>\n",
       "      <th>total_area</th>\n",
       "      <th>last_price</th>\n",
       "      <th>rooms</th>\n",
       "      <th>ceiling_height</th>\n",
       "    </tr>\n",
       "  </thead>\n",
       "  <tbody>\n",
       "    <tr>\n",
       "      <td>count</td>\n",
       "      <td>11294.000000</td>\n",
       "      <td>1.129400e+04</td>\n",
       "      <td>11294.000000</td>\n",
       "      <td>11294.000000</td>\n",
       "    </tr>\n",
       "    <tr>\n",
       "      <td>mean</td>\n",
       "      <td>54.443625</td>\n",
       "      <td>5.641508e+06</td>\n",
       "      <td>1.962546</td>\n",
       "      <td>2.726766</td>\n",
       "    </tr>\n",
       "    <tr>\n",
       "      <td>std</td>\n",
       "      <td>19.139981</td>\n",
       "      <td>2.206633e+06</td>\n",
       "      <td>0.901368</td>\n",
       "      <td>0.706487</td>\n",
       "    </tr>\n",
       "    <tr>\n",
       "      <td>min</td>\n",
       "      <td>20.100000</td>\n",
       "      <td>1.200000e+06</td>\n",
       "      <td>1.000000</td>\n",
       "      <td>1.000000</td>\n",
       "    </tr>\n",
       "    <tr>\n",
       "      <td>25%</td>\n",
       "      <td>40.000000</td>\n",
       "      <td>4.000000e+06</td>\n",
       "      <td>1.000000</td>\n",
       "      <td>2.600000</td>\n",
       "    </tr>\n",
       "    <tr>\n",
       "      <td>50%</td>\n",
       "      <td>50.000000</td>\n",
       "      <td>5.000000e+06</td>\n",
       "      <td>2.000000</td>\n",
       "      <td>2.600000</td>\n",
       "    </tr>\n",
       "    <tr>\n",
       "      <td>75%</td>\n",
       "      <td>65.000000</td>\n",
       "      <td>6.760000e+06</td>\n",
       "      <td>3.000000</td>\n",
       "      <td>2.800000</td>\n",
       "    </tr>\n",
       "    <tr>\n",
       "      <td>max</td>\n",
       "      <td>129.800000</td>\n",
       "      <td>1.299900e+07</td>\n",
       "      <td>7.000000</td>\n",
       "      <td>27.500000</td>\n",
       "    </tr>\n",
       "  </tbody>\n",
       "</table>\n",
       "</div>"
      ],
      "text/plain": [
       "         total_area    last_price         rooms  ceiling_height\n",
       "count  11294.000000  1.129400e+04  11294.000000    11294.000000\n",
       "mean      54.443625  5.641508e+06      1.962546        2.726766\n",
       "std       19.139981  2.206633e+06      0.901368        0.706487\n",
       "min       20.100000  1.200000e+06      1.000000        1.000000\n",
       "25%       40.000000  4.000000e+06      1.000000        2.600000\n",
       "50%       50.000000  5.000000e+06      2.000000        2.600000\n",
       "75%       65.000000  6.760000e+06      3.000000        2.800000\n",
       "max      129.800000  1.299900e+07      7.000000       27.500000"
      ]
     },
     "metadata": {},
     "output_type": "display_data"
    },
    {
     "data": {
      "text/html": [
       "<div>\n",
       "<style scoped>\n",
       "    .dataframe tbody tr th:only-of-type {\n",
       "        vertical-align: middle;\n",
       "    }\n",
       "\n",
       "    .dataframe tbody tr th {\n",
       "        vertical-align: top;\n",
       "    }\n",
       "\n",
       "    .dataframe thead th {\n",
       "        text-align: right;\n",
       "    }\n",
       "</style>\n",
       "<table border=\"1\" class=\"dataframe\">\n",
       "  <thead>\n",
       "    <tr style=\"text-align: right;\">\n",
       "      <th></th>\n",
       "      <th>price_per_meter</th>\n",
       "      <th>total_area</th>\n",
       "      <th>rooms</th>\n",
       "      <th>ceiling_height</th>\n",
       "    </tr>\n",
       "  </thead>\n",
       "  <tbody>\n",
       "    <tr>\n",
       "      <td>price_per_meter</td>\n",
       "      <td>1.000000</td>\n",
       "      <td>-0.146183</td>\n",
       "      <td>-0.327547</td>\n",
       "      <td>0.061362</td>\n",
       "    </tr>\n",
       "    <tr>\n",
       "      <td>total_area</td>\n",
       "      <td>-0.146183</td>\n",
       "      <td>1.000000</td>\n",
       "      <td>0.794019</td>\n",
       "      <td>0.084125</td>\n",
       "    </tr>\n",
       "    <tr>\n",
       "      <td>rooms</td>\n",
       "      <td>-0.327547</td>\n",
       "      <td>0.794019</td>\n",
       "      <td>1.000000</td>\n",
       "      <td>0.024796</td>\n",
       "    </tr>\n",
       "    <tr>\n",
       "      <td>ceiling_height</td>\n",
       "      <td>0.061362</td>\n",
       "      <td>0.084125</td>\n",
       "      <td>0.024796</td>\n",
       "      <td>1.000000</td>\n",
       "    </tr>\n",
       "  </tbody>\n",
       "</table>\n",
       "</div>"
      ],
      "text/plain": [
       "                 price_per_meter  total_area     rooms  ceiling_height\n",
       "price_per_meter         1.000000   -0.146183 -0.327547        0.061362\n",
       "total_area             -0.146183    1.000000  0.794019        0.084125\n",
       "rooms                  -0.327547    0.794019  1.000000        0.024796\n",
       "ceiling_height          0.061362    0.084125  0.024796        1.000000"
      ]
     },
     "metadata": {},
     "output_type": "display_data"
    },
    {
     "data": {
      "image/png": "[encoded data removed]",
      "text/plain": [
       "<Figure size 720x720 with 16 Axes>"
      ]
     },
     "metadata": {
      "needs_background": "light"
     },
     "output_type": "display_data"
    },
    {
     "data": {
      "image/png": "[encoded data removed]",
      "text/plain": [
       "<Figure size 360x360 with 1 Axes>"
      ]
     },
     "metadata": {
      "needs_background": "light"
     },
     "output_type": "display_data"
    },
    {
     "data": {
      "image/png": "[encoded data removed]",
      "text/plain": [
       "<Figure size 360x360 with 1 Axes>"
      ]
     },
     "metadata": {
      "needs_background": "light"
     },
     "output_type": "display_data"
    },
    {
     "data": {
      "image/png": "[encoded data removed]",
      "text/plain": [
       "<Figure size 360x360 with 1 Axes>"
      ]
     },
     "metadata": {
      "needs_background": "light"
     },
     "output_type": "display_data"
    },
    {
     "data": {
      "image/png": "[encoded data removed]",
      "text/plain": [
       "<Figure size 360x360 with 1 Axes>"
      ]
     },
     "metadata": {
      "needs_background": "light"
     },
     "output_type": "display_data"
    },
    {
     "data": {
      "image/png": "[encoded data removed]",
      "text/plain": [
       "<Figure size 360x360 with 1 Axes>"
      ]
     },
     "metadata": {
      "needs_background": "light"
     },
     "output_type": "display_data"
    },
    {
     "data": {
      "image/png": "[encoded data removed]",
      "text/plain": [
       "<Figure size 360x360 with 1 Axes>"
      ]
     },
     "metadata": {
      "needs_background": "light"
     },
     "output_type": "display_data"
    }
   ],
   "source": [
    "display(data_new_1[['total_area', 'last_price', 'rooms', 'ceiling_height']].describe())\n",
    "data_new_1 = data_new_1.query('1000000 < last_price < 13000000')\n",
    "spb_center = data_new_1[(data_new_1['cityCenters_nearest_km'] <= 8) & (data_new_1['locality_name'] == 'санкт-петербург')]\n",
    "spb_center_new = data_new_1.loc[:, ['price_per_meter','total_area','rooms','ceiling_height']]\n",
    "display(spb_center_new.corr())\n",
    "_=pd.plotting.scatter_matrix(spb_center_new, figsize=(10, 10))\n",
    "for column in ['rooms', 'floors_group', 'cityCenters_nearest_km', 'weekday', 'month', 'year']:\n",
    "    sns.catplot(x=column, y=\"last_price\", kind=\"box\", data=spb_center, palette='husl')"
   ]
  },
  {
   "cell_type": "markdown",
   "metadata": {},
   "source": [
    "- С увеличением площади, увеличиваетя число комнат и уменьшается цена за кв.метр.\n",
    "- Чем больше комнат, тем больше площадь и меньше цена за кв.метр.\n",
    "- Чем выше потолки, тем больше площадь и меньше цена за кв.метр.\n",
    "Средняя квартира, выставленная на продажу в центре Санкт-Петербурга, имеет следующие характеристики: это 2-комнатная квартира площадью 51,2 кв. м с потолками 2,60 м, проданная по цене 5,2 млн рублей.\n",
    "\n",
    "Факторы, влияющие на стоимость квартиры:\n",
    "\n",
    "Зависимость стоимости квартиры от числа комнат в центре Санкт-Петербурга сильнее: здесь больше платежеспособного спроса на 5-комнатные квартиры, что приводит к прямо пропорциональной зависимости цены от числа комнат. Другими словами, 5-комнатные квартиры в центре Санкт-Петербурга, как правило, будут продаваться дороже, чем 4-комнатные.\n",
    "Кроме того, в центре города наблюдается явно выраженная зависимость от этажа квартиры: квартира на последнем этаже в среднем будет стоить дороже, чем на первом. \n",
    "Чем дальше от центра города, тем в среднем квартира будет стоить дешевле: в среднем разница в стоимости между первым и восьмым километром от центра может достигать 2 млн руб.\n",
    "Квартиры, объявления о продаже которых публиковались по воскресеньям, продавались в среднем по более высокой цене. То же верно и для объявлений, опубликованных в начале осени, в период 2014 гг.: в среднем такие квартиры продавались дороже."
   ]
  },
  {
   "cell_type": "markdown",
   "metadata": {},
   "source": [
    "## Общий вывод"
   ]
  },
  {
   "cell_type": "markdown",
   "metadata": {},
   "source": [
    "Была изучена полученная информация - архив объявлений о продаже квартир в Санкт-Петербурге и соседних населённых пунктов за несколько лет.\n",
    "\n",
    "Выяснили, что почти половину значений занимает площадь квартир около 52 квадратов. Избавились от редких значений до 20 кв.м и от 130 кв.м. Чаще всего люди могут себе позволить купить квартиру около 4 млн, половина приобретений -это квартиры до 5 млн, но есть и отдельные богатые клиенты, которые могут приобрести квартиру и за более, чем 500 млн. Избавились от значений цены от 13 млн. Чаще это двукомнатные квартиры. Интервал комнат от 1 до 19 комнат. Тут от редких значений тоже избавились -квартиры от 7 комнат. При помощи диаграммы размаха, выявили, что четверть квартир продают за 45 дней - довольно-таки быстро, а есть и дольше, 420 дней - а это уже больше года (долго).Избавились от значений с 500 дней. В среднем люди продают квартиру за 95 дней.\n",
    "\n",
    "Исследовали факторы, влияющие на стоимость квартиры.\n",
    "\n",
    "Наиболее сильная корреляция наблюдается между площадью квартиры и ее стоимостью (коэфф. корреляции 0,72). Расстояние до центра города также, очевидно, влияет на стоимость квартиры, но обратно пропорционально и не так сильно (коэфф. корреляции -0,37). Стоимость квартиры также напрямую зависит от числа комнат: чем их больше, тем квартира дороже. Но это верно, пока число комнат не превышает четырех: 5- или 6-комнатные квартиры могут быть проданы дешевле 4-комнатных, и вызвано это скорее всего отсутствием спроса. Квартиры на первом или последнем этаже обычно продаются по более низкой цене, чем квартиры на других этажах. По дням недели: цена за кв.метр в объявлениях, которые разместили во вторник, четверг, пятницу и субботу дороже, чем в другие дни. По месяцам: Квартиры дешевеют в марте и октябре. По годам: Самые дорогие квартиры были в 2015 и 2019 году, между этими годами квартиры падают в цене День недели, месяц и год публикации объявления не играют значимой роли на стоимость, по которой объект недвижимости будет продан. Но это влияние незначительно\n",
    "\n",
    "Изходя из наблюдений по резкости изменения стоимости квартир в зависимости от удаления от центра СПБ, был выявлен центр города в радиусе 9 километров. Также был сделан анализ населенных пунктов с наибольщим числом объявлений: самая высокая стоимость жилья  в Санкт-Петербурге, тогда как самая низкая стоимость в Выборге\n",
    "\n",
    "Зависимость стоимости квартиры от числа комнат в центре Санкт-Петербурга сильнее: больше платежеспособного спроса на 5-комнатные квартиры, что приводит к прямо пропорциональной зависимости цены от числа комнат. Кроме того, в центре города наблюдается явно выраженная зависимость от этажа квартиры: квартира на последнем этаже и любом другом в среднем будет стоить дороже, чем на первом. Чем дальше от центра города, тем в среднем квартира будет стоить дешевле: в среднем разница в стоимости между первым и восьмым километром от центра может достигать 2 млн руб. Квартиры, объявления о продаже которых публиковались по воскресеньям, продавались в среднем по более высокой цене. То же верно и для объявлений, опубликованных в начале осени, в период 2014 гг.: в среднем такие квартиры продавались дороже."
   ]
  }
 ],
 "metadata": {
  "ExecuteTimeLog": [
   {
    "duration": 856,
    "start_time": "2021-07-25T08:57:12.080Z"
   },
   {
    "duration": 87,
    "start_time": "2021-07-25T08:57:25.068Z"
   },
   {
    "duration": 79,
    "start_time": "2021-07-25T09:00:42.599Z"
   },
   {
    "duration": 146,
    "start_time": "2021-07-25T09:01:08.087Z"
   },
   {
    "duration": 180,
    "start_time": "2021-07-25T09:02:15.642Z"
   },
   {
    "duration": 178,
    "start_time": "2021-07-25T09:02:33.665Z"
   },
   {
    "duration": 117,
    "start_time": "2021-07-25T09:03:08.539Z"
   },
   {
    "duration": 214,
    "start_time": "2021-07-25T09:04:57.795Z"
   },
   {
    "duration": 213,
    "start_time": "2021-07-25T09:05:30.266Z"
   },
   {
    "duration": 81,
    "start_time": "2021-07-25T09:07:01.794Z"
   },
   {
    "duration": 39,
    "start_time": "2021-07-25T09:07:04.205Z"
   },
   {
    "duration": 37,
    "start_time": "2021-07-25T09:07:07.807Z"
   },
   {
    "duration": 90,
    "start_time": "2021-07-25T09:07:11.049Z"
   },
   {
    "duration": 15,
    "start_time": "2021-07-25T09:07:29.071Z"
   },
   {
    "duration": 83,
    "start_time": "2021-07-25T09:07:39.521Z"
   },
   {
    "duration": 37,
    "start_time": "2021-07-25T09:07:42.054Z"
   },
   {
    "duration": 39,
    "start_time": "2021-07-25T09:07:44.910Z"
   },
   {
    "duration": 105,
    "start_time": "2021-07-25T09:07:48.152Z"
   },
   {
    "duration": 16,
    "start_time": "2021-07-25T09:07:50.639Z"
   },
   {
    "duration": 12,
    "start_time": "2021-07-25T11:28:18.624Z"
   },
   {
    "duration": 13,
    "start_time": "2021-07-25T11:58:31.119Z"
   },
   {
    "duration": 79,
    "start_time": "2021-07-25T12:05:49.701Z"
   },
   {
    "duration": 75,
    "start_time": "2021-07-25T12:06:20.124Z"
   },
   {
    "duration": 76,
    "start_time": "2021-07-25T12:07:46.080Z"
   },
   {
    "duration": 12,
    "start_time": "2021-07-25T12:14:40.583Z"
   },
   {
    "duration": 308,
    "start_time": "2021-07-26T15:25:58.909Z"
   },
   {
    "duration": 862,
    "start_time": "2021-07-26T15:26:08.519Z"
   },
   {
    "duration": 52,
    "start_time": "2021-07-26T15:26:11.388Z"
   },
   {
    "duration": 41,
    "start_time": "2021-07-26T15:26:14.146Z"
   },
   {
    "duration": 112,
    "start_time": "2021-07-26T15:26:17.255Z"
   },
   {
    "duration": 15,
    "start_time": "2021-07-26T15:26:20.034Z"
   },
   {
    "duration": 16,
    "start_time": "2021-07-26T15:26:23.215Z"
   },
   {
    "duration": 18,
    "start_time": "2021-07-26T15:31:06.822Z"
   },
   {
    "duration": 20,
    "start_time": "2021-07-26T15:35:37.440Z"
   },
   {
    "duration": 17,
    "start_time": "2021-07-26T15:36:56.350Z"
   },
   {
    "duration": 81,
    "start_time": "2021-07-26T16:01:40.906Z"
   },
   {
    "duration": 39,
    "start_time": "2021-07-26T16:01:44.294Z"
   },
   {
    "duration": 40,
    "start_time": "2021-07-26T16:01:47.668Z"
   },
   {
    "duration": 105,
    "start_time": "2021-07-26T16:01:50.001Z"
   },
   {
    "duration": 14,
    "start_time": "2021-07-26T16:01:52.482Z"
   },
   {
    "duration": 46,
    "start_time": "2021-07-26T16:01:59.400Z"
   },
   {
    "duration": 52,
    "start_time": "2021-07-26T16:03:01.700Z"
   },
   {
    "duration": 87,
    "start_time": "2021-07-26T16:03:18.451Z"
   },
   {
    "duration": 41,
    "start_time": "2021-07-26T16:03:20.968Z"
   },
   {
    "duration": 39,
    "start_time": "2021-07-26T16:03:23.614Z"
   },
   {
    "duration": 109,
    "start_time": "2021-07-26T16:03:26.494Z"
   },
   {
    "duration": 15,
    "start_time": "2021-07-26T16:03:29.037Z"
   },
   {
    "duration": 49,
    "start_time": "2021-07-26T16:03:32.781Z"
   },
   {
    "duration": 60,
    "start_time": "2021-07-26T16:05:46.835Z"
   },
   {
    "duration": 62,
    "start_time": "2021-07-26T16:08:49.660Z"
   },
   {
    "duration": 68,
    "start_time": "2021-07-26T16:09:31.641Z"
   },
   {
    "duration": 74,
    "start_time": "2021-07-26T16:09:49.272Z"
   },
   {
    "duration": 61,
    "start_time": "2021-07-26T16:10:36.059Z"
   },
   {
    "duration": 86,
    "start_time": "2021-07-26T16:11:09.743Z"
   },
   {
    "duration": 40,
    "start_time": "2021-07-26T16:11:11.762Z"
   },
   {
    "duration": 40,
    "start_time": "2021-07-26T16:11:13.992Z"
   },
   {
    "duration": 104,
    "start_time": "2021-07-26T16:11:17.597Z"
   },
   {
    "duration": 18,
    "start_time": "2021-07-26T16:11:20.461Z"
   },
   {
    "duration": 56,
    "start_time": "2021-07-26T16:11:51.978Z"
   },
   {
    "duration": 81,
    "start_time": "2021-07-26T16:42:17.398Z"
   },
   {
    "duration": 107,
    "start_time": "2021-07-26T16:45:23.457Z"
   },
   {
    "duration": 628,
    "start_time": "2021-08-04T09:35:18.357Z"
   },
   {
    "duration": 30,
    "start_time": "2021-08-04T09:35:20.638Z"
   },
   {
    "duration": 22,
    "start_time": "2021-08-04T09:35:23.087Z"
   },
   {
    "duration": 65,
    "start_time": "2021-08-04T09:35:25.681Z"
   },
   {
    "duration": 12,
    "start_time": "2021-08-04T09:35:29.566Z"
   },
   {
    "duration": 6389,
    "start_time": "2021-08-04T09:36:15.918Z"
   },
   {
    "duration": 6649,
    "start_time": "2021-08-04T09:36:49.593Z"
   },
   {
    "duration": 60,
    "start_time": "2021-08-04T09:37:23.793Z"
   },
   {
    "duration": 6295,
    "start_time": "2021-08-04T09:37:53.602Z"
   },
   {
    "duration": 6243,
    "start_time": "2021-08-04T09:38:01.379Z"
   },
   {
    "duration": 3615,
    "start_time": "2021-08-04T09:38:28.182Z"
   },
   {
    "duration": 58,
    "start_time": "2021-08-04T09:38:53.650Z"
   },
   {
    "duration": 54,
    "start_time": "2021-08-04T09:39:05.574Z"
   },
   {
    "duration": 58,
    "start_time": "2021-08-04T09:47:28.773Z"
   },
   {
    "duration": 89,
    "start_time": "2021-08-04T09:52:38.688Z"
   },
   {
    "duration": 275,
    "start_time": "2021-08-04T09:53:51.127Z"
   },
   {
    "duration": 65,
    "start_time": "2021-08-04T09:54:23.397Z"
   },
   {
    "duration": 60,
    "start_time": "2021-08-04T09:55:04.096Z"
   },
   {
    "duration": 23,
    "start_time": "2021-08-04T09:55:10.493Z"
   },
   {
    "duration": 24,
    "start_time": "2021-08-04T09:55:14.334Z"
   },
   {
    "duration": 23,
    "start_time": "2021-08-04T09:55:16.354Z"
   },
   {
    "duration": 65,
    "start_time": "2021-08-04T09:55:22.550Z"
   },
   {
    "duration": 10,
    "start_time": "2021-08-04T09:55:25.447Z"
   },
   {
    "duration": 58,
    "start_time": "2021-08-04T09:55:41.745Z"
   },
   {
    "duration": 70,
    "start_time": "2021-08-04T09:56:12.740Z"
   },
   {
    "duration": 82,
    "start_time": "2021-08-04T09:56:38.385Z"
   },
   {
    "duration": 86,
    "start_time": "2021-08-04T10:05:42.218Z"
   },
   {
    "duration": 94,
    "start_time": "2021-08-04T10:06:11.054Z"
   },
   {
    "duration": 98,
    "start_time": "2021-08-04T10:12:00.908Z"
   },
   {
    "duration": 83,
    "start_time": "2021-08-04T10:12:42.192Z"
   },
   {
    "duration": 94,
    "start_time": "2021-08-04T10:12:55.453Z"
   },
   {
    "duration": 92,
    "start_time": "2021-08-04T10:13:09.368Z"
   },
   {
    "duration": 95,
    "start_time": "2021-08-04T10:13:56.064Z"
   },
   {
    "duration": 93,
    "start_time": "2021-08-04T10:14:15.784Z"
   },
   {
    "duration": 91,
    "start_time": "2021-08-04T10:14:35.439Z"
   },
   {
    "duration": 93,
    "start_time": "2021-08-04T10:14:55.681Z"
   },
   {
    "duration": 62,
    "start_time": "2021-08-04T10:18:50.505Z"
   },
   {
    "duration": 93,
    "start_time": "2021-08-04T10:18:57.492Z"
   },
   {
    "duration": 61,
    "start_time": "2021-08-04T10:19:26.292Z"
   },
   {
    "duration": 109,
    "start_time": "2021-08-04T10:19:30.302Z"
   },
   {
    "duration": 82,
    "start_time": "2021-08-04T10:24:53.998Z"
   },
   {
    "duration": 73,
    "start_time": "2021-08-04T10:32:13.838Z"
   },
   {
    "duration": 92,
    "start_time": "2021-08-04T10:32:21.110Z"
   },
   {
    "duration": 91,
    "start_time": "2021-08-04T10:40:06.890Z"
   },
   {
    "duration": 92,
    "start_time": "2021-08-04T10:41:22.552Z"
   },
   {
    "duration": 89,
    "start_time": "2021-08-04T10:45:39.898Z"
   },
   {
    "duration": 88,
    "start_time": "2021-08-04T10:46:09.410Z"
   },
   {
    "duration": 105,
    "start_time": "2021-08-04T11:02:06.045Z"
   },
   {
    "duration": 63,
    "start_time": "2021-08-04T11:02:38.066Z"
   },
   {
    "duration": 92,
    "start_time": "2021-08-04T11:02:44.930Z"
   },
   {
    "duration": 64,
    "start_time": "2021-08-04T11:02:58.396Z"
   },
   {
    "duration": 91,
    "start_time": "2021-08-04T11:03:17.470Z"
   },
   {
    "duration": 88,
    "start_time": "2021-08-04T11:03:28.905Z"
   },
   {
    "duration": 95,
    "start_time": "2021-08-04T11:03:55.542Z"
   },
   {
    "duration": 85,
    "start_time": "2021-08-04T11:04:46.167Z"
   },
   {
    "duration": 92,
    "start_time": "2021-08-04T11:05:11.497Z"
   },
   {
    "duration": 101,
    "start_time": "2021-08-04T11:05:20.042Z"
   },
   {
    "duration": 50,
    "start_time": "2021-08-04T11:05:25.168Z"
   },
   {
    "duration": 87,
    "start_time": "2021-08-04T11:06:09.629Z"
   },
   {
    "duration": 55,
    "start_time": "2021-08-04T11:06:31.107Z"
   },
   {
    "duration": 52,
    "start_time": "2021-08-04T11:07:09.752Z"
   },
   {
    "duration": 52,
    "start_time": "2021-08-04T11:08:18.642Z"
   },
   {
    "duration": 50,
    "start_time": "2021-08-04T11:08:54.578Z"
   },
   {
    "duration": 459,
    "start_time": "2021-08-04T11:10:08.512Z"
   },
   {
    "duration": 287,
    "start_time": "2021-08-04T11:10:36.156Z"
   },
   {
    "duration": 311,
    "start_time": "2021-08-04T11:11:56.560Z"
   },
   {
    "duration": 309,
    "start_time": "2021-08-04T11:13:09.823Z"
   },
   {
    "duration": 313,
    "start_time": "2021-08-04T11:13:31.391Z"
   },
   {
    "duration": 9986,
    "start_time": "2021-08-04T11:15:41.607Z"
   },
   {
    "duration": 294,
    "start_time": "2021-08-04T11:16:33.395Z"
   },
   {
    "duration": 65,
    "start_time": "2021-08-04T11:25:01.880Z"
   },
   {
    "duration": 317,
    "start_time": "2021-08-04T11:25:08.330Z"
   },
   {
    "duration": 372,
    "start_time": "2021-08-04T11:26:04.785Z"
   },
   {
    "duration": 281,
    "start_time": "2021-08-04T11:27:47.006Z"
   },
   {
    "duration": 292,
    "start_time": "2021-08-04T11:30:17.133Z"
   },
   {
    "duration": 301,
    "start_time": "2021-08-04T11:30:50.328Z"
   },
   {
    "duration": 535,
    "start_time": "2021-08-04T11:32:04.436Z"
   },
   {
    "duration": 517,
    "start_time": "2021-08-04T11:33:02.467Z"
   },
   {
    "duration": 67,
    "start_time": "2021-08-04T11:33:12.262Z"
   },
   {
    "duration": 1243,
    "start_time": "2021-08-04T11:33:45.887Z"
   },
   {
    "duration": 1315,
    "start_time": "2021-08-04T11:34:23.019Z"
   },
   {
    "duration": 1031,
    "start_time": "2021-08-04T11:34:44.358Z"
   },
   {
    "duration": 1415,
    "start_time": "2021-08-04T11:35:16.279Z"
   },
   {
    "duration": 1106,
    "start_time": "2021-08-04T11:35:39.632Z"
   },
   {
    "duration": 64,
    "start_time": "2021-08-04T13:20:28.268Z"
   },
   {
    "duration": 124,
    "start_time": "2021-08-04T13:20:34.451Z"
   },
   {
    "duration": 1494,
    "start_time": "2021-08-04T13:38:05.302Z"
   },
   {
    "duration": 68,
    "start_time": "2021-08-04T13:39:14.437Z"
   },
   {
    "duration": 6736,
    "start_time": "2021-08-04T13:39:20.776Z"
   },
   {
    "duration": 7253,
    "start_time": "2021-08-04T13:42:17.871Z"
   },
   {
    "duration": 66,
    "start_time": "2021-08-04T13:44:00.453Z"
   },
   {
    "duration": 1538,
    "start_time": "2021-08-04T13:44:08.665Z"
   },
   {
    "duration": 1597,
    "start_time": "2021-08-04T13:46:49.074Z"
   },
   {
    "duration": 70,
    "start_time": "2021-08-04T13:47:15.985Z"
   },
   {
    "duration": 1680,
    "start_time": "2021-08-04T13:48:05.121Z"
   },
   {
    "duration": 1614,
    "start_time": "2021-08-04T13:49:43.752Z"
   },
   {
    "duration": 89,
    "start_time": "2021-08-04T14:43:50.112Z"
   },
   {
    "duration": 1617,
    "start_time": "2021-08-04T14:44:34.349Z"
   },
   {
    "duration": 4500,
    "start_time": "2021-08-04T16:15:01.881Z"
   },
   {
    "duration": 70,
    "start_time": "2021-08-04T16:15:34.225Z"
   },
   {
    "duration": 4366,
    "start_time": "2021-08-04T16:15:42.184Z"
   },
   {
    "duration": 7486,
    "start_time": "2021-08-04T16:20:55.817Z"
   },
   {
    "duration": 2906,
    "start_time": "2021-08-04T16:21:41.865Z"
   },
   {
    "duration": 68,
    "start_time": "2021-08-04T16:27:03.293Z"
   },
   {
    "duration": 2914,
    "start_time": "2021-08-04T16:27:16.276Z"
   },
   {
    "duration": 2815,
    "start_time": "2021-08-04T16:28:31.060Z"
   },
   {
    "duration": 3085,
    "start_time": "2021-08-04T16:28:56.928Z"
   },
   {
    "duration": 2993,
    "start_time": "2021-08-04T17:00:08.171Z"
   },
   {
    "duration": 334,
    "start_time": "2021-08-05T08:52:44.124Z"
   },
   {
    "duration": 828,
    "start_time": "2021-08-05T09:01:17.187Z"
   },
   {
    "duration": 4732,
    "start_time": "2021-08-05T09:01:33.922Z"
   },
   {
    "duration": 6,
    "start_time": "2021-08-05T09:01:43.107Z"
   },
   {
    "duration": 71,
    "start_time": "2021-08-05T09:02:24.279Z"
   },
   {
    "duration": 288,
    "start_time": "2021-08-05T09:37:01.691Z"
   },
   {
    "duration": 83,
    "start_time": "2021-08-05T09:46:38.435Z"
   },
   {
    "duration": 4551,
    "start_time": "2021-08-05T09:46:47.238Z"
   },
   {
    "duration": 231,
    "start_time": "2021-08-05T09:46:54.955Z"
   },
   {
    "duration": 263,
    "start_time": "2021-08-05T09:49:19.066Z"
   },
   {
    "duration": 274,
    "start_time": "2021-08-05T09:49:24.443Z"
   },
   {
    "duration": 1040,
    "start_time": "2021-08-06T08:11:34.570Z"
   },
   {
    "duration": 5238,
    "start_time": "2021-08-06T08:11:45.163Z"
   },
   {
    "duration": 336,
    "start_time": "2021-08-06T08:11:54.867Z"
   },
   {
    "duration": 1092,
    "start_time": "2021-08-06T08:13:06.218Z"
   },
   {
    "duration": 1066,
    "start_time": "2021-08-06T08:14:55.087Z"
   },
   {
    "duration": 7657,
    "start_time": "2021-08-06T08:34:57.071Z"
   },
   {
    "duration": 81,
    "start_time": "2021-08-06T08:35:19.794Z"
   },
   {
    "duration": 5086,
    "start_time": "2021-08-06T08:35:27.678Z"
   },
   {
    "duration": 1735,
    "start_time": "2021-08-06T08:35:31.032Z"
   },
   {
    "duration": 1770,
    "start_time": "2021-08-06T08:36:34.128Z"
   },
   {
    "duration": 527,
    "start_time": "2021-08-06T09:44:29.206Z"
   },
   {
    "duration": 442,
    "start_time": "2021-08-06T09:44:56.213Z"
   },
   {
    "duration": 428,
    "start_time": "2021-08-06T09:59:36.538Z"
   },
   {
    "duration": 483,
    "start_time": "2021-08-06T10:01:57.575Z"
   },
   {
    "duration": 9315,
    "start_time": "2021-08-06T10:04:49.699Z"
   },
   {
    "duration": 38,
    "start_time": "2021-08-06T10:05:13.807Z"
   },
   {
    "duration": 573,
    "start_time": "2021-08-06T10:09:51.766Z"
   },
   {
    "duration": 570,
    "start_time": "2021-08-06T10:10:19.385Z"
   },
   {
    "duration": 424,
    "start_time": "2021-08-06T10:10:26.786Z"
   },
   {
    "duration": 330,
    "start_time": "2021-08-06T10:10:33.728Z"
   },
   {
    "duration": 349,
    "start_time": "2021-08-06T10:10:44.384Z"
   },
   {
    "duration": 364,
    "start_time": "2021-08-06T10:10:57.206Z"
   },
   {
    "duration": 335,
    "start_time": "2021-08-06T10:11:11.632Z"
   },
   {
    "duration": 457,
    "start_time": "2021-08-06T10:11:19.103Z"
   },
   {
    "duration": 429,
    "start_time": "2021-08-06T10:11:27.074Z"
   },
   {
    "duration": 348,
    "start_time": "2021-08-06T10:11:40.512Z"
   },
   {
    "duration": 516,
    "start_time": "2021-08-06T10:12:43.432Z"
   },
   {
    "duration": 310,
    "start_time": "2021-08-06T10:12:52.832Z"
   },
   {
    "duration": 282,
    "start_time": "2021-08-06T10:13:37.072Z"
   },
   {
    "duration": 370,
    "start_time": "2021-08-06T10:13:47.032Z"
   },
   {
    "duration": 364,
    "start_time": "2021-08-06T10:19:20.993Z"
   },
   {
    "duration": 1133,
    "start_time": "2021-08-06T10:21:59.384Z"
   },
   {
    "duration": 390,
    "start_time": "2021-08-06T10:22:31.435Z"
   },
   {
    "duration": 1489,
    "start_time": "2021-08-06T10:25:10.026Z"
   },
   {
    "duration": 749,
    "start_time": "2021-08-06T10:27:52.222Z"
   },
   {
    "duration": 416,
    "start_time": "2021-08-06T10:28:49.234Z"
   },
   {
    "duration": 320,
    "start_time": "2021-08-06T10:29:55.328Z"
   },
   {
    "duration": 299,
    "start_time": "2021-08-06T10:30:46.232Z"
   },
   {
    "duration": 323,
    "start_time": "2021-08-06T10:31:03.366Z"
   },
   {
    "duration": 632,
    "start_time": "2021-08-06T10:36:26.897Z"
   },
   {
    "duration": 427,
    "start_time": "2021-08-06T10:36:37.648Z"
   },
   {
    "duration": 581,
    "start_time": "2021-08-06T10:37:04.212Z"
   },
   {
    "duration": 379,
    "start_time": "2021-08-06T10:37:31.078Z"
   },
   {
    "duration": 410,
    "start_time": "2021-08-06T10:38:22.660Z"
   },
   {
    "duration": 378,
    "start_time": "2021-08-06T10:38:36.852Z"
   },
   {
    "duration": 365,
    "start_time": "2021-08-06T10:39:36.872Z"
   },
   {
    "duration": 355,
    "start_time": "2021-08-06T10:43:47.367Z"
   },
   {
    "duration": 290,
    "start_time": "2021-08-06T10:43:56.155Z"
   },
   {
    "duration": 241,
    "start_time": "2021-08-06T10:45:21.997Z"
   },
   {
    "duration": 292,
    "start_time": "2021-08-06T10:45:56.887Z"
   },
   {
    "duration": 312,
    "start_time": "2021-08-06T10:46:19.126Z"
   },
   {
    "duration": 349,
    "start_time": "2021-08-06T10:47:24.791Z"
   },
   {
    "duration": 349,
    "start_time": "2021-08-06T10:47:32.526Z"
   },
   {
    "duration": 825,
    "start_time": "2021-08-06T10:53:32.835Z"
   },
   {
    "duration": 835,
    "start_time": "2021-08-06T10:54:26.595Z"
   },
   {
    "duration": 2346,
    "start_time": "2021-08-06T10:54:44.759Z"
   },
   {
    "duration": 8234,
    "start_time": "2021-08-06T11:01:04.020Z"
   },
   {
    "duration": 8,
    "start_time": "2021-08-06T11:01:33.023Z"
   },
   {
    "duration": 2369,
    "start_time": "2021-08-06T11:02:38.460Z"
   },
   {
    "duration": 6,
    "start_time": "2021-08-06T11:03:57.711Z"
   },
   {
    "duration": 587,
    "start_time": "2021-08-06T11:04:11.002Z"
   },
   {
    "duration": 2258,
    "start_time": "2021-08-06T11:04:30.927Z"
   },
   {
    "duration": 509,
    "start_time": "2021-08-06T11:05:36.955Z"
   },
   {
    "duration": 2865,
    "start_time": "2021-08-06T11:06:32.410Z"
   },
   {
    "duration": 648,
    "start_time": "2021-08-06T11:14:41.396Z"
   },
   {
    "duration": 508,
    "start_time": "2021-08-06T11:15:43.595Z"
   },
   {
    "duration": 618,
    "start_time": "2021-08-06T11:15:52.135Z"
   },
   {
    "duration": 530,
    "start_time": "2021-08-06T11:16:32.888Z"
   },
   {
    "duration": 711,
    "start_time": "2021-08-06T11:18:59.609Z"
   },
   {
    "duration": 745,
    "start_time": "2021-08-06T11:19:50.710Z"
   },
   {
    "duration": 773,
    "start_time": "2021-08-06T11:20:09.486Z"
   },
   {
    "duration": 285,
    "start_time": "2021-08-06T12:48:06.085Z"
   },
   {
    "duration": 342,
    "start_time": "2021-08-07T06:30:19.970Z"
   },
   {
    "duration": 762,
    "start_time": "2021-08-07T06:30:26.553Z"
   },
   {
    "duration": 2984,
    "start_time": "2021-08-07T06:30:33.654Z"
   },
   {
    "duration": 562,
    "start_time": "2021-08-07T06:30:37.686Z"
   },
   {
    "duration": 25,
    "start_time": "2021-08-07T06:30:46.251Z"
   },
   {
    "duration": 625,
    "start_time": "2021-08-07T06:30:49.468Z"
   },
   {
    "duration": 62,
    "start_time": "2021-08-07T06:31:23.948Z"
   },
   {
    "duration": 2985,
    "start_time": "2021-08-07T06:31:33.084Z"
   },
   {
    "duration": 552,
    "start_time": "2021-08-07T06:31:37.702Z"
   },
   {
    "duration": 25,
    "start_time": "2021-08-07T06:31:41.828Z"
   },
   {
    "duration": 1136,
    "start_time": "2021-08-07T06:31:44.806Z"
   },
   {
    "duration": 128,
    "start_time": "2021-08-07T06:31:51.165Z"
   },
   {
    "duration": 48,
    "start_time": "2021-08-07T06:33:31.142Z"
   },
   {
    "duration": 121,
    "start_time": "2021-08-07T06:40:24.289Z"
   },
   {
    "duration": 131,
    "start_time": "2021-08-07T06:40:38.865Z"
   },
   {
    "duration": 117,
    "start_time": "2021-08-07T06:42:33.463Z"
   },
   {
    "duration": 219,
    "start_time": "2021-08-07T06:45:08.339Z"
   },
   {
    "duration": 168,
    "start_time": "2021-08-07T06:45:18.697Z"
   },
   {
    "duration": 221,
    "start_time": "2021-08-07T06:45:28.358Z"
   },
   {
    "duration": 282,
    "start_time": "2021-08-07T06:50:38.074Z"
   },
   {
    "duration": 227,
    "start_time": "2021-08-07T06:50:52.807Z"
   },
   {
    "duration": 65,
    "start_time": "2021-08-07T06:52:40.231Z"
   },
   {
    "duration": 3051,
    "start_time": "2021-08-07T06:52:47.668Z"
   },
   {
    "duration": 544,
    "start_time": "2021-08-07T06:52:52.101Z"
   },
   {
    "duration": 225,
    "start_time": "2021-08-07T06:53:03.808Z"
   },
   {
    "duration": 173,
    "start_time": "2021-08-07T06:56:31.931Z"
   },
   {
    "duration": 170,
    "start_time": "2021-08-07T06:56:49.285Z"
   },
   {
    "duration": 357,
    "start_time": "2021-08-07T06:57:10.743Z"
   },
   {
    "duration": 285,
    "start_time": "2021-08-07T06:57:19.585Z"
   },
   {
    "duration": 227,
    "start_time": "2021-08-07T06:57:30.728Z"
   },
   {
    "duration": 174,
    "start_time": "2021-08-07T06:57:43.179Z"
   },
   {
    "duration": 296,
    "start_time": "2021-08-07T06:59:34.095Z"
   },
   {
    "duration": 4246,
    "start_time": "2021-08-07T07:06:00.496Z"
   },
   {
    "duration": 4104,
    "start_time": "2021-08-07T07:08:46.226Z"
   },
   {
    "duration": 228,
    "start_time": "2021-08-07T07:09:13.390Z"
   },
   {
    "duration": 4312,
    "start_time": "2021-08-07T07:10:13.993Z"
   },
   {
    "duration": 4845,
    "start_time": "2021-08-07T07:10:58.225Z"
   },
   {
    "duration": 234,
    "start_time": "2021-08-07T07:11:25.351Z"
   },
   {
    "duration": 223,
    "start_time": "2021-08-07T07:11:46.927Z"
   },
   {
    "duration": 287,
    "start_time": "2021-08-07T07:11:58.683Z"
   },
   {
    "duration": 228,
    "start_time": "2021-08-07T07:12:09.931Z"
   },
   {
    "duration": 205,
    "start_time": "2021-08-07T07:12:19.315Z"
   },
   {
    "duration": 210,
    "start_time": "2021-08-07T07:18:06.572Z"
   },
   {
    "duration": 253,
    "start_time": "2021-08-07T07:33:25.073Z"
   },
   {
    "duration": 4923,
    "start_time": "2021-08-07T07:33:36.103Z"
   },
   {
    "duration": 4832,
    "start_time": "2021-08-07T07:35:58.399Z"
   },
   {
    "duration": 257,
    "start_time": "2021-08-07T07:55:39.965Z"
   },
   {
    "duration": 4319,
    "start_time": "2021-08-07T07:57:58.158Z"
   },
   {
    "duration": 3938,
    "start_time": "2021-08-07T08:00:59.965Z"
   },
   {
    "duration": 682,
    "start_time": "2021-08-07T11:40:26.855Z"
   },
   {
    "duration": 3068,
    "start_time": "2021-08-07T11:40:36.138Z"
   },
   {
    "duration": 572,
    "start_time": "2021-08-07T11:40:40.850Z"
   },
   {
    "duration": 4862,
    "start_time": "2021-08-07T11:40:58.038Z"
   },
   {
    "duration": 376,
    "start_time": "2021-08-07T11:41:21.794Z"
   },
   {
    "duration": 4225,
    "start_time": "2021-08-07T11:41:34.158Z"
   },
   {
    "duration": 4516,
    "start_time": "2021-08-07T11:41:44.126Z"
   },
   {
    "duration": 3755,
    "start_time": "2021-08-07T11:48:55.505Z"
   },
   {
    "duration": 4162,
    "start_time": "2021-08-07T11:52:55.585Z"
   },
   {
    "duration": 4307,
    "start_time": "2021-08-07T11:54:36.939Z"
   },
   {
    "duration": 4132,
    "start_time": "2021-08-07T11:54:57.885Z"
   },
   {
    "duration": 4636,
    "start_time": "2021-08-07T11:56:04.708Z"
   },
   {
    "duration": 4220,
    "start_time": "2021-08-07T11:57:33.488Z"
   },
   {
    "duration": 4161,
    "start_time": "2021-08-07T12:00:09.948Z"
   },
   {
    "duration": 70294,
    "start_time": "2021-08-07T12:06:38.708Z"
   },
   {
    "duration": 4639,
    "start_time": "2021-08-07T12:13:17.170Z"
   },
   {
    "duration": 4153,
    "start_time": "2021-08-07T12:14:51.171Z"
   },
   {
    "duration": 74422,
    "start_time": "2021-08-07T12:16:12.451Z"
   },
   {
    "duration": 10131,
    "start_time": "2021-08-07T12:22:10.465Z"
   },
   {
    "duration": 71408,
    "start_time": "2021-08-07T12:23:03.356Z"
   },
   {
    "duration": 4231,
    "start_time": "2021-08-07T12:30:46.317Z"
   },
   {
    "duration": 3931,
    "start_time": "2021-08-07T12:32:08.869Z"
   },
   {
    "duration": 4631,
    "start_time": "2021-08-07T12:33:09.109Z"
   },
   {
    "duration": 6522,
    "start_time": "2021-08-07T12:34:00.789Z"
   },
   {
    "duration": 138,
    "start_time": "2021-08-07T12:34:48.368Z"
   },
   {
    "duration": 12260,
    "start_time": "2021-08-07T12:35:00.268Z"
   },
   {
    "duration": 4275,
    "start_time": "2021-08-07T12:36:22.090Z"
   },
   {
    "duration": 4725,
    "start_time": "2021-08-07T12:36:42.840Z"
   },
   {
    "duration": 7281,
    "start_time": "2021-08-07T12:40:12.163Z"
   },
   {
    "duration": 4184,
    "start_time": "2021-08-07T12:41:20.876Z"
   },
   {
    "duration": 4915,
    "start_time": "2021-08-07T12:42:13.617Z"
   },
   {
    "duration": 5092,
    "start_time": "2021-08-07T12:50:18.151Z"
   },
   {
    "duration": 4275,
    "start_time": "2021-08-07T12:55:28.289Z"
   },
   {
    "duration": 5458,
    "start_time": "2021-08-07T12:56:00.028Z"
   },
   {
    "duration": 5683,
    "start_time": "2021-08-07T12:56:16.172Z"
   },
   {
    "duration": 5680,
    "start_time": "2021-08-07T12:58:12.491Z"
   },
   {
    "duration": 15053,
    "start_time": "2021-08-07T12:58:52.633Z"
   },
   {
    "duration": 11508,
    "start_time": "2021-08-07T12:59:57.485Z"
   },
   {
    "duration": 7441,
    "start_time": "2021-08-07T13:00:37.892Z"
   },
   {
    "duration": 5110,
    "start_time": "2021-08-07T13:01:36.132Z"
   },
   {
    "duration": 71138,
    "start_time": "2021-08-07T13:09:28.549Z"
   },
   {
    "duration": 13437,
    "start_time": "2021-08-07T13:13:39.766Z"
   },
   {
    "duration": 5324,
    "start_time": "2021-08-07T13:14:09.697Z"
   },
   {
    "duration": 5879,
    "start_time": "2021-08-07T13:14:21.912Z"
   },
   {
    "duration": 12888,
    "start_time": "2021-08-07T13:15:36.980Z"
   },
   {
    "duration": 6706,
    "start_time": "2021-08-07T13:16:21.886Z"
   },
   {
    "duration": 82013,
    "start_time": "2021-08-07T13:42:00.729Z"
   },
   {
    "duration": 76189,
    "start_time": "2021-08-07T13:43:58.454Z"
   },
   {
    "duration": 29047,
    "start_time": "2021-08-07T13:46:16.494Z"
   },
   {
    "duration": 4597,
    "start_time": "2021-08-07T14:10:38.729Z"
   },
   {
    "duration": 7028,
    "start_time": "2021-08-07T14:16:15.849Z"
   },
   {
    "duration": 4992,
    "start_time": "2021-08-07T14:16:59.452Z"
   },
   {
    "duration": 4100,
    "start_time": "2021-08-07T14:18:12.300Z"
   },
   {
    "duration": 6170,
    "start_time": "2021-08-07T14:18:26.363Z"
   },
   {
    "duration": 78,
    "start_time": "2021-08-07T14:21:58.341Z"
   },
   {
    "duration": 5965,
    "start_time": "2021-08-07T14:22:04.849Z"
   },
   {
    "duration": 23,
    "start_time": "2021-08-07T14:44:20.054Z"
   },
   {
    "duration": 22,
    "start_time": "2021-08-07T14:45:29.383Z"
   },
   {
    "duration": 25,
    "start_time": "2021-08-07T14:49:37.766Z"
   },
   {
    "duration": 30,
    "start_time": "2021-08-07T14:50:20.497Z"
   },
   {
    "duration": 31,
    "start_time": "2021-08-07T14:50:49.572Z"
   },
   {
    "duration": 265,
    "start_time": "2021-08-07T14:59:50.186Z"
   },
   {
    "duration": 374,
    "start_time": "2021-08-07T15:00:06.128Z"
   },
   {
    "duration": 368,
    "start_time": "2021-08-07T15:01:47.130Z"
   },
   {
    "duration": 285,
    "start_time": "2021-08-07T15:03:09.831Z"
   },
   {
    "duration": 294,
    "start_time": "2021-08-07T15:03:44.500Z"
   },
   {
    "duration": 273,
    "start_time": "2021-08-07T15:04:13.441Z"
   },
   {
    "duration": 283,
    "start_time": "2021-08-07T15:05:05.854Z"
   },
   {
    "duration": 16,
    "start_time": "2021-08-07T15:06:15.131Z"
   },
   {
    "duration": 15,
    "start_time": "2021-08-07T15:06:46.588Z"
   },
   {
    "duration": 54,
    "start_time": "2021-08-07T15:08:38.209Z"
   },
   {
    "duration": 3159,
    "start_time": "2021-08-07T15:08:48.190Z"
   },
   {
    "duration": 9520,
    "start_time": "2021-08-07T15:10:31.892Z"
   },
   {
    "duration": 13761,
    "start_time": "2021-08-07T15:11:33.015Z"
   },
   {
    "duration": 2813,
    "start_time": "2021-08-07T15:12:19.284Z"
   },
   {
    "duration": 577,
    "start_time": "2021-08-07T15:12:53.225Z"
   },
   {
    "duration": 1895,
    "start_time": "2021-08-07T15:13:12.798Z"
   },
   {
    "duration": 4709,
    "start_time": "2021-08-07T15:13:20.799Z"
   },
   {
    "duration": 6758,
    "start_time": "2021-08-07T15:13:33.164Z"
   },
   {
    "duration": 42,
    "start_time": "2021-08-07T15:13:47.441Z"
   },
   {
    "duration": 290,
    "start_time": "2021-08-07T15:13:54.172Z"
   },
   {
    "duration": 291,
    "start_time": "2021-08-07T15:14:50.834Z"
   },
   {
    "duration": 4,
    "start_time": "2021-08-07T15:15:29.197Z"
   },
   {
    "duration": 6695,
    "start_time": "2021-08-07T15:16:12.394Z"
   },
   {
    "duration": 8,
    "start_time": "2021-08-07T15:16:30.522Z"
   },
   {
    "duration": 10,
    "start_time": "2021-08-07T15:16:47.546Z"
   },
   {
    "duration": 12,
    "start_time": "2021-08-07T15:17:00.850Z"
   },
   {
    "duration": 18,
    "start_time": "2021-08-07T15:17:23.148Z"
   },
   {
    "duration": 21,
    "start_time": "2021-08-07T15:18:12.707Z"
   },
   {
    "duration": 27,
    "start_time": "2021-08-07T15:18:34.423Z"
   },
   {
    "duration": 53,
    "start_time": "2021-08-07T15:20:25.226Z"
   },
   {
    "duration": 64,
    "start_time": "2021-08-07T15:21:43.859Z"
   },
   {
    "duration": 214,
    "start_time": "2021-08-07T15:22:24.406Z"
   },
   {
    "duration": 7,
    "start_time": "2021-08-07T15:31:57.946Z"
   },
   {
    "duration": 3795,
    "start_time": "2021-08-07T15:34:43.434Z"
   },
   {
    "duration": 4346,
    "start_time": "2021-08-07T15:35:01.571Z"
   },
   {
    "duration": 4186,
    "start_time": "2021-08-07T15:35:16.490Z"
   },
   {
    "duration": 7286,
    "start_time": "2021-08-07T15:41:32.604Z"
   },
   {
    "duration": 6797,
    "start_time": "2021-08-07T15:44:11.014Z"
   },
   {
    "duration": 1257,
    "start_time": "2021-08-07T17:26:44.731Z"
   },
   {
    "duration": 45,
    "start_time": "2021-08-07T17:26:48.358Z"
   },
   {
    "duration": 39,
    "start_time": "2021-08-07T17:26:51.817Z"
   },
   {
    "duration": 105,
    "start_time": "2021-08-07T17:26:55.044Z"
   },
   {
    "duration": 17,
    "start_time": "2021-08-07T17:26:57.601Z"
   },
   {
    "duration": 4412,
    "start_time": "2021-08-07T17:27:05.400Z"
   },
   {
    "duration": 4653,
    "start_time": "2021-08-07T17:28:31.237Z"
   },
   {
    "duration": 4455,
    "start_time": "2021-08-07T17:29:05.439Z"
   },
   {
    "duration": 4975,
    "start_time": "2021-08-07T17:31:39.176Z"
   },
   {
    "duration": 4595,
    "start_time": "2021-08-07T17:32:04.497Z"
   },
   {
    "duration": 4550,
    "start_time": "2021-08-07T17:32:36.015Z"
   },
   {
    "duration": 4650,
    "start_time": "2021-08-07T17:34:54.028Z"
   },
   {
    "duration": 7200,
    "start_time": "2021-08-07T17:35:11.291Z"
   },
   {
    "duration": 4395,
    "start_time": "2021-08-07T17:36:27.515Z"
   },
   {
    "duration": 4378,
    "start_time": "2021-08-07T17:36:59.993Z"
   },
   {
    "duration": 5965,
    "start_time": "2021-08-07T17:40:25.248Z"
   },
   {
    "duration": 4497,
    "start_time": "2021-08-07T17:42:01.184Z"
   },
   {
    "duration": 4301,
    "start_time": "2021-08-07T17:42:25.186Z"
   },
   {
    "duration": 2980,
    "start_time": "2021-08-07T17:43:00.248Z"
   },
   {
    "duration": 834,
    "start_time": "2021-08-07T17:43:30.333Z"
   },
   {
    "duration": 99,
    "start_time": "2021-08-07T17:45:07.431Z"
   },
   {
    "duration": 39,
    "start_time": "2021-08-07T17:45:10.304Z"
   },
   {
    "duration": 4598,
    "start_time": "2021-08-07T17:47:03.346Z"
   },
   {
    "duration": 4608,
    "start_time": "2021-08-07T17:48:25.526Z"
   },
   {
    "duration": 5056,
    "start_time": "2021-08-07T18:04:09.150Z"
   },
   {
    "duration": 87,
    "start_time": "2021-08-07T18:04:32.316Z"
   },
   {
    "duration": 4716,
    "start_time": "2021-08-07T18:04:40.746Z"
   },
   {
    "duration": 86,
    "start_time": "2021-08-07T18:05:52.728Z"
   },
   {
    "duration": 4633,
    "start_time": "2021-08-07T18:05:59.473Z"
   },
   {
    "duration": 291,
    "start_time": "2021-08-07T18:07:19.890Z"
   },
   {
    "duration": 4704,
    "start_time": "2021-08-07T18:07:30.088Z"
   },
   {
    "duration": 82,
    "start_time": "2021-08-07T18:09:37.865Z"
   },
   {
    "duration": 4608,
    "start_time": "2021-08-07T18:09:44.867Z"
   },
   {
    "duration": 4799,
    "start_time": "2021-08-07T18:25:28.547Z"
   },
   {
    "duration": 83,
    "start_time": "2021-08-07T18:25:40.629Z"
   },
   {
    "duration": 4898,
    "start_time": "2021-08-07T18:25:49.054Z"
   },
   {
    "duration": 1064,
    "start_time": "2021-08-08T20:34:14.245Z"
   },
   {
    "duration": 4517,
    "start_time": "2021-08-08T20:34:21.661Z"
   },
   {
    "duration": 1019,
    "start_time": "2021-08-08T20:34:33.813Z"
   },
   {
    "duration": 39,
    "start_time": "2021-08-08T20:34:42.401Z"
   },
   {
    "duration": 2139,
    "start_time": "2021-08-08T20:34:46.336Z"
   },
   {
    "duration": 237,
    "start_time": "2021-08-08T20:39:35.654Z"
   },
   {
    "duration": 561,
    "start_time": "2021-08-08T20:39:41.674Z"
   },
   {
    "duration": 317,
    "start_time": "2021-08-08T20:39:47.343Z"
   },
   {
    "duration": 395,
    "start_time": "2021-08-08T20:39:51.678Z"
   },
   {
    "duration": 6798,
    "start_time": "2021-08-08T20:40:43.493Z"
   },
   {
    "duration": 10118,
    "start_time": "2021-08-08T20:42:04.459Z"
   },
   {
    "duration": 50,
    "start_time": "2021-08-08T20:42:31.313Z"
   },
   {
    "duration": 395,
    "start_time": "2021-08-08T20:46:31.729Z"
   },
   {
    "duration": 307,
    "start_time": "2021-08-08T20:46:40.637Z"
   },
   {
    "duration": 89,
    "start_time": "2021-08-08T20:47:15.078Z"
   },
   {
    "duration": 168,
    "start_time": "2021-08-08T20:47:24.337Z"
   },
   {
    "duration": 42,
    "start_time": "2021-08-08T20:47:27.396Z"
   },
   {
    "duration": 109,
    "start_time": "2021-08-08T20:47:30.622Z"
   },
   {
    "duration": 16,
    "start_time": "2021-08-08T20:47:33.512Z"
   },
   {
    "duration": 5781,
    "start_time": "2021-08-08T20:47:40.723Z"
   },
   {
    "duration": 1025,
    "start_time": "2021-08-08T20:47:52.773Z"
   },
   {
    "duration": 40,
    "start_time": "2021-08-08T20:48:21.004Z"
   },
   {
    "duration": 2053,
    "start_time": "2021-08-08T20:48:24.056Z"
   },
   {
    "duration": 437,
    "start_time": "2021-08-08T20:48:33.856Z"
   },
   {
    "duration": 544,
    "start_time": "2021-08-08T20:48:39.486Z"
   },
   {
    "duration": 228,
    "start_time": "2021-08-08T20:48:43.114Z"
   },
   {
    "duration": 421,
    "start_time": "2021-08-08T20:48:46.568Z"
   },
   {
    "duration": 7104,
    "start_time": "2021-08-08T20:48:50.874Z"
   },
   {
    "duration": 7577,
    "start_time": "2021-08-08T20:49:14.317Z"
   },
   {
    "duration": 10256,
    "start_time": "2021-08-08T20:49:29.865Z"
   },
   {
    "duration": 50,
    "start_time": "2021-08-08T20:49:49.364Z"
   },
   {
    "duration": 10,
    "start_time": "2021-08-08T20:50:27.495Z"
   },
   {
    "duration": 220,
    "start_time": "2021-08-08T20:50:35.419Z"
   },
   {
    "duration": 247,
    "start_time": "2021-08-08T20:51:47.974Z"
   },
   {
    "duration": 13,
    "start_time": "2021-08-08T20:52:10.901Z"
   },
   {
    "duration": 330,
    "start_time": "2021-08-08T20:53:42.373Z"
   },
   {
    "duration": 10005,
    "start_time": "2021-08-08T20:53:59.175Z"
   },
   {
    "duration": 10933,
    "start_time": "2021-08-08T20:57:55.214Z"
   },
   {
    "duration": 10110,
    "start_time": "2021-08-08T20:58:44.776Z"
   },
   {
    "duration": 349,
    "start_time": "2021-08-08T21:11:48.670Z"
   },
   {
    "duration": 562,
    "start_time": "2021-08-08T21:12:48.253Z"
   },
   {
    "duration": 244,
    "start_time": "2021-08-08T21:12:52.571Z"
   },
   {
    "duration": 398,
    "start_time": "2021-08-08T21:12:56.026Z"
   },
   {
    "duration": 6934,
    "start_time": "2021-08-08T21:13:05.426Z"
   },
   {
    "duration": 9928,
    "start_time": "2021-08-08T21:13:12.363Z"
   },
   {
    "duration": 51,
    "start_time": "2021-08-08T21:14:22.564Z"
   },
   {
    "duration": 7,
    "start_time": "2021-08-08T21:14:28.117Z"
   },
   {
    "duration": 6,
    "start_time": "2021-08-08T21:15:40.196Z"
   },
   {
    "duration": 329,
    "start_time": "2021-08-08T21:18:07.450Z"
   },
   {
    "duration": 1181,
    "start_time": "2021-08-09T14:24:49.886Z"
   },
   {
    "duration": 64,
    "start_time": "2021-08-09T14:24:51.071Z"
   },
   {
    "duration": 65,
    "start_time": "2021-08-09T14:24:51.139Z"
   },
   {
    "duration": 166,
    "start_time": "2021-08-09T14:24:51.208Z"
   },
   {
    "duration": 23,
    "start_time": "2021-08-09T14:24:51.377Z"
   },
   {
    "duration": 4572,
    "start_time": "2021-08-09T14:24:51.403Z"
   },
   {
    "duration": 1004,
    "start_time": "2021-08-09T14:24:55.977Z"
   },
   {
    "duration": 35,
    "start_time": "2021-08-09T14:24:56.985Z"
   },
   {
    "duration": 2012,
    "start_time": "2021-08-09T14:24:57.022Z"
   },
   {
    "duration": 245,
    "start_time": "2021-08-09T14:24:59.037Z"
   },
   {
    "duration": 544,
    "start_time": "2021-08-09T14:24:59.285Z"
   },
   {
    "duration": 309,
    "start_time": "2021-08-09T14:24:59.831Z"
   },
   {
    "duration": 397,
    "start_time": "2021-08-09T14:25:00.143Z"
   },
   {
    "duration": 6714,
    "start_time": "2021-08-09T14:25:00.543Z"
   },
   {
    "duration": 9883,
    "start_time": "2021-08-09T14:25:07.259Z"
   },
   {
    "duration": 55,
    "start_time": "2021-08-09T14:25:17.145Z"
   },
   {
    "duration": 6847,
    "start_time": "2021-08-09T14:25:17.203Z"
   },
   {
    "duration": -2253,
    "start_time": "2021-08-09T14:25:26.307Z"
   },
   {
    "duration": 316,
    "start_time": "2021-08-09T15:21:08.909Z"
   },
   {
    "duration": 9826,
    "start_time": "2021-08-09T15:21:41.688Z"
   },
   {
    "duration": 652,
    "start_time": "2021-08-10T06:12:08.020Z"
   },
   {
    "duration": 29,
    "start_time": "2021-08-10T06:12:11.289Z"
   },
   {
    "duration": 21,
    "start_time": "2021-08-10T06:12:13.960Z"
   },
   {
    "duration": 62,
    "start_time": "2021-08-10T06:12:17.665Z"
   },
   {
    "duration": 10,
    "start_time": "2021-08-10T06:12:19.505Z"
   },
   {
    "duration": 2752,
    "start_time": "2021-08-10T06:12:25.090Z"
   },
   {
    "duration": 551,
    "start_time": "2021-08-10T06:12:42.714Z"
   },
   {
    "duration": 25,
    "start_time": "2021-08-10T06:12:51.378Z"
   },
   {
    "duration": 1099,
    "start_time": "2021-08-10T06:12:54.032Z"
   },
   {
    "duration": 120,
    "start_time": "2021-08-10T06:12:59.845Z"
   },
   {
    "duration": 277,
    "start_time": "2021-08-10T06:13:08.105Z"
   },
   {
    "duration": 182,
    "start_time": "2021-08-10T06:13:13.847Z"
   },
   {
    "duration": 210,
    "start_time": "2021-08-10T06:13:18.270Z"
   },
   {
    "duration": 3946,
    "start_time": "2021-08-10T06:13:22.568Z"
   },
   {
    "duration": 5944,
    "start_time": "2021-08-10T06:13:32.720Z"
   },
   {
    "duration": 31,
    "start_time": "2021-08-10T06:13:49.114Z"
   },
   {
    "duration": 281,
    "start_time": "2021-08-10T06:14:08.888Z"
   }
  ],
  "kernelspec": {
   "display_name": "Python 3",
   "language": "python",
   "name": "python3"
  },
  "language_info": {
   "codemirror_mode": {
    "name": "ipython",
    "version": 3
   },
   "file_extension": ".py",
   "mimetype": "text/x-python",
   "name": "python",
   "nbconvert_exporter": "python",
   "pygments_lexer": "ipython3",
   "version": "3.7.8"
  },
  "toc": {
   "base_numbering": 1,
   "nav_menu": {},
   "number_sections": true,
   "sideBar": true,
   "skip_h1_title": true,
   "title_cell": "Содержание",
   "title_sidebar": "Contents",
   "toc_cell": true,
   "toc_position": {
    "height": "calc(100% - 180px)",
    "left": "10px",
    "top": "150px",
    "width": "179.6px"
   },
   "toc_section_display": true,
   "toc_window_display": true
  }
 },
 "nbformat": 4,
 "nbformat_minor": 2
}
