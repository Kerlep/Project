{
 "cells": [
  {
   "cell_type": "markdown",
   "metadata": {},
   "source": [
    "#  Определение тарифа для телеком компании"
   ]
  },
  {
   "cell_type": "markdown",
   "metadata": {},
   "source": [
    "### Описание проекта:\n",
    "\n",
    "Клиентам предлагают два тарифных плана: «Смарт» и «Ультра». Чтобы скорректировать рекламный бюджет, коммерческий департамент хочет понять, какой тариф приносит больше денег.\n",
    "Предстоит сделать предварительный анализ тарифов на небольшой выборке клиентов. В вашем распоряжении данные 500 пользователей «Мегалайна»: кто они, откуда, каким тарифом пользуются, сколько звонков и сообщений каждый отправил за 2018 год.\n",
    "\n",
    "### Цель:\n",
    "\n",
    "Нужно проанализировать поведение клиентов и сделать вывод — какой тариф лучше.\n",
    "\n",
    "### Описание тарифов:\n",
    "- Тариф «Смарт»\n",
    "Ежемесячная плата: 550 рублей\n",
    "Включено 500 минут разговора, 50 сообщений и 15 Гб интернет-трафика\n",
    "Стоимость услуг сверх тарифного пакета: 1. минута разговора: 3 рубля («Мегалайн» всегда округляет вверх значения минут и мегабайтов. Если пользователь проговорил всего 1 секунду, в тарифе засчитывается целая минута); 2. сообщение: 3 рубля; 3. 1 Гб интернет-трафика: 200 рублей.\n",
    "- Тариф «Ультра»\n",
    "Ежемесячная плата: 1950 рублей\n",
    "Включено 3000 минут разговора, 1000 сообщений и 30 Гб интернет-трафика\n",
    "Стоимость услуг сверх тарифного пакета: 1. минута разговора: 1 рубль; 2. сообщение: 1 рубль; 3. 1 Гб интернет-трафика: 150 рублей.\n",
    "\n",
    "### Описание данных:\n",
    "\n",
    "Таблица users (информация о пользователях):\n",
    "- user_id — уникальный идентификатор пользователя\n",
    "- first_name — имя пользователя\n",
    "- last_name — фамилия пользователя\n",
    "- age — возраст пользователя (годы)\n",
    "- reg_date — дата подключения тарифа (день, месяц, год)\n",
    "- churn_date — дата прекращения пользования тарифом (если значение пропущено, то тариф ещё действовал на момент выгрузки данных)\n",
    "- city — город проживания пользователя\n",
    "- tarif — название тарифного плана\n",
    "Таблица calls (информация о звонках):\n",
    "- id — уникальный номер звонка\n",
    "- call_date — дата звонка\n",
    "- duration — длительность звонка в минутах\n",
    "- user_id — идентификатор пользователя, сделавшего звонок\n",
    "Таблица messages (информация о сообщениях):\n",
    "- id — уникальный номер сообщения\n",
    "- message_date — дата сообщения\n",
    "- user_id — идентификатор пользователя, отправившего сообщение\n",
    "Таблица internet (информация об интернет-сессиях):\n",
    "- id — уникальный номер сессии\n",
    "- mb_used — объём потраченного за сессию интернет-трафика (в мегабайтах)\n",
    "- session_date — дата интернет-сессии\n",
    "- user_id — идентификатор пользователя\n",
    "Таблица tariffs (информация о тарифах):\n",
    "- tariff_name — название тарифа\n",
    "- rub_monthly_fee — ежемесячная абонентская плата в рублях\n",
    "- minutes_included — количество минут разговора в месяц, включённых в абонентскую плату\n",
    "- messages_included — количество сообщений в месяц, включённых в абонентскую плату\n",
    "- mb_per_month_included — объём интернет-трафика, включённого в абонентскую плату (в мегабайтах)\n",
    "- rub_per_minute — стоимость минуты разговора сверх тарифного пакета (например, если в тарифе 100 минут разговора в месяц, то со 101 минуты будет взиматься плата)\n",
    "- rub_per_message — стоимость отправки сообщения сверх тарифного пакета\n",
    "- rub_per_gb — стоимость дополнительного гигабайта интернет-трафика сверх тарифного пакета (1 гигабайт = 1024 мегабайта)\n",
    "\n",
    "\n",
    "### Задачи исследования\n",
    "1. [Изучение общей информации](#start)\n",
    "2. [Предобработка данных](#preprocessing)\n",
    "    * [Обработка пропущенных значений и дубликатов](#a)\n",
    "    * [Приведение данных к целочистленному типу](#b)\n",
    "    * [Обработка нулевых значений](#c)\n",
    "    * [Построение сгруппированных таблиц по каждому пользователю](#d)\n",
    "3. [Анализ и описание данных](#e)    \n",
    "    - [Описать поведение клиентов оператора, исходя из выборки](#k)\n",
    "    - [Сколько минут разговора, сколько сообщений и какой объём интернет-трафика требуется пользователям каждого тарифа в месяц?](#k)\n",
    "    - [Cреднее количество, дисперсию и стандартное отклонение](#o)\n",
    "    - [Построить гистограммы. Описать распределение. Сделать на основании этого вывод](#v)\n",
    "4. [Проверка гипотез и пояснения](#f)\n",
    "    - [средняя выручка пользователей тарифов «Ультра» и «Смарт» различаются](#f)\n",
    "    - [средняя выручка пользователей из Москвы отличается от выручки пользователей из других регионов](#f)\n",
    "5. [Вывод](#g)"
   ]
  },
  {
   "cell_type": "markdown",
   "metadata": {},
   "source": [
    "## Изучение общей информации:\n",
    "<a id=\"start\"></a>"
   ]
  },
  {
   "cell_type": "code",
   "execution_count": 1,
   "metadata": {},
   "outputs": [],
   "source": [
    "#Подключение библиотек\n",
    "import pandas as pd\n",
    "import matplotlib.pyplot as plt\n",
    "from datetime import datetime\n",
    "from scipy import stats as st\n",
    "import numpy as np"
   ]
  },
  {
   "cell_type": "code",
   "execution_count": 2,
   "metadata": {},
   "outputs": [],
   "source": [
    "#Получение данных\n",
    "calls = pd.read_csv('/datasets/calls.csv', parse_dates = ['call_date'])\n",
    "internet = pd.read_csv('/datasets/internet.csv', parse_dates = ['session_date'])\n",
    "messages = pd.read_csv('/datasets/messages.csv', parse_dates = ['message_date'])\n",
    "tariffs = pd.read_csv('/datasets/tariffs.csv')\n",
    "users = pd.read_csv('/datasets/users.csv')"
   ]
  },
  {
   "cell_type": "markdown",
   "metadata": {},
   "source": [
    "## Предобработка данных:\n",
    "<a id=\"preprocessing\"></a>"
   ]
  },
  {
   "cell_type": "markdown",
   "metadata": {},
   "source": [
    "### Обработка пропущенных значений и дубликатов\n",
    "<a id=\"a\"></a>"
   ]
  },
  {
   "cell_type": "code",
   "execution_count": 4,
   "metadata": {},
   "outputs": [
    {
     "data": {
      "text/html": [
       "<div>\n",
       "<style scoped>\n",
       "    .dataframe tbody tr th:only-of-type {\n",
       "        vertical-align: middle;\n",
       "    }\n",
       "\n",
       "    .dataframe tbody tr th {\n",
       "        vertical-align: top;\n",
       "    }\n",
       "\n",
       "    .dataframe thead th {\n",
       "        text-align: right;\n",
       "    }\n",
       "</style>\n",
       "<table border=\"1\" class=\"dataframe\">\n",
       "  <thead>\n",
       "    <tr style=\"text-align: right;\">\n",
       "      <th></th>\n",
       "      <th>id</th>\n",
       "      <th>call_date</th>\n",
       "      <th>duration</th>\n",
       "      <th>user_id</th>\n",
       "    </tr>\n",
       "  </thead>\n",
       "  <tbody>\n",
       "    <tr>\n",
       "      <td>0</td>\n",
       "      <td>1000_0</td>\n",
       "      <td>2018-07-25</td>\n",
       "      <td>0.00</td>\n",
       "      <td>1000</td>\n",
       "    </tr>\n",
       "    <tr>\n",
       "      <td>1</td>\n",
       "      <td>1000_1</td>\n",
       "      <td>2018-08-17</td>\n",
       "      <td>0.00</td>\n",
       "      <td>1000</td>\n",
       "    </tr>\n",
       "    <tr>\n",
       "      <td>2</td>\n",
       "      <td>1000_2</td>\n",
       "      <td>2018-06-11</td>\n",
       "      <td>2.85</td>\n",
       "      <td>1000</td>\n",
       "    </tr>\n",
       "    <tr>\n",
       "      <td>3</td>\n",
       "      <td>1000_3</td>\n",
       "      <td>2018-09-21</td>\n",
       "      <td>13.80</td>\n",
       "      <td>1000</td>\n",
       "    </tr>\n",
       "    <tr>\n",
       "      <td>4</td>\n",
       "      <td>1000_4</td>\n",
       "      <td>2018-12-15</td>\n",
       "      <td>5.18</td>\n",
       "      <td>1000</td>\n",
       "    </tr>\n",
       "    <tr>\n",
       "      <td>...</td>\n",
       "      <td>...</td>\n",
       "      <td>...</td>\n",
       "      <td>...</td>\n",
       "      <td>...</td>\n",
       "    </tr>\n",
       "    <tr>\n",
       "      <td>202602</td>\n",
       "      <td>1499_215</td>\n",
       "      <td>2018-12-26</td>\n",
       "      <td>0.76</td>\n",
       "      <td>1499</td>\n",
       "    </tr>\n",
       "    <tr>\n",
       "      <td>202603</td>\n",
       "      <td>1499_216</td>\n",
       "      <td>2018-10-18</td>\n",
       "      <td>18.83</td>\n",
       "      <td>1499</td>\n",
       "    </tr>\n",
       "    <tr>\n",
       "      <td>202604</td>\n",
       "      <td>1499_217</td>\n",
       "      <td>2018-11-10</td>\n",
       "      <td>10.81</td>\n",
       "      <td>1499</td>\n",
       "    </tr>\n",
       "    <tr>\n",
       "      <td>202605</td>\n",
       "      <td>1499_218</td>\n",
       "      <td>2018-10-06</td>\n",
       "      <td>4.27</td>\n",
       "      <td>1499</td>\n",
       "    </tr>\n",
       "    <tr>\n",
       "      <td>202606</td>\n",
       "      <td>1499_219</td>\n",
       "      <td>2018-12-14</td>\n",
       "      <td>19.62</td>\n",
       "      <td>1499</td>\n",
       "    </tr>\n",
       "  </tbody>\n",
       "</table>\n",
       "<p>202607 rows × 4 columns</p>\n",
       "</div>"
      ],
      "text/plain": [
       "              id  call_date  duration  user_id\n",
       "0         1000_0 2018-07-25      0.00     1000\n",
       "1         1000_1 2018-08-17      0.00     1000\n",
       "2         1000_2 2018-06-11      2.85     1000\n",
       "3         1000_3 2018-09-21     13.80     1000\n",
       "4         1000_4 2018-12-15      5.18     1000\n",
       "...          ...        ...       ...      ...\n",
       "202602  1499_215 2018-12-26      0.76     1499\n",
       "202603  1499_216 2018-10-18     18.83     1499\n",
       "202604  1499_217 2018-11-10     10.81     1499\n",
       "202605  1499_218 2018-10-06      4.27     1499\n",
       "202606  1499_219 2018-12-14     19.62     1499\n",
       "\n",
       "[202607 rows x 4 columns]"
      ]
     },
     "metadata": {},
     "output_type": "display_data"
    },
    {
     "data": {
      "text/html": [
       "<div>\n",
       "<style scoped>\n",
       "    .dataframe tbody tr th:only-of-type {\n",
       "        vertical-align: middle;\n",
       "    }\n",
       "\n",
       "    .dataframe tbody tr th {\n",
       "        vertical-align: top;\n",
       "    }\n",
       "\n",
       "    .dataframe thead th {\n",
       "        text-align: right;\n",
       "    }\n",
       "</style>\n",
       "<table border=\"1\" class=\"dataframe\">\n",
       "  <thead>\n",
       "    <tr style=\"text-align: right;\">\n",
       "      <th></th>\n",
       "      <th>Unnamed: 0</th>\n",
       "      <th>id</th>\n",
       "      <th>mb_used</th>\n",
       "      <th>session_date</th>\n",
       "      <th>user_id</th>\n",
       "    </tr>\n",
       "  </thead>\n",
       "  <tbody>\n",
       "    <tr>\n",
       "      <td>0</td>\n",
       "      <td>0</td>\n",
       "      <td>1000_0</td>\n",
       "      <td>112.95</td>\n",
       "      <td>2018-11-25</td>\n",
       "      <td>1000</td>\n",
       "    </tr>\n",
       "    <tr>\n",
       "      <td>1</td>\n",
       "      <td>1</td>\n",
       "      <td>1000_1</td>\n",
       "      <td>1052.81</td>\n",
       "      <td>2018-09-07</td>\n",
       "      <td>1000</td>\n",
       "    </tr>\n",
       "    <tr>\n",
       "      <td>2</td>\n",
       "      <td>2</td>\n",
       "      <td>1000_2</td>\n",
       "      <td>1197.26</td>\n",
       "      <td>2018-06-25</td>\n",
       "      <td>1000</td>\n",
       "    </tr>\n",
       "    <tr>\n",
       "      <td>3</td>\n",
       "      <td>3</td>\n",
       "      <td>1000_3</td>\n",
       "      <td>550.27</td>\n",
       "      <td>2018-08-22</td>\n",
       "      <td>1000</td>\n",
       "    </tr>\n",
       "    <tr>\n",
       "      <td>4</td>\n",
       "      <td>4</td>\n",
       "      <td>1000_4</td>\n",
       "      <td>302.56</td>\n",
       "      <td>2018-09-24</td>\n",
       "      <td>1000</td>\n",
       "    </tr>\n",
       "    <tr>\n",
       "      <td>...</td>\n",
       "      <td>...</td>\n",
       "      <td>...</td>\n",
       "      <td>...</td>\n",
       "      <td>...</td>\n",
       "      <td>...</td>\n",
       "    </tr>\n",
       "    <tr>\n",
       "      <td>149391</td>\n",
       "      <td>149391</td>\n",
       "      <td>1499_152</td>\n",
       "      <td>318.90</td>\n",
       "      <td>2018-10-03</td>\n",
       "      <td>1499</td>\n",
       "    </tr>\n",
       "    <tr>\n",
       "      <td>149392</td>\n",
       "      <td>149392</td>\n",
       "      <td>1499_153</td>\n",
       "      <td>490.13</td>\n",
       "      <td>2018-12-14</td>\n",
       "      <td>1499</td>\n",
       "    </tr>\n",
       "    <tr>\n",
       "      <td>149393</td>\n",
       "      <td>149393</td>\n",
       "      <td>1499_154</td>\n",
       "      <td>0.00</td>\n",
       "      <td>2018-10-27</td>\n",
       "      <td>1499</td>\n",
       "    </tr>\n",
       "    <tr>\n",
       "      <td>149394</td>\n",
       "      <td>149394</td>\n",
       "      <td>1499_155</td>\n",
       "      <td>1246.32</td>\n",
       "      <td>2018-11-26</td>\n",
       "      <td>1499</td>\n",
       "    </tr>\n",
       "    <tr>\n",
       "      <td>149395</td>\n",
       "      <td>149395</td>\n",
       "      <td>1499_156</td>\n",
       "      <td>544.37</td>\n",
       "      <td>2018-10-26</td>\n",
       "      <td>1499</td>\n",
       "    </tr>\n",
       "  </tbody>\n",
       "</table>\n",
       "<p>149396 rows × 5 columns</p>\n",
       "</div>"
      ],
      "text/plain": [
       "        Unnamed: 0        id  mb_used session_date  user_id\n",
       "0                0    1000_0   112.95   2018-11-25     1000\n",
       "1                1    1000_1  1052.81   2018-09-07     1000\n",
       "2                2    1000_2  1197.26   2018-06-25     1000\n",
       "3                3    1000_3   550.27   2018-08-22     1000\n",
       "4                4    1000_4   302.56   2018-09-24     1000\n",
       "...            ...       ...      ...          ...      ...\n",
       "149391      149391  1499_152   318.90   2018-10-03     1499\n",
       "149392      149392  1499_153   490.13   2018-12-14     1499\n",
       "149393      149393  1499_154     0.00   2018-10-27     1499\n",
       "149394      149394  1499_155  1246.32   2018-11-26     1499\n",
       "149395      149395  1499_156   544.37   2018-10-26     1499\n",
       "\n",
       "[149396 rows x 5 columns]"
      ]
     },
     "metadata": {},
     "output_type": "display_data"
    },
    {
     "data": {
      "text/html": [
       "<div>\n",
       "<style scoped>\n",
       "    .dataframe tbody tr th:only-of-type {\n",
       "        vertical-align: middle;\n",
       "    }\n",
       "\n",
       "    .dataframe tbody tr th {\n",
       "        vertical-align: top;\n",
       "    }\n",
       "\n",
       "    .dataframe thead th {\n",
       "        text-align: right;\n",
       "    }\n",
       "</style>\n",
       "<table border=\"1\" class=\"dataframe\">\n",
       "  <thead>\n",
       "    <tr style=\"text-align: right;\">\n",
       "      <th></th>\n",
       "      <th>id</th>\n",
       "      <th>message_date</th>\n",
       "      <th>user_id</th>\n",
       "    </tr>\n",
       "  </thead>\n",
       "  <tbody>\n",
       "    <tr>\n",
       "      <td>0</td>\n",
       "      <td>1000_0</td>\n",
       "      <td>2018-06-27</td>\n",
       "      <td>1000</td>\n",
       "    </tr>\n",
       "    <tr>\n",
       "      <td>1</td>\n",
       "      <td>1000_1</td>\n",
       "      <td>2018-10-08</td>\n",
       "      <td>1000</td>\n",
       "    </tr>\n",
       "    <tr>\n",
       "      <td>2</td>\n",
       "      <td>1000_2</td>\n",
       "      <td>2018-08-04</td>\n",
       "      <td>1000</td>\n",
       "    </tr>\n",
       "    <tr>\n",
       "      <td>3</td>\n",
       "      <td>1000_3</td>\n",
       "      <td>2018-06-16</td>\n",
       "      <td>1000</td>\n",
       "    </tr>\n",
       "    <tr>\n",
       "      <td>4</td>\n",
       "      <td>1000_4</td>\n",
       "      <td>2018-12-05</td>\n",
       "      <td>1000</td>\n",
       "    </tr>\n",
       "    <tr>\n",
       "      <td>...</td>\n",
       "      <td>...</td>\n",
       "      <td>...</td>\n",
       "      <td>...</td>\n",
       "    </tr>\n",
       "    <tr>\n",
       "      <td>123031</td>\n",
       "      <td>1499_179</td>\n",
       "      <td>2018-12-12</td>\n",
       "      <td>1499</td>\n",
       "    </tr>\n",
       "    <tr>\n",
       "      <td>123032</td>\n",
       "      <td>1499_180</td>\n",
       "      <td>2018-09-28</td>\n",
       "      <td>1499</td>\n",
       "    </tr>\n",
       "    <tr>\n",
       "      <td>123033</td>\n",
       "      <td>1499_181</td>\n",
       "      <td>2018-09-27</td>\n",
       "      <td>1499</td>\n",
       "    </tr>\n",
       "    <tr>\n",
       "      <td>123034</td>\n",
       "      <td>1499_182</td>\n",
       "      <td>2018-11-15</td>\n",
       "      <td>1499</td>\n",
       "    </tr>\n",
       "    <tr>\n",
       "      <td>123035</td>\n",
       "      <td>1499_183</td>\n",
       "      <td>2018-11-16</td>\n",
       "      <td>1499</td>\n",
       "    </tr>\n",
       "  </tbody>\n",
       "</table>\n",
       "<p>123036 rows × 3 columns</p>\n",
       "</div>"
      ],
      "text/plain": [
       "              id message_date  user_id\n",
       "0         1000_0   2018-06-27     1000\n",
       "1         1000_1   2018-10-08     1000\n",
       "2         1000_2   2018-08-04     1000\n",
       "3         1000_3   2018-06-16     1000\n",
       "4         1000_4   2018-12-05     1000\n",
       "...          ...          ...      ...\n",
       "123031  1499_179   2018-12-12     1499\n",
       "123032  1499_180   2018-09-28     1499\n",
       "123033  1499_181   2018-09-27     1499\n",
       "123034  1499_182   2018-11-15     1499\n",
       "123035  1499_183   2018-11-16     1499\n",
       "\n",
       "[123036 rows x 3 columns]"
      ]
     },
     "metadata": {},
     "output_type": "display_data"
    },
    {
     "data": {
      "text/html": [
       "<div>\n",
       "<style scoped>\n",
       "    .dataframe tbody tr th:only-of-type {\n",
       "        vertical-align: middle;\n",
       "    }\n",
       "\n",
       "    .dataframe tbody tr th {\n",
       "        vertical-align: top;\n",
       "    }\n",
       "\n",
       "    .dataframe thead th {\n",
       "        text-align: right;\n",
       "    }\n",
       "</style>\n",
       "<table border=\"1\" class=\"dataframe\">\n",
       "  <thead>\n",
       "    <tr style=\"text-align: right;\">\n",
       "      <th></th>\n",
       "      <th>messages_included</th>\n",
       "      <th>mb_per_month_included</th>\n",
       "      <th>minutes_included</th>\n",
       "      <th>rub_monthly_fee</th>\n",
       "      <th>rub_per_gb</th>\n",
       "      <th>rub_per_message</th>\n",
       "      <th>rub_per_minute</th>\n",
       "      <th>tariff_name</th>\n",
       "    </tr>\n",
       "  </thead>\n",
       "  <tbody>\n",
       "    <tr>\n",
       "      <td>0</td>\n",
       "      <td>50</td>\n",
       "      <td>15360</td>\n",
       "      <td>500</td>\n",
       "      <td>550</td>\n",
       "      <td>200</td>\n",
       "      <td>3</td>\n",
       "      <td>3</td>\n",
       "      <td>smart</td>\n",
       "    </tr>\n",
       "    <tr>\n",
       "      <td>1</td>\n",
       "      <td>1000</td>\n",
       "      <td>30720</td>\n",
       "      <td>3000</td>\n",
       "      <td>1950</td>\n",
       "      <td>150</td>\n",
       "      <td>1</td>\n",
       "      <td>1</td>\n",
       "      <td>ultra</td>\n",
       "    </tr>\n",
       "  </tbody>\n",
       "</table>\n",
       "</div>"
      ],
      "text/plain": [
       "   messages_included  mb_per_month_included  minutes_included  \\\n",
       "0                 50                  15360               500   \n",
       "1               1000                  30720              3000   \n",
       "\n",
       "   rub_monthly_fee  rub_per_gb  rub_per_message  rub_per_minute tariff_name  \n",
       "0              550         200                3               3       smart  \n",
       "1             1950         150                1               1       ultra  "
      ]
     },
     "metadata": {},
     "output_type": "display_data"
    },
    {
     "data": {
      "text/html": [
       "<div>\n",
       "<style scoped>\n",
       "    .dataframe tbody tr th:only-of-type {\n",
       "        vertical-align: middle;\n",
       "    }\n",
       "\n",
       "    .dataframe tbody tr th {\n",
       "        vertical-align: top;\n",
       "    }\n",
       "\n",
       "    .dataframe thead th {\n",
       "        text-align: right;\n",
       "    }\n",
       "</style>\n",
       "<table border=\"1\" class=\"dataframe\">\n",
       "  <thead>\n",
       "    <tr style=\"text-align: right;\">\n",
       "      <th></th>\n",
       "      <th>user_id</th>\n",
       "      <th>age</th>\n",
       "      <th>churn_date</th>\n",
       "      <th>city</th>\n",
       "      <th>first_name</th>\n",
       "      <th>last_name</th>\n",
       "      <th>reg_date</th>\n",
       "      <th>tariff</th>\n",
       "    </tr>\n",
       "  </thead>\n",
       "  <tbody>\n",
       "    <tr>\n",
       "      <td>0</td>\n",
       "      <td>1000</td>\n",
       "      <td>52</td>\n",
       "      <td>NaN</td>\n",
       "      <td>Краснодар</td>\n",
       "      <td>Рафаил</td>\n",
       "      <td>Верещагин</td>\n",
       "      <td>2018-05-25</td>\n",
       "      <td>ultra</td>\n",
       "    </tr>\n",
       "    <tr>\n",
       "      <td>1</td>\n",
       "      <td>1001</td>\n",
       "      <td>41</td>\n",
       "      <td>NaN</td>\n",
       "      <td>Москва</td>\n",
       "      <td>Иван</td>\n",
       "      <td>Ежов</td>\n",
       "      <td>2018-11-01</td>\n",
       "      <td>smart</td>\n",
       "    </tr>\n",
       "    <tr>\n",
       "      <td>2</td>\n",
       "      <td>1002</td>\n",
       "      <td>59</td>\n",
       "      <td>NaN</td>\n",
       "      <td>Стерлитамак</td>\n",
       "      <td>Евгений</td>\n",
       "      <td>Абрамович</td>\n",
       "      <td>2018-06-17</td>\n",
       "      <td>smart</td>\n",
       "    </tr>\n",
       "    <tr>\n",
       "      <td>3</td>\n",
       "      <td>1003</td>\n",
       "      <td>23</td>\n",
       "      <td>NaN</td>\n",
       "      <td>Москва</td>\n",
       "      <td>Белла</td>\n",
       "      <td>Белякова</td>\n",
       "      <td>2018-08-17</td>\n",
       "      <td>ultra</td>\n",
       "    </tr>\n",
       "    <tr>\n",
       "      <td>4</td>\n",
       "      <td>1004</td>\n",
       "      <td>68</td>\n",
       "      <td>NaN</td>\n",
       "      <td>Новокузнецк</td>\n",
       "      <td>Татьяна</td>\n",
       "      <td>Авдеенко</td>\n",
       "      <td>2018-05-14</td>\n",
       "      <td>ultra</td>\n",
       "    </tr>\n",
       "    <tr>\n",
       "      <td>...</td>\n",
       "      <td>...</td>\n",
       "      <td>...</td>\n",
       "      <td>...</td>\n",
       "      <td>...</td>\n",
       "      <td>...</td>\n",
       "      <td>...</td>\n",
       "      <td>...</td>\n",
       "      <td>...</td>\n",
       "    </tr>\n",
       "    <tr>\n",
       "      <td>495</td>\n",
       "      <td>1495</td>\n",
       "      <td>65</td>\n",
       "      <td>NaN</td>\n",
       "      <td>Иркутск</td>\n",
       "      <td>Авксентий</td>\n",
       "      <td>Фокин</td>\n",
       "      <td>2018-08-28</td>\n",
       "      <td>ultra</td>\n",
       "    </tr>\n",
       "    <tr>\n",
       "      <td>496</td>\n",
       "      <td>1496</td>\n",
       "      <td>36</td>\n",
       "      <td>NaN</td>\n",
       "      <td>Вологда</td>\n",
       "      <td>Трифон</td>\n",
       "      <td>Блохин</td>\n",
       "      <td>2018-01-27</td>\n",
       "      <td>smart</td>\n",
       "    </tr>\n",
       "    <tr>\n",
       "      <td>497</td>\n",
       "      <td>1497</td>\n",
       "      <td>32</td>\n",
       "      <td>NaN</td>\n",
       "      <td>Челябинск</td>\n",
       "      <td>Каролина</td>\n",
       "      <td>Агеева</td>\n",
       "      <td>2018-10-09</td>\n",
       "      <td>smart</td>\n",
       "    </tr>\n",
       "    <tr>\n",
       "      <td>498</td>\n",
       "      <td>1498</td>\n",
       "      <td>68</td>\n",
       "      <td>2018-10-25</td>\n",
       "      <td>Владикавказ</td>\n",
       "      <td>Всеволод</td>\n",
       "      <td>Акимчин</td>\n",
       "      <td>2018-07-19</td>\n",
       "      <td>smart</td>\n",
       "    </tr>\n",
       "    <tr>\n",
       "      <td>499</td>\n",
       "      <td>1499</td>\n",
       "      <td>35</td>\n",
       "      <td>NaN</td>\n",
       "      <td>Пермь</td>\n",
       "      <td>Гектор</td>\n",
       "      <td>Корнилов</td>\n",
       "      <td>2018-09-27</td>\n",
       "      <td>smart</td>\n",
       "    </tr>\n",
       "  </tbody>\n",
       "</table>\n",
       "<p>500 rows × 8 columns</p>\n",
       "</div>"
      ],
      "text/plain": [
       "     user_id  age  churn_date         city first_name  last_name    reg_date  \\\n",
       "0       1000   52         NaN    Краснодар     Рафаил  Верещагин  2018-05-25   \n",
       "1       1001   41         NaN       Москва       Иван       Ежов  2018-11-01   \n",
       "2       1002   59         NaN  Стерлитамак    Евгений  Абрамович  2018-06-17   \n",
       "3       1003   23         NaN       Москва      Белла   Белякова  2018-08-17   \n",
       "4       1004   68         NaN  Новокузнецк    Татьяна   Авдеенко  2018-05-14   \n",
       "..       ...  ...         ...          ...        ...        ...         ...   \n",
       "495     1495   65         NaN      Иркутск  Авксентий      Фокин  2018-08-28   \n",
       "496     1496   36         NaN      Вологда     Трифон     Блохин  2018-01-27   \n",
       "497     1497   32         NaN    Челябинск   Каролина     Агеева  2018-10-09   \n",
       "498     1498   68  2018-10-25  Владикавказ   Всеволод    Акимчин  2018-07-19   \n",
       "499     1499   35         NaN        Пермь     Гектор   Корнилов  2018-09-27   \n",
       "\n",
       "    tariff  \n",
       "0    ultra  \n",
       "1    smart  \n",
       "2    smart  \n",
       "3    ultra  \n",
       "4    ultra  \n",
       "..     ...  \n",
       "495  ultra  \n",
       "496  smart  \n",
       "497  smart  \n",
       "498  smart  \n",
       "499  smart  \n",
       "\n",
       "[500 rows x 8 columns]"
      ]
     },
     "metadata": {},
     "output_type": "display_data"
    }
   ],
   "source": [
    "#Посмотрим в цикле все данные, а также наличие значений NaN и дубликатов\n",
    "for col in calls, internet, messages, tariffs, users:\n",
    "    #display('Количество NaN в каждой группе:', col.isna().sum().sort_values())\n",
    "    #display('Общая информация:', col.describe())\n",
    "    #display('Количество дубликатов:', calls.duplicated().sum())\n",
    "    display(col)\n",
    "    #col.info()"
   ]
  },
  {
   "cell_type": "markdown",
   "metadata": {},
   "source": [
    "### Приведение данных к целочистленному типу\n",
    "<a id=\"b\"></a>"
   ]
  },
  {
   "cell_type": "code",
   "execution_count": 4,
   "metadata": {},
   "outputs": [],
   "source": [
    "#Переведем столбец 'user_id'  и 'id' во всех данных к типу int \n",
    "for col in calls, internet, users:\n",
    "    col['user_id'] = col['user_id'].astype('int')\n",
    "for col in calls, messages:    \n",
    "    col['id'] = col['id'].astype('int')"
   ]
  },
  {
   "cell_type": "markdown",
   "metadata": {},
   "source": [
    "### Обработка нулевых значений\n",
    "<a id=\"c\"></a>"
   ]
  },
  {
   "cell_type": "code",
   "execution_count": 5,
   "metadata": {},
   "outputs": [],
   "source": [
    "#Округлили минуты вверх, так как было сказанно, что Мегалайн округляет все значения вверх\n",
    "calls['duration'] = calls['duration'].apply(np.ceil) \n",
    "#звонки, которые длятся 0.0 минут их нужно удалить, так как за них не взимается плата и для анализа и расчета они не понадобятся\n",
    "calls = calls[calls['duration'] != 0]\n",
    "#сбои сети скорее всего дали значение 0 в столбце, за это тоже не взимается плата и для анализа и расчета они не понадобятся\n",
    "internet = internet[internet['mb_used'] != 0]"
   ]
  },
  {
   "cell_type": "markdown",
   "metadata": {},
   "source": [
    "### Построение сгруппированных таблиц по каждому пользователю\n",
    "<a id=\"d\"></a>"
   ]
  },
  {
   "cell_type": "code",
   "execution_count": 6,
   "metadata": {},
   "outputs": [
    {
     "data": {
      "text/html": [
       "<div>\n",
       "<style scoped>\n",
       "    .dataframe tbody tr th:only-of-type {\n",
       "        vertical-align: middle;\n",
       "    }\n",
       "\n",
       "    .dataframe tbody tr th {\n",
       "        vertical-align: top;\n",
       "    }\n",
       "\n",
       "    .dataframe thead th {\n",
       "        text-align: right;\n",
       "    }\n",
       "</style>\n",
       "<table border=\"1\" class=\"dataframe\">\n",
       "  <thead>\n",
       "    <tr style=\"text-align: right;\">\n",
       "      <th></th>\n",
       "      <th></th>\n",
       "      <th>duration</th>\n",
       "      <th>id</th>\n",
       "    </tr>\n",
       "    <tr>\n",
       "      <th>month</th>\n",
       "      <th>user_id</th>\n",
       "      <th></th>\n",
       "      <th></th>\n",
       "    </tr>\n",
       "  </thead>\n",
       "  <tbody>\n",
       "    <tr>\n",
       "      <td rowspan=\"5\" valign=\"top\">1</td>\n",
       "      <td>1005</td>\n",
       "      <td>95.0</td>\n",
       "      <td>11</td>\n",
       "    </tr>\n",
       "    <tr>\n",
       "      <td>1032</td>\n",
       "      <td>380.0</td>\n",
       "      <td>44</td>\n",
       "    </tr>\n",
       "    <tr>\n",
       "      <td>1045</td>\n",
       "      <td>9.0</td>\n",
       "      <td>1</td>\n",
       "    </tr>\n",
       "    <tr>\n",
       "      <td>1055</td>\n",
       "      <td>551.0</td>\n",
       "      <td>47</td>\n",
       "    </tr>\n",
       "    <tr>\n",
       "      <td>1071</td>\n",
       "      <td>194.0</td>\n",
       "      <td>18</td>\n",
       "    </tr>\n",
       "    <tr>\n",
       "      <td>...</td>\n",
       "      <td>...</td>\n",
       "      <td>...</td>\n",
       "      <td>...</td>\n",
       "    </tr>\n",
       "    <tr>\n",
       "      <td rowspan=\"5\" valign=\"top\">12</td>\n",
       "      <td>1494</td>\n",
       "      <td>418.0</td>\n",
       "      <td>54</td>\n",
       "    </tr>\n",
       "    <tr>\n",
       "      <td>1495</td>\n",
       "      <td>1031.0</td>\n",
       "      <td>120</td>\n",
       "    </tr>\n",
       "    <tr>\n",
       "      <td>1496</td>\n",
       "      <td>518.0</td>\n",
       "      <td>65</td>\n",
       "    </tr>\n",
       "    <tr>\n",
       "      <td>1497</td>\n",
       "      <td>545.0</td>\n",
       "      <td>58</td>\n",
       "    </tr>\n",
       "    <tr>\n",
       "      <td>1499</td>\n",
       "      <td>492.0</td>\n",
       "      <td>56</td>\n",
       "    </tr>\n",
       "  </tbody>\n",
       "</table>\n",
       "<p>3168 rows × 2 columns</p>\n",
       "</div>"
      ],
      "text/plain": [
       "               duration   id\n",
       "month user_id               \n",
       "1     1005         95.0   11\n",
       "      1032        380.0   44\n",
       "      1045          9.0    1\n",
       "      1055        551.0   47\n",
       "      1071        194.0   18\n",
       "...                 ...  ...\n",
       "12    1494        418.0   54\n",
       "      1495       1031.0  120\n",
       "      1496        518.0   65\n",
       "      1497        545.0   58\n",
       "      1499        492.0   56\n",
       "\n",
       "[3168 rows x 2 columns]"
      ]
     },
     "metadata": {},
     "output_type": "display_data"
    },
    {
     "data": {
      "text/html": [
       "<div>\n",
       "<style scoped>\n",
       "    .dataframe tbody tr th:only-of-type {\n",
       "        vertical-align: middle;\n",
       "    }\n",
       "\n",
       "    .dataframe tbody tr th {\n",
       "        vertical-align: top;\n",
       "    }\n",
       "\n",
       "    .dataframe thead th {\n",
       "        text-align: right;\n",
       "    }\n",
       "</style>\n",
       "<table border=\"1\" class=\"dataframe\">\n",
       "  <thead>\n",
       "    <tr style=\"text-align: right;\">\n",
       "      <th></th>\n",
       "      <th></th>\n",
       "      <th>id</th>\n",
       "    </tr>\n",
       "    <tr>\n",
       "      <th>month</th>\n",
       "      <th>user_id</th>\n",
       "      <th></th>\n",
       "    </tr>\n",
       "  </thead>\n",
       "  <tbody>\n",
       "    <tr>\n",
       "      <td rowspan=\"5\" valign=\"top\">1</td>\n",
       "      <td>1005</td>\n",
       "      <td>7</td>\n",
       "    </tr>\n",
       "    <tr>\n",
       "      <td>1032</td>\n",
       "      <td>38</td>\n",
       "    </tr>\n",
       "    <tr>\n",
       "      <td>1045</td>\n",
       "      <td>5</td>\n",
       "    </tr>\n",
       "    <tr>\n",
       "      <td>1055</td>\n",
       "      <td>30</td>\n",
       "    </tr>\n",
       "    <tr>\n",
       "      <td>1071</td>\n",
       "      <td>16</td>\n",
       "    </tr>\n",
       "    <tr>\n",
       "      <td>...</td>\n",
       "      <td>...</td>\n",
       "      <td>...</td>\n",
       "    </tr>\n",
       "    <tr>\n",
       "      <td rowspan=\"5\" valign=\"top\">12</td>\n",
       "      <td>1493</td>\n",
       "      <td>78</td>\n",
       "    </tr>\n",
       "    <tr>\n",
       "      <td>1495</td>\n",
       "      <td>84</td>\n",
       "    </tr>\n",
       "    <tr>\n",
       "      <td>1496</td>\n",
       "      <td>51</td>\n",
       "    </tr>\n",
       "    <tr>\n",
       "      <td>1497</td>\n",
       "      <td>17</td>\n",
       "    </tr>\n",
       "    <tr>\n",
       "      <td>1499</td>\n",
       "      <td>66</td>\n",
       "    </tr>\n",
       "  </tbody>\n",
       "</table>\n",
       "<p>2717 rows × 1 columns</p>\n",
       "</div>"
      ],
      "text/plain": [
       "               id\n",
       "month user_id    \n",
       "1     1005      7\n",
       "      1032     38\n",
       "      1045      5\n",
       "      1055     30\n",
       "      1071     16\n",
       "...            ..\n",
       "12    1493     78\n",
       "      1495     84\n",
       "      1496     51\n",
       "      1497     17\n",
       "      1499     66\n",
       "\n",
       "[2717 rows x 1 columns]"
      ]
     },
     "metadata": {},
     "output_type": "display_data"
    },
    {
     "data": {
      "text/html": [
       "<div>\n",
       "<style scoped>\n",
       "    .dataframe tbody tr th:only-of-type {\n",
       "        vertical-align: middle;\n",
       "    }\n",
       "\n",
       "    .dataframe tbody tr th {\n",
       "        vertical-align: top;\n",
       "    }\n",
       "\n",
       "    .dataframe thead th {\n",
       "        text-align: right;\n",
       "    }\n",
       "</style>\n",
       "<table border=\"1\" class=\"dataframe\">\n",
       "  <thead>\n",
       "    <tr style=\"text-align: right;\">\n",
       "      <th></th>\n",
       "      <th></th>\n",
       "      <th>mb_used</th>\n",
       "    </tr>\n",
       "    <tr>\n",
       "      <th>month</th>\n",
       "      <th>user_id</th>\n",
       "      <th></th>\n",
       "    </tr>\n",
       "  </thead>\n",
       "  <tbody>\n",
       "    <tr>\n",
       "      <td rowspan=\"5\" valign=\"top\">1</td>\n",
       "      <td>1005</td>\n",
       "      <td>2727.97</td>\n",
       "    </tr>\n",
       "    <tr>\n",
       "      <td>1032</td>\n",
       "      <td>24127.69</td>\n",
       "    </tr>\n",
       "    <tr>\n",
       "      <td>1045</td>\n",
       "      <td>2346.71</td>\n",
       "    </tr>\n",
       "    <tr>\n",
       "      <td>1055</td>\n",
       "      <td>17090.88</td>\n",
       "    </tr>\n",
       "    <tr>\n",
       "      <td>1071</td>\n",
       "      <td>15604.34</td>\n",
       "    </tr>\n",
       "    <tr>\n",
       "      <td>...</td>\n",
       "      <td>...</td>\n",
       "      <td>...</td>\n",
       "    </tr>\n",
       "    <tr>\n",
       "      <td rowspan=\"5\" valign=\"top\">12</td>\n",
       "      <td>1494</td>\n",
       "      <td>17621.21</td>\n",
       "    </tr>\n",
       "    <tr>\n",
       "      <td>1495</td>\n",
       "      <td>23426.76</td>\n",
       "    </tr>\n",
       "    <tr>\n",
       "      <td>1496</td>\n",
       "      <td>20736.15</td>\n",
       "    </tr>\n",
       "    <tr>\n",
       "      <td>1497</td>\n",
       "      <td>19918.60</td>\n",
       "    </tr>\n",
       "    <tr>\n",
       "      <td>1499</td>\n",
       "      <td>13055.58</td>\n",
       "    </tr>\n",
       "  </tbody>\n",
       "</table>\n",
       "<p>3201 rows × 1 columns</p>\n",
       "</div>"
      ],
      "text/plain": [
       "                mb_used\n",
       "month user_id          \n",
       "1     1005      2727.97\n",
       "      1032     24127.69\n",
       "      1045      2346.71\n",
       "      1055     17090.88\n",
       "      1071     15604.34\n",
       "...                 ...\n",
       "12    1494     17621.21\n",
       "      1495     23426.76\n",
       "      1496     20736.15\n",
       "      1497     19918.60\n",
       "      1499     13055.58\n",
       "\n",
       "[3201 rows x 1 columns]"
      ]
     },
     "metadata": {},
     "output_type": "display_data"
    }
   ],
   "source": [
    "#Создание столбца месяц\n",
    "calls['month'] = calls['call_date'].dt.month\n",
    "messages['month'] = messages['message_date'].dt.month\n",
    "internet['month'] = internet['session_date'].dt.month\n",
    "#Таблица показывающая, количество сделанных звонков и израсходованных минут разговора по месяцам\n",
    "call_grouping = calls.groupby(['month', 'user_id']).agg({'duration' : 'sum', 'id' : 'count'})\n",
    "display(call_grouping)\n",
    "\n",
    "#Таблица показывающая, количество отправленных сообщений по месяцам\n",
    "messages_grouping = messages.groupby(['month', 'user_id']).agg({'id' : 'count'}) \n",
    "display(messages_grouping)\n",
    "\n",
    "#Таблица показывающая, объем израсходованного интернет-трафика по месяцам\n",
    "internet_grouping = internet.groupby(['month', 'user_id']).agg({'mb_used' : 'sum'})\n",
    "display(internet_grouping)"
   ]
  },
  {
   "cell_type": "code",
   "execution_count": 7,
   "metadata": {},
   "outputs": [
    {
     "data": {
      "text/plain": [
       "level_0                    0\n",
       "index                      0\n",
       "user_id                    0\n",
       "month                      0\n",
       "duration                  46\n",
       "id_calls                  46\n",
       "id_messages              497\n",
       "mb_used                   13\n",
       "tariff                     0\n",
       "city                       0\n",
       "messages_included          0\n",
       "mb_per_month_included      0\n",
       "minutes_included           0\n",
       "rub_monthly_fee            0\n",
       "rub_per_gb                 0\n",
       "rub_per_message            0\n",
       "rub_per_minute             0\n",
       "dtype: int64"
      ]
     },
     "metadata": {},
     "output_type": "display_data"
    },
    {
     "data": {
      "text/plain": [
       "0"
      ]
     },
     "metadata": {},
     "output_type": "display_data"
    },
    {
     "data": {
      "text/html": [
       "<div>\n",
       "<style scoped>\n",
       "    .dataframe tbody tr th:only-of-type {\n",
       "        vertical-align: middle;\n",
       "    }\n",
       "\n",
       "    .dataframe tbody tr th {\n",
       "        vertical-align: top;\n",
       "    }\n",
       "\n",
       "    .dataframe thead th {\n",
       "        text-align: right;\n",
       "    }\n",
       "</style>\n",
       "<table border=\"1\" class=\"dataframe\">\n",
       "  <thead>\n",
       "    <tr style=\"text-align: right;\">\n",
       "      <th></th>\n",
       "      <th>level_0</th>\n",
       "      <th>index</th>\n",
       "      <th>user_id</th>\n",
       "      <th>month</th>\n",
       "      <th>duration</th>\n",
       "      <th>id_calls</th>\n",
       "      <th>id_messages</th>\n",
       "      <th>mb_used</th>\n",
       "      <th>tariff</th>\n",
       "      <th>city</th>\n",
       "      <th>messages_included</th>\n",
       "      <th>mb_per_month_included</th>\n",
       "      <th>minutes_included</th>\n",
       "      <th>rub_monthly_fee</th>\n",
       "      <th>rub_per_gb</th>\n",
       "      <th>rub_per_message</th>\n",
       "      <th>rub_per_minute</th>\n",
       "      <th>above_the_tariff</th>\n",
       "      <th>total_paid</th>\n",
       "    </tr>\n",
       "  </thead>\n",
       "  <tbody>\n",
       "    <tr>\n",
       "      <td>0</td>\n",
       "      <td>0</td>\n",
       "      <td>0</td>\n",
       "      <td>1005</td>\n",
       "      <td>1</td>\n",
       "      <td>95.0</td>\n",
       "      <td>11.0</td>\n",
       "      <td>7.0</td>\n",
       "      <td>2727.97</td>\n",
       "      <td>smart</td>\n",
       "      <td>Набережные Челны</td>\n",
       "      <td>50</td>\n",
       "      <td>15360</td>\n",
       "      <td>500</td>\n",
       "      <td>550</td>\n",
       "      <td>200</td>\n",
       "      <td>3</td>\n",
       "      <td>3</td>\n",
       "      <td>0.0</td>\n",
       "      <td>550.0</td>\n",
       "    </tr>\n",
       "    <tr>\n",
       "      <td>1</td>\n",
       "      <td>1</td>\n",
       "      <td>1</td>\n",
       "      <td>1032</td>\n",
       "      <td>1</td>\n",
       "      <td>380.0</td>\n",
       "      <td>44.0</td>\n",
       "      <td>38.0</td>\n",
       "      <td>24127.69</td>\n",
       "      <td>smart</td>\n",
       "      <td>Ульяновск</td>\n",
       "      <td>50</td>\n",
       "      <td>15360</td>\n",
       "      <td>500</td>\n",
       "      <td>550</td>\n",
       "      <td>200</td>\n",
       "      <td>3</td>\n",
       "      <td>3</td>\n",
       "      <td>1713.0</td>\n",
       "      <td>2263.0</td>\n",
       "    </tr>\n",
       "    <tr>\n",
       "      <td>2</td>\n",
       "      <td>2</td>\n",
       "      <td>2</td>\n",
       "      <td>1045</td>\n",
       "      <td>1</td>\n",
       "      <td>9.0</td>\n",
       "      <td>1.0</td>\n",
       "      <td>5.0</td>\n",
       "      <td>2346.71</td>\n",
       "      <td>smart</td>\n",
       "      <td>Улан-Удэ</td>\n",
       "      <td>50</td>\n",
       "      <td>15360</td>\n",
       "      <td>500</td>\n",
       "      <td>550</td>\n",
       "      <td>200</td>\n",
       "      <td>3</td>\n",
       "      <td>3</td>\n",
       "      <td>0.0</td>\n",
       "      <td>550.0</td>\n",
       "    </tr>\n",
       "    <tr>\n",
       "      <td>3</td>\n",
       "      <td>3</td>\n",
       "      <td>3</td>\n",
       "      <td>1055</td>\n",
       "      <td>1</td>\n",
       "      <td>551.0</td>\n",
       "      <td>47.0</td>\n",
       "      <td>30.0</td>\n",
       "      <td>17090.88</td>\n",
       "      <td>smart</td>\n",
       "      <td>Казань</td>\n",
       "      <td>50</td>\n",
       "      <td>15360</td>\n",
       "      <td>500</td>\n",
       "      <td>550</td>\n",
       "      <td>200</td>\n",
       "      <td>3</td>\n",
       "      <td>3</td>\n",
       "      <td>492.0</td>\n",
       "      <td>1042.0</td>\n",
       "    </tr>\n",
       "    <tr>\n",
       "      <td>4</td>\n",
       "      <td>4</td>\n",
       "      <td>4</td>\n",
       "      <td>1071</td>\n",
       "      <td>1</td>\n",
       "      <td>194.0</td>\n",
       "      <td>18.0</td>\n",
       "      <td>16.0</td>\n",
       "      <td>15604.34</td>\n",
       "      <td>smart</td>\n",
       "      <td>Омск</td>\n",
       "      <td>50</td>\n",
       "      <td>15360</td>\n",
       "      <td>500</td>\n",
       "      <td>550</td>\n",
       "      <td>200</td>\n",
       "      <td>3</td>\n",
       "      <td>3</td>\n",
       "      <td>48.0</td>\n",
       "      <td>598.0</td>\n",
       "    </tr>\n",
       "    <tr>\n",
       "      <td>...</td>\n",
       "      <td>...</td>\n",
       "      <td>...</td>\n",
       "      <td>...</td>\n",
       "      <td>...</td>\n",
       "      <td>...</td>\n",
       "      <td>...</td>\n",
       "      <td>...</td>\n",
       "      <td>...</td>\n",
       "      <td>...</td>\n",
       "      <td>...</td>\n",
       "      <td>...</td>\n",
       "      <td>...</td>\n",
       "      <td>...</td>\n",
       "      <td>...</td>\n",
       "      <td>...</td>\n",
       "      <td>...</td>\n",
       "      <td>...</td>\n",
       "      <td>...</td>\n",
       "      <td>...</td>\n",
       "    </tr>\n",
       "    <tr>\n",
       "      <td>3209</td>\n",
       "      <td>3209</td>\n",
       "      <td>3209</td>\n",
       "      <td>1328</td>\n",
       "      <td>12</td>\n",
       "      <td>0.0</td>\n",
       "      <td>0.0</td>\n",
       "      <td>7.0</td>\n",
       "      <td>39419.73</td>\n",
       "      <td>ultra</td>\n",
       "      <td>Мурманск</td>\n",
       "      <td>1000</td>\n",
       "      <td>30720</td>\n",
       "      <td>3000</td>\n",
       "      <td>1950</td>\n",
       "      <td>150</td>\n",
       "      <td>1</td>\n",
       "      <td>1</td>\n",
       "      <td>1275.0</td>\n",
       "      <td>3225.0</td>\n",
       "    </tr>\n",
       "    <tr>\n",
       "      <td>3210</td>\n",
       "      <td>3210</td>\n",
       "      <td>3210</td>\n",
       "      <td>1473</td>\n",
       "      <td>12</td>\n",
       "      <td>0.0</td>\n",
       "      <td>0.0</td>\n",
       "      <td>20.0</td>\n",
       "      <td>18418.26</td>\n",
       "      <td>ultra</td>\n",
       "      <td>Красноярск</td>\n",
       "      <td>1000</td>\n",
       "      <td>30720</td>\n",
       "      <td>3000</td>\n",
       "      <td>1950</td>\n",
       "      <td>150</td>\n",
       "      <td>1</td>\n",
       "      <td>1</td>\n",
       "      <td>0.0</td>\n",
       "      <td>1950.0</td>\n",
       "    </tr>\n",
       "    <tr>\n",
       "      <td>3211</td>\n",
       "      <td>3211</td>\n",
       "      <td>3211</td>\n",
       "      <td>1489</td>\n",
       "      <td>12</td>\n",
       "      <td>0.0</td>\n",
       "      <td>0.0</td>\n",
       "      <td>35.0</td>\n",
       "      <td>17322.51</td>\n",
       "      <td>smart</td>\n",
       "      <td>Санкт-Петербург</td>\n",
       "      <td>50</td>\n",
       "      <td>15360</td>\n",
       "      <td>500</td>\n",
       "      <td>550</td>\n",
       "      <td>200</td>\n",
       "      <td>3</td>\n",
       "      <td>3</td>\n",
       "      <td>384.0</td>\n",
       "      <td>934.0</td>\n",
       "    </tr>\n",
       "    <tr>\n",
       "      <td>3212</td>\n",
       "      <td>3212</td>\n",
       "      <td>3212</td>\n",
       "      <td>1240</td>\n",
       "      <td>2</td>\n",
       "      <td>0.0</td>\n",
       "      <td>0.0</td>\n",
       "      <td>0.0</td>\n",
       "      <td>959.51</td>\n",
       "      <td>ultra</td>\n",
       "      <td>Воронеж</td>\n",
       "      <td>1000</td>\n",
       "      <td>30720</td>\n",
       "      <td>3000</td>\n",
       "      <td>1950</td>\n",
       "      <td>150</td>\n",
       "      <td>1</td>\n",
       "      <td>1</td>\n",
       "      <td>0.0</td>\n",
       "      <td>1950.0</td>\n",
       "    </tr>\n",
       "    <tr>\n",
       "      <td>3213</td>\n",
       "      <td>3213</td>\n",
       "      <td>3213</td>\n",
       "      <td>1476</td>\n",
       "      <td>4</td>\n",
       "      <td>0.0</td>\n",
       "      <td>0.0</td>\n",
       "      <td>0.0</td>\n",
       "      <td>530.78</td>\n",
       "      <td>ultra</td>\n",
       "      <td>Москва</td>\n",
       "      <td>1000</td>\n",
       "      <td>30720</td>\n",
       "      <td>3000</td>\n",
       "      <td>1950</td>\n",
       "      <td>150</td>\n",
       "      <td>1</td>\n",
       "      <td>1</td>\n",
       "      <td>0.0</td>\n",
       "      <td>1950.0</td>\n",
       "    </tr>\n",
       "  </tbody>\n",
       "</table>\n",
       "<p>3214 rows × 19 columns</p>\n",
       "</div>"
      ],
      "text/plain": [
       "      level_0  index  user_id  month  duration  id_calls  id_messages  \\\n",
       "0           0      0     1005      1      95.0      11.0          7.0   \n",
       "1           1      1     1032      1     380.0      44.0         38.0   \n",
       "2           2      2     1045      1       9.0       1.0          5.0   \n",
       "3           3      3     1055      1     551.0      47.0         30.0   \n",
       "4           4      4     1071      1     194.0      18.0         16.0   \n",
       "...       ...    ...      ...    ...       ...       ...          ...   \n",
       "3209     3209   3209     1328     12       0.0       0.0          7.0   \n",
       "3210     3210   3210     1473     12       0.0       0.0         20.0   \n",
       "3211     3211   3211     1489     12       0.0       0.0         35.0   \n",
       "3212     3212   3212     1240      2       0.0       0.0          0.0   \n",
       "3213     3213   3213     1476      4       0.0       0.0          0.0   \n",
       "\n",
       "       mb_used tariff              city  messages_included  \\\n",
       "0      2727.97  smart  Набережные Челны                 50   \n",
       "1     24127.69  smart         Ульяновск                 50   \n",
       "2      2346.71  smart          Улан-Удэ                 50   \n",
       "3     17090.88  smart            Казань                 50   \n",
       "4     15604.34  smart              Омск                 50   \n",
       "...        ...    ...               ...                ...   \n",
       "3209  39419.73  ultra          Мурманск               1000   \n",
       "3210  18418.26  ultra        Красноярск               1000   \n",
       "3211  17322.51  smart   Санкт-Петербург                 50   \n",
       "3212    959.51  ultra           Воронеж               1000   \n",
       "3213    530.78  ultra            Москва               1000   \n",
       "\n",
       "      mb_per_month_included  minutes_included  rub_monthly_fee  rub_per_gb  \\\n",
       "0                     15360               500              550         200   \n",
       "1                     15360               500              550         200   \n",
       "2                     15360               500              550         200   \n",
       "3                     15360               500              550         200   \n",
       "4                     15360               500              550         200   \n",
       "...                     ...               ...              ...         ...   \n",
       "3209                  30720              3000             1950         150   \n",
       "3210                  30720              3000             1950         150   \n",
       "3211                  15360               500              550         200   \n",
       "3212                  30720              3000             1950         150   \n",
       "3213                  30720              3000             1950         150   \n",
       "\n",
       "      rub_per_message  rub_per_minute  above_the_tariff  total_paid  \n",
       "0                   3               3               0.0       550.0  \n",
       "1                   3               3            1713.0      2263.0  \n",
       "2                   3               3               0.0       550.0  \n",
       "3                   3               3             492.0      1042.0  \n",
       "4                   3               3              48.0       598.0  \n",
       "...               ...             ...               ...         ...  \n",
       "3209                1               1            1275.0      3225.0  \n",
       "3210                1               1               0.0      1950.0  \n",
       "3211                3               3             384.0       934.0  \n",
       "3212                1               1               0.0      1950.0  \n",
       "3213                1               1               0.0      1950.0  \n",
       "\n",
       "[3214 rows x 19 columns]"
      ]
     },
     "metadata": {},
     "output_type": "display_data"
    }
   ],
   "source": [
    "#Помесячная выручкa с каждого пользователя\n",
    "#сгруппируем в одну таблицу нужные нам значения\n",
    "data = call_grouping.merge(messages_grouping,  how = 'outer', on = ['user_id', 'month'], suffixes = ('_calls', '_messages')).reset_index().merge(internet_grouping,  how = 'outer', on = ['user_id', 'month']).reset_index().merge(users[['user_id', 'tariff', 'city']], how = 'left', on = 'user_id').reset_index()\n",
    "tariffs = tariffs.rename(columns={'tariff_name':'tariff'})\n",
    "data = data.merge(tariffs, on='tariff', how='left')\n",
    "\n",
    "#Итоговая таблица\n",
    "#display(data)\n",
    "\n",
    "#Посмотрим значения NaN\n",
    "display(data.isna().sum())\n",
    "\n",
    "# Поставим нули людям, скорее всего они не тратят интернет, не пишут смс или не разговаривают\n",
    "data['duration'] = data['duration'].fillna(0)\n",
    "data['id_calls'] = data['id_calls'].fillna(0)\n",
    "data['id_messages'] = data['id_messages'].fillna(0)\n",
    "data['mb_used'] = data['mb_used'].fillna(0)\n",
    "\n",
    "#Дубликатов нет\n",
    "display(data.duplicated().sum())\n",
    "\n",
    "def the_tariff(row):\n",
    "    sms = (row['id_messages'] - row['messages_included']) * row['rub_per_message']\n",
    "    mins = (row['duration'] - row['minutes_included']) * row['rub_per_minute']\n",
    "    mbs = np.ceil((row['mb_used'] - row['mb_per_month_included']) * row['rub_per_gb'] / 1024)\n",
    "    total = 0\n",
    "    for i in [sms, mins, mbs]:\n",
    "        if i > 0:\n",
    "            total += i\n",
    "    return total\n",
    "data['above_the_tariff'] = data.apply(lambda x: the_tariff(x), axis=1)\n",
    "data['total_paid'] = data['rub_monthly_fee'] + data['above_the_tariff']\n",
    "#Итоговая таблица\n",
    "display(data)\n",
    "\n",
    "#Приведение столбцов ['total_paid'] и ['above_the_tariff'] к целочисленному виду\n",
    "data['total_paid'] = data['total_paid'].astype('int')\n",
    "data['above_the_tariff'] = data['above_the_tariff'].astype('int')\n"
   ]
  },
  {
   "cell_type": "markdown",
   "metadata": {},
   "source": [
    "Просмотрев все таблицы и изучив их можно сказать:\n",
    "- Дубликаты отсутствуют, а значения NaN существует только в одном столбце ['churn_date'], который в дальейшем нам не пригодится, поэтому оставим его без изменений и не будем эти данные вносить в общую таблицу, которая построится в дальнейшем. \n",
    "- Для дальнейшей работы были приведены значения столбцов ['user_id']  и ['id'] к типу int. А в столбцах ['call_date'], ['session_date'], ['message_date'] необходимо перевести все строки в даты, это было сделано при получении данных с помощью parse_dates = ['...'].\n",
    "- В значения столбца [duration] округлены минуты вверх, так как было сказанно, что Мегалайн округляет все значения вверх. Звонки, которые длятся 0.0 минут их нужно удалить, так как за них не взимается плата и для анализа и расчета они не понадобятся. В теории звонки либо были отклонены, либо были сброшены, поэтому мы видим нулевое значение.\n",
    "\n",
    "Далее, чтобы посчитать для каждого пользователя: количество сделанных звонков и израсходованных минут разговора по месяцам,\n",
    "количество отправленных сообщений по месяцам, объем израсходованного интернет-трафика по месяцам были построены новые столбцы в каждой таблице [month]. Были сгруппированы данные для отражения нужной нам картины. И после данные бали помещены в одну таблицу, состоящую из данных которые пригодятся дальше.\n",
    "\n",
    "Помесячную выручка с каждого пользователя была посчитана как: из суммарного количества звонков сообщений и интернет-трафика вычитался бесплатный лимит, а остаток умножался на значение из тарифного плана. И в конце прибавлялась абонентская плата, соответствующую тарифному плану. Также общая сумма за месяц трафика была также округлена в бо́льшую сторону.\n",
    "\n",
    "В итоговой таблице появились значения NaN, поэтому поставим нули людям, которые скорее всего они не тратят интернет, не пишут сообщения или не разговаривают. Дубликатов нет."
   ]
  },
  {
   "cell_type": "markdown",
   "metadata": {},
   "source": [
    "## Анализ и описание данных\n",
    "<a id=\"e\"></a>"
   ]
  },
  {
   "cell_type": "code",
   "execution_count": 8,
   "metadata": {},
   "outputs": [
    {
     "data": {
      "text/plain": [
       "smart    2229\n",
       "ultra     985\n",
       "Name: tariff, dtype: int64"
      ]
     },
     "metadata": {},
     "output_type": "display_data"
    },
    {
     "name": "stderr",
     "output_type": "stream",
     "text": [
      "/opt/conda/lib/python3.7/site-packages/numpy/core/_asarray.py:83: VisibleDeprecationWarning: Creating an ndarray from ragged nested sequences (which is a list-or-tuple of lists-or-tuples-or ndarrays with different lengths or shapes) is deprecated. If you meant to do this, you must specify 'dtype=object' when creating the ndarray\n",
      "  return array(a, dtype, copy=False, order=order)\n"
     ]
    },
    {
     "data": {
      "text/plain": [
       "(0, 7000)"
      ]
     },
     "execution_count": 8,
     "metadata": {},
     "output_type": "execute_result"
    },
    {
     "data": {
      "image/png": "[encoded data removed]",
      "text/plain": [
       "<Figure size 720x720 with 1 Axes>"
      ]
     },
     "metadata": {
      "needs_background": "light"
     },
     "output_type": "display_data"
    }
   ],
   "source": [
    "data[['above_the_tariff', 'total_paid']].describe()\n",
    "display(data['tariff'].value_counts())\n",
    "data.boxplot('total_paid', by = 'tariff', figsize = (10,10)).set_ylim(0,7000)"
   ]
  },
  {
   "cell_type": "markdown",
   "metadata": {},
   "source": [
    "В тарифе [smart] видны выбросы после значения 3100. В среднем с каждого пользователя компания по тарифу Smart получает около 900. В [ultra] достаточно непонятно, какие именно выбросы, поэтому стоит обратиться к гистограмме. В тарифе [ultra] видно, что в среднем с каждого пользователя компания получает около 2000, выбросы начинаются примерно после 3000.\n",
    "<a id=\"k\"></a>"
   ]
  },
  {
   "cell_type": "code",
   "execution_count": 9,
   "metadata": {},
   "outputs": [
    {
     "data": {
      "text/plain": [
       "<matplotlib.axes._subplots.AxesSubplot at 0x7fb6ccd2ccd0>"
      ]
     },
     "execution_count": 9,
     "metadata": {},
     "output_type": "execute_result"
    },
    {
     "data": {
      "image/png": "[encoded data removed]",
      "text/plain": [
       "<Figure size 432x288 with 1 Axes>"
      ]
     },
     "metadata": {
      "needs_background": "light"
     },
     "output_type": "display_data"
    }
   ],
   "source": [
    "data[data['tariff'] == 'ultra']['total_paid'].plot(kind = 'hist', bins=10)"
   ]
  },
  {
   "cell_type": "code",
   "execution_count": 10,
   "metadata": {},
   "outputs": [
    {
     "data": {
      "text/plain": [
       "<matplotlib.axes._subplots.AxesSubplot at 0x7fb6ccdada10>"
      ]
     },
     "execution_count": 10,
     "metadata": {},
     "output_type": "execute_result"
    },
    {
     "data": {
      "image/png": "[encoded data removed]",
      "text/plain": [
       "<Figure size 432x288 with 1 Axes>"
      ]
     },
     "metadata": {
      "needs_background": "light"
     },
     "output_type": "display_data"
    }
   ],
   "source": [
    "data[data['tariff'] == 'smart']['total_paid'].plot(kind = 'hist', bins=10)"
   ]
  },
  {
   "cell_type": "code",
   "execution_count": 11,
   "metadata": {},
   "outputs": [
    {
     "data": {
      "text/html": [
       "<style  type=\"text/css\" >\n",
       "</style><table id=\"T_b848bb84_00a3_11ec_99f3_02420a39ddf3\" ><thead>    <tr>        <th class=\"blank level0\" ></th>        <th class=\"col_heading level0 col0\" colspan=4>total_paid</th>    </tr>    <tr>        <th class=\"blank level1\" ></th>        <th class=\"col_heading level1 col0\" >median</th>        <th class=\"col_heading level1 col1\" >mean</th>        <th class=\"col_heading level1 col2\" >var</th>        <th class=\"col_heading level1 col3\" >std</th>    </tr>    <tr>        <th class=\"index_name level0\" >tariff</th>        <th class=\"blank\" ></th>        <th class=\"blank\" ></th>        <th class=\"blank\" ></th>        <th class=\"blank\" ></th>    </tr></thead><tbody>\n",
       "                <tr>\n",
       "                        <th id=\"T_b848bb84_00a3_11ec_99f3_02420a39ddf3level0_row0\" class=\"row_heading level0 row0\" >smart</th>\n",
       "                        <td id=\"T_b848bb84_00a3_11ec_99f3_02420a39ddf3row0_col0\" class=\"data row0 col0\" >958.00</td>\n",
       "                        <td id=\"T_b848bb84_00a3_11ec_99f3_02420a39ddf3row0_col1\" class=\"data row0 col1\" >1230.74</td>\n",
       "                        <td id=\"T_b848bb84_00a3_11ec_99f3_02420a39ddf3row0_col2\" class=\"data row0 col2\" >617599.00</td>\n",
       "                        <td id=\"T_b848bb84_00a3_11ec_99f3_02420a39ddf3row0_col3\" class=\"data row0 col3\" >785.87</td>\n",
       "            </tr>\n",
       "            <tr>\n",
       "                        <th id=\"T_b848bb84_00a3_11ec_99f3_02420a39ddf3level0_row1\" class=\"row_heading level0 row1\" >ultra</th>\n",
       "                        <td id=\"T_b848bb84_00a3_11ec_99f3_02420a39ddf3row1_col0\" class=\"data row1 col0\" >1950.00</td>\n",
       "                        <td id=\"T_b848bb84_00a3_11ec_99f3_02420a39ddf3row1_col1\" class=\"data row1 col1\" >2059.94</td>\n",
       "                        <td id=\"T_b848bb84_00a3_11ec_99f3_02420a39ddf3row1_col2\" class=\"data row1 col2\" >126033.25</td>\n",
       "                        <td id=\"T_b848bb84_00a3_11ec_99f3_02420a39ddf3row1_col3\" class=\"data row1 col3\" >355.01</td>\n",
       "            </tr>\n",
       "    </tbody></table>"
      ],
      "text/plain": [
       "<pandas.io.formats.style.Styler at 0x7fb6ccd93d90>"
      ]
     },
     "execution_count": 11,
     "metadata": {},
     "output_type": "execute_result"
    }
   ],
   "source": [
    "data.groupby('tariff').agg({'total_paid':['median','mean','var','std']}).style.format(\"{:.2f}\")"
   ]
  },
  {
   "cell_type": "markdown",
   "metadata": {},
   "source": [
    "Здесь прекрасно видно, что люди покупая тариф \"Smart\", выходят за тарифный план и платят около тысячи рублей им явно не хватает этого пакета. В тарифе \"Ultra\" а люди почти не вылезают за абонентскую плату\n",
    "<a id=\"o\"></a>"
   ]
  },
  {
   "cell_type": "code",
   "execution_count": 12,
   "metadata": {},
   "outputs": [
    {
     "data": {
      "text/html": [
       "<style  type=\"text/css\" >\n",
       "</style><table id=\"T_b84cc832_00a3_11ec_99f3_02420a39ddf3\" ><thead>    <tr>        <th class=\"blank level0\" ></th>        <th class=\"col_heading level0 col0\" colspan=4>duration</th>    </tr>    <tr>        <th class=\"blank level1\" ></th>        <th class=\"col_heading level1 col0\" >median</th>        <th class=\"col_heading level1 col1\" >mean</th>        <th class=\"col_heading level1 col2\" >var</th>        <th class=\"col_heading level1 col3\" >std</th>    </tr>    <tr>        <th class=\"index_name level0\" >tariff</th>        <th class=\"blank\" ></th>        <th class=\"blank\" ></th>        <th class=\"blank\" ></th>        <th class=\"blank\" ></th>    </tr></thead><tbody>\n",
       "                <tr>\n",
       "                        <th id=\"T_b84cc832_00a3_11ec_99f3_02420a39ddf3level0_row0\" class=\"row_heading level0 row0\" >smart</th>\n",
       "                        <td id=\"T_b84cc832_00a3_11ec_99f3_02420a39ddf3row0_col0\" class=\"data row0 col0\" >422.00</td>\n",
       "                        <td id=\"T_b84cc832_00a3_11ec_99f3_02420a39ddf3row0_col1\" class=\"data row0 col1\" >417.93</td>\n",
       "                        <td id=\"T_b84cc832_00a3_11ec_99f3_02420a39ddf3row0_col2\" class=\"data row0 col2\" >36219.32</td>\n",
       "                        <td id=\"T_b84cc832_00a3_11ec_99f3_02420a39ddf3row0_col3\" class=\"data row0 col3\" >190.31</td>\n",
       "            </tr>\n",
       "            <tr>\n",
       "                        <th id=\"T_b84cc832_00a3_11ec_99f3_02420a39ddf3level0_row1\" class=\"row_heading level0 row1\" >ultra</th>\n",
       "                        <td id=\"T_b84cc832_00a3_11ec_99f3_02420a39ddf3row1_col0\" class=\"data row1 col0\" >518.00</td>\n",
       "                        <td id=\"T_b84cc832_00a3_11ec_99f3_02420a39ddf3row1_col1\" class=\"data row1 col1\" >526.62</td>\n",
       "                        <td id=\"T_b84cc832_00a3_11ec_99f3_02420a39ddf3row1_col2\" class=\"data row1 col2\" >100873.63</td>\n",
       "                        <td id=\"T_b84cc832_00a3_11ec_99f3_02420a39ddf3row1_col3\" class=\"data row1 col3\" >317.61</td>\n",
       "            </tr>\n",
       "    </tbody></table>"
      ],
      "text/plain": [
       "<pandas.io.formats.style.Styler at 0x7fb6cd989750>"
      ]
     },
     "execution_count": 12,
     "metadata": {},
     "output_type": "execute_result"
    }
   ],
   "source": [
    "data.groupby('tariff').agg({'duration':['median','mean','var','std']}).style.format(\"{:.2f}\")"
   ]
  },
  {
   "cell_type": "code",
   "execution_count": 13,
   "metadata": {},
   "outputs": [
    {
     "data": {
      "text/plain": [
       "Text(0.5, 1.0, 'Smart — Звонки в минутах в месяц')"
      ]
     },
     "execution_count": 13,
     "metadata": {},
     "output_type": "execute_result"
    },
    {
     "data": {
      "image/png": "[encoded data removed]",
      "text/plain": [
       "<Figure size 432x288 with 1 Axes>"
      ]
     },
     "metadata": {
      "needs_background": "light"
     },
     "output_type": "display_data"
    }
   ],
   "source": [
    "data[data['tariff'] == 'smart']['duration'].plot(kind='hist', bins=10)\n",
    "plt.title('Smart — Звонки в минутах в месяц')"
   ]
  },
  {
   "cell_type": "code",
   "execution_count": 14,
   "metadata": {},
   "outputs": [
    {
     "data": {
      "text/plain": [
       "Text(0.5, 1.0, 'Ultra — Звонки в минутах в месяц')"
      ]
     },
     "execution_count": 14,
     "metadata": {},
     "output_type": "execute_result"
    },
    {
     "data": {
      "image/png": "[encoded data removed]",
      "text/plain": [
       "<Figure size 432x288 with 1 Axes>"
      ]
     },
     "metadata": {
      "needs_background": "light"
     },
     "output_type": "display_data"
    }
   ],
   "source": [
    "data[data['tariff'] == 'ultra']['duration'].plot(kind='hist', bins=10)\n",
    "plt.title('Ultra — Звонки в минутах в месяц')"
   ]
  },
  {
   "cell_type": "markdown",
   "metadata": {},
   "source": [
    "В тарифе \"Smart\" люди в месяц говорят около 450 минут, на \"Ultra\" 550 минут в месяц. То есть на первом тарифе люди подходят к краю своего тарифа, а на втором у них остается большой запас. Среднее и медиана лежат рядом и там и там — люди не выходят за область пакета тарифа"
   ]
  },
  {
   "cell_type": "code",
   "execution_count": 15,
   "metadata": {},
   "outputs": [
    {
     "data": {
      "text/html": [
       "<style  type=\"text/css\" >\n",
       "</style><table id=\"T_b8de4e4c_00a3_11ec_99f3_02420a39ddf3\" ><thead>    <tr>        <th class=\"blank level0\" ></th>        <th class=\"col_heading level0 col0\" colspan=4>mb_used</th>    </tr>    <tr>        <th class=\"blank level1\" ></th>        <th class=\"col_heading level1 col0\" >median</th>        <th class=\"col_heading level1 col1\" >mean</th>        <th class=\"col_heading level1 col2\" >var</th>        <th class=\"col_heading level1 col3\" >std</th>    </tr>    <tr>        <th class=\"index_name level0\" >tariff</th>        <th class=\"blank\" ></th>        <th class=\"blank\" ></th>        <th class=\"blank\" ></th>        <th class=\"blank\" ></th>    </tr></thead><tbody>\n",
       "                <tr>\n",
       "                        <th id=\"T_b8de4e4c_00a3_11ec_99f3_02420a39ddf3level0_row0\" class=\"row_heading level0 row0\" >smart</th>\n",
       "                        <td id=\"T_b8de4e4c_00a3_11ec_99f3_02420a39ddf3row0_col0\" class=\"data row0 col0\" >16506.84</td>\n",
       "                        <td id=\"T_b8de4e4c_00a3_11ec_99f3_02420a39ddf3row0_col1\" class=\"data row0 col1\" >16208.39</td>\n",
       "                        <td id=\"T_b8de4e4c_00a3_11ec_99f3_02420a39ddf3row0_col2\" class=\"data row0 col2\" >34462496.46</td>\n",
       "                        <td id=\"T_b8de4e4c_00a3_11ec_99f3_02420a39ddf3row0_col3\" class=\"data row0 col3\" >5870.48</td>\n",
       "            </tr>\n",
       "            <tr>\n",
       "                        <th id=\"T_b8de4e4c_00a3_11ec_99f3_02420a39ddf3level0_row1\" class=\"row_heading level0 row1\" >ultra</th>\n",
       "                        <td id=\"T_b8de4e4c_00a3_11ec_99f3_02420a39ddf3row1_col0\" class=\"data row1 col0\" >19308.01</td>\n",
       "                        <td id=\"T_b8de4e4c_00a3_11ec_99f3_02420a39ddf3row1_col1\" class=\"data row1 col1\" >19468.81</td>\n",
       "                        <td id=\"T_b8de4e4c_00a3_11ec_99f3_02420a39ddf3row1_col2\" class=\"data row1 col2\" >101751013.78</td>\n",
       "                        <td id=\"T_b8de4e4c_00a3_11ec_99f3_02420a39ddf3row1_col3\" class=\"data row1 col3\" >10087.17</td>\n",
       "            </tr>\n",
       "    </tbody></table>"
      ],
      "text/plain": [
       "<pandas.io.formats.style.Styler at 0x7fb6cd9d54d0>"
      ]
     },
     "execution_count": 15,
     "metadata": {},
     "output_type": "execute_result"
    }
   ],
   "source": [
    "data.groupby('tariff').agg({'mb_used':['median','mean','var','std']}).style.format(\"{:.2f}\")"
   ]
  },
  {
   "cell_type": "code",
   "execution_count": 16,
   "metadata": {},
   "outputs": [
    {
     "data": {
      "text/plain": [
       "Text(0.5, 1.0, 'Smart — Интернет в МБ в месяц')"
      ]
     },
     "execution_count": 16,
     "metadata": {},
     "output_type": "execute_result"
    },
    {
     "data": {
      "image/png": "[encoded data removed]",
      "text/plain": [
       "<Figure size 432x288 with 1 Axes>"
      ]
     },
     "metadata": {
      "needs_background": "light"
     },
     "output_type": "display_data"
    }
   ],
   "source": [
    "data[data['tariff'] == 'smart']['mb_used'].plot(kind='hist', bins=10)\n",
    "plt.title('Smart — Интернет в МБ в месяц')"
   ]
  },
  {
   "cell_type": "code",
   "execution_count": 17,
   "metadata": {},
   "outputs": [
    {
     "data": {
      "text/plain": [
       "Text(0.5, 1.0, 'Ultra — Интернет в МБ в месяц')"
      ]
     },
     "execution_count": 17,
     "metadata": {},
     "output_type": "execute_result"
    },
    {
     "data": {
      "image/png": "[encoded data removed]",
      "text/plain": [
       "<Figure size 432x288 with 1 Axes>"
      ]
     },
     "metadata": {
      "needs_background": "light"
     },
     "output_type": "display_data"
    }
   ],
   "source": [
    "data[data['tariff'] == 'ultra']['mb_used'].plot(kind='hist', bins=10)\n",
    "plt.title('Ultra — Интернет в МБ в месяц')"
   ]
  },
  {
   "cell_type": "markdown",
   "metadata": {},
   "source": [
    "Среднее и медиана лежат совсем рядом и видно, что на тарифе \"Smart\" люди выходят за пределы тарифа, в тарифе \"Ultra\" запас намного больше и пользователи не выходят за рамки пакета"
   ]
  },
  {
   "cell_type": "code",
   "execution_count": 18,
   "metadata": {},
   "outputs": [
    {
     "data": {
      "text/html": [
       "<style  type=\"text/css\" >\n",
       "</style><table id=\"T_b9541ac8_00a3_11ec_99f3_02420a39ddf3\" ><thead>    <tr>        <th class=\"blank level0\" ></th>        <th class=\"col_heading level0 col0\" colspan=4>id_messages</th>    </tr>    <tr>        <th class=\"blank level1\" ></th>        <th class=\"col_heading level1 col0\" >median</th>        <th class=\"col_heading level1 col1\" >mean</th>        <th class=\"col_heading level1 col2\" >var</th>        <th class=\"col_heading level1 col3\" >std</th>    </tr>    <tr>        <th class=\"index_name level0\" >tariff</th>        <th class=\"blank\" ></th>        <th class=\"blank\" ></th>        <th class=\"blank\" ></th>        <th class=\"blank\" ></th>    </tr></thead><tbody>\n",
       "                <tr>\n",
       "                        <th id=\"T_b9541ac8_00a3_11ec_99f3_02420a39ddf3level0_row0\" class=\"row_heading level0 row0\" >smart</th>\n",
       "                        <td id=\"T_b9541ac8_00a3_11ec_99f3_02420a39ddf3row0_col0\" class=\"data row0 col0\" >28.00</td>\n",
       "                        <td id=\"T_b9541ac8_00a3_11ec_99f3_02420a39ddf3row0_col1\" class=\"data row0 col1\" >33.38</td>\n",
       "                        <td id=\"T_b9541ac8_00a3_11ec_99f3_02420a39ddf3row0_col2\" class=\"data row0 col2\" >796.81</td>\n",
       "                        <td id=\"T_b9541ac8_00a3_11ec_99f3_02420a39ddf3row0_col3\" class=\"data row0 col3\" >28.23</td>\n",
       "            </tr>\n",
       "            <tr>\n",
       "                        <th id=\"T_b9541ac8_00a3_11ec_99f3_02420a39ddf3level0_row1\" class=\"row_heading level0 row1\" >ultra</th>\n",
       "                        <td id=\"T_b9541ac8_00a3_11ec_99f3_02420a39ddf3row1_col0\" class=\"data row1 col0\" >38.00</td>\n",
       "                        <td id=\"T_b9541ac8_00a3_11ec_99f3_02420a39ddf3row1_col1\" class=\"data row1 col1\" >49.36</td>\n",
       "                        <td id=\"T_b9541ac8_00a3_11ec_99f3_02420a39ddf3row1_col2\" class=\"data row1 col2\" >2285.27</td>\n",
       "                        <td id=\"T_b9541ac8_00a3_11ec_99f3_02420a39ddf3row1_col3\" class=\"data row1 col3\" >47.80</td>\n",
       "            </tr>\n",
       "    </tbody></table>"
      ],
      "text/plain": [
       "<pandas.io.formats.style.Styler at 0x7fb6ccca6e90>"
      ]
     },
     "execution_count": 18,
     "metadata": {},
     "output_type": "execute_result"
    }
   ],
   "source": [
    "data.groupby('tariff').agg({'id_messages':['median','mean','var','std']}).style.format(\"{:.2f}\")"
   ]
  },
  {
   "cell_type": "code",
   "execution_count": 19,
   "metadata": {},
   "outputs": [
    {
     "data": {
      "text/plain": [
       "Text(0.5, 1.0, 'Smart — сообщений в месяц')"
      ]
     },
     "execution_count": 19,
     "metadata": {},
     "output_type": "execute_result"
    },
    {
     "data": {
      "image/png": "[encoded data removed]",
      "text/plain": [
       "<Figure size 432x288 with 1 Axes>"
      ]
     },
     "metadata": {
      "needs_background": "light"
     },
     "output_type": "display_data"
    }
   ],
   "source": [
    "data[data['tariff'] == 'smart']['id_messages'].plot(kind='hist', bins=10)\n",
    "plt.title('Smart — сообщений в месяц')\n"
   ]
  },
  {
   "cell_type": "code",
   "execution_count": 20,
   "metadata": {},
   "outputs": [
    {
     "data": {
      "text/plain": [
       "Text(0.5, 1.0, 'Ultra — сообщений в месяц')"
      ]
     },
     "execution_count": 20,
     "metadata": {},
     "output_type": "execute_result"
    },
    {
     "data": {
      "image/png": "[encoded data removed]",
      "text/plain": [
       "<Figure size 432x288 with 1 Axes>"
      ]
     },
     "metadata": {
      "needs_background": "light"
     },
     "output_type": "display_data"
    }
   ],
   "source": [
    "data[data['tariff'] == 'ultra']['id_messages'].plot(kind='hist', bins=10)\n",
    "plt.title('Ultra — сообщений в месяц')"
   ]
  },
  {
   "cell_type": "markdown",
   "metadata": {},
   "source": [
    "Поведение пользователей выглядит почти одинаковым. в обоих тарифах пользователи не выходят за пределы пакета, сообщения пользователи почти не используют."
   ]
  },
  {
   "cell_type": "markdown",
   "metadata": {},
   "source": [
    "Общий вывод:\n",
    "\n",
    "Для пользователя намного выгоднее тариф \"Smart\". Поэтому коммерческому департаменту стоит сделать упор рекламы именно на этот тариф. У тарифа \"Smart\" аудитория намного больше и он более привлекательнее для пользователей своей низкой стандартной ежемесячной платой, также люди очень часто готовы платить сверхлимита, что очень выгодно для компании\n",
    "Пользователей тарифа \"Ultra\" меньше, они не используют весь трафик, не выговаривают столько минут и не пишут почти сообщения, они получаются переплачивают. Однако такой тариф совсем убирать нельзя, так как некоторым людям он действительно нужен, например звонить и разговаривать очень много по работе и т.д. Как предложение можно сделать данный тариф семейным, т.е с возможностью подключить еще одного человека, данных тариф одновременно для двоих был бы идеален.  \n",
    "<a id=\"v\"></a>"
   ]
  },
  {
   "cell_type": "markdown",
   "metadata": {},
   "source": [
    "## Проверка гипотез и пояснения\n",
    "- средняя выручка пользователей тарифов «Ультра» и «Смарт» различаются\n",
    "- средняя выручка пользователи из Москвы отличается от выручки пользователей из других регионов\n",
    "<a id=\"f\"></a>"
   ]
  },
  {
   "cell_type": "code",
   "execution_count": 21,
   "metadata": {},
   "outputs": [
    {
     "data": {
      "text/html": [
       "<div>\n",
       "<style scoped>\n",
       "    .dataframe tbody tr th:only-of-type {\n",
       "        vertical-align: middle;\n",
       "    }\n",
       "\n",
       "    .dataframe tbody tr th {\n",
       "        vertical-align: top;\n",
       "    }\n",
       "\n",
       "    .dataframe thead tr th {\n",
       "        text-align: left;\n",
       "    }\n",
       "\n",
       "    .dataframe thead tr:last-of-type th {\n",
       "        text-align: right;\n",
       "    }\n",
       "</style>\n",
       "<table border=\"1\" class=\"dataframe\">\n",
       "  <thead>\n",
       "    <tr>\n",
       "      <th></th>\n",
       "      <th>sum</th>\n",
       "      <th>mean</th>\n",
       "    </tr>\n",
       "    <tr>\n",
       "      <th></th>\n",
       "      <th>total_paid</th>\n",
       "      <th>total_paid</th>\n",
       "    </tr>\n",
       "    <tr>\n",
       "      <th>tariff</th>\n",
       "      <th></th>\n",
       "      <th></th>\n",
       "    </tr>\n",
       "  </thead>\n",
       "  <tbody>\n",
       "    <tr>\n",
       "      <td>smart</td>\n",
       "      <td>2743322</td>\n",
       "      <td>1230.741140</td>\n",
       "    </tr>\n",
       "    <tr>\n",
       "      <td>ultra</td>\n",
       "      <td>2029037</td>\n",
       "      <td>2059.936041</td>\n",
       "    </tr>\n",
       "  </tbody>\n",
       "</table>\n",
       "</div>"
      ],
      "text/plain": [
       "              sum         mean\n",
       "       total_paid   total_paid\n",
       "tariff                        \n",
       "smart     2743322  1230.741140\n",
       "ultra     2029037  2059.936041"
      ]
     },
     "metadata": {},
     "output_type": "display_data"
    },
    {
     "name": "stdout",
     "output_type": "stream",
     "text": [
      "p-значение: 3.398200192032115e-280\n",
      "Отвергаем нулевую гипотезу\n",
      "p-значение: 0.4701816724073484\n",
      "Не получилось отвергнуть нулевую гипотезу\n"
     ]
    }
   ],
   "source": [
    "proceeds = data.pivot_table(index='tariff', values='total_paid', aggfunc=['sum', 'mean'])\n",
    "display(proceeds)\n",
    "\n",
    "ultra = data[data['tariff'] == 'ultra']\n",
    "smart = data[data['tariff'] == 'smart']\n",
    "\n",
    "ultra = ultra.query('total_paid < 3500')\n",
    "ultra = ultra['total_paid']\n",
    "\n",
    "smart = smart.query('total_paid < 3100')\n",
    "smart = smart['total_paid']\n",
    "\n",
    "alpha = 0.05# критический уровень статистической значимости\n",
    "# если p-value окажется меньше него - отвергнем гипотезу\n",
    "\n",
    "results = st.ttest_ind(ultra, smart)\n",
    "\n",
    "print('p-значение:', results.pvalue)\n",
    "if (results.pvalue < alpha):\n",
    "    print(\"Отвергаем нулевую гипотезу\")\n",
    "else:\n",
    "    print(\"Не получилось отвергнуть нулевую гипотезу\")\n",
    "    \n",
    "    \n",
    "data['city'].unique()\n",
    "\n",
    "data['region'] = np.where(data['city'] == 'Москва', 'Москва', 'Провинция')\n",
    "\n",
    "moscow = data[data['region'] == 'Москва']\n",
    "province = data[data['region'] == 'Провинция']\n",
    "\n",
    "moscow = moscow.query('region == \"Москва\"')\n",
    "moscow = moscow['total_paid']\n",
    "\n",
    "province = province.query('region == \"Провинция\"')\n",
    "province = province['total_paid']\n",
    "\n",
    "results = st.ttest_ind(moscow, province)\n",
    "# equal_var = False\n",
    "\n",
    "print('p-значение:', results.pvalue)\n",
    "\n",
    "if (results.pvalue < alpha):\n",
    "    print(\"Отвергаем нулевую гипотезу\")\n",
    "else:\n",
    "    print(\"Не получилось отвергнуть нулевую гипотезу\")    "
   ]
  },
  {
   "cell_type": "markdown",
   "metadata": {},
   "source": [
    "В самом начале видна достаточно большая разница между средними платежами за месяц по тарифам. Видно, что пользователям тарифа \"Smart\", выгоднее подобрать для себя другой тариф, это позволит сэкономить им. В тарифе \"Ultra\" люди почти не переплачивают.\n",
    "Гипотеза такова: средняя выручка пользователей тарифов «Ультра» и «Смарт» различаются. Так ли это?  \n",
    "Перед нами две генеральные совокупности и нужно сопоставить их средние. Так как, чтобы это понять недостаточно просто сравнить числа за определённый период времени, необходимо применить метод scipy.stats.ttest_ind (array1, array2, equal_var). Нулевой гипотезой будет гипотеза о том, что средние наших выборок равны. Альтернативной гипотезой будет \"Средняя выручка пользователей тарифов «Ultra» и «Smart» различается\". Используется t-критерий Стьюдента, так как сравниваемые выборки независимы между собой. Исходя из значения р различие средних двух датасетов значительна. А значит сформулированная гипотеза о том, что средние наших выборок отличаются, не отвергается. Для второго случая нулевой гипотезой будет гипотеза о том, что средняя выручка пользователей из Москвы не отличается от выручки пользователей из других регионов. Альтернативной гипотезой будет, что средняя выручка пользователей из Москвы отличается от выручки пользователей из других регионов Гипотеза о различии средних отвергается"
   ]
  },
  {
   "cell_type": "markdown",
   "metadata": {},
   "source": [
    "# Вывод\n",
    "<a id=\"g\"></a>\n",
    "Тариф \"Smart\" имеет большую аудиторию и он более привлекательный для пользователей своей низкой стандартной ежемесячной платой, но люди очень часто платят сверхлимита, что очень выгодно для компании. Но именно это может оттолкнуть пользователей.  Пользователей тарифа \"Ultra\" меньше, они не используют весь трафик, не выговаривают столько минут и не пишут почти сообщения, они получаются переплачивают. Сообщения почти никто не использует на обоих тарифах. Но если в Смарте люди близки к своим лимитам, то на Ультре остаются большие неизрасходованные \"запасы\" — возможно, имеет смысл подумать, как использовать эту, по сути, упущенную выгоду. Поэтому стоит подумать над оптимизацией тарифов\n",
    "\n",
    "\n",
    "- Деньги компания получает одинаково и из регионов, и из Москвы, нет больших различий \n",
    "- Тарифы приносят разные деньги, значимые различия есть\n",
    "\n"
   ]
  }
 ],
 "metadata": {
  "ExecuteTimeLog": [
   {
    "duration": 914,
    "start_time": "2021-08-10T06:32:21.399Z"
   },
   {
    "duration": 497,
    "start_time": "2021-08-10T06:32:57.988Z"
   },
   {
    "duration": 364,
    "start_time": "2021-08-10T06:33:04.949Z"
   },
   {
    "duration": 353,
    "start_time": "2021-08-10T06:36:09.152Z"
   },
   {
    "duration": 59,
    "start_time": "2021-08-10T06:39:24.463Z"
   },
   {
    "duration": 59,
    "start_time": "2021-08-10T06:40:01.478Z"
   },
   {
    "duration": 116,
    "start_time": "2021-08-10T07:28:18.394Z"
   },
   {
    "duration": 753,
    "start_time": "2021-08-10T07:31:14.857Z"
   },
   {
    "duration": 752,
    "start_time": "2021-08-10T07:31:39.528Z"
   },
   {
    "duration": 759,
    "start_time": "2021-08-10T07:32:46.080Z"
   },
   {
    "duration": 599,
    "start_time": "2021-08-10T07:35:27.173Z"
   },
   {
    "duration": 264,
    "start_time": "2021-08-10T07:40:08.464Z"
   },
   {
    "duration": 960,
    "start_time": "2021-08-10T07:49:53.886Z"
   },
   {
    "duration": 873,
    "start_time": "2021-08-10T07:50:37.930Z"
   },
   {
    "duration": 393,
    "start_time": "2021-08-10T07:50:56.712Z"
   },
   {
    "duration": 970,
    "start_time": "2021-08-10T07:59:03.368Z"
   },
   {
    "duration": 73,
    "start_time": "2021-08-10T07:59:17.084Z"
   },
   {
    "duration": 748,
    "start_time": "2021-08-10T08:07:02.248Z"
   },
   {
    "duration": 888,
    "start_time": "2021-08-10T08:27:23.848Z"
   },
   {
    "duration": 401,
    "start_time": "2021-08-10T08:28:03.345Z"
   },
   {
    "duration": 259,
    "start_time": "2021-08-10T08:28:42.668Z"
   },
   {
    "duration": 908,
    "start_time": "2021-08-10T08:29:04.238Z"
   },
   {
    "duration": 1792,
    "start_time": "2021-08-10T15:06:53.067Z"
   },
   {
    "duration": 363,
    "start_time": "2021-08-10T15:11:56.089Z"
   },
   {
    "duration": 564,
    "start_time": "2021-08-10T15:13:57.263Z"
   },
   {
    "duration": 359,
    "start_time": "2021-08-10T15:21:32.420Z"
   },
   {
    "duration": 1277,
    "start_time": "2021-08-10T15:21:39.311Z"
   },
   {
    "duration": 86,
    "start_time": "2021-08-10T15:21:43.433Z"
   },
   {
    "duration": 353,
    "start_time": "2021-08-10T15:28:10.307Z"
   },
   {
    "duration": 267,
    "start_time": "2021-08-10T15:28:40.300Z"
   },
   {
    "duration": 264,
    "start_time": "2021-08-10T15:29:34.683Z"
   },
   {
    "duration": 357,
    "start_time": "2021-08-10T15:44:50.495Z"
   },
   {
    "duration": 135,
    "start_time": "2021-08-10T15:49:09.438Z"
   },
   {
    "duration": 244,
    "start_time": "2021-08-10T15:51:01.267Z"
   },
   {
    "duration": 554,
    "start_time": "2021-08-10T16:04:02.699Z"
   },
   {
    "duration": 7146,
    "start_time": "2021-08-10T16:04:39.947Z"
   },
   {
    "duration": 6883,
    "start_time": "2021-08-10T16:04:55.939Z"
   },
   {
    "duration": 537,
    "start_time": "2021-08-10T16:05:19.527Z"
   },
   {
    "duration": 6799,
    "start_time": "2021-08-10T16:05:29.267Z"
   },
   {
    "duration": 316,
    "start_time": "2021-08-10T16:05:49.260Z"
   },
   {
    "duration": 305,
    "start_time": "2021-08-10T16:06:19.127Z"
   },
   {
    "duration": 504,
    "start_time": "2021-08-10T16:06:32.387Z"
   },
   {
    "duration": 262,
    "start_time": "2021-08-10T16:06:35.527Z"
   },
   {
    "duration": 217,
    "start_time": "2021-08-10T16:13:07.208Z"
   },
   {
    "duration": 232,
    "start_time": "2021-08-10T16:13:34.008Z"
   },
   {
    "duration": 505,
    "start_time": "2021-08-10T16:16:58.110Z"
   },
   {
    "duration": 246,
    "start_time": "2021-08-10T16:17:23.378Z"
   },
   {
    "duration": 276,
    "start_time": "2021-08-10T16:18:07.315Z"
   },
   {
    "duration": 268,
    "start_time": "2021-08-10T16:19:16.717Z"
   },
   {
    "duration": 315,
    "start_time": "2021-08-10T16:35:53.980Z"
   },
   {
    "duration": 576,
    "start_time": "2021-08-10T16:37:58.828Z"
   },
   {
    "duration": 570,
    "start_time": "2021-08-10T16:41:10.272Z"
   },
   {
    "duration": 513,
    "start_time": "2021-08-10T16:41:27.747Z"
   },
   {
    "duration": 628,
    "start_time": "2021-08-10T16:41:39.031Z"
   },
   {
    "duration": 593,
    "start_time": "2021-08-10T16:43:19.259Z"
   },
   {
    "duration": 562,
    "start_time": "2021-08-10T16:45:51.408Z"
   },
   {
    "duration": 628,
    "start_time": "2021-08-10T16:47:10.160Z"
   },
   {
    "duration": 408,
    "start_time": "2021-08-10T16:47:34.128Z"
   },
   {
    "duration": 418,
    "start_time": "2021-08-10T16:48:11.788Z"
   },
   {
    "duration": 705,
    "start_time": "2021-08-10T16:50:07.609Z"
   },
   {
    "duration": 654,
    "start_time": "2021-08-10T16:52:33.248Z"
   },
   {
    "duration": 717,
    "start_time": "2021-08-10T16:53:38.707Z"
   },
   {
    "duration": 404,
    "start_time": "2021-08-10T16:53:55.758Z"
   },
   {
    "duration": 627,
    "start_time": "2021-08-10T16:54:56.728Z"
   },
   {
    "duration": 429,
    "start_time": "2021-08-10T16:55:16.795Z"
   },
   {
    "duration": 467,
    "start_time": "2021-08-10T16:55:58.647Z"
   },
   {
    "duration": 463,
    "start_time": "2021-08-10T16:56:34.469Z"
   },
   {
    "duration": 679,
    "start_time": "2021-08-10T16:58:35.885Z"
   },
   {
    "duration": 651,
    "start_time": "2021-08-10T17:02:17.847Z"
   },
   {
    "duration": 612,
    "start_time": "2021-08-10T17:03:51.016Z"
   },
   {
    "duration": 389,
    "start_time": "2021-08-10T17:17:58.771Z"
   },
   {
    "duration": 285,
    "start_time": "2021-08-10T17:19:13.280Z"
   },
   {
    "duration": 801,
    "start_time": "2021-08-10T17:22:32.355Z"
   },
   {
    "duration": 807,
    "start_time": "2021-08-10T17:23:24.575Z"
   },
   {
    "duration": 833,
    "start_time": "2021-08-10T17:27:53.479Z"
   },
   {
    "duration": 7684,
    "start_time": "2021-08-10T17:31:32.959Z"
   },
   {
    "duration": 781,
    "start_time": "2021-08-10T17:35:20.908Z"
   },
   {
    "duration": 1069,
    "start_time": "2021-08-10T17:37:44.407Z"
   },
   {
    "duration": 845,
    "start_time": "2021-08-10T17:38:24.337Z"
   },
   {
    "duration": 1133,
    "start_time": "2021-08-10T17:43:27.587Z"
   },
   {
    "duration": 821,
    "start_time": "2021-08-10T17:44:04.248Z"
   },
   {
    "duration": 7889,
    "start_time": "2021-08-10T17:44:52.148Z"
   },
   {
    "duration": 1146,
    "start_time": "2021-08-10T17:45:15.899Z"
   },
   {
    "duration": 1084,
    "start_time": "2021-08-10T17:46:25.027Z"
   },
   {
    "duration": 7753,
    "start_time": "2021-08-10T17:47:00.908Z"
   },
   {
    "duration": 7353,
    "start_time": "2021-08-10T17:49:38.508Z"
   },
   {
    "duration": 655,
    "start_time": "2021-08-10T17:50:07.927Z"
   },
   {
    "duration": 1010,
    "start_time": "2021-08-16T06:33:40.573Z"
   },
   {
    "duration": 1417,
    "start_time": "2021-08-16T06:33:45.257Z"
   },
   {
    "duration": 1250,
    "start_time": "2021-08-16T06:33:49.867Z"
   },
   {
    "duration": 789,
    "start_time": "2021-08-16T06:34:20.889Z"
   },
   {
    "duration": 771,
    "start_time": "2021-08-16T06:34:35.322Z"
   },
   {
    "duration": 792,
    "start_time": "2021-08-16T06:36:34.028Z"
   },
   {
    "duration": 868,
    "start_time": "2021-08-16T06:53:46.588Z"
   },
   {
    "duration": 967,
    "start_time": "2021-08-16T06:54:20.644Z"
   },
   {
    "duration": 536,
    "start_time": "2021-08-16T06:55:12.517Z"
   },
   {
    "duration": 586,
    "start_time": "2021-08-16T06:55:32.907Z"
   },
   {
    "duration": 1228,
    "start_time": "2021-08-16T06:56:13.745Z"
   },
   {
    "duration": 214,
    "start_time": "2021-08-16T07:14:40.803Z"
   },
   {
    "duration": 1182,
    "start_time": "2021-08-16T07:14:58.234Z"
   },
   {
    "duration": 1118,
    "start_time": "2021-08-16T07:15:23.442Z"
   },
   {
    "duration": 1061,
    "start_time": "2021-08-16T07:16:16.346Z"
   },
   {
    "duration": 1143,
    "start_time": "2021-08-16T07:20:11.651Z"
   },
   {
    "duration": 1239,
    "start_time": "2021-08-16T07:20:55.715Z"
   },
   {
    "duration": 1366,
    "start_time": "2021-08-16T07:23:00.820Z"
   },
   {
    "duration": 1616,
    "start_time": "2021-08-16T07:24:14.045Z"
   },
   {
    "duration": 1347,
    "start_time": "2021-08-16T07:37:13.907Z"
   },
   {
    "duration": 982,
    "start_time": "2021-08-16T07:47:49.006Z"
   },
   {
    "duration": 934,
    "start_time": "2021-08-16T07:48:01.653Z"
   },
   {
    "duration": 935,
    "start_time": "2021-08-16T07:48:19.689Z"
   },
   {
    "duration": 309,
    "start_time": "2021-08-16T12:17:28.490Z"
   },
   {
    "duration": 875,
    "start_time": "2021-08-16T12:17:33.693Z"
   },
   {
    "duration": 915,
    "start_time": "2021-08-16T12:17:36.668Z"
   },
   {
    "duration": 600,
    "start_time": "2021-08-16T12:20:32.029Z"
   },
   {
    "duration": 592,
    "start_time": "2021-08-16T12:20:50.748Z"
   },
   {
    "duration": 580,
    "start_time": "2021-08-16T12:21:18.021Z"
   },
   {
    "duration": 557,
    "start_time": "2021-08-16T12:26:19.458Z"
   },
   {
    "duration": 633,
    "start_time": "2021-08-16T12:59:08.411Z"
   },
   {
    "duration": 578,
    "start_time": "2021-08-16T13:08:08.632Z"
   },
   {
    "duration": 569,
    "start_time": "2021-08-16T13:10:52.047Z"
   },
   {
    "duration": 857,
    "start_time": "2021-08-16T13:16:25.101Z"
   },
   {
    "duration": 843,
    "start_time": "2021-08-16T13:17:25.399Z"
   },
   {
    "duration": 580,
    "start_time": "2021-08-16T13:20:45.513Z"
   },
   {
    "duration": 586,
    "start_time": "2021-08-16T13:21:48.104Z"
   },
   {
    "duration": 359,
    "start_time": "2021-08-16T13:22:17.772Z"
   },
   {
    "duration": 824,
    "start_time": "2021-08-16T13:22:21.232Z"
   },
   {
    "duration": 595,
    "start_time": "2021-08-16T13:22:35.886Z"
   },
   {
    "duration": 356,
    "start_time": "2021-08-16T13:24:19.432Z"
   },
   {
    "duration": 798,
    "start_time": "2021-08-16T13:24:22.315Z"
   },
   {
    "duration": 543,
    "start_time": "2021-08-16T13:26:16.287Z"
   },
   {
    "duration": 549,
    "start_time": "2021-08-16T13:28:22.133Z"
   },
   {
    "duration": 362,
    "start_time": "2021-08-16T13:28:40.106Z"
   },
   {
    "duration": 835,
    "start_time": "2021-08-16T13:28:43.272Z"
   },
   {
    "duration": 553,
    "start_time": "2021-08-16T13:29:16.195Z"
   },
   {
    "duration": 552,
    "start_time": "2021-08-16T13:30:09.924Z"
   },
   {
    "duration": 867,
    "start_time": "2021-08-16T13:30:44.862Z"
   },
   {
    "duration": 549,
    "start_time": "2021-08-16T13:31:39.114Z"
   },
   {
    "duration": 361,
    "start_time": "2021-08-16T13:31:55.981Z"
   },
   {
    "duration": 924,
    "start_time": "2021-08-16T13:32:00.153Z"
   },
   {
    "duration": 591,
    "start_time": "2021-08-16T13:35:54.150Z"
   },
   {
    "duration": 590,
    "start_time": "2021-08-16T13:38:43.224Z"
   },
   {
    "duration": 363,
    "start_time": "2021-08-16T13:46:06.123Z"
   },
   {
    "duration": 858,
    "start_time": "2021-08-16T13:46:09.558Z"
   },
   {
    "duration": 791,
    "start_time": "2021-08-16T13:47:09.023Z"
   },
   {
    "duration": 578,
    "start_time": "2021-08-16T13:48:39.668Z"
   },
   {
    "duration": 750,
    "start_time": "2021-08-16T13:49:14.894Z"
   },
   {
    "duration": 359,
    "start_time": "2021-08-16T13:49:46.175Z"
   },
   {
    "duration": 865,
    "start_time": "2021-08-16T13:49:49.691Z"
   },
   {
    "duration": 582,
    "start_time": "2021-08-16T13:51:29.664Z"
   },
   {
    "duration": 363,
    "start_time": "2021-08-16T13:51:39.395Z"
   },
   {
    "duration": 873,
    "start_time": "2021-08-16T13:51:42.288Z"
   },
   {
    "duration": 377,
    "start_time": "2021-08-16T13:53:34.865Z"
   },
   {
    "duration": 7803,
    "start_time": "2021-08-16T13:53:39.005Z"
   },
   {
    "duration": 566,
    "start_time": "2021-08-16T13:57:38.798Z"
   },
   {
    "duration": 594,
    "start_time": "2021-08-16T13:58:03.062Z"
   },
   {
    "duration": 816,
    "start_time": "2021-08-16T13:58:57.646Z"
   },
   {
    "duration": 789,
    "start_time": "2021-08-16T13:59:27.449Z"
   },
   {
    "duration": 582,
    "start_time": "2021-08-16T13:59:50.898Z"
   },
   {
    "duration": 798,
    "start_time": "2021-08-16T14:05:04.713Z"
   },
   {
    "duration": 357,
    "start_time": "2021-08-16T14:05:37.517Z"
   },
   {
    "duration": 859,
    "start_time": "2021-08-16T14:05:41.113Z"
   },
   {
    "duration": 353,
    "start_time": "2021-08-16T14:06:44.267Z"
   },
   {
    "duration": 864,
    "start_time": "2021-08-16T14:06:47.400Z"
   },
   {
    "duration": 362,
    "start_time": "2021-08-16T14:21:20.394Z"
   },
   {
    "duration": 860,
    "start_time": "2021-08-16T14:21:24.144Z"
   },
   {
    "duration": 352,
    "start_time": "2021-08-16T14:24:37.442Z"
   },
   {
    "duration": 96,
    "start_time": "2021-08-16T14:24:41.741Z"
   },
   {
    "duration": 357,
    "start_time": "2021-08-16T14:24:48.928Z"
   },
   {
    "duration": 867,
    "start_time": "2021-08-16T14:25:00.402Z"
   },
   {
    "duration": 600,
    "start_time": "2021-08-16T14:26:52.261Z"
   },
   {
    "duration": 314,
    "start_time": "2021-08-17T09:07:58.978Z"
   },
   {
    "duration": 1196,
    "start_time": "2021-08-17T09:08:03.256Z"
   },
   {
    "duration": 1274,
    "start_time": "2021-08-17T09:08:07.844Z"
   },
   {
    "duration": 1973,
    "start_time": "2021-08-17T09:19:59.641Z"
   },
   {
    "duration": 1976,
    "start_time": "2021-08-17T09:20:21.828Z"
   },
   {
    "duration": 2212,
    "start_time": "2021-08-17T09:21:07.527Z"
   },
   {
    "duration": 1076,
    "start_time": "2021-08-17T09:23:45.914Z"
   },
   {
    "duration": 6884,
    "start_time": "2021-08-17T09:24:18.723Z"
   },
   {
    "duration": 929,
    "start_time": "2021-08-17T09:25:07.255Z"
   },
   {
    "duration": 1110,
    "start_time": "2021-08-17T09:28:24.421Z"
   },
   {
    "duration": 1171,
    "start_time": "2021-08-17T09:29:23.594Z"
   },
   {
    "duration": 1831,
    "start_time": "2021-08-17T09:33:45.069Z"
   },
   {
    "duration": 1161,
    "start_time": "2021-08-17T09:34:38.896Z"
   },
   {
    "duration": 7077,
    "start_time": "2021-08-17T09:39:32.458Z"
   },
   {
    "duration": 1129,
    "start_time": "2021-08-17T09:40:29.307Z"
   },
   {
    "duration": 1115,
    "start_time": "2021-08-17T09:41:11.890Z"
   },
   {
    "duration": 1131,
    "start_time": "2021-08-17T09:43:58.010Z"
   },
   {
    "duration": 859,
    "start_time": "2021-08-17T09:45:49.081Z"
   },
   {
    "duration": 8778,
    "start_time": "2021-08-17T09:47:42.456Z"
   },
   {
    "duration": 1123,
    "start_time": "2021-08-17T09:51:42.808Z"
   },
   {
    "duration": 8752,
    "start_time": "2021-08-17T09:54:27.444Z"
   },
   {
    "duration": 2094,
    "start_time": "2021-08-17T09:55:02.639Z"
   },
   {
    "duration": 2288,
    "start_time": "2021-08-17T09:55:59.915Z"
   },
   {
    "duration": 446,
    "start_time": "2021-08-17T09:56:23.390Z"
   },
   {
    "duration": 2307,
    "start_time": "2021-08-17T09:56:28.889Z"
   },
   {
    "duration": 8515,
    "start_time": "2021-08-17T09:57:02.105Z"
   },
   {
    "duration": 453,
    "start_time": "2021-08-17T09:59:47.833Z"
   },
   {
    "duration": 110,
    "start_time": "2021-08-17T09:59:52.397Z"
   },
   {
    "duration": 1859,
    "start_time": "2021-08-17T10:00:04.168Z"
   },
   {
    "duration": 994,
    "start_time": "2021-08-17T10:01:03.667Z"
   },
   {
    "duration": 906,
    "start_time": "2021-08-17T10:01:41.779Z"
   },
   {
    "duration": 844,
    "start_time": "2021-08-17T10:02:36.312Z"
   },
   {
    "duration": 1531,
    "start_time": "2021-08-17T10:06:25.361Z"
   },
   {
    "duration": 1532,
    "start_time": "2021-08-17T10:08:13.557Z"
   },
   {
    "duration": 443,
    "start_time": "2021-08-17T10:14:06.310Z"
   },
   {
    "duration": 1819,
    "start_time": "2021-08-17T10:14:10.802Z"
   },
   {
    "duration": 8961,
    "start_time": "2021-08-17T10:14:32.794Z"
   },
   {
    "duration": 1235,
    "start_time": "2021-08-17T10:15:33.057Z"
   },
   {
    "duration": 1283,
    "start_time": "2021-08-17T10:18:25.060Z"
   },
   {
    "duration": 1263,
    "start_time": "2021-08-17T10:18:51.669Z"
   },
   {
    "duration": 1600,
    "start_time": "2021-08-17T11:26:08.024Z"
   },
   {
    "duration": 1233,
    "start_time": "2021-08-17T11:26:20.328Z"
   },
   {
    "duration": 570,
    "start_time": "2021-08-17T12:44:23.818Z"
   },
   {
    "duration": 247,
    "start_time": "2021-08-17T12:45:03.214Z"
   },
   {
    "duration": 289,
    "start_time": "2021-08-17T13:15:42.206Z"
   },
   {
    "duration": 286,
    "start_time": "2021-08-17T13:17:12.842Z"
   },
   {
    "duration": 621,
    "start_time": "2021-08-17T13:17:21.780Z"
   },
   {
    "duration": 252,
    "start_time": "2021-08-17T13:17:58.245Z"
   },
   {
    "duration": 18,
    "start_time": "2021-08-17T13:18:53.491Z"
   },
   {
    "duration": 6679,
    "start_time": "2021-08-17T13:29:35.622Z"
   },
   {
    "duration": 570,
    "start_time": "2021-08-17T13:30:22.086Z"
   },
   {
    "duration": 518,
    "start_time": "2021-08-17T13:32:02.735Z"
   },
   {
    "duration": 1790,
    "start_time": "2021-08-17T13:32:07.754Z"
   },
   {
    "duration": 416,
    "start_time": "2021-08-17T13:32:14.643Z"
   },
   {
    "duration": 361,
    "start_time": "2021-08-17T13:32:19.186Z"
   },
   {
    "duration": 275,
    "start_time": "2021-08-17T13:32:23.087Z"
   },
   {
    "duration": 17,
    "start_time": "2021-08-17T13:32:26.847Z"
   },
   {
    "duration": 17,
    "start_time": "2021-08-17T13:32:31.857Z"
   },
   {
    "duration": 579,
    "start_time": "2021-08-17T13:32:35.833Z"
   },
   {
    "duration": 310,
    "start_time": "2021-08-17T13:52:48.131Z"
   },
   {
    "duration": 324,
    "start_time": "2021-08-17T14:19:55.780Z"
   },
   {
    "duration": 316,
    "start_time": "2021-08-17T14:20:07.114Z"
   },
   {
    "duration": 314,
    "start_time": "2021-08-17T14:20:50.776Z"
   },
   {
    "duration": 287,
    "start_time": "2021-08-17T14:22:01.051Z"
   },
   {
    "duration": 342,
    "start_time": "2021-08-17T14:22:06.782Z"
   },
   {
    "duration": 20,
    "start_time": "2021-08-17T14:23:25.873Z"
   },
   {
    "duration": 314,
    "start_time": "2021-08-17T14:24:52.715Z"
   },
   {
    "duration": 301,
    "start_time": "2021-08-17T14:25:28.758Z"
   },
   {
    "duration": 363,
    "start_time": "2021-08-17T14:27:32.039Z"
   },
   {
    "duration": 306,
    "start_time": "2021-08-17T14:28:09.430Z"
   },
   {
    "duration": 503,
    "start_time": "2021-08-17T14:35:52.336Z"
   },
   {
    "duration": 1784,
    "start_time": "2021-08-17T14:36:09.579Z"
   },
   {
    "duration": 434,
    "start_time": "2021-08-17T14:36:30.480Z"
   },
   {
    "duration": 279,
    "start_time": "2021-08-17T14:36:35.781Z"
   },
   {
    "duration": 289,
    "start_time": "2021-08-17T14:36:39.021Z"
   },
   {
    "duration": 17,
    "start_time": "2021-08-17T14:36:43.748Z"
   },
   {
    "duration": 16,
    "start_time": "2021-08-17T14:36:46.728Z"
   },
   {
    "duration": 297,
    "start_time": "2021-08-17T14:36:49.498Z"
   },
   {
    "duration": 315,
    "start_time": "2021-08-17T14:36:50.939Z"
   },
   {
    "duration": 18,
    "start_time": "2021-08-17T14:36:54.858Z"
   },
   {
    "duration": 314,
    "start_time": "2021-08-17T14:36:58.223Z"
   },
   {
    "duration": 325,
    "start_time": "2021-08-17T14:37:00.604Z"
   },
   {
    "duration": 15,
    "start_time": "2021-08-17T14:37:07.594Z"
   },
   {
    "duration": 327,
    "start_time": "2021-08-17T14:37:08.838Z"
   },
   {
    "duration": 293,
    "start_time": "2021-08-17T14:37:12.458Z"
   },
   {
    "duration": 461,
    "start_time": "2021-08-17T16:01:17.848Z"
   },
   {
    "duration": 1661,
    "start_time": "2021-08-17T16:01:29.180Z"
   },
   {
    "duration": 407,
    "start_time": "2021-08-17T16:01:48.703Z"
   },
   {
    "duration": 231,
    "start_time": "2021-08-17T16:02:14.856Z"
   },
   {
    "duration": 1543,
    "start_time": "2021-08-17T16:09:55.222Z"
   },
   {
    "duration": 759,
    "start_time": "2021-08-17T16:10:15.730Z"
   },
   {
    "duration": 6,
    "start_time": "2021-08-17T16:11:43.837Z"
   },
   {
    "duration": 7,
    "start_time": "2021-08-17T16:11:58.900Z"
   },
   {
    "duration": 327,
    "start_time": "2021-08-17T16:13:00.443Z"
   },
   {
    "duration": 459,
    "start_time": "2021-08-17T16:13:50.337Z"
   },
   {
    "duration": 342,
    "start_time": "2021-08-17T16:15:11.625Z"
   },
   {
    "duration": 60,
    "start_time": "2021-08-17T16:15:38.572Z"
   },
   {
    "duration": 468,
    "start_time": "2021-08-17T16:22:26.256Z"
   },
   {
    "duration": 2247,
    "start_time": "2021-08-17T16:48:43.384Z"
   },
   {
    "duration": 461,
    "start_time": "2021-08-17T16:59:21.744Z"
   },
   {
    "duration": 1634,
    "start_time": "2021-08-17T16:59:25.930Z"
   },
   {
    "duration": 4375,
    "start_time": "2021-08-17T16:59:37.993Z"
   },
   {
    "duration": 1293,
    "start_time": "2021-08-17T17:00:18.530Z"
   },
   {
    "duration": 7254,
    "start_time": "2021-08-17T17:13:21.336Z"
   },
   {
    "duration": 7456,
    "start_time": "2021-08-17T17:17:31.864Z"
   },
   {
    "duration": 59708,
    "start_time": "2021-08-17T17:18:57.102Z"
   },
   {
    "duration": 455,
    "start_time": "2021-08-17T17:25:56.537Z"
   },
   {
    "duration": 1664,
    "start_time": "2021-08-17T17:26:00.992Z"
   },
   {
    "duration": 389,
    "start_time": "2021-08-17T17:33:36.079Z"
   },
   {
    "duration": 260,
    "start_time": "2021-08-17T17:33:41.048Z"
   },
   {
    "duration": 274,
    "start_time": "2021-08-17T17:33:50.262Z"
   },
   {
    "duration": 17,
    "start_time": "2021-08-17T17:33:53.948Z"
   },
   {
    "duration": 18,
    "start_time": "2021-08-17T17:33:57.780Z"
   },
   {
    "duration": 303,
    "start_time": "2021-08-17T17:34:00.811Z"
   },
   {
    "duration": 326,
    "start_time": "2021-08-17T17:34:03.738Z"
   },
   {
    "duration": 18,
    "start_time": "2021-08-17T17:34:08.268Z"
   },
   {
    "duration": 367,
    "start_time": "2021-08-17T17:34:11.077Z"
   },
   {
    "duration": 293,
    "start_time": "2021-08-17T17:34:16.072Z"
   },
   {
    "duration": 16,
    "start_time": "2021-08-17T17:34:19.936Z"
   },
   {
    "duration": 311,
    "start_time": "2021-08-17T17:34:22.955Z"
   },
   {
    "duration": 276,
    "start_time": "2021-08-17T17:34:27.012Z"
   },
   {
    "duration": 405,
    "start_time": "2021-08-17T18:55:20.096Z"
   },
   {
    "duration": 413,
    "start_time": "2021-08-17T18:58:14.990Z"
   },
   {
    "duration": 370,
    "start_time": "2021-08-17T19:04:23.938Z"
   },
   {
    "duration": 837,
    "start_time": "2021-08-17T19:04:27.948Z"
   },
   {
    "duration": 16,
    "start_time": "2021-08-17T19:11:00.930Z"
   },
   {
    "duration": 67,
    "start_time": "2021-08-17T20:48:45.932Z"
   },
   {
    "duration": 333,
    "start_time": "2021-08-17T21:02:43.232Z"
   },
   {
    "duration": 63,
    "start_time": "2021-08-17T21:02:57.274Z"
   },
   {
    "duration": 471,
    "start_time": "2021-08-17T21:04:14.738Z"
   },
   {
    "duration": 62,
    "start_time": "2021-08-17T21:05:53.777Z"
   },
   {
    "duration": 66,
    "start_time": "2021-08-17T21:06:07.272Z"
   },
   {
    "duration": 64,
    "start_time": "2021-08-17T21:06:15.422Z"
   },
   {
    "duration": 67,
    "start_time": "2021-08-17T21:06:53.890Z"
   },
   {
    "duration": 63,
    "start_time": "2021-08-17T21:07:52.888Z"
   },
   {
    "duration": 339,
    "start_time": "2021-08-18T06:41:30.770Z"
   },
   {
    "duration": 2025,
    "start_time": "2021-08-18T06:41:35.626Z"
   },
   {
    "duration": 1612,
    "start_time": "2021-08-18T06:41:42.763Z"
   },
   {
    "duration": 275,
    "start_time": "2021-08-18T06:41:53.800Z"
   },
   {
    "duration": 1069,
    "start_time": "2021-08-18T06:42:06.205Z"
   },
   {
    "duration": 276,
    "start_time": "2021-08-18T06:42:18.446Z"
   },
   {
    "duration": 515,
    "start_time": "2021-08-18T06:42:52.163Z"
   },
   {
    "duration": 1450,
    "start_time": "2021-08-18T06:43:00.489Z"
   },
   {
    "duration": 1904,
    "start_time": "2021-08-18T06:43:47.039Z"
   },
   {
    "duration": 656,
    "start_time": "2021-08-18T06:43:54.560Z"
   },
   {
    "duration": 66,
    "start_time": "2021-08-18T06:44:19.228Z"
   },
   {
    "duration": 501,
    "start_time": "2021-08-18T07:07:20.274Z"
   },
   {
    "duration": 1757,
    "start_time": "2021-08-18T07:07:25.119Z"
   },
   {
    "duration": 442,
    "start_time": "2021-08-18T07:07:36.275Z"
   },
   {
    "duration": 280,
    "start_time": "2021-08-18T07:07:40.503Z"
   },
   {
    "duration": 286,
    "start_time": "2021-08-18T07:07:41.595Z"
   },
   {
    "duration": 706,
    "start_time": "2021-08-18T07:07:42.653Z"
   },
   {
    "duration": 21,
    "start_time": "2021-08-18T07:07:45.481Z"
   },
   {
    "duration": 318,
    "start_time": "2021-08-18T07:07:47.051Z"
   },
   {
    "duration": 316,
    "start_time": "2021-08-18T07:07:48.389Z"
   },
   {
    "duration": 19,
    "start_time": "2021-08-18T07:07:51.771Z"
   },
   {
    "duration": 408,
    "start_time": "2021-08-18T07:07:52.812Z"
   },
   {
    "duration": 606,
    "start_time": "2021-08-18T07:08:49.360Z"
   },
   {
    "duration": 1759,
    "start_time": "2021-08-18T07:08:52.664Z"
   },
   {
    "duration": 425,
    "start_time": "2021-08-18T07:09:11.779Z"
   },
   {
    "duration": 295,
    "start_time": "2021-08-18T07:09:14.984Z"
   },
   {
    "duration": 300,
    "start_time": "2021-08-18T07:09:16.259Z"
   },
   {
    "duration": 17,
    "start_time": "2021-08-18T07:09:17.272Z"
   },
   {
    "duration": 17,
    "start_time": "2021-08-18T07:09:20.626Z"
   },
   {
    "duration": 308,
    "start_time": "2021-08-18T07:09:21.804Z"
   },
   {
    "duration": 591,
    "start_time": "2021-08-18T07:09:22.985Z"
   },
   {
    "duration": 18,
    "start_time": "2021-08-18T07:09:25.977Z"
   },
   {
    "duration": 320,
    "start_time": "2021-08-18T07:09:27.058Z"
   },
   {
    "duration": 295,
    "start_time": "2021-08-18T07:09:27.967Z"
   },
   {
    "duration": 17,
    "start_time": "2021-08-18T07:09:30.075Z"
   },
   {
    "duration": 311,
    "start_time": "2021-08-18T07:09:30.870Z"
   },
   {
    "duration": 290,
    "start_time": "2021-08-18T07:09:31.702Z"
   },
   {
    "duration": 66,
    "start_time": "2021-08-18T07:09:35.412Z"
   },
   {
    "duration": 1482,
    "start_time": "2021-08-18T12:47:33.725Z"
   },
   {
    "duration": 1424,
    "start_time": "2021-08-18T12:47:35.209Z"
   },
   {
    "duration": 283,
    "start_time": "2021-08-18T12:47:36.635Z"
   },
   {
    "duration": 191,
    "start_time": "2021-08-18T12:47:36.920Z"
   },
   {
    "duration": 191,
    "start_time": "2021-08-18T12:47:37.112Z"
   },
   {
    "duration": 179009,
    "start_time": "2021-08-18T12:47:37.305Z"
   },
   {
    "duration": 15,
    "start_time": "2021-08-18T12:50:36.316Z"
   },
   {
    "duration": 236,
    "start_time": "2021-08-18T12:50:36.334Z"
   },
   {
    "duration": 223,
    "start_time": "2021-08-18T12:50:36.572Z"
   },
   {
    "duration": 13,
    "start_time": "2021-08-18T12:50:36.796Z"
   },
   {
    "duration": 218,
    "start_time": "2021-08-18T12:50:36.810Z"
   },
   {
    "duration": 214,
    "start_time": "2021-08-18T12:50:37.030Z"
   },
   {
    "duration": 12,
    "start_time": "2021-08-18T12:50:37.247Z"
   },
   {
    "duration": 309,
    "start_time": "2021-08-18T12:50:37.261Z"
   },
   {
    "duration": 209,
    "start_time": "2021-08-18T12:50:37.572Z"
   },
   {
    "duration": 51,
    "start_time": "2021-08-18T12:50:37.783Z"
   },
   {
    "duration": 1156,
    "start_time": "2021-08-18T13:36:29.678Z"
   },
   {
    "duration": 454,
    "start_time": "2021-08-18T13:36:33.067Z"
   },
   {
    "duration": 945,
    "start_time": "2021-08-18T13:36:58.145Z"
   },
   {
    "duration": 468,
    "start_time": "2021-08-18T13:38:46.950Z"
   },
   {
    "duration": 4,
    "start_time": "2021-08-18T13:38:49.734Z"
   },
   {
    "duration": 456,
    "start_time": "2021-08-18T13:38:52.230Z"
   },
   {
    "duration": 465,
    "start_time": "2021-08-18T13:39:09.249Z"
   },
   {
    "duration": 687,
    "start_time": "2021-08-18T13:39:13.411Z"
   },
   {
    "duration": 3,
    "start_time": "2021-08-18T13:54:14.183Z"
   },
   {
    "duration": 450,
    "start_time": "2021-08-18T13:54:16.846Z"
   },
   {
    "duration": 688,
    "start_time": "2021-08-18T13:54:20.511Z"
   },
   {
    "duration": 43,
    "start_time": "2021-08-18T13:54:25.715Z"
   },
   {
    "duration": 12,
    "start_time": "2021-08-18T13:54:29.162Z"
   },
   {
    "duration": 381,
    "start_time": "2021-08-18T13:55:37.321Z"
   },
   {
    "duration": 54,
    "start_time": "2021-08-18T14:01:17.196Z"
   },
   {
    "duration": 276,
    "start_time": "2021-08-18T14:01:27.906Z"
   },
   {
    "duration": 259,
    "start_time": "2021-08-18T14:01:43.437Z"
   },
   {
    "duration": 409,
    "start_time": "2021-08-18T14:28:13.032Z"
   },
   {
    "duration": 261,
    "start_time": "2021-08-18T14:43:52.153Z"
   },
   {
    "duration": 261,
    "start_time": "2021-08-18T14:43:55.995Z"
   },
   {
    "duration": 299,
    "start_time": "2021-08-18T14:43:58.683Z"
   },
   {
    "duration": 677,
    "start_time": "2021-08-18T14:44:00.941Z"
   },
   {
    "duration": 19,
    "start_time": "2021-08-18T14:44:05.141Z"
   },
   {
    "duration": 307,
    "start_time": "2021-08-18T14:44:07.244Z"
   },
   {
    "duration": 294,
    "start_time": "2021-08-18T14:44:09.607Z"
   },
   {
    "duration": 16,
    "start_time": "2021-08-18T14:44:13.726Z"
   },
   {
    "duration": 296,
    "start_time": "2021-08-18T14:44:20.750Z"
   },
   {
    "duration": 288,
    "start_time": "2021-08-18T14:44:23.720Z"
   },
   {
    "duration": 12,
    "start_time": "2021-08-18T14:44:27.376Z"
   },
   {
    "duration": 1917,
    "start_time": "2021-08-18T14:44:30.323Z"
   },
   {
    "duration": 271,
    "start_time": "2021-08-18T14:44:49.074Z"
   },
   {
    "duration": 282,
    "start_time": "2021-08-18T14:45:01.961Z"
   },
   {
    "duration": 376,
    "start_time": "2021-08-18T14:45:33.750Z"
   },
   {
    "duration": 86,
    "start_time": "2021-08-18T14:53:13.221Z"
   },
   {
    "duration": 364,
    "start_time": "2021-08-18T14:53:20.944Z"
   },
   {
    "duration": 356,
    "start_time": "2021-08-18T14:53:56.019Z"
   },
   {
    "duration": 199,
    "start_time": "2021-08-18T14:54:40.435Z"
   },
   {
    "duration": 201,
    "start_time": "2021-08-18T14:54:53.408Z"
   },
   {
    "duration": 199,
    "start_time": "2021-08-18T14:55:40.758Z"
   },
   {
    "duration": 490,
    "start_time": "2021-08-18T15:18:10.990Z"
   },
   {
    "duration": 295,
    "start_time": "2021-08-18T15:18:41.510Z"
   },
   {
    "duration": 200,
    "start_time": "2021-08-18T15:18:47.965Z"
   },
   {
    "duration": 260,
    "start_time": "2021-08-18T15:21:11.119Z"
   },
   {
    "duration": 287,
    "start_time": "2021-08-18T15:21:51.022Z"
   },
   {
    "duration": 3,
    "start_time": "2021-08-18T15:30:28.730Z"
   },
   {
    "duration": 460,
    "start_time": "2021-08-18T15:30:31.978Z"
   },
   {
    "duration": 656,
    "start_time": "2021-08-18T15:30:34.901Z"
   },
   {
    "duration": 42,
    "start_time": "2021-08-18T15:30:39.064Z"
   },
   {
    "duration": 13,
    "start_time": "2021-08-18T15:30:42.214Z"
   },
   {
    "duration": 110,
    "start_time": "2021-08-18T15:30:45.080Z"
   },
   {
    "duration": 270,
    "start_time": "2021-08-18T15:30:53.732Z"
   },
   {
    "duration": 275,
    "start_time": "2021-08-18T15:31:01.952Z"
   },
   {
    "duration": 168,
    "start_time": "2021-08-18T15:31:06.053Z"
   },
   {
    "duration": 183,
    "start_time": "2021-08-18T15:31:09.126Z"
   },
   {
    "duration": 15,
    "start_time": "2021-08-18T15:31:13.393Z"
   },
   {
    "duration": 12,
    "start_time": "2021-08-18T15:31:16.514Z"
   },
   {
    "duration": 208,
    "start_time": "2021-08-18T15:31:20.338Z"
   },
   {
    "duration": 207,
    "start_time": "2021-08-18T15:31:23.880Z"
   },
   {
    "duration": 14,
    "start_time": "2021-08-18T15:31:28.068Z"
   },
   {
    "duration": 315,
    "start_time": "2021-08-18T15:33:58.813Z"
   },
   {
    "duration": 21,
    "start_time": "2021-08-18T15:33:59.129Z"
   },
   {
    "duration": 23,
    "start_time": "2021-08-18T15:34:30.309Z"
   },
   {
    "duration": 204,
    "start_time": "2021-08-18T15:34:33.270Z"
   },
   {
    "duration": 199,
    "start_time": "2021-08-18T15:34:36.719Z"
   },
   {
    "duration": 85,
    "start_time": "2021-08-18T15:34:59.097Z"
   },
   {
    "duration": 3410,
    "start_time": "2021-08-18T15:35:04.369Z"
   },
   {
    "duration": 298,
    "start_time": "2021-08-18T15:35:50.075Z"
   },
   {
    "duration": 239,
    "start_time": "2021-08-18T15:36:30.874Z"
   },
   {
    "duration": 222,
    "start_time": "2021-08-18T15:40:35.701Z"
   },
   {
    "duration": 215,
    "start_time": "2021-08-18T15:41:41.320Z"
   },
   {
    "duration": 217,
    "start_time": "2021-08-18T15:42:13.420Z"
   },
   {
    "duration": 3,
    "start_time": "2021-08-18T15:50:45.292Z"
   },
   {
    "duration": 433,
    "start_time": "2021-08-18T15:50:48.751Z"
   },
   {
    "duration": 637,
    "start_time": "2021-08-18T15:50:53.060Z"
   },
   {
    "duration": 39,
    "start_time": "2021-08-18T15:50:58.252Z"
   },
   {
    "duration": 13,
    "start_time": "2021-08-18T15:51:03.659Z"
   },
   {
    "duration": 100,
    "start_time": "2021-08-18T15:51:09.109Z"
   },
   {
    "duration": 248,
    "start_time": "2021-08-18T15:51:29.742Z"
   },
   {
    "duration": 3,
    "start_time": "2021-08-18T15:53:35.180Z"
   },
   {
    "duration": 429,
    "start_time": "2021-08-18T15:53:37.742Z"
   },
   {
    "duration": 699,
    "start_time": "2021-08-18T15:53:41.542Z"
   },
   {
    "duration": 40,
    "start_time": "2021-08-18T15:53:47.189Z"
   },
   {
    "duration": 20,
    "start_time": "2021-08-18T15:53:50.330Z"
   },
   {
    "duration": 3,
    "start_time": "2021-08-18T15:56:49.113Z"
   },
   {
    "duration": 435,
    "start_time": "2021-08-18T15:56:49.819Z"
   },
   {
    "duration": 670,
    "start_time": "2021-08-18T15:56:52.940Z"
   },
   {
    "duration": 42,
    "start_time": "2021-08-18T15:56:57.215Z"
   },
   {
    "duration": 20,
    "start_time": "2021-08-18T15:57:00.104Z"
   },
   {
    "duration": 101,
    "start_time": "2021-08-18T15:57:03.210Z"
   },
   {
    "duration": 235,
    "start_time": "2021-08-18T15:57:10.783Z"
   },
   {
    "duration": 248,
    "start_time": "2021-08-18T15:57:18.511Z"
   },
   {
    "duration": 167,
    "start_time": "2021-08-18T15:57:23.597Z"
   },
   {
    "duration": 182,
    "start_time": "2021-08-18T15:57:25.821Z"
   },
   {
    "duration": 14,
    "start_time": "2021-08-18T15:57:27.005Z"
   },
   {
    "duration": 12,
    "start_time": "2021-08-18T15:57:28.808Z"
   },
   {
    "duration": 182,
    "start_time": "2021-08-18T15:57:29.873Z"
   },
   {
    "duration": 190,
    "start_time": "2021-08-18T15:57:30.710Z"
   },
   {
    "duration": 12,
    "start_time": "2021-08-18T15:57:32.759Z"
   },
   {
    "duration": 227,
    "start_time": "2021-08-18T15:57:34.095Z"
   },
   {
    "duration": 190,
    "start_time": "2021-08-18T15:57:35.116Z"
   },
   {
    "duration": 11,
    "start_time": "2021-08-18T15:57:36.777Z"
   },
   {
    "duration": 192,
    "start_time": "2021-08-18T15:57:37.485Z"
   },
   {
    "duration": 205,
    "start_time": "2021-08-18T15:57:38.438Z"
   },
   {
    "duration": 42,
    "start_time": "2021-08-18T15:57:43.059Z"
   },
   {
    "duration": 1362,
    "start_time": "2021-08-19T04:09:09.197Z"
   },
   {
    "duration": 589,
    "start_time": "2021-08-19T04:09:10.562Z"
   },
   {
    "duration": 968,
    "start_time": "2021-08-19T04:09:11.154Z"
   },
   {
    "duration": 84,
    "start_time": "2021-08-19T04:09:12.125Z"
   },
   {
    "duration": 27,
    "start_time": "2021-08-19T04:09:12.211Z"
   },
   {
    "duration": 168,
    "start_time": "2021-08-19T04:09:12.241Z"
   },
   {
    "duration": 429,
    "start_time": "2021-08-19T04:09:12.412Z"
   },
   {
    "duration": 425,
    "start_time": "2021-08-19T04:09:12.843Z"
   },
   {
    "duration": 283,
    "start_time": "2021-08-19T04:09:13.273Z"
   },
   {
    "duration": 304,
    "start_time": "2021-08-19T04:09:13.559Z"
   },
   {
    "duration": 217452,
    "start_time": "2021-08-19T04:09:13.866Z"
   },
   {
    "duration": 20,
    "start_time": "2021-08-19T04:12:51.321Z"
   },
   {
    "duration": 480,
    "start_time": "2021-08-19T04:12:51.344Z"
   },
   {
    "duration": 447,
    "start_time": "2021-08-19T04:12:51.827Z"
   },
   {
    "duration": 17,
    "start_time": "2021-08-19T04:12:52.277Z"
   },
   {
    "duration": 354,
    "start_time": "2021-08-19T04:12:52.296Z"
   },
   {
    "duration": 394,
    "start_time": "2021-08-19T04:12:52.653Z"
   },
   {
    "duration": 16,
    "start_time": "2021-08-19T04:12:53.050Z"
   },
   {
    "duration": 432,
    "start_time": "2021-08-19T04:12:53.069Z"
   },
   {
    "duration": 300,
    "start_time": "2021-08-19T04:12:53.503Z"
   },
   {
    "duration": 63,
    "start_time": "2021-08-19T04:12:53.805Z"
   },
   {
    "duration": 1410,
    "start_time": "2021-09-25T14:41:19.323Z"
   },
   {
    "duration": 848,
    "start_time": "2021-09-25T14:41:21.899Z"
   },
   {
    "duration": 242,
    "start_time": "2021-09-25T14:41:46.471Z"
   },
   {
    "duration": 66,
    "start_time": "2021-09-25T14:41:57.672Z"
   }
  ],
  "kernelspec": {
   "display_name": "Python 3",
   "language": "python",
   "name": "python3"
  },
  "language_info": {
   "codemirror_mode": {
    "name": "ipython",
    "version": 3
   },
   "file_extension": ".py",
   "mimetype": "text/x-python",
   "name": "python",
   "nbconvert_exporter": "python",
   "pygments_lexer": "ipython3",
   "version": "3.7.8"
  },
  "toc": {
   "base_numbering": 1,
   "nav_menu": {},
   "number_sections": true,
   "sideBar": true,
   "skip_h1_title": true,
   "title_cell": "Table of Contents",
   "title_sidebar": "Contents",
   "toc_cell": false,
   "toc_position": {},
   "toc_section_display": true,
   "toc_window_display": false
  }
 },
 "nbformat": 4,
 "nbformat_minor": 2
}
